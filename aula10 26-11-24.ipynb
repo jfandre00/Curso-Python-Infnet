{
 "cells": [
  {
   "cell_type": "code",
   "execution_count": null,
   "metadata": {},
   "outputs": [],
   "source": [
    "#Escreva uma função que receba uma string e alterna entre maiúsculas e minúsculas para cada letra, começando a primeira letra em maiúscula."
   ]
  },
  {
   "cell_type": "code",
   "execution_count": 5,
   "metadata": {},
   "outputs": [
    {
     "data": {
      "text/plain": [
       "'DeSeNvOlVeNdO HaBiLiDaDeS'"
      ]
     },
     "execution_count": 5,
     "metadata": {},
     "output_type": "execute_result"
    }
   ],
   "source": [
    "def alternar_case(texto):\n",
    "    resultado = ''\n",
    "    for idx, c in enumerate(texto):\n",
    "        if idx %2 == 0:\n",
    "            resultado += c.upper()\n",
    "        else:\n",
    "            resultado += c.lower()    \n",
    "    return resultado   \n",
    "\n",
    "string = 'desenvolvendo habilidades'     \n",
    "alternar_case(string)"
   ]
  },
  {
   "cell_type": "code",
   "execution_count": 6,
   "metadata": {},
   "outputs": [
    {
     "data": {
      "text/plain": [
       "'DesenVolveNdo hAbiliDades'"
      ]
     },
     "execution_count": 6,
     "metadata": {},
     "output_type": "execute_result"
    }
   ],
   "source": [
    "# resultado esperado: a cada 5, uma é maiúscula\n",
    "def alternar_case_5n(texto):\n",
    "    resultado = ''\n",
    "    for idx, c in enumerate(texto):\n",
    "        if idx %5 == 0:\n",
    "            resultado += c.upper()\n",
    "        else:\n",
    "            resultado += c.lower()    \n",
    "    return resultado   \n",
    "\n",
    "alternar_case_5n(string)"
   ]
  },
  {
   "cell_type": "code",
   "execution_count": 7,
   "metadata": {},
   "outputs": [
    {
     "name": "stdout",
     "output_type": "stream",
     "text": [
      "10\n",
      "9\n",
      "8\n",
      "7\n",
      "6\n",
      "5\n",
      "4\n",
      "3\n",
      "2\n",
      "1\n",
      "Fim!\n"
     ]
    }
   ],
   "source": [
    "## Funções Recursivas\n",
    "\n",
    "def contagem_regressiva(n):\n",
    "    if n == 0:\n",
    "        print('Fim!')\n",
    "    else:\n",
    "        print(n)\n",
    "        contagem_regressiva(n-1)\n",
    "\n",
    "contagem_regressiva(10)\n"
   ]
  },
  {
   "cell_type": "markdown",
   "metadata": {},
   "source": [
    "# Exemplo 1: Cálculo de Fatorial com Recursão\n",
    "\n",
    "5! = 5 x 4 x 3 x 2 x 1 = 120\n",
    "5! = 5 x 4!\n",
    "4! = 4 x 3!\n",
    "3! = 3 x 2!\n",
    "2! = 2 x 1!\n",
    "1! = 1 \n",
    "\n",
    "obs: 0! = 1"
   ]
  },
  {
   "cell_type": "code",
   "execution_count": null,
   "metadata": {},
   "outputs": [
    {
     "data": {
      "text/plain": [
       "120"
      ]
     },
     "execution_count": 8,
     "metadata": {},
     "output_type": "execute_result"
    }
   ],
   "source": [
    "def fatorial(n):\n",
    "    if n == 1: #nunca vai chegar a 0, pois quando chegar a 1, vai retornar 1\n",
    "        return 1\n",
    "    else:\n",
    "        return n * fatorial(n-1)\n",
    "    \n",
    "fatorial(5)"
   ]
  },
  {
   "cell_type": "markdown",
   "metadata": {},
   "source": [
    "#Exemplo 2 - Sequencia de Fibonacci\n",
    "\n",
    "0, 1, 1, 2, 3, 5, 8, 13, 21, 34 ,55\n",
    "\n",
    "fibonacci n = fibonacci n-1 + fibonacci n-2"
   ]
  },
  {
   "cell_type": "code",
   "execution_count": 20,
   "metadata": {},
   "outputs": [
    {
     "data": {
      "text/plain": [
       "6765"
      ]
     },
     "execution_count": 20,
     "metadata": {},
     "output_type": "execute_result"
    }
   ],
   "source": [
    "def fibonnaci(n):\n",
    "    if n == 0:\n",
    "        return 0\n",
    "    if n == 1:\n",
    "        return 1\n",
    "    else:\n",
    "        return fibonnaci(n-1) + fibonnaci(n-2)\n",
    "    \n",
    "fibonnaci(20)"
   ]
  },
  {
   "cell_type": "markdown",
   "metadata": {},
   "source": [
    "#Exercícios\n",
    "\n",
    "1 - Contagem de Elementos de Uma Lista\n",
    "Escrever uma função recursiva para contar quantos elementos existem em uma lista. A função deve retornar o número de elementos sem usar a função len(). A ideia é ir removendo um elemento da lista a cada chamada recursiva até que a lista esteja vazia "
   ]
  },
  {
   "cell_type": "code",
   "execution_count": 42,
   "metadata": {},
   "outputs": [
    {
     "name": "stdout",
     "output_type": "stream",
     "text": [
      "5\n"
     ]
    }
   ],
   "source": [
    "lista = ['maça', 'banana', 'uva', 'pera', 'abacaxi']\n",
    "\n",
    "def contar_elementos_lista(lista):\n",
    "    if not lista:  # Caso base - lista vazia\n",
    "        return 0\n",
    "    else:\n",
    "        lista.pop()\n",
    "        return 1 + contar_elementos_lista(lista)\n",
    "\n",
    "print(contar_elementos_lista(lista))\n"
   ]
  },
  {
   "cell_type": "markdown",
   "metadata": {},
   "source": [
    "#2 - Inverter uma lista - função recursiva para inverter uma lista. A função deve retornar uma nova lista, onde os elementos estão na ordem inversa da lista original"
   ]
  },
  {
   "cell_type": "code",
   "execution_count": null,
   "metadata": {},
   "outputs": [
    {
     "name": "stdout",
     "output_type": "stream",
     "text": [
      "[10, 9, 8, 7, 6, 5, 4, 3, 2, 1]\n"
     ]
    }
   ],
   "source": [
    "lista2 = [1, 2, 3, 4, 5, 6, 7, 8, 9, 10]\n",
    "lista_invertida = []\n",
    "\n",
    "def inverter_lista(lista):\n",
    "    if not lista: # Caso base - lista vazia\n",
    "        return lista_invertida\n",
    "    else:\n",
    "        lista_invertida.append(lista.pop())\n",
    "        return inverter_lista(lista)\n",
    "\n",
    "print(inverter_lista(lista2))\n"
   ]
  },
  {
   "cell_type": "code",
   "execution_count": 47,
   "metadata": {},
   "outputs": [
    {
     "name": "stdout",
     "output_type": "stream",
     "text": [
      "[4, 3, 2, 1]\n"
     ]
    }
   ],
   "source": [
    "listinha = [1, 2, 3, 4]\n",
    "\n",
    "def inverter_lista2(lista):\n",
    "    if not lista:\n",
    "        return []\n",
    "    else:\n",
    "        return [lista[-1]] + inverter_lista2(lista[:-1])\n",
    "    \n",
    "print(inverter_lista2(listinha))\n",
    "   \n"
   ]
  },
  {
   "cell_type": "markdown",
   "metadata": {},
   "source": [
    "#3. Somar Elementos de uma Lista - função recursiva para somar todos os elementos de uma lista de números. A função deve retornar a soma dos elementos da lista. OBS: Não vale usar o comando sum()"
   ]
  },
  {
   "cell_type": "code",
   "execution_count": null,
   "metadata": {},
   "outputs": [
    {
     "name": "stdout",
     "output_type": "stream",
     "text": [
      "15\n"
     ]
    }
   ],
   "source": [
    "lista3 = [1, 2, 3, 4, 5]\n",
    "\n",
    "def somar_lista(lista):\n",
    "    if not lista:\n",
    "        return 0 \n",
    "    else:\n",
    "        return lista.pop() + somar_lista(lista)\n",
    "    \n",
    "print(somar_lista(lista3))"
   ]
  },
  {
   "cell_type": "code",
   "execution_count": 48,
   "metadata": {},
   "outputs": [
    {
     "data": {
      "text/plain": [
       "21"
      ]
     },
     "execution_count": 48,
     "metadata": {},
     "output_type": "execute_result"
    }
   ],
   "source": [
    "#Outra forma\n",
    "\n",
    "def somar_lista2(lista):\n",
    "    if not lista:\n",
    "        return 0\n",
    "    else:\n",
    "        return lista[0] + somar_lista2(lista[1:])\n",
    "\n",
    "somar_lista2([1, 2, 3, 4, 5, 6])"
   ]
  }
 ],
 "metadata": {
  "kernelspec": {
   "display_name": "Python 3",
   "language": "python",
   "name": "python3"
  },
  "language_info": {
   "codemirror_mode": {
    "name": "ipython",
    "version": 3
   },
   "file_extension": ".py",
   "mimetype": "text/x-python",
   "name": "python",
   "nbconvert_exporter": "python",
   "pygments_lexer": "ipython3",
   "version": "3.11.5"
  }
 },
 "nbformat": 4,
 "nbformat_minor": 2
}

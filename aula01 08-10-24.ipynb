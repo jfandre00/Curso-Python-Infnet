{
 "cells": [
  {
   "cell_type": "code",
   "execution_count": 1,
   "metadata": {},
   "outputs": [
    {
     "name": "stdout",
     "output_type": "stream",
     "text": [
      "O valor de a é: 7\n",
      "<class 'int'>\n",
      "Aula 1 de python\n",
      "<class 'str'>\n",
      "2.5\n",
      "<class 'float'>\n",
      "Aula 1 de python - Class float\n",
      "['Aula', '1', 'de', 'python']\n"
     ]
    }
   ],
   "source": [
    "a = 3 + 4\n",
    "print('O valor de a é:', a)\t\n",
    "\n",
    "print(type(a))\n",
    "\n",
    "s = 'Aula 1 de python'\n",
    "s2 = 'Class float'\n",
    "print(s)\n",
    "print(type(s))\n",
    "\n",
    "print(5/2)\n",
    "\n",
    "c = 7.0\n",
    "\n",
    "print(type(c))  \n",
    "\n",
    "print(s, '-', s2)\n",
    "\n",
    "print(s.split())"
   ]
  },
  {
   "cell_type": "code",
   "execution_count": 27,
   "metadata": {},
   "outputs": [
    {
     "name": "stdout",
     "output_type": "stream",
     "text": [
      "['Eu', ' sempre que vou ao mercado', ' compro manteiga']\n",
      "TUDO MINUSCULO\n",
      "Tudo minusculo\n",
      "Tudo Minusculo\n",
      "<class 'list'>\n",
      "False\n",
      "True\n"
     ]
    }
   ],
   "source": [
    "w = 'Eu, sempre que vou ao mercado, compro manteiga'\n",
    "print(w.split(','))\n",
    "\n",
    "w2 = 'tudo minusculo'\n",
    "\n",
    "print(w2.upper())\n",
    "print(w2.capitalize())\n",
    "print(w2.title())\n",
    "\n",
    "print(type(w.split()))\n",
    "\n",
    "print(w.isupper())\n",
    "\n",
    "s3 = 'QUASE TUDO MAIUSCULO'\n",
    "\n",
    "print(s3.isupper())\n",
    "\n",
    "\n",
    "\n"
   ]
  },
  {
   "cell_type": "code",
   "execution_count": 39,
   "metadata": {},
   "outputs": [
    {
     "name": "stdout",
     "output_type": "stream",
     "text": [
      "['E', 'u', ',', ' ', 's', 'e', 'm', 'p', 'r', 'e', ' ', 'q', 'u', 'e', ' ', 'v', 'o', 'u', ' ', 'a', 'o', ' ', 'm', 'e', 'r', 'c', 'a', 'd', 'o', ',', ' ', 'c', 'o', 'm', 'p', 'r', 'o', ' ', 'm', 'a', 'n', 't', 'e', 'i', 'g', 'a']\n",
      "['Eu,', 'sempre', 'que', 'vou', 'ao', 'mercado,', 'compro', 'manteiga']\n",
      "False\n",
      "False\n",
      "Eu,\n",
      "['Eu,', 'sempre', 'que', 'vou', 'ao', 'mercado,']\n",
      "['Eu,', 'sempre', 'que', 'vou', 'ao', 'mercado,', 'compro', 'manteiga']\n",
      "['mercado,', 'compro', 'manteiga']\n",
      "['mercado,', 'compro', 'manteiga']\n",
      "8\n"
     ]
    }
   ],
   "source": [
    "w = 'Eu, sempre que vou ao mercado, compro manteiga'\n",
    "s_lista = list(w)\n",
    "string_split = w.split()    \n",
    "print(s_lista)\n",
    "print(string_split)\n",
    "\n",
    "print(a==s)\n",
    "c = a==s\n",
    "print(c)\n",
    "\n",
    "#indexing\n",
    "print(string_split[0])\n",
    "print(string_split[:6])\n",
    "print(string_split[:])\n",
    "\n",
    "print(string_split[5:8])\n",
    "print(string_split[-3:])\n",
    "\n",
    "print(len(string_split))\n",
    "\n"
   ]
  },
  {
   "cell_type": "code",
   "execution_count": 46,
   "metadata": {},
   "outputs": [
    {
     "name": "stdout",
     "output_type": "stream",
     "text": [
      "['sempre', 'que', 'vou', 'ao', 'mercado,', 'compro', 'manteiga']\n",
      "['sempre', 'que', 'vou', 'ao', 'mercado,', 'compro', 'manteiga', 'pão']\n",
      "['sempre', 'que', 'vou', 'ao', 'mercado,', 'compro', 'manteiga']\n",
      "['sempre', 'que', 'vou', 'mercado,', 'compro', 'manteiga']\n",
      "sempre que vou mercado, compro manteiga\n"
     ]
    }
   ],
   "source": [
    "w = 'Eu, sempre que vou ao mercado, compro manteiga'\n",
    "string_split = w.split()  \n",
    "\n",
    "del string_split[0]\n",
    "print(string_split)\n",
    "\n",
    "string_split.append('pão')\n",
    "print(string_split)\n",
    "\n",
    "string_split.pop()\n",
    "print(string_split)\n",
    "\n",
    "string_split.pop(3)\n",
    "print(string_split)\n",
    "\n",
    "#Usando o join\n",
    "\n",
    "string_join = ' '.join(string_split)\n",
    "print(string_join)\n",
    "\n"
   ]
  },
  {
   "cell_type": "code",
   "execution_count": 2,
   "metadata": {},
   "outputs": [
    {
     "name": "stdout",
     "output_type": "stream",
     "text": [
      "59\n",
      "11.8\n",
      "30\n",
      "Usando o for\n",
      "8\n",
      "2\n",
      "30\n",
      "14\n",
      "5\n",
      "index: 0 valor: 8\n",
      "index: 1 valor: 2\n",
      "index: 2 valor: 30\n",
      "index: 3 valor: 14\n",
      "index: 4 valor: 5\n"
     ]
    }
   ],
   "source": [
    "lista = [8, 2, 30, 14, 5]\n",
    "\n",
    "print(sum(lista))   \n",
    "\n",
    "print(sum(lista)/len(lista)) #média da lista\n",
    "\n",
    "print(max(lista))\n",
    "\n",
    "print(\"Usando o for\")\n",
    "for i in lista:\n",
    "    print(i)\n",
    "\n",
    "for j in range(len(lista)):\n",
    "    print('index:', j,'valor:' ,lista[j])\n",
    "\n",
    "\n"
   ]
  }
 ],
 "metadata": {
  "kernelspec": {
   "display_name": "Python 3",
   "language": "python",
   "name": "python3"
  },
  "language_info": {
   "codemirror_mode": {
    "name": "ipython",
    "version": 3
   },
   "file_extension": ".py",
   "mimetype": "text/x-python",
   "name": "python",
   "nbconvert_exporter": "python",
   "pygments_lexer": "ipython3",
   "version": "3.11.5"
  }
 },
 "nbformat": 4,
 "nbformat_minor": 2
}

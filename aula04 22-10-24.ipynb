{
 "cells": [
  {
   "cell_type": "code",
   "execution_count": 2,
   "metadata": {},
   "outputs": [
    {
     "name": "stdout",
     "output_type": "stream",
     "text": [
      "A soma dos números é: 50\n"
     ]
    }
   ],
   "source": [
    "num1 = input(\"Insira o primeiro número\")\n",
    "num2 = input(\"Insira o segundo número\")\n",
    "\n",
    "print(f'A soma dos números é: {int(num1) + int(num2)}')"
   ]
  },
  {
   "cell_type": "code",
   "execution_count": 3,
   "metadata": {},
   "outputs": [
    {
     "name": "stdout",
     "output_type": "stream",
     "text": [
      "Que bom!\n"
     ]
    }
   ],
   "source": [
    "resposta = input(\"Deseja continuar? (s/n)\")\n",
    "\n",
    "if resposta.lower() == 's':\n",
    "    print(\"Que bom!\")\t\n",
    "elif resposta.lower() == 'n':\n",
    "    print(\"Até a próxima!\")\n",
    "else:\n",
    "    print(\"Opção inválida\")"
   ]
  },
  {
   "cell_type": "code",
   "execution_count": 4,
   "metadata": {},
   "outputs": [
    {
     "name": "stdout",
     "output_type": "stream",
     "text": [
      "Olá, andr!\n",
      " Você tem 22 anos\n",
      " Seu tipo sanguíneo é O.\n"
     ]
    }
   ],
   "source": [
    "#Questionário\n",
    "\n",
    "nome = input(\"Qual é o seu nome?\")\n",
    "idade = input(\"Qual é a sua idade?\")\n",
    "tipo_sanguineo = input(\"Qual é o seu tipo sanguíneo?\")\n",
    "\n",
    "print(f\"Olá, {nome}!\\n Você tem {idade} anos\\n Seu tipo sanguíneo é {tipo_sanguineo}.\")"
   ]
  },
  {
   "cell_type": "code",
   "execution_count": null,
   "metadata": {},
   "outputs": [],
   "source": [
    "#Importando pacotes\n",
    "\n",
    "import os\n",
    "import sys\n",
    "\n",
    "import matplotlib\n",
    "import numpy as np\n",
    "import pandas as pd\n",
    "\n"
   ]
  },
  {
   "cell_type": "code",
   "execution_count": 5,
   "metadata": {},
   "outputs": [
    {
     "data": {
      "text/plain": [
       "1730117872.361931"
      ]
     },
     "execution_count": 5,
     "metadata": {},
     "output_type": "execute_result"
    }
   ],
   "source": [
    "import time\n",
    "\n",
    "time.time()\n"
   ]
  },
  {
   "cell_type": "code",
   "execution_count": 6,
   "metadata": {},
   "outputs": [
    {
     "name": "stdout",
     "output_type": "stream",
     "text": [
      "time.struct_time(tm_year=2024, tm_mon=10, tm_mday=28, tm_hour=8, tm_min=18, tm_sec=29, tm_wday=0, tm_yday=302, tm_isdst=1)\n"
     ]
    }
   ],
   "source": [
    "hora_atual = time.localtime()\n",
    "print(hora_atual)"
   ]
  },
  {
   "cell_type": "code",
   "execution_count": 7,
   "metadata": {},
   "outputs": [
    {
     "data": {
      "text/plain": [
       "8"
      ]
     },
     "execution_count": 7,
     "metadata": {},
     "output_type": "execute_result"
    }
   ],
   "source": [
    "hora_atual.tm_hour"
   ]
  },
  {
   "cell_type": "code",
   "execution_count": 8,
   "metadata": {},
   "outputs": [
    {
     "data": {
      "text/plain": [
       "'Monday, 28 de October de 2024 08:18'"
      ]
     },
     "execution_count": 8,
     "metadata": {},
     "output_type": "execute_result"
    }
   ],
   "source": [
    "time.strftime(\"%A, %d de %B de %Y %H:%M\", hora_atual)"
   ]
  },
  {
   "cell_type": "code",
   "execution_count": 21,
   "metadata": {},
   "outputs": [
    {
     "name": "stdout",
     "output_type": "stream",
     "text": [
      "O tempo de execução foi de 0.0100626945 segundos\n"
     ]
    },
    {
     "data": {
      "text/plain": [
       "[0,\n",
       " 2000,\n",
       " 4000,\n",
       " 6000,\n",
       " 8000,\n",
       " 10000,\n",
       " 12000,\n",
       " 14000,\n",
       " 16000,\n",
       " 18000,\n",
       " 20000,\n",
       " 22000,\n",
       " 24000,\n",
       " 26000,\n",
       " 28000,\n",
       " 30000,\n",
       " 32000,\n",
       " 34000,\n",
       " 36000,\n",
       " 38000,\n",
       " 40000,\n",
       " 42000,\n",
       " 44000,\n",
       " 46000,\n",
       " 48000]"
      ]
     },
     "execution_count": 21,
     "metadata": {},
     "output_type": "execute_result"
    }
   ],
   "source": [
    "comeco = time.time()\n",
    "lista = []\n",
    "for i in range(50000):\n",
    "    if i % 2000 == 0:\n",
    "        lista.append(i)\n",
    "\n",
    "final = time.time()\n",
    "\n",
    "print(f\"O tempo de execução foi de {final - comeco:.10f} segundos\")\n",
    "\n",
    "lista"
   ]
  },
  {
   "cell_type": "code",
   "execution_count": 4,
   "metadata": {},
   "outputs": [
    {
     "data": {
      "text/plain": [
       "4"
      ]
     },
     "execution_count": 4,
     "metadata": {},
     "output_type": "execute_result"
    }
   ],
   "source": [
    "import math\n",
    "pi = 3.14159265358979323846\n",
    "\n",
    "math.floor(pi)  #arredonda para baixo\n",
    "math.ceil(pi)   #arredonda para cima\n",
    "round(pi, 2)    #arredonda para o número de casas decimais desejado\t"
   ]
  },
  {
   "cell_type": "code",
   "execution_count": 9,
   "metadata": {},
   "outputs": [
    {
     "data": {
      "text/plain": [
       "3.1415"
      ]
     },
     "execution_count": 9,
     "metadata": {},
     "output_type": "execute_result"
    }
   ],
   "source": [
    "#Gambiarra para arredondar\n",
    "numero = 3.141592\n",
    "\n",
    "k = 4\n",
    "numero_mod = numero*(10**k)\n",
    "int(numero_mod)/(10**k)"
   ]
  },
  {
   "cell_type": "code",
   "execution_count": 10,
   "metadata": {},
   "outputs": [
    {
     "data": {
      "text/plain": [
       "0.23175036080297673"
      ]
     },
     "execution_count": 10,
     "metadata": {},
     "output_type": "execute_result"
    }
   ],
   "source": [
    "#Pacote random\n",
    "\n",
    "import random\n",
    "\n",
    "random.random() #número aleatório entre 0 e 1"
   ]
  },
  {
   "cell_type": "code",
   "execution_count": 14,
   "metadata": {},
   "outputs": [
    {
     "name": "stdout",
     "output_type": "stream",
     "text": [
      "4\n"
     ]
    }
   ],
   "source": [
    "numero_inteiro_aleatorio = random.randint(1, 10) #número aleatório entre 1 e 10\n",
    "\n",
    "print(numero_inteiro_aleatorio)"
   ]
  },
  {
   "cell_type": "code",
   "execution_count": 16,
   "metadata": {},
   "outputs": [
    {
     "data": {
      "text/plain": [
       "'maça'"
      ]
     },
     "execution_count": 16,
     "metadata": {},
     "output_type": "execute_result"
    }
   ],
   "source": [
    "frutas = [\"maça\", \"uva\", \"laranja\", \"uva\", \"banana\"] #escolhe um número aleatório de uma lista\n",
    "\n",
    "random.choice(frutas)\n"
   ]
  },
  {
   "cell_type": "code",
   "execution_count": 26,
   "metadata": {},
   "outputs": [
    {
     "name": "stdout",
     "output_type": "stream",
     "text": [
      "['laranja']\n",
      "['laranja']\n",
      "['uva']\n",
      "['uva']\n",
      "['laranja']\n"
     ]
    }
   ],
   "source": [
    "pesos = [1, 1, 5, 1, 1]\n",
    "random.choices(frutas, pesos) \n",
    "\n",
    "n = 5\n",
    "for i in range(n):\n",
    "    print(random.choices(frutas, pesos))\n"
   ]
  },
  {
   "cell_type": "code",
   "execution_count": 27,
   "metadata": {},
   "outputs": [
    {
     "name": "stdout",
     "output_type": "stream",
     "text": [
      "['banana', 'uva', 'maça', 'laranja', 'uva']\n"
     ]
    }
   ],
   "source": [
    "random.shuffle(frutas) #embaralha a lista\n",
    "print(frutas)\n",
    "\n"
   ]
  },
  {
   "cell_type": "code",
   "execution_count": 30,
   "metadata": {},
   "outputs": [
    {
     "name": "stdout",
     "output_type": "stream",
     "text": [
      "O número de caras foi 2494 e o número de coroas foi 2506\n"
     ]
    }
   ],
   "source": [
    "#Simulação de lançamento de moeda não viciada\t\n",
    "n = int(input(\"Quantas vezes deseja lançar a moeda?\"))\n",
    "\n",
    "cara = 0\n",
    "coroa = 0\n",
    "\n",
    "for i in range(n):\n",
    "    if random.choice([\"cara\", \"coroa\"]) == \"cara\":\n",
    "        cara += 1\n",
    "    else:\n",
    "        coroa += 1\n",
    "print(f\"O número de caras foi {cara} e o número de coroas foi {coroa}\")"
   ]
  },
  {
   "cell_type": "code",
   "execution_count": 42,
   "metadata": {},
   "outputs": [
    {
     "name": "stdout",
     "output_type": "stream",
     "text": [
      "16.011171932266514\n"
     ]
    }
   ],
   "source": [
    "## Exercício 1\n",
    "# Gerar um número aleatório entre 10 e 50 usando o random.random()\n",
    "\n",
    "numero_aleatorio = 10 + (random.random() * (50-10))\n",
    "print(numero_aleatorio)\n",
    "\n",
    "# Multiplicamos pela extensão do intervalo e somamos o valor mínimo\n",
    "\n"
   ]
  },
  {
   "cell_type": "code",
   "execution_count": 58,
   "metadata": {},
   "outputs": [
    {
     "name": "stdout",
     "output_type": "stream",
     "text": [
      "jogar\n"
     ]
    }
   ],
   "source": [
    "## Exercício 2\n",
    "# Simular o random.choice com random.random\n",
    "\n",
    "escolhas = ['ver filme', 'jogar', 'estudar', 'dormir']\n",
    "\n",
    "#random.choice(escolhas)\n",
    "\n",
    "escolha = int(random.random() * len(escolhas))\n",
    "print(escolhas[escolha])\n"
   ]
  },
  {
   "cell_type": "code",
   "execution_count": 60,
   "metadata": {},
   "outputs": [
    {
     "name": "stdout",
     "output_type": "stream",
     "text": [
      "0.5758300513557306\n",
      "estudar\n"
     ]
    }
   ],
   "source": [
    "#Outra forma\n",
    "\n",
    "aleatorio = random.random()\n",
    "print(aleatorio)   \n",
    "\n",
    "if 0.25 > aleatorio:\n",
    "    idx = 0\n",
    "elif 0.5 > aleatorio:\n",
    "    idx = 1\n",
    "elif 0.75 > aleatorio:\n",
    "    idx = 2\n",
    "else:\n",
    "    idx = 3\n",
    "\n",
    "print(escolhas[idx])"
   ]
  },
  {
   "cell_type": "code",
   "execution_count": 63,
   "metadata": {},
   "outputs": [
    {
     "name": "stdout",
     "output_type": "stream",
     "text": [
      "estudar\n"
     ]
    }
   ],
   "source": [
    "num = random.random()\n",
    "\n",
    "idx = int(num / (1/len(escolhas)))\n",
    "print(escolhas[idx])"
   ]
  }
 ],
 "metadata": {
  "kernelspec": {
   "display_name": "Python 3",
   "language": "python",
   "name": "python3"
  },
  "language_info": {
   "codemirror_mode": {
    "name": "ipython",
    "version": 3
   },
   "file_extension": ".py",
   "mimetype": "text/x-python",
   "name": "python",
   "nbconvert_exporter": "python",
   "pygments_lexer": "ipython3",
   "version": "3.11.5"
  }
 },
 "nbformat": 4,
 "nbformat_minor": 2
}

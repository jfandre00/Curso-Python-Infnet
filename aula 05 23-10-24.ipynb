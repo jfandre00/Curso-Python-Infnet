{
 "cells": [
  {
   "cell_type": "code",
   "execution_count": 1,
   "metadata": {},
   "outputs": [
    {
     "name": "stdout",
     "output_type": "stream",
     "text": [
      "Erro: Não é possível somar string com número\n"
     ]
    }
   ],
   "source": [
    "# Try e except\n",
    "\n",
    "try:\n",
    "    'a' + 1\n",
    "except:\n",
    "    print('Erro: Não é possível somar string com número')"
   ]
  },
  {
   "cell_type": "code",
   "execution_count": 5,
   "metadata": {},
   "outputs": [
    {
     "name": "stdout",
     "output_type": "stream",
     "text": [
      "Erro: Valor inválido\n"
     ]
    }
   ],
   "source": [
    "try:\n",
    "    numerador = int(input('Digite o numerador: '))\n",
    "    denominador = int(input('Digite o denominador: '))\n",
    "\n",
    "    resultado = numerador / denominador\n",
    "    print('Resultado: ', resultado)\n",
    "except ZeroDivisionError:\n",
    "    print('Erro: Divisão por zero')\n",
    "except ValueError:\n",
    "    print('Erro: Valor inválido')\n"
   ]
  },
  {
   "cell_type": "code",
   "execution_count": 6,
   "metadata": {},
   "outputs": [
    {
     "name": "stdout",
     "output_type": "stream",
     "text": [
      "4\n"
     ]
    }
   ],
   "source": [
    "lista = [2, '2']\n",
    "try:\n",
    "    print(sum(lista))\n",
    "except TypeError:\n",
    "    for i in range(len(lista)):\n",
    "        lista[i] = int(lista[i])\n",
    "    print(sum(lista))"
   ]
  },
  {
   "cell_type": "code",
   "execution_count": 7,
   "metadata": {},
   "outputs": [
    {
     "name": "stdout",
     "output_type": "stream",
     "text": [
      "3\n",
      "5\n",
      "7\n",
      "9\n",
      "Fim da lista\n"
     ]
    }
   ],
   "source": [
    "## Gambiarra - somar dois números consecutivos numa lista\n",
    "\n",
    "lista = [1, 2, 3, 4, 5]\n",
    "\n",
    "for i in range(len(lista)):\n",
    "    try:\n",
    "        print(lista[i] + lista[i+1])\n",
    "    except IndexError:\n",
    "        print('Fim da lista')\n",
    "        break\n",
    "    except TypeError:\n",
    "        print('Tipo inválido')"
   ]
  },
  {
   "cell_type": "code",
   "execution_count": 8,
   "metadata": {},
   "outputs": [
    {
     "name": "stdout",
     "output_type": "stream",
     "text": [
      "[2, 3, 4, 5, 6]\n"
     ]
    }
   ],
   "source": [
    "#List comprehension - sintaxe mais compacta para criar listas\n",
    "\n",
    "numeros = [1, 2, 3, 4, 5]\n",
    "\n",
    "#Forma tradicional\n",
    "\n",
    "for i in range(len(numeros)):\n",
    "    numeros[i] += 1\n",
    "print(numeros)\n",
    "\n",
    "\n"
   ]
  },
  {
   "cell_type": "code",
   "execution_count": 9,
   "metadata": {},
   "outputs": [
    {
     "name": "stdout",
     "output_type": "stream",
     "text": [
      "[3, 4, 5, 6, 7]\n"
     ]
    }
   ],
   "source": [
    "numeros = [i + 1 for i in numeros]  \n",
    "print(numeros)"
   ]
  },
  {
   "cell_type": "code",
   "execution_count": 10,
   "metadata": {},
   "outputs": [
    {
     "name": "stdout",
     "output_type": "stream",
     "text": [
      "[0, 2, 4, 6, 8, 10, 12, 14, 16, 18]\n"
     ]
    }
   ],
   "source": [
    "numeros2 = [i*2 for i in range(10)]\n",
    "print(numeros2)\n"
   ]
  },
  {
   "cell_type": "code",
   "execution_count": 11,
   "metadata": {},
   "outputs": [
    {
     "name": "stdout",
     "output_type": "stream",
     "text": [
      "['impar', 'par', 'impar', 'par', 'impar']\n"
     ]
    }
   ],
   "source": [
    "numeros = [1, 2, 3, 4, 5]\n",
    "par_ou_impar = ['par' if i % 2 == 0 else 'impar' for i in numeros]\n",
    "\n",
    "print(par_ou_impar)\n",
    "\n"
   ]
  },
  {
   "cell_type": "code",
   "execution_count": 12,
   "metadata": {},
   "outputs": [
    {
     "name": "stdout",
     "output_type": "stream",
     "text": [
      "['B', 'A', 'A', 'B', 'C', 'A']\n"
     ]
    }
   ],
   "source": [
    "notas = [7.5, 8.0, 9.5, 6.5, 4.5, 8.5]\n",
    "# se nota maior ou igual a 8, conceito A\n",
    "# se nota maior ou igual a 6 e menor que 8, conceito B\n",
    "# se nota menor que 6, conceito C\n",
    "\n",
    "conceitos = ['A' if nota >= 8 else 'B' if nota >= 6 else 'C' for nota in notas]\n",
    "\n",
    "print(conceitos)"
   ]
  },
  {
   "cell_type": "code",
   "execution_count": 14,
   "metadata": {},
   "outputs": [
    {
     "name": "stdout",
     "output_type": "stream",
     "text": [
      "['CACHORRO', 'gato', 'ELEFANTE', 'PAPAGAIO', 'cobra']\n"
     ]
    }
   ],
   "source": [
    "palavras = ['Cachorro', 'gato', 'ELEFANTE', 'paPAGaio', 'coBRa']\n",
    "\n",
    "transformadas = [palavra.lower() if len(palavra) < 6 else palavra.upper() for palavra in palavras]\n",
    "\n",
    "#Se tamanho da palavra for menor que 6, a palavra vem minúscula, caso contrário, vem maiúscula\n",
    "\n",
    "print(transformadas)"
   ]
  },
  {
   "cell_type": "code",
   "execution_count": 15,
   "metadata": {},
   "outputs": [
    {
     "name": "stdout",
     "output_type": "stream",
     "text": [
      "Média: 9.5\n"
     ]
    }
   ],
   "source": [
    "## Exercícios\n",
    "#1. Escreva um programa que receba notas do usuário até que ele digite 'fim'. Neste momento o programa deve imprimir a média destas notas.\n",
    "#OBS: caso o usuário digite algo que não seja um número, o programa deve printar o erro e continuar a execução\n",
    "\n",
    "notas = []\n",
    "\n",
    "while True:\n",
    "    try:\n",
    "        nota = input('Digite a nota: ')\n",
    "        if nota == 'fim':\n",
    "            print('Média:', sum(notas)/len(notas))\n",
    "            break\n",
    "        notas.append(float(nota))\n",
    "    except ValueError:\n",
    "        print('Erro: Valor inválido')\n"
   ]
  },
  {
   "cell_type": "code",
   "execution_count": 20,
   "metadata": {},
   "outputs": [
    {
     "name": "stdout",
     "output_type": "stream",
     "text": [
      "andré\n"
     ]
    }
   ],
   "source": [
    "#2. Escreva um programa que receba uma lista de nomes separados por vírgula e o usuário em seguida digita um índice. O programa deve printar o nome correspondente ao índice digitado. A qualquer momento o usuário pode digitar -1 e o programa deve encerrar a execução. Ex: Alberto, Laura, Ana, Carol, Pedro e em seguida ele digita \"2\" e o programa printa \"Ana\".\n",
    "#OBS: Caso o usuário digite um índice maior do que o tamanho da lista, o programa deve imprimir que está fora do intervalo\n",
    "\n",
    "nomes = input('Digite os nomes separados por vírgula: ').split(',')\n",
    "\n",
    "while True:\n",
    "    try:\n",
    "        indice = int(input('Digite o índice: '))\n",
    "        if indice == -1:\n",
    "            break\n",
    "        if indice >= len(nomes):\n",
    "            print('Fora do intervalo')\n",
    "        else:\n",
    "            print(nomes[indice].strip())\n",
    "    except ValueError:\n",
    "        print('Erro: Valor inválido')\n"
   ]
  }
 ],
 "metadata": {
  "kernelspec": {
   "display_name": "Python 3",
   "language": "python",
   "name": "python3"
  },
  "language_info": {
   "codemirror_mode": {
    "name": "ipython",
    "version": 3
   },
   "file_extension": ".py",
   "mimetype": "text/x-python",
   "name": "python",
   "nbconvert_exporter": "python",
   "pygments_lexer": "ipython3",
   "version": "3.11.5"
  }
 },
 "nbformat": 4,
 "nbformat_minor": 2
}

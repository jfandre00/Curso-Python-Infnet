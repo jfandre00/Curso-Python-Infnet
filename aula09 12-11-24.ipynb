{
 "cells": [
  {
   "cell_type": "markdown",
   "metadata": {},
   "source": [
    "##Dicionários em Python\n",
    "Os dicionários são estruturas de dados em Python que permitem armazenar pares de `chave-valor`. Eles são úteis para representar coleções de dados onde cada valor tem uma chave única associada, proporcionando acesso rápido aos dados\n",
    "\n",
    ". Estrutura de um Dicionário\n",
    ". é definido entre chaves {}\n",
    ". cada item é composto por uma chave e um valor separados por dois pontos :\n",
    ". as chaves devem ser únicas e podem ser de tipos imutáveis, como strings, números ou tuplas"
   ]
  },
  {
   "cell_type": "code",
   "execution_count": null,
   "metadata": {},
   "outputs": [
    {
     "name": "stdout",
     "output_type": "stream",
     "text": [
      "{'nome': 'Ana', 'idade': 23, 'cidade': 'São Paulo'}\n",
      "Ana\n",
      "23\n",
      "Não existe\n",
      "São Paulo\n"
     ]
    }
   ],
   "source": [
    "meu_dict = {\n",
    "    'nome': 'Ana',\n",
    "    'idade': 23,\n",
    "    'cidade': 'São Paulo'\n",
    "}\n",
    "\n",
    "print(meu_dict)\n",
    "\n",
    "print(meu_dict['nome']) # Ana\n",
    "\n",
    "# Usando o .get() para evitar erros\n",
    "\n",
    "print(meu_dict.get('idade')) # 23\n",
    "print(meu_dict.get('profissão', 'Não existe')) # Não existe\n",
    "print(meu_dict.get('cidade', 'Não existe')) # São Paulo\n"
   ]
  },
  {
   "cell_type": "markdown",
   "metadata": {},
   "source": [
    "Modificando um dicionário\n",
    "\n",
    ". adicionar novo par chave-valor\n",
    ". remover chave e imprimir o resultado\n",
    ". usando o .pop() para remover e retornar o valor removido\n"
   ]
  },
  {
   "cell_type": "code",
   "execution_count": null,
   "metadata": {},
   "outputs": [
    {
     "name": "stdout",
     "output_type": "stream",
     "text": [
      "{'nome': 'Ana', 'idade': 23, 'cidade': 'São Paulo', 'profissao': 'programadora'}\n"
     ]
    }
   ],
   "source": [
    "meu_dict['profissao'] = 'Programadora'\n",
    "print(meu_dict)"
   ]
  },
  {
   "cell_type": "code",
   "execution_count": 9,
   "metadata": {},
   "outputs": [
    {
     "name": "stdout",
     "output_type": "stream",
     "text": [
      "{'nome': 'Ana', 'cidade': 'São Paulo', 'profissao': 'programadora'}\n"
     ]
    }
   ],
   "source": [
    "del meu_dict['idade']\n",
    "print(meu_dict)"
   ]
  },
  {
   "cell_type": "code",
   "execution_count": 16,
   "metadata": {},
   "outputs": [
    {
     "name": "stdout",
     "output_type": "stream",
     "text": [
      "Programadora\n",
      "{'nome': 'Ana', 'idade': 23, 'cidade': 'São Paulo'}\n",
      "{'idade': 23, 'cidade': 'São Paulo'}\n"
     ]
    }
   ],
   "source": [
    "meu_dict = {\n",
    "    'nome': 'Ana',\n",
    "    'idade': 23,\n",
    "    'cidade': 'São Paulo',\n",
    "    'profissao': 'Programadora'\n",
    "}\n",
    "profissao = meu_dict.pop('profissao')\n",
    "print(profissao)\n",
    "print(meu_dict)\n",
    "meu_dict.pop('nome')\n",
    "print(meu_dict)"
   ]
  },
  {
   "cell_type": "markdown",
   "metadata": {},
   "source": [
    "### Iterando em um Dicionário\n",
    "\n",
    ". Percorra o dicionário e imprima todas as chaves\n",
    ". Percorra e imprima todos os valores do dicionário\n",
    ". Use um loop for para imprimir as chaves e os valores em pares formatados como {chave: valor}"
   ]
  },
  {
   "cell_type": "code",
   "execution_count": 19,
   "metadata": {},
   "outputs": [
    {
     "name": "stdout",
     "output_type": "stream",
     "text": [
      "nome\n",
      "idade\n",
      "cidade\n",
      "\n",
      "\n",
      "nome\n",
      "idade\n",
      "cidade\n",
      "\n",
      "\n",
      "Ana\n",
      "23\n",
      "São Paulo\n",
      "\n",
      "\n",
      "nome : Ana\n",
      "idade : 23\n",
      "cidade : São Paulo\n"
     ]
    }
   ],
   "source": [
    "meu_dict = {\n",
    "    'nome': 'Ana',\n",
    "    'idade': 23,\n",
    "    'cidade': 'São Paulo'\n",
    "}\n",
    "\n",
    "# Iterando sobre as chaves\n",
    "for chave in meu_dict:\n",
    "    print(chave)\n",
    "\n",
    "print(\"\\n\")\n",
    "\n",
    "#Outra maneira\n",
    "for chave in meu_dict.keys():\n",
    "    print(chave)\n",
    "\n",
    "print(\"\\n\")\n",
    "#Iterando sobre os valores\n",
    "for valor in meu_dict.values():\n",
    "    print(valor)\n",
    "\n",
    "print(\"\\n\")\n",
    "#Iterando sobre chaves e valores\n",
    "for chave, valor in meu_dict.items():\n",
    "    print(chave, \":\", valor)"
   ]
  },
  {
   "cell_type": "code",
   "execution_count": 20,
   "metadata": {},
   "outputs": [
    {
     "data": {
      "text/plain": [
       "dict_items([('nome', 'Ana'), ('idade', 23), ('cidade', 'São Paulo')])"
      ]
     },
     "execution_count": 20,
     "metadata": {},
     "output_type": "execute_result"
    }
   ],
   "source": [
    "meu_dict.items() # dict_items([('nome', 'Ana'), ('idade', 23), ('cidade', 'São Paulo')])"
   ]
  },
  {
   "cell_type": "markdown",
   "metadata": {},
   "source": [
    "### Métodos Úteis de Dicionarios\n",
    "\n",
    ". .keys() , .values() e .items()\n",
    ". .update() para combinar com outro dicionario\n",
    ". .clear() para limpar o dicionário"
   ]
  },
  {
   "cell_type": "code",
   "execution_count": 21,
   "metadata": {},
   "outputs": [
    {
     "name": "stdout",
     "output_type": "stream",
     "text": [
      "{'nome': 'Ana', 'idade': 23, 'cidade': 'São Paulo'}\n",
      "dict_keys(['nome', 'idade', 'cidade'])\n",
      "dict_values(['Ana', 23, 'São Paulo'])\n",
      "dict_items([('nome', 'Ana'), ('idade', 23), ('cidade', 'São Paulo')])\n",
      "{'nome': 'Ana', 'idade': 23, 'cidade': 'São Paulo', 'hobby': 'Música'}\n",
      "{}\n"
     ]
    }
   ],
   "source": [
    "meu_dict = {\n",
    "    'nome': 'Ana',\n",
    "    'idade': 23,\n",
    "    'cidade': 'São Paulo'\n",
    "}\n",
    "\n",
    "print(meu_dict)\n",
    "print(meu_dict.keys())\n",
    "print(meu_dict.values())\n",
    "print(meu_dict.items())\n",
    "\n",
    "#Atualizando um dicionário\n",
    "outro_dict = {\"hobby\": \"Música\"}\n",
    "meu_dict.update(outro_dict)\n",
    "print(meu_dict)\n",
    "\n",
    "#Limpando um dicionário\n",
    "meu_dict.clear()\n",
    "print(meu_dict)\n"
   ]
  },
  {
   "cell_type": "markdown",
   "metadata": {},
   "source": [
    "### Dicionários vs. Listas"
   ]
  },
  {
   "cell_type": "code",
   "execution_count": 22,
   "metadata": {},
   "outputs": [
    {
     "name": "stdout",
     "output_type": "stream",
     "text": [
      "20\n",
      "20\n"
     ]
    }
   ],
   "source": [
    "#Lista\n",
    "minha_lista = [10, 20, 30]\n",
    "print(minha_lista[1]) # 20\n",
    "\n",
    "#Dicionário\n",
    "meu_dict = {'a': 10, 'b': 20, 'c': 30}\n",
    "print(meu_dict['b']) # 20"
   ]
  },
  {
   "cell_type": "markdown",
   "metadata": {},
   "source": [
    "### Quando é melhor usar dicionários em vez de listas?\n",
    "\n",
    "1. Acesso Rápido por Chave\n",
    "\n",
    ". dicionários permitem acesso direto a elementos usando chaves, o que é útil quando precisamos buscar valores de forma rápida e eficiente com base em um identificador específico.\n",
    ". listas, por outro lado, só oferecem acesso através de índices numéricos, o que pode tornar a busca por elementos mais lenta em conjuntos de dados grandes."
   ]
  },
  {
   "cell_type": "code",
   "execution_count": null,
   "metadata": {},
   "outputs": [],
   "source": [
    "estoque = {'maça': 10, 'banana': 20, 'laranja': 30}\n",
    "print(estoque['banana']) # 20\n",
    "\n",
    "estoque_lista = [['maça', 10], ['banana', 20], ['laranja', 30]]\n",
    "print(estoque_lista[1][1]) # 20 -> Acesso menos intuitivo"
   ]
  },
  {
   "cell_type": "code",
   "execution_count": null,
   "metadata": {},
   "outputs": [],
   "source": [
    "#Usando dicionário para representar um aluno\n",
    "aluno = {\n",
    "    'nome': 'Ana',\n",
    "    'idade': 23,\n",
    "    'curso': 'Matemática'\n",
    "}\n",
    "\n",
    "print(aluno['nome']) # Ana\n",
    "\n",
    "#Usando lista para representar um aluno\n",
    "aluno = ['Ana', 23, 'Matemática']\n",
    "print(aluno[0]) # Ana\n",
    "\n"
   ]
  },
  {
   "cell_type": "markdown",
   "metadata": {},
   "source": [
    "Exemplo: Contagem de palavras em um texto\n",
    "\n",
    "Crie uma função chamada contar_palavras que recebe uma string como argumento e retorna um dicionário onde as chaves são palavras únicas do texto, e os valores são os números de vezes que cada palavra aparece. Ignore a diferenciação entre minúsculas e maiúsculas"
   ]
  },
  {
   "cell_type": "code",
   "execution_count": null,
   "metadata": {},
   "outputs": [
    {
     "name": "stdout",
     "output_type": "stream",
     "text": [
      "{'python': 2, 'é': 2, 'incrível': 1, 'uma': 1, 'linguagem': 1, 'poderosa': 1, 'e': 1, 'fácil': 1, 'de': 1, 'aprender': 1}\n"
     ]
    }
   ],
   "source": [
    "def contar_palavras(texto):\n",
    "    #Converte o texto para minúsculas e remove pontuações básicas\n",
    "    texto = texto.lower().replace('.', '').replace(',', '').replace(';', '').replace(':', '').replace('!', '').replace('?', '')\n",
    "\n",
    "    #Divide o texto em uma lista de palavras\n",
    "    palavras = texto.split()\n",
    "\n",
    "    #Cria um dicionário vazio para armazenar as palavras e suas contagens\n",
    "    contagem = {}\n",
    "\n",
    "    #Itera sobre a lista de palavras\n",
    "    for palavra in palavras:\n",
    "        if palavra in contagem:\n",
    "            contagem[palavra] += 1\n",
    "        else:\n",
    "            contagem[palavra] = 1\n",
    "    \n",
    "    return contagem\n",
    "\n",
    "#Testando a função\n",
    "\n",
    "texto_exemplo = 'Python é incrível! Python é uma linguagem poderosa e fácil de aprender.'\n",
    "resultado = contar_palavras(texto_exemplo)\n",
    "print(resultado)\n"
   ]
  }
 ],
 "metadata": {
  "kernelspec": {
   "display_name": "Python 3",
   "language": "python",
   "name": "python3"
  },
  "language_info": {
   "codemirror_mode": {
    "name": "ipython",
    "version": 3
   },
   "file_extension": ".py",
   "mimetype": "text/x-python",
   "name": "python",
   "nbconvert_exporter": "python",
   "pygments_lexer": "ipython3",
   "version": "3.11.5"
  }
 },
 "nbformat": 4,
 "nbformat_minor": 2
}

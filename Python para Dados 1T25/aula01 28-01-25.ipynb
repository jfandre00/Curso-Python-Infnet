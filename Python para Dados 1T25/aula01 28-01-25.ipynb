{
 "cells": [
  {
   "cell_type": "markdown",
   "metadata": {},
   "source": [
    "Sintaxe Básica de Python"
   ]
  },
  {
   "cell_type": "code",
   "execution_count": 1,
   "metadata": {},
   "outputs": [
    {
     "name": "stdout",
     "output_type": "stream",
     "text": [
      "Olá, mundo\n"
     ]
    }
   ],
   "source": [
    "print('Olá, mundo')\n",
    "\n",
    "x = 10\n",
    "y = 3.14\n",
    "nome = \"Alice\"\n",
    "esta_ativo = True"
   ]
  },
  {
   "cell_type": "code",
   "execution_count": 2,
   "metadata": {},
   "outputs": [],
   "source": [
    "frutas = ['maçã', 'banana', 'laranja']\n",
    "\n",
    "coordenadas = (10, 20) #tuplas\n",
    "\n",
    "pessoa = {\n",
    "    nome: 'Alice',\n",
    "    'idade': 30,\n",
    "}\n",
    "\n",
    "#Conjunto\n",
    "\n",
    "numeros_unicos = {1, 2, 3, 4, 5} #duplicadas são ignoradas"
   ]
  },
  {
   "cell_type": "code",
   "execution_count": 3,
   "metadata": {},
   "outputs": [
    {
     "name": "stdout",
     "output_type": "stream",
     "text": [
      "Maior de idade\n",
      "maçã\n",
      "banana\n",
      "laranja\n",
      "0\n",
      "1\n",
      "2\n",
      "3\n",
      "4\n",
      "5\n",
      "6\n",
      "7\n",
      "8\n",
      "9\n"
     ]
    }
   ],
   "source": [
    "idade = 18\n",
    "if idade >= 18:\n",
    "    print('Maior de idade')\n",
    "else:\n",
    "    print('Menor de idade')\n",
    "\n",
    "\n",
    "for fruta in frutas:\n",
    "    print(fruta)\n",
    "\n",
    "contador = 0\n",
    "while contador < 10:\n",
    "    print(contador)\n",
    "    contador += 1\n",
    "    "
   ]
  },
  {
   "cell_type": "code",
   "execution_count": 5,
   "metadata": {},
   "outputs": [
    {
     "name": "stdout",
     "output_type": "stream",
     "text": [
      "Olá, Alice\n"
     ]
    }
   ],
   "source": [
    "def cumprimentar(nome):\n",
    "    print(f'Olá, {nome}')\n",
    "\n",
    "cumprimentar('Alice') #Olá, Alice\n"
   ]
  },
  {
   "cell_type": "markdown",
   "metadata": {},
   "source": [
    "Funções lambda\n",
    "Funções built in max, sort, map, filter, len, reduce, next, zip, all, any\n",
    "Funções recursivas - fibonacci, fatorial"
   ]
  },
  {
   "cell_type": "code",
   "execution_count": 1,
   "metadata": {},
   "outputs": [
    {
     "name": "stdout",
     "output_type": "stream",
     "text": [
      "Olá, André\n"
     ]
    }
   ],
   "source": [
    "nome = input('Qual é o seu nome? ')\n",
    "print(f'Olá, {nome}')"
   ]
  },
  {
   "cell_type": "code",
   "execution_count": 7,
   "metadata": {},
   "outputs": [
    {
     "name": "stdout",
     "output_type": "stream",
     "text": [
      "Não é possível dividir por zero\n"
     ]
    }
   ],
   "source": [
    "#Tratamento de erros try e except\n",
    "\n",
    "try:\n",
    "    resultado = 10 / 0\n",
    "except ZeroDivisionError:\n",
    "    print('Não é possível dividir por zero')\n"
   ]
  },
  {
   "cell_type": "code",
   "execution_count": 12,
   "metadata": {},
   "outputs": [
    {
     "name": "stdout",
     "output_type": "stream",
     "text": [
      "4.0\n",
      "3\n",
      "banana\n"
     ]
    }
   ],
   "source": [
    "#Módulos e bibliotecas\n",
    "import math\n",
    "import random\n",
    "print(math.sqrt(16)) #4.0\n",
    "\n",
    "print(random.randint(1, 10)) #número aleatório entre 1 e 10\n",
    "print(random.choice(['maçã', 'banana', 'laranja'])) #escolhe um item aleatório da lista\n",
    "print(random.random()) #número aleatório entre 0 e 1"
   ]
  },
  {
   "cell_type": "markdown",
   "metadata": {},
   "source": [
    "#### Nesse novo curso de dados\n",
    "\n",
    "- numpy (operações numéricas)\n",
    "- matplotlib (visualizações, histogramas, saídas gráficas no geral)\n",
    "- pandas (tabelas de dados, abre arquivo .csv, banco de dados)\n",
    "- sqlalchemy\n"
   ]
  }
 ],
 "metadata": {
  "kernelspec": {
   "display_name": "Python 3",
   "language": "python",
   "name": "python3"
  },
  "language_info": {
   "codemirror_mode": {
    "name": "ipython",
    "version": 3
   },
   "file_extension": ".py",
   "mimetype": "text/x-python",
   "name": "python",
   "nbconvert_exporter": "python",
   "pygments_lexer": "ipython3",
   "version": "3.11.5"
  }
 },
 "nbformat": 4,
 "nbformat_minor": 2
}

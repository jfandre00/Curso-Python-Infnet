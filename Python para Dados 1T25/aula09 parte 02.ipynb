{
 "cells": [
  {
   "cell_type": "code",
   "execution_count": null,
   "metadata": {},
   "outputs": [],
   "source": [
    "from sqlalchemy import create_engine, Column, Integer, String, ForeignKey\n",
    "from sqlalchemy.orm import declarative_base, relationship, sessionmaker\n",
    "\n",
    "#Criando a base ORM - object relational manager\n",
    "\n",
    "Base = declarative_base()"
   ]
  },
  {
   "cell_type": "code",
   "execution_count": 2,
   "metadata": {},
   "outputs": [],
   "source": [
    "class Departamento(Base):\n",
    "    __tablename__ = \"departamentos\"\n",
    "\n",
    "    id = Column(Integer, primary_key=True, autoincrement=True)\n",
    "    nome = Column(String, nullable=False, unique=True)\n",
    "\n",
    "    #Relacionamento com Funcionários (One-to-Many)\n",
    "    funcionarios = relationship(\"Funcionario\", back_populates=\"departamento\")\n",
    "\n",
    "class Funcionario(Base):\n",
    "    __tablename__ = \"funcionarios\"\n",
    "\n",
    "    id = Column(Integer, primary_key=True, autoincrement=True)\n",
    "    nome = Column(String, nullable=False, unique=True)\n",
    "    cargo = Column(String, nullable=False)\n",
    "    salario = Column(Integer, nullable=False)\n",
    "    departamento_id = Column(Integer, ForeignKey(\"departamentos.id\"))\n",
    "\n",
    "    #Relacionamento com Departamento (Many-to-One)\n",
    "    departamento = relationship(\"Departamento\", back_populates=\"funcionarios\")\n",
    "\n",
    "    #Relacionamento com Projetos (One to Many)\n",
    "    projetos = relationship(\"Projeto\", back_populates=\"funcionario\")\n",
    "\n",
    "class Projeto(Base):\n",
    "    __tablename__ = \"projetos\"\n",
    "\n",
    "    id = Column(Integer, primary_key=True, autoincrement=True)\n",
    "    nome = Column(String, nullable=False, unique=True)\n",
    "    descricao = Column(String)\n",
    "    funcionario_id = Column(Integer, ForeignKey(\"funcionarios.id\"))\n",
    "\n",
    "    #Relacionamento com Funcionário (Many to One)\n",
    "    funcionario = relationship(\"Funcionario\", back_populates=\"projetos\")\n"
   ]
  },
  {
   "cell_type": "code",
   "execution_count": 3,
   "metadata": {},
   "outputs": [],
   "source": [
    "engine = create_engine(\"sqlite:///banco_aula09.db\", echo=False)\n",
    "#conectou ao banco de dados banco_aula09.db caso ele exista (caso contrário cria um novo)\n",
    "\n",
    "Base.metadata.create_all(engine) #passando as 3 tabelas\n"
   ]
  },
  {
   "cell_type": "code",
   "execution_count": null,
   "metadata": {},
   "outputs": [],
   "source": [
    "# Criar uma sessão\n",
    "\n",
    "Session = sessionmaker(bind=engine) #classe session com as tabelas acima\n",
    "session = Session() #criamos uma sessão, uma instância da classe sessão\n"
   ]
  },
  {
   "cell_type": "code",
   "execution_count": null,
   "metadata": {},
   "outputs": [],
   "source": [
    "#Começando novamente!!!!\n",
    "\n",
    "from sqlalchemy import create_engine, Column, Integer, String, ForeignKey\n",
    "from sqlalchemy.orm import declarative_base, relationship, sessionmaker\n",
    "\n",
    "# Criando a base ORM\n",
    "Base = declarative_base()\n",
    "\n",
    "class Departamento(Base):\n",
    "    __tablename__ = \"departamentos\"\n",
    "\n",
    "    id = Column(Integer, primary_key=True, autoincrement=True)\n",
    "    nome = Column(String, nullable=False, unique=True)\n",
    "\n",
    "    # Relacionamento com Funcionários (One-to-Many)\n",
    "    funcionarios = relationship(\"Funcionario\", back_populates=\"departamento\")\n",
    "\n",
    "class Funcionario(Base):\n",
    "    __tablename__ = \"funcionarios\"\n",
    "\n",
    "    id = Column(Integer, primary_key=True, autoincrement=True)\n",
    "    nome = Column(String, nullable=False, unique=True)\n",
    "    cargo = Column(String, nullable=False)\n",
    "    salario = Column(Integer, nullable=False)\n",
    "    departamento_id = Column(Integer, ForeignKey(\"departamentos.id\"))\n",
    "\n",
    "    # Relacionamento com Departamento (Many-to-One)\n",
    "    departamento = relationship(\"Departamento\", back_populates=\"funcionarios\")\n",
    "\n",
    "    # Relacionamento com Projetos (One to Many)\n",
    "    projetos = relationship(\"Projeto\", back_populates=\"funcionario\")\n",
    "\n",
    "class Projeto(Base):\n",
    "    __tablename__ = \"projetos\"\n",
    "\n",
    "    id = Column(Integer, primary_key=True, autoincrement=True)\n",
    "    nome = Column(String, nullable=False, unique=True)\n",
    "    descricao = Column(String)\n",
    "    funcionario_id = Column(Integer, ForeignKey(\"funcionarios.id\"))\n",
    "\n",
    "    # Relacionamento com Funcionário (Many to One)\n",
    "    funcionario = relationship(\"Funcionario\", back_populates=\"projetos\")\n",
    "\n",
    "# Criando a conexão com o banco de dados\n",
    "engine = create_engine(\"sqlite:///banco_aula09.db\", echo=False)\n",
    "\n",
    "# Criando as tabelas no banco de dados\n",
    "Base.metadata.create_all(engine)\n",
    "\n",
    "# Criando uma sessão\n",
    "Session = sessionmaker(bind=engine)\n",
    "session = Session()\n",
    "\n",
    "# Inserindo dados na tabela \"departamentos\"\n",
    "dep1 = Departamento(nome=\"TI\")\n",
    "dep2 = Departamento(nome=\"RH\")\n",
    "dep3 = Departamento(nome=\"Financeiro\")\n",
    "\n",
    "# Adicionando os departamentos na sessão e confirmando\n",
    "session.add_all([dep1, dep2, dep3])\n",
    "session.commit()  # Certifique-se de escrever corretamente!\n",
    "\n",
    "\n"
   ]
  },
  {
   "cell_type": "code",
   "execution_count": 2,
   "metadata": {},
   "outputs": [],
   "source": [
    "# Crie e adicione funcionários ao banco de dados\n",
    "\n",
    "funcionario1 = Funcionario(nome=\"Carlos\", cargo=\"Desenvolvedor\", salario=5000, departamento=dep1)\n",
    "funcionario2 = Funcionario(nome=\"Ana\", cargo=\"Analista de RH\", salario=4000, departamento=dep2)\n",
    "funcionario3 = Funcionario(nome=\"Mariana\", cargo=\"Contadora\", salario=4500, departamento=dep3)\n",
    "\n",
    "session.add_all([funcionario1, funcionario2, funcionario3])\n",
    "session.commit()"
   ]
  },
  {
   "cell_type": "code",
   "execution_count": 3,
   "metadata": {},
   "outputs": [],
   "source": [
    "#Crie e adicione os projetos\n",
    "\n",
    "proj1 = Projeto(nome=\"Sistema WEB\", descricao=\"Desenvolvimento sistema WEB\", funcionario=funcionario1)\n",
    "proj2 = Projeto(nome=\"Organização Treinos\", descricao=\"Desenvolvimento organização\", funcionario=funcionario2)\n",
    "proj3 = Projeto(nome=\"Planejamento\", descricao=\"Planejamento sistema WEB\", funcionario=funcionario2)\n",
    "proj4 = Projeto(nome=\"Gestão Clientes\", descricao=\"Controle clientes\", funcionario=funcionario3)\n",
    "\n",
    "session.add_all([proj1, proj2, proj3, proj4])\n",
    "session.commit()"
   ]
  },
  {
   "cell_type": "code",
   "execution_count": 6,
   "metadata": {},
   "outputs": [
    {
     "name": "stdout",
     "output_type": "stream",
     "text": [
      "Carlos Desenvolvedor TI\n",
      "Sistema WEB Desenvolvimento sistema WEB\n",
      "\n",
      "Ana Analista de RH RH\n",
      "Organização Treinos Desenvolvimento organização\n",
      "Planejamento Planejamento sistema WEB\n",
      "\n",
      "Mariana Contadora Financeiro\n",
      "Gestão Clientes Controle clientes\n",
      "\n"
     ]
    }
   ],
   "source": [
    "#Liste todos os funcionários cadastrados exibindo tbm seu cargo, departamento ao qual pertencem e os projetos associados\n",
    "\n",
    "funcionarios = session.query(Funcionario).all() # me dê a tabela completa\n",
    "\n",
    "#funcionarios - retorna uma classe\n",
    "\n",
    "for func in funcionarios:\n",
    "    print(func.nome, func.cargo, func.departamento.nome)\n",
    "    for proj in func.projetos:\n",
    "        print(proj.nome, proj.descricao)\n",
    "    print()\n"
   ]
  },
  {
   "cell_type": "code",
   "execution_count": 8,
   "metadata": {},
   "outputs": [
    {
     "name": "stdout",
     "output_type": "stream",
     "text": [
      "Departamento: TI\n",
      "Carlos, cargo: Desenvolvedor, salário: 5000\n",
      "----------------------------------------\n",
      "Departamento: RH\n",
      "Ana, cargo: Analista de RH, salário: 4000\n",
      "----------------------------------------\n",
      "Departamento: Financeiro\n",
      "Mariana, cargo: Contadora, salário: 4500\n",
      "----------------------------------------\n"
     ]
    }
   ],
   "source": [
    "# ##########Aula de 19-03-25 / Continuação################\n",
    "# Consultando Funcionários por Departamento - liste todos os departamentos cadastrados e, para cada um deles, exiba os funcionários associados, incluindo o cargo e o salário\n",
    "\n",
    "departamento = session.query(Departamento).all() # retorna uma lista com todos os departamentos\n",
    "\n",
    "for dep in departamento:\n",
    "    print(f\"Departamento: {dep.nome}\")\n",
    "    for func in dep.funcionarios:\n",
    "        print(f\"{func.nome}, cargo: {func.cargo}, salário: {func.salario}\")\n",
    "    print(\"-\" * 40)\n",
    "\n"
   ]
  },
  {
   "cell_type": "code",
   "execution_count": 10,
   "metadata": {},
   "outputs": [],
   "source": [
    "# Atualizações e Remoções\n",
    "# Atualize o salário do funcionário Carlos para 5500.\n",
    "\n",
    "funcionario = session.query(Funcionario).filter_by(nome=\"Carlos\").update({\"salario\": 5500})\n",
    "session.commit()"
   ]
  },
  {
   "cell_type": "code",
   "execution_count": null,
   "metadata": {},
   "outputs": [
    {
     "data": {
      "text/plain": [
       "'Carlos'"
      ]
     },
     "execution_count": 13,
     "metadata": {},
     "output_type": "execute_result"
    }
   ],
   "source": [
    "# Outra forma:\n",
    "\n",
    "'''\n",
    "funcionario1 = session.query(Funcionario).filter_by(nome=\"Carlos\").first()\n",
    "funcionario1.salario = 5500\n",
    "session.commit()\n",
    "'''"
   ]
  },
  {
   "cell_type": "code",
   "execution_count": 14,
   "metadata": {},
   "outputs": [],
   "source": [
    "# Remova a funcionária Mariana e verifique se o projeto vinculado a ela também foi removido\n",
    "\n",
    "funcionario_remover = session.query(Funcionario).filter_by(nome=\"Mariana\").first()\n",
    "session.delete(funcionario_remover)\n",
    "session.commit()\n"
   ]
  },
  {
   "cell_type": "code",
   "execution_count": 20,
   "metadata": {},
   "outputs": [
    {
     "name": "stdout",
     "output_type": "stream",
     "text": [
      "Sistema WEB ----->  Desenvolvimento sistema WEB\n",
      "Carlos\n",
      "\n",
      "Organização Treinos ----->  Desenvolvimento organização\n",
      "Ana\n",
      "\n",
      "Planejamento ----->  Planejamento sistema WEB\n",
      "Ana\n",
      "\n",
      "Gestão Clientes ----->  Controle clientes\n",
      "Projeto sem funcionário\n",
      "\n"
     ]
    }
   ],
   "source": [
    "projetos = session.query(Projeto).all()\n",
    "\n",
    "for proj in projetos:\n",
    "    print(proj.nome, \"-----> \",proj.descricao)\n",
    "    if proj.funcionario is None:\n",
    "        print(\"Projeto sem funcionário\")\n",
    "    else:\n",
    "        print(proj.funcionario.nome)\n",
    "    print()"
   ]
  },
  {
   "cell_type": "code",
   "execution_count": null,
   "metadata": {},
   "outputs": [
    {
     "name": "stdout",
     "output_type": "stream",
     "text": [
      "Sistema WEB ----->  Desenvolvimento sistema WEB\n",
      "Carlos\n",
      "\n",
      "Organização Treinos ----->  Desenvolvimento organização\n",
      "Ana\n",
      "\n",
      "Planejamento ----->  Planejamento sistema WEB\n",
      "Ana\n",
      "\n",
      "Gestão Clientes ----->  Controle clientes\n",
      "Projeto sem funcionário\n",
      "\n"
     ]
    }
   ],
   "source": [
    "# Remova o projeto \"Gestão Clientes\"\n",
    "\n",
    "projetos_remover = session.query(Projeto).filter_by(funcionario_id=funcionario_remover.id).all()\n",
    "projetos_remover #retorna uma lista com todos os projetos da Mariana, está vazia pq Mariana foi removida\n",
    "\n",
    "# removendo o projeto \"Gestão Clientes\"\n",
    "\n",
    "for proj in projetos_remover:\n",
    "    session.delete(proj)\n",
    "session.commit()\n",
    "\n",
    "# Verificando se o projeto foi removido\n",
    "\n",
    "projetos = session.query(Projeto).all()\n",
    "\n",
    "for proj in projetos:\n",
    "    print(proj.nome, \"-----> \",proj.descricao)\n",
    "    if proj.funcionario is None:\n",
    "        print(\"Projeto sem funcionário\")\n",
    "    else:\n",
    "        print(proj.funcionario.nome)\n",
    "    print()\n",
    "\n"
   ]
  },
  {
   "cell_type": "code",
   "execution_count": 25,
   "metadata": {},
   "outputs": [],
   "source": [
    "# Transferir todos os funcionários do departamento de TI para o departamento de RH\n",
    "\n",
    "dep_origem = session.query(Departamento).filter_by(nome=\"TI\").first() #retorna o departamento de TI\n",
    "\n",
    "funcionarios = session.query(Funcionario).filter_by(departamento_id=dep_origem.id).all() #retorna uma lista com todos os funcionários do departamento de TI\n",
    "\n",
    "dep_destino = session.query(Departamento).filter_by(nome=\"RH\").first() #retorna o departamento de RH\n",
    "\n",
    "for func in funcionarios:\n",
    "    func.departamento_id = dep_destino.id #altera o departamento de cada funcionário para o departamento de RH\n",
    "\n",
    "session.commit()\n",
    "\n"
   ]
  },
  {
   "cell_type": "code",
   "execution_count": 26,
   "metadata": {},
   "outputs": [
    {
     "name": "stdout",
     "output_type": "stream",
     "text": [
      "Departamento: TI\n",
      "----------------------------------------\n",
      "Departamento: RH\n",
      "Carlos, cargo: Desenvolvedor, salário: 5500\n",
      "Ana, cargo: Analista de RH, salário: 4000\n",
      "----------------------------------------\n",
      "Departamento: Financeiro\n",
      "----------------------------------------\n"
     ]
    }
   ],
   "source": [
    "#Confere se os funcionários foram transferidos\n",
    "\n",
    "departamentos = session.query(Departamento).all()\n",
    "\n",
    "for dep in departamentos:\n",
    "    print(f\"Departamento: {dep.nome}\")\n",
    "    for func in dep.funcionarios:\n",
    "        print(f\"{func.nome}, cargo: {func.cargo}, salário: {func.salario}\")\n",
    "    print(\"-\" * 40)"
   ]
  },
  {
   "cell_type": "code",
   "execution_count": 27,
   "metadata": {},
   "outputs": [],
   "source": [
    "# Exclusão e Reset do Banco\n",
    "# exclua todas as tabelas do banco de dados sem remover o arquivo.\n",
    "\n",
    "Base.metadata.drop_all(bind=engine)\n",
    "\n"
   ]
  },
  {
   "cell_type": "code",
   "execution_count": 33,
   "metadata": {},
   "outputs": [
    {
     "name": "stdout",
     "output_type": "stream",
     "text": [
      "Arquivo banco_aula09.db removido com sucesso!\n"
     ]
    }
   ],
   "source": [
    "# Exclua o banco de dados completamente, removendo o arquivo.\n",
    "\n",
    "import os\n",
    "\n",
    "session.close()  # fechando a sessão\n",
    "\n",
    "# Fechar a conexão do engine\n",
    "engine.dispose()\n",
    "\n",
    "if os.path.exists(\"banco_aula09.db\"):\n",
    "    print(\"Arquivo banco_aula09.db removido com sucesso!\")\n",
    "    os.remove(\"banco_aula09.db\")\n",
    "else:\n",
    "    print(\"Arquivo banco_aula09.db não encontrado!\")\n"
   ]
  }
 ],
 "metadata": {
  "kernelspec": {
   "display_name": "Python 3",
   "language": "python",
   "name": "python3"
  },
  "language_info": {
   "codemirror_mode": {
    "name": "ipython",
    "version": 3
   },
   "file_extension": ".py",
   "mimetype": "text/x-python",
   "name": "python",
   "nbconvert_exporter": "python",
   "pygments_lexer": "ipython3",
   "version": "3.11.5"
  }
 },
 "nbformat": 4,
 "nbformat_minor": 2
}

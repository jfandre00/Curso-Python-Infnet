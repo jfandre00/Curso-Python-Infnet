{
 "cells": [
  {
   "cell_type": "code",
   "execution_count": 1,
   "metadata": {},
   "outputs": [],
   "source": [
    "# Jogo de Corrida de Automóveis\n",
    "\n",
    "import random\n",
    "import time"
   ]
  },
  {
   "cell_type": "code",
   "execution_count": 2,
   "metadata": {},
   "outputs": [],
   "source": [
    "class Carro:\n",
    "    def __init__(self, nome, velocidade_maxima, cor):\n",
    "        self.nome = nome\n",
    "        self.velocidade_maxima = velocidade_maxima\n",
    "        self.cor = cor\n",
    "        self.velocidade_atual = 0\n",
    "        self.distancia_percorrida = 0\n",
    "\n",
    "    def acelerar(self):\n",
    "        '''Aumenta a velocidade de forma aleatória, sem ultrapassar a velocidade máxima'''\n",
    "        incremento = random.randint(5, 20)\n",
    "        self.velocidade_atual = min(self.velocidade_atual + incremento, self.velocidade_maxima)\n",
    "\n",
    "    def frear(self):\n",
    "        '''Diminui a velocidade de forma aleatória.'''\n",
    "        decremento = random.randint(5, 15)\n",
    "        self.velocidade_atual = max(self.velocidade_atual - decremento, 0)\n",
    "\n",
    "    def andar(self):\n",
    "        '''Move o carro baseado na velocidade atual.'''\n",
    "        self.distancia_percorrida += self.velocidade_atual\n",
    "\n",
    "    def status(self):\n",
    "        '''Retorna o status atual do carro.'''\n",
    "        return f'{self.nome} ({self.cor}) a {self.velocidade_atual} km/h percorreu {self.distancia_percorrida} km'"
   ]
  },
  {
   "cell_type": "code",
   "execution_count": 3,
   "metadata": {},
   "outputs": [],
   "source": [
    "#Criando uma lista de carros para a corrida\n",
    "carros = [\n",
    "    Carro(\"Ferrari\", 300, \"Vermelho\"),\n",
    "    Carro(\"Lamborghini\", 320, \"Amarelo\"),\n",
    "    Carro(\"Porsche\", 310, \"Preto\"),\n",
    "    Carro(\"McLaren\", 330, \"Laranja\"),\n",
    "    Carro(\"Bugatti\", 350, \"Azul\")\n",
    "]"
   ]
  },
  {
   "cell_type": "code",
   "execution_count": 4,
   "metadata": {},
   "outputs": [
    {
     "name": "stdout",
     "output_type": "stream",
     "text": [
      "Início da Corrida\n",
      "\n",
      "Ferrari (Vermelho) a 0 km/h percorreu 13 km\n",
      "Lamborghini (Amarelo) a 6 km/h percorreu 20 km\n",
      "Porsche (Preto) a 0 km/h percorreu 7 km\n",
      "McLaren (Laranja) a 10 km/h percorreu 17 km\n",
      "Bugatti (Azul) a 0 km/h percorreu 11 km\n",
      "\n",
      "\n",
      "Ferrari (Vermelho) a 1 km/h percorreu 21 km\n",
      "Lamborghini (Amarelo) a 18 km/h percorreu 46 km\n",
      "Porsche (Preto) a 12 km/h percorreu 27 km\n",
      "McLaren (Laranja) a 4 km/h percorreu 35 km\n",
      "Bugatti (Azul) a 0 km/h percorreu 19 km\n",
      "\n",
      "\n",
      "Ferrari (Vermelho) a 8 km/h percorreu 36 km\n",
      "Lamborghini (Amarelo) a 29 km/h percorreu 80 km\n",
      "Porsche (Preto) a 9 km/h percorreu 47 km\n",
      "McLaren (Laranja) a 6 km/h percorreu 51 km\n",
      "Bugatti (Azul) a 1 km/h percorreu 35 km\n",
      "\n",
      "\n",
      "Ferrari (Vermelho) a 4 km/h percorreu 49 km\n",
      "Lamborghini (Amarelo) a 25 km/h percorreu 116 km\n",
      "Porsche (Preto) a 9 km/h percorreu 61 km\n",
      "McLaren (Laranja) a 19 km/h percorreu 77 km\n",
      "Bugatti (Azul) a 0 km/h percorreu 44 km\n",
      "\n",
      "\n",
      "Ferrari (Vermelho) a 13 km/h percorreu 73 km\n",
      "Lamborghini (Amarelo) a 23 km/h percorreu 147 km\n",
      "Porsche (Preto) a 11 km/h percorreu 87 km\n",
      "McLaren (Laranja) a 13 km/h percorreu 105 km\n",
      "Bugatti (Azul) a 0 km/h percorreu 56 km\n",
      "\n",
      "\n",
      "Ferrari (Vermelho) a 12 km/h percorreu 96 km\n",
      "Lamborghini (Amarelo) a 16 km/h percorreu 175 km\n",
      "Porsche (Preto) a 18 km/h percorreu 111 km\n",
      "McLaren (Laranja) a 19 km/h percorreu 134 km\n",
      "Bugatti (Azul) a 2 km/h percorreu 71 km\n",
      "\n",
      "\n",
      "Ferrari (Vermelho) a 4 km/h percorreu 115 km\n",
      "Lamborghini (Amarelo) a 17 km/h percorreu 198 km\n",
      "Porsche (Preto) a 22 km/h percorreu 138 km\n",
      "McLaren (Laranja) a 33 km/h percorreu 172 km\n",
      "Bugatti (Azul) a 0 km/h percorreu 84 km\n",
      "\n",
      "\n",
      "Ferrari (Vermelho) a 4 km/h percorreu 130 km\n",
      "Lamborghini (Amarelo) a 19 km/h percorreu 228 km\n",
      "Porsche (Preto) a 26 km/h percorreu 169 km\n",
      "McLaren (Laranja) a 35 km/h percorreu 215 km\n",
      "Bugatti (Azul) a 3 km/h percorreu 94 km\n",
      "\n",
      "\n",
      "Ferrari (Vermelho) a 4 km/h percorreu 142 km\n",
      "Lamborghini (Amarelo) a 32 km/h percorreu 266 km\n",
      "Porsche (Preto) a 29 km/h percorreu 203 km\n",
      "McLaren (Laranja) a 32 km/h percorreu 256 km\n",
      "Bugatti (Azul) a 4 km/h percorreu 111 km\n",
      "\n",
      "\n",
      "Ferrari (Vermelho) a 6 km/h percorreu 161 km\n",
      "Lamborghini (Amarelo) a 39 km/h percorreu 318 km\n",
      "Porsche (Preto) a 26 km/h percorreu 243 km\n",
      "McLaren (Laranja) a 38 km/h percorreu 306 km\n",
      "Bugatti (Azul) a 11 km/h percorreu 130 km\n",
      "\n",
      "\n",
      "Ferrari (Vermelho) a 5 km/h percorreu 181 km\n",
      "Lamborghini (Amarelo) a 37 km/h percorreu 367 km\n",
      "Porsche (Preto) a 27 km/h percorreu 282 km\n",
      "McLaren (Laranja) a 44 km/h percorreu 360 km\n",
      "Bugatti (Azul) a 11 km/h percorreu 146 km\n",
      "\n",
      "\n",
      "Ferrari (Vermelho) a 17 km/h percorreu 203 km\n",
      "Lamborghini (Amarelo) a 36 km/h percorreu 409 km\n",
      "Porsche (Preto) a 41 km/h percorreu 329 km\n",
      "McLaren (Laranja) a 57 km/h percorreu 424 km\n",
      "Bugatti (Azul) a 17 km/h percorreu 174 km\n",
      "\n",
      "\n",
      "Ferrari (Vermelho) a 20 km/h percorreu 234 km\n",
      "Lamborghini (Amarelo) a 45 km/h percorreu 464 km\n",
      "Porsche (Preto) a 39 km/h percorreu 377 km\n",
      "McLaren (Laranja) a 55 km/h percorreu 493 km\n",
      "Bugatti (Azul) a 17 km/h percorreu 197 km\n",
      "\n",
      "\n",
      "Ferrari (Vermelho) a 14 km/h percorreu 262 km\n",
      "Lamborghini (Amarelo) a 53 km/h percorreu 525 km\n",
      "Porsche (Preto) a 39 km/h percorreu 421 km\n",
      "McLaren (Laranja) a 60 km/h percorreu 565 km\n",
      "Bugatti (Azul) a 26 km/h percorreu 234 km\n",
      "\n",
      "\n"
     ]
    }
   ],
   "source": [
    "#Simulando a corrida\n",
    "distancia_corrida = 500 # A corrida termina quando um carro antinge essa distância\n",
    "\n",
    "print(\"Início da Corrida\\n\")\n",
    "\n",
    "while all(carro.distancia_percorrida < distancia_corrida for carro in carros):\n",
    "    for carro in carros:\n",
    "        carro.acelerar()\n",
    "        carro.andar()\n",
    "        carro.frear()\n",
    "        print(carro.status()) # Exibir status atualizado de cada carro\n",
    "    print('\\n')\n",
    "\n",
    "    time.sleep(1.0) # Aguarda 1 segundo entre cada atualização"
   ]
  },
  {
   "cell_type": "code",
   "execution_count": 5,
   "metadata": {},
   "outputs": [
    {
     "name": "stdout",
     "output_type": "stream",
     "text": [
      "O vencedor é McLaren (Laranja que percorreu 565 km\")!\n"
     ]
    }
   ],
   "source": [
    "# Determinar o vencedor\n",
    "vencedor = max(carros, key=lambda carro: carro.distancia_percorrida)\n",
    "print(f'O vencedor é {vencedor.nome} ({vencedor.cor} que percorreu {vencedor.distancia_percorrida} km\")!')"
   ]
  },
  {
   "cell_type": "code",
   "execution_count": null,
   "metadata": {},
   "outputs": [],
   "source": [
    "# Conclusão: Agora temos uma corrida simulada entre 5 carros, onde cada um acelera, anda e freia de forma dinâmica até que um deles vença.\n",
    "# Isto mostra como classes podem ser usadas para criar simulações realistas em Python."
   ]
  }
 ],
 "metadata": {
  "kernelspec": {
   "display_name": "Python 3",
   "language": "python",
   "name": "python3"
  },
  "language_info": {
   "codemirror_mode": {
    "name": "ipython",
    "version": 3
   },
   "file_extension": ".py",
   "mimetype": "text/x-python",
   "name": "python",
   "nbconvert_exporter": "python",
   "pygments_lexer": "ipython3",
   "version": "3.11.5"
  }
 },
 "nbformat": 4,
 "nbformat_minor": 2
}

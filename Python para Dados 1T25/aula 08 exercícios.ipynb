{
 "cells": [
  {
   "cell_type": "code",
   "execution_count": 1,
   "metadata": {},
   "outputs": [],
   "source": [
    "from sqlalchemy import create_engine, Column, Integer, String, ForeignKey\n",
    "from sqlalchemy.ext.declarative import declarative_base\n",
    "from sqlalchemy.orm import relationship, sessionmaker"
   ]
  },
  {
   "cell_type": "code",
   "execution_count": 2,
   "metadata": {},
   "outputs": [
    {
     "name": "stderr",
     "output_type": "stream",
     "text": [
      "C:\\Users\\jfand\\AppData\\Local\\Temp\\ipykernel_18596\\4196137762.py:1: MovedIn20Warning: The ``declarative_base()`` function is now available as sqlalchemy.orm.declarative_base(). (deprecated since: 2.0) (Background on SQLAlchemy 2.0 at: https://sqlalche.me/e/b8d9)\n",
      "  Base = declarative_base()\n"
     ]
    }
   ],
   "source": [
    "Base = declarative_base()"
   ]
  },
  {
   "cell_type": "code",
   "execution_count": 3,
   "metadata": {},
   "outputs": [],
   "source": [
    "#Criar duas classes representando tabelas no banco de dados\n",
    "\n",
    "class Usuario(Base):\n",
    "    __tablename__ = 'usuarios'\n",
    "    id = Column(Integer, primary_key=True)\n",
    "    nome = Column(String)\n",
    "    idade = Column(Integer)\n",
    "    pedidos = relationship('Pedido', back_populates='usuario')\n",
    "\n",
    "class Pedido(Base):\n",
    "    __tablename__ = 'pedidos'\n",
    "    id = Column(Integer, primary_key=True)\n",
    "    descricao = Column(String)\n",
    "    usuario_id = Column(Integer, ForeignKey('usuarios.id'))\n",
    "    usuario = relationship('Usuario', back_populates='pedidos')"
   ]
  },
  {
   "cell_type": "code",
   "execution_count": 4,
   "metadata": {},
   "outputs": [],
   "source": [
    "#Criar um banco de dados SQLite em memória\n",
    "\n",
    "engine = create_engine('sqlite:///:memory:', echo=False)\n",
    "Base.metadata.create_all(engine)\n",
    "\n",
    "#Criar uma sessão para interagir com o banco de dados\n",
    "\n",
    "Session = sessionmaker(bind=engine)\n",
    "session = Session()"
   ]
  },
  {
   "cell_type": "code",
   "execution_count": 5,
   "metadata": {},
   "outputs": [],
   "source": [
    "#Inserir usuarios e pedidos no banco de dados\n",
    "\n",
    "usuario1 = Usuario(nome='João', idade=25)\n",
    "usuario2 = Usuario(nome='Maria', idade=22)\n",
    "\n",
    "pedido1 = Pedido(descricao='Teclado', usuario=usuario1)\n",
    "pedido2 = Pedido(descricao='Mouse', usuario=usuario1)\n",
    "pedido3 = Pedido(descricao='Monitor', usuario=usuario2)\n",
    "\n",
    "session.add_all([usuario1, usuario2, pedido1, pedido2, pedido3])\n",
    "session.commit()"
   ]
  },
  {
   "cell_type": "code",
   "execution_count": 8,
   "metadata": {},
   "outputs": [
    {
     "name": "stdout",
     "output_type": "stream",
     "text": [
      "Usuário: João, 25 anos\n",
      "  Pedido: Teclado\n",
      "  Pedido: Mouse\n",
      "\n",
      "\n",
      "Usuário: Maria, 22 anos\n",
      "  Pedido: Monitor\n",
      "\n",
      "\n"
     ]
    }
   ],
   "source": [
    "#Consultar e exibir todos os usuários e pedidos\n",
    "\n",
    "usuarios = session.query(Usuario).all()\n",
    "for usuario in usuarios:\n",
    "    print(f'Usuário: {usuario.nome}, {usuario.idade} anos')\n",
    "    #Cada usuário pode ter vários pedidos\n",
    "    for pedido in usuario.pedidos:\n",
    "        print(f'  Pedido: {pedido.descricao}')\n",
    "    print('\\n')\n"
   ]
  },
  {
   "cell_type": "code",
   "execution_count": 9,
   "metadata": {},
   "outputs": [],
   "source": [
    "#Atualizar a idade de um usuário\n",
    "\n",
    "usuario = session.query(Usuario).filter_by(nome='João').first()\n",
    "usuario.idade = 26\n",
    "session.commit()\n",
    "\n"
   ]
  },
  {
   "cell_type": "code",
   "execution_count": 10,
   "metadata": {},
   "outputs": [],
   "source": [
    "#Excluir um usuário e seus pedidos associados\n",
    "\n",
    "usuario = session.query(Usuario).filter_by(nome='Maria').first()\n",
    "session.delete(usuario)\n",
    "\n",
    "session.commit()\n"
   ]
  },
  {
   "cell_type": "code",
   "execution_count": 13,
   "metadata": {},
   "outputs": [
    {
     "name": "stdout",
     "output_type": "stream",
     "text": [
      "Pedido: Teclado do usuário João com o id 1\n"
     ]
    }
   ],
   "source": [
    "#Buscar pedidos contendo uma palavra-chave\n",
    "\n",
    "pedidos = session.query(Pedido).filter(Pedido.descricao.like('%Teclado%')).all()\n",
    "for pedido in pedidos:\n",
    "    print(f'Pedido: {pedido.descricao} do usuário {pedido.usuario.nome} com o id {pedido.usuario_id}')"
   ]
  }
 ],
 "metadata": {
  "kernelspec": {
   "display_name": "Python 3",
   "language": "python",
   "name": "python3"
  },
  "language_info": {
   "codemirror_mode": {
    "name": "ipython",
    "version": 3
   },
   "file_extension": ".py",
   "mimetype": "text/x-python",
   "name": "python",
   "nbconvert_exporter": "python",
   "pygments_lexer": "ipython3",
   "version": "3.11.5"
  }
 },
 "nbformat": 4,
 "nbformat_minor": 2
}

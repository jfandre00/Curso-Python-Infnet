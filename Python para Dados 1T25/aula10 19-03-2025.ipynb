{
 "cells": [
  {
   "cell_type": "markdown",
   "metadata": {},
   "source": [
    "### Aula 19-03-2025\n",
    "\n",
    "#### Gerenciamento de erros"
   ]
  },
  {
   "cell_type": "code",
   "execution_count": 1,
   "metadata": {},
   "outputs": [
    {
     "name": "stdout",
     "output_type": "stream",
     "text": [
      "Não é possível dividir por zero\n"
     ]
    }
   ],
   "source": [
    "## Erros comuns - ZeroDivisionError, FileNotFoundError, ValueError, TypeError, KeyError, IndexError, NameError, SyntaxError\n",
    "\n",
    "try:\n",
    "    resultado = 10 / 0 # ZeroDivisionError\n",
    "except ZeroDivisionError:\n",
    "    print(\"Não é possível dividir por zero\")"
   ]
  },
  {
   "cell_type": "code",
   "execution_count": 3,
   "metadata": {},
   "outputs": [],
   "source": [
    "try:\n",
    "    num = int(input(\"Digite um número: \"))\n",
    "    resultado = 10 / num # Pode gerar ZeroDivisionError ou ValueError\n",
    "except ZeroDivisionError:\n",
    "    print(\"Não é possível dividir por zero\")\n",
    "except ValueError:\n",
    "    print(\"Digite um número válido\")\n",
    "except Exception as e:\n",
    "    print(\"Erro inesperado\", e)"
   ]
  },
  {
   "cell_type": "code",
   "execution_count": null,
   "metadata": {},
   "outputs": [
    {
     "name": "stdout",
     "output_type": "stream",
     "text": [
      "O resultado é 0.5555555555555556\n"
     ]
    }
   ],
   "source": [
    "# Usando else para tratar exceções\n",
    "\n",
    "try:\n",
    "    num = int(input(\"Digite um número: \"))\n",
    "    resultado = 10 / num \n",
    "except ZeroDivisionError:\n",
    "    print(\"Não é possível dividir por zero\")\n",
    "except ValueError:\n",
    "    print(\"Digite um número válido\")\n",
    "else: # Só executa se não houver erro\n",
    "    print(f\"O resultado é {resultado}\") # Só executa se não houver erro\n"
   ]
  },
  {
   "cell_type": "code",
   "execution_count": 5,
   "metadata": {},
   "outputs": [
    {
     "name": "stdout",
     "output_type": "stream",
     "text": [
      "Arquivo não encontrado\n"
     ]
    }
   ],
   "source": [
    "#FileNotFoundError\n",
    "\n",
    "try:\n",
    "    with open(\"arquivo.txt\", \"r\") as file:\n",
    "        conteudo = file.read()\n",
    "except FileNotFoundError:\n",
    "    print(\"Arquivo não encontrado\")"
   ]
  },
  {
   "cell_type": "code",
   "execution_count": null,
   "metadata": {},
   "outputs": [
    {
     "name": "stdout",
     "output_type": "stream",
     "text": [
      "Programa continua normalmente\n"
     ]
    }
   ],
   "source": [
    "#Utilizando pass para silenciar falhas\n",
    "# O pass é uma instrução nula, que não faz nada. Pode ser utilizada para silenciar falhas, ignora os erros concientemente\n",
    "\n",
    "try:\n",
    "    resultado = 10 / 0\n",
    "except ZeroDivisionError:\n",
    "    pass # Ignora o erro e segue o fluxo do programa\n",
    "\n",
    "print(\"Programa continua normalmente\")"
   ]
  }
 ],
 "metadata": {
  "kernelspec": {
   "display_name": "Python 3",
   "language": "python",
   "name": "python3"
  },
  "language_info": {
   "codemirror_mode": {
    "name": "ipython",
    "version": 3
   },
   "file_extension": ".py",
   "mimetype": "text/x-python",
   "name": "python",
   "nbconvert_exporter": "python",
   "pygments_lexer": "ipython3",
   "version": "3.11.5"
  }
 },
 "nbformat": 4,
 "nbformat_minor": 2
}

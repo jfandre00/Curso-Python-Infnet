{
 "cells": [
  {
   "cell_type": "markdown",
   "metadata": {},
   "source": [
    "### Projetinho de Web Scraping para pegar letras de música\n"
   ]
  },
  {
   "cell_type": "code",
   "execution_count": 3,
   "metadata": {},
   "outputs": [],
   "source": [
    "from urllib.request import Request, urlopen\n",
    "from bs4 import BeautifulSoup\n",
    "\n",
    "#Alguns sites bloqueiam o acesso de bots, então é necessário simular um navegador\n",
    "#Para isso, é necessário passar um cabeçalho com o user-agent do navegador\n",
    "#O user-agent é uma string que identifica o navegador e o sistema operacional\n",
    "\n",
    "def get_soup(url):\n",
    "    headers = {\n",
    "        'User-Agent': 'Mozilla/5.0', # Simulate a browser\n",
    "        'Referer': 'https://www.google.com' # Diz qual a página de onde veio\n",
    "    }\n",
    "    req = Request(url, headers=headers)\n",
    "    html = urlopen(req).read()\n",
    "    return BeautifulSoup(html, 'html.parser')"
   ]
  },
  {
   "cell_type": "code",
   "execution_count": 10,
   "metadata": {},
   "outputs": [],
   "source": [
    "#1. Coletar títulos e links de músicas de um artista\n",
    "\n",
    "artist_url = 'https://www.letras.mus.br/ana-carolina/'\n",
    "soup = get_soup(artist_url) # Pega o HTML da página e acessamos o artista\n",
    "\n",
    "#Coletar os nomes das músicas mais tocadas e o link para a página da música\n",
    "mais_tocadas_ana = []\n",
    "html_aux = soup.find('ol', class_='cnt-list cnt-list--num artist-songList-content js-song-list')\n",
    "for item in html_aux.find_all('li'):\n",
    "    #print(item.text.strip())\n",
    "    link = 'https://www.letras.mus.br' + item.a['href']\n",
    "    titulo = item.text.strip()\n",
    "    tupla = (titulo, link)\n",
    "    mais_tocadas_ana.append(tupla)\n",
    "\n",
    "\n"
   ]
  },
  {
   "cell_type": "code",
   "execution_count": 11,
   "metadata": {},
   "outputs": [
    {
     "name": "stdout",
     "output_type": "stream",
     "text": [
      "('Quem De Nós Dois (La Mia Storia Tra Le Dita)', 'https://www.letras.mus.br/ana-carolina/1397341/')\n",
      "('Garganta', 'https://www.letras.mus.br/ana-carolina/44123/')\n",
      "('Confesso', 'https://www.letras.mus.br/ana-carolina/confessa/')\n",
      "('Rosas', 'https://www.letras.mus.br/ana-carolina/822662/')\n",
      "('Encostar Na Tua', 'https://www.letras.mus.br/ana-carolina/75723/')\n",
      "('Quem de Nós Dois', 'https://www.letras.mus.br/ana-carolina/44130/')\n",
      "('Uma Louca Tempestade', 'https://www.letras.mus.br/ana-carolina/76008/')\n",
      "('Problemas', 'https://www.letras.mus.br/ana-carolina/1960490/')\n",
      "('Nua', 'https://www.letras.mus.br/ana-carolina/75827/')\n",
      "('Eu Sei Que Vou Te Amar', 'https://www.letras.mus.br/ana-carolina/eu-sei-que-vou-te-amar/')\n",
      "('Nada Pra Mim', 'https://www.letras.mus.br/ana-carolina/44124/')\n",
      "('Ruas de Outono', 'https://www.letras.mus.br/ana-carolina/861120/')\n",
      "('Vai', 'https://www.letras.mus.br/ana-carolina/861123/')\n",
      "('Só de Sacanagem', 'https://www.letras.mus.br/ana-carolina/832783/')\n",
      "('Pra Rua Me Levar', 'https://www.letras.mus.br/ana-carolina/76009/')\n",
      "('É Isso Aí', 'https://www.letras.mus.br/ana-carolina/258918/')\n",
      "('Combustível', 'https://www.letras.mus.br/ana-carolina/combustivel/')\n",
      "('Quem de Nós Dois', 'https://www.letras.mus.br/ana-carolina/454957/')\n",
      "('Medley da Porta', 'https://www.letras.mus.br/ana-carolina/1245870/')\n",
      "('A Canção Tocou Na Hora Errada', 'https://www.letras.mus.br/ana-carolina/44119/')\n"
     ]
    }
   ],
   "source": [
    "for t in mais_tocadas_ana:\n",
    "    print(t)"
   ]
  },
  {
   "cell_type": "code",
   "execution_count": null,
   "metadata": {},
   "outputs": [
    {
     "name": "stdout",
     "output_type": "stream",
     "text": [
      "Eu e você\n",
      "Não é assim tão complicado\n",
      "Não é difícil perceber\n",
      "Quem de nós dois\n",
      "Vai dizer que é impossível\n",
      "O amor acontecer\n",
      "\n",
      "Se eu disser que já nem sinto nada\n",
      "Que a estrada sem você é mais segura\n",
      "Eu sei você vai rir da minha cara\n",
      "Eu já conheço o teu sorriso, leio o teu olhar\n",
      "Teu sorriso é só disfarce\n",
      "Que eu já nem preciso\n",
      "\n",
      "Sinto dizer\n",
      "Que amo mesmo, tá ruim pra disfarçar\n",
      "Entre nós dois\n",
      "Não cabe mais nenhum segredo\n",
      "Além do que já combinamos\n",
      "\n",
      "No vão das coisas que a gente disse\n",
      "Não cabe mais sermos somente amigos\n",
      "E quando eu falo que eu já nem quero\n",
      "A frase fica pelo avesso\n",
      "Meio na contra-mão\n",
      "E quando finjo que esqueço\n",
      "Eu não esqueci nada\n",
      "\n",
      "E cada vez que eu fujo, eu me aproximo mais\n",
      "E te perder de vista assim é ruim demais\n",
      "E é por isso que atravesso o teu futuro\n",
      "E faço das lembranças um lugar seguro\n",
      "\n",
      "Não é que eu queira reviver nenhum passado\n",
      "Nem revirar um sentimento revirado\n",
      "Mas toda vez que eu procuro uma saída\n",
      "Acabo entrando sem querer na sua vida\n",
      "\n",
      "Eu procurei qualquer desculpa pra não te encarar\n",
      "Pra não dizer de novo e sempre a mesma coisa\n",
      "Falar só por falar\n",
      "Que eu já não tô nem aí pra essa conversa\n",
      "Que a história de nós dois não me interessa\n",
      "\n",
      "Se eu tento esconder meias verdades\n",
      "Você conhece o meu sorriso\n",
      "Lê o meu olhar\n",
      "Meu sorriso é só disfarce\n",
      "Que eu já nem preciso\n",
      "\n",
      "E cada vez que eu fujo, eu me aproximo mais\n",
      "E te perder de vista assim é ruim demais\n",
      "E é por isso que atravesso o teu futuro\n",
      "E faço das lembranças um lugar seguro\n",
      "\n",
      "Não é que eu queira reviver nenhum passado\n",
      "Nem revirar um sentimento revirado\n",
      "Mas toda vez que eu procuro uma saída\n",
      "Acabo entrando sem querer na sua vida\n"
     ]
    }
   ],
   "source": [
    "#Coletar a letra de uma música - vamos visitar a página da música e extrair a letra completa\n",
    "def get_lyrics(url):\n",
    "    soup = get_soup(url) # Pega o HTML da página da música e transforma em um objeto\n",
    "    letra_div = soup.find('div', class_='lyric-original')\n",
    "    #print(letra_div.text)\n",
    "\n",
    "    paragrafos = []\n",
    "    for p in letra_div.find_all('p'):\n",
    "        for br in p.find_all('br'): #está procurando a tag <br> dentro do parágrafo\n",
    "            br.replace_with('\\n')\n",
    "        texto = p.text #pega o texto do parágrafo\n",
    "        paragrafos.append(texto) #adiciona o texto na lista de parágrafos\n",
    "    return '\\n\\n'.join(paragrafos) #retorna os parágrafos juntos em uma string, #separados por duas quebras de linha pois é o que o site usa para separar os parágrafos\n",
    "\n",
    "titulo, link = mais_tocadas_ana[0]\n",
    "letra = get_lyrics(link)\n",
    "print(letra)"
   ]
  },
  {
   "cell_type": "code",
   "execution_count": 24,
   "metadata": {},
   "outputs": [
    {
     "data": {
      "text/html": [
       "<div>\n",
       "<style scoped>\n",
       "    .dataframe tbody tr th:only-of-type {\n",
       "        vertical-align: middle;\n",
       "    }\n",
       "\n",
       "    .dataframe tbody tr th {\n",
       "        vertical-align: top;\n",
       "    }\n",
       "\n",
       "    .dataframe thead th {\n",
       "        text-align: right;\n",
       "    }\n",
       "</style>\n",
       "<table border=\"1\" class=\"dataframe\">\n",
       "  <thead>\n",
       "    <tr style=\"text-align: right;\">\n",
       "      <th></th>\n",
       "      <th>titulo</th>\n",
       "      <th>link</th>\n",
       "      <th>letra</th>\n",
       "    </tr>\n",
       "  </thead>\n",
       "  <tbody>\n",
       "    <tr>\n",
       "      <th>0</th>\n",
       "      <td>Quem De Nós Dois (La Mia Storia Tra Le Dita)</td>\n",
       "      <td>https://www.letras.mus.br/ana-carolina/1397341/</td>\n",
       "      <td>Eu e você\\nNão é assim tão complicado\\nNão é d...</td>\n",
       "    </tr>\n",
       "    <tr>\n",
       "      <th>1</th>\n",
       "      <td>Garganta</td>\n",
       "      <td>https://www.letras.mus.br/ana-carolina/44123/</td>\n",
       "      <td>Minha garganta estranha\\nQuando não te vejo\\nM...</td>\n",
       "    </tr>\n",
       "    <tr>\n",
       "      <th>2</th>\n",
       "      <td>Confesso</td>\n",
       "      <td>https://www.letras.mus.br/ana-carolina/confessa/</td>\n",
       "      <td>Confesso, acordei achando tudo indiferente\\nVe...</td>\n",
       "    </tr>\n",
       "    <tr>\n",
       "      <th>3</th>\n",
       "      <td>Rosas</td>\n",
       "      <td>https://www.letras.mus.br/ana-carolina/822662/</td>\n",
       "      <td>Você pode me ver do jeito que quiser\\nEu não v...</td>\n",
       "    </tr>\n",
       "    <tr>\n",
       "      <th>4</th>\n",
       "      <td>Encostar Na Tua</td>\n",
       "      <td>https://www.letras.mus.br/ana-carolina/75723/</td>\n",
       "      <td>Essa música foi removida em razão de solicitaç...</td>\n",
       "    </tr>\n",
       "  </tbody>\n",
       "</table>\n",
       "</div>"
      ],
      "text/plain": [
       "                                         titulo  \\\n",
       "0  Quem De Nós Dois (La Mia Storia Tra Le Dita)   \n",
       "1                                      Garganta   \n",
       "2                                      Confesso   \n",
       "3                                         Rosas   \n",
       "4                               Encostar Na Tua   \n",
       "\n",
       "                                               link  \\\n",
       "0   https://www.letras.mus.br/ana-carolina/1397341/   \n",
       "1     https://www.letras.mus.br/ana-carolina/44123/   \n",
       "2  https://www.letras.mus.br/ana-carolina/confessa/   \n",
       "3    https://www.letras.mus.br/ana-carolina/822662/   \n",
       "4     https://www.letras.mus.br/ana-carolina/75723/   \n",
       "\n",
       "                                               letra  \n",
       "0  Eu e você\\nNão é assim tão complicado\\nNão é d...  \n",
       "1  Minha garganta estranha\\nQuando não te vejo\\nM...  \n",
       "2  Confesso, acordei achando tudo indiferente\\nVe...  \n",
       "3  Você pode me ver do jeito que quiser\\nEu não v...  \n",
       "4  Essa música foi removida em razão de solicitaç...  "
      ]
     },
     "execution_count": 24,
     "metadata": {},
     "output_type": "execute_result"
    }
   ],
   "source": [
    "#4. Montar um DataFrame com várias letras. Coletar título + link + letra de várias músicas e salvar em um DataFrame\n",
    "import pandas as pd\n",
    "\n",
    "data = []\n",
    "for titulo, link in mais_tocadas_ana:\n",
    "    letra = get_lyrics(link)\n",
    "    row = {\n",
    "        'titulo': titulo,\n",
    "        'link': link,\n",
    "        'letra': letra\n",
    "        }\n",
    "    data.append(row)\n",
    "\n",
    "df = pd.DataFrame(data)\n",
    "df.head()"
   ]
  },
  {
   "cell_type": "code",
   "execution_count": 29,
   "metadata": {},
   "outputs": [
    {
     "name": "stdout",
     "output_type": "stream",
     "text": [
      "Estilos musicais\n",
      "Músicas\n",
      "Artistas\n",
      "Álbuns\n",
      "Playlists\n",
      "Blog\n",
      "Treino de pronúncia\n",
      "Aulas rápidas\n",
      "Cursos de idiomas\n",
      "Assinar o Letras\n",
      "Enviar ou corrigir letras e mais\n"
     ]
    }
   ],
   "source": [
    "#6. Capturar as categorias do menu principal do site. Pegar o nome das categorias que aparecem no topo (ex: Artistas, Estilos, etc)\n",
    "# é um menu lateral, que está dentro de nav\n",
    "\n",
    "nav = soup.find(\"nav\", class_=\"asideMenu-nav js-asideMenu-nav\")\n",
    "\n",
    "for a in nav.find_all(\"a\"):\n",
    "    print(a.text.strip())\n"
   ]
  },
  {
   "cell_type": "code",
   "execution_count": null,
   "metadata": {},
   "outputs": [
    {
     "name": "stdout",
     "output_type": "stream",
     "text": [
      "https://akamai.sscdn.co/uploadfile/letras/imagem_destaques/10748_pt_BR_e154c90.jpg\n",
      "https://akamai.sscdn.co/uploadfile/letras/fotos/3/0/8/3/3083b1621a661eee9c2eb4ef9d03daa5-tb5.jpg\n",
      "https://akamai.sscdn.co/uploadfile/letras/fotos/e/d/8/1/ed81d6c11a327c91d479ee057e15a913-tb5.jpg\n",
      "https://akamai.sscdn.co/uploadfile/letras/fotos/2/9/8/6/29866cf1c6051a0f685e358606c5e54a-tb5.jpg\n",
      "data:image/gif;base64,R0lGODlhAQABAAD/ACwAAAAAAQABAAACADs=\n",
      "data:image/gif;base64,R0lGODlhAQABAAD/ACwAAAAAAQABAAACADs=\n",
      "data:image/gif;base64,R0lGODlhAQABAAD/ACwAAAAAAQABAAACADs=\n",
      "data:image/gif;base64,R0lGODlhAQABAAD/ACwAAAAAAQABAAACADs=\n",
      "data:image/gif;base64,R0lGODlhAQABAAD/ACwAAAAAAQABAAACADs=\n",
      "data:image/gif;base64,R0lGODlhAQABAAD/ACwAAAAAAQABAAACADs=\n",
      "data:image/gif;base64,R0lGODlhAQABAAD/ACwAAAAAAQABAAACADs=\n",
      "data:image/gif;base64,R0lGODlhAQABAAD/ACwAAAAAAQABAAACADs=\n",
      "data:image/gif;base64,R0lGODlhAQABAAD/ACwAAAAAAQABAAACADs=\n",
      "data:image/gif;base64,R0lGODlhAQABAAD/ACwAAAAAAQABAAACADs=\n",
      "data:image/gif;base64,R0lGODlhAQABAAD/ACwAAAAAAQABAAACADs=\n",
      "data:image/gif;base64,R0lGODlhAQABAAD/ACwAAAAAAQABAAACADs=\n",
      "data:image/gif;base64,R0lGODlhAQABAAD/ACwAAAAAAQABAAACADs=\n",
      "data:image/gif;base64,R0lGODlhAQABAAD/ACwAAAAAAQABAAACADs=\n",
      "data:image/gif;base64,R0lGODlhAQABAAD/ACwAAAAAAQABAAACADs=\n",
      "data:image/gif;base64,R0lGODlhAQABAAD/ACwAAAAAAQABAAACADs=\n",
      "data:image/gif;base64,R0lGODlhAQABAAD/ACwAAAAAAQABAAACADs=\n",
      "data:image/gif;base64,R0lGODlhAQABAAD/ACwAAAAAAQABAAACADs=\n",
      "data:image/gif;base64,R0lGODlhAQABAAD/ACwAAAAAAQABAAACADs=\n",
      "data:image/gif;base64,R0lGODlhAQABAAD/ACwAAAAAAQABAAACADs=\n",
      "data:image/gif;base64,R0lGODlhAQABAAD/ACwAAAAAAQABAAACADs=\n",
      "data:image/gif;base64,R0lGODlhAQABAAD/ACwAAAAAAQABAAACADs=\n",
      "data:image/gif;base64,R0lGODlhAQABAAD/ACwAAAAAAQABAAACADs=\n",
      "data:image/gif;base64,R0lGODlhAQABAAD/ACwAAAAAAQABAAACADs=\n",
      "data:image/gif;base64,R0lGODlhAQABAAD/ACwAAAAAAQABAAACADs=\n",
      "data:image/gif;base64,R0lGODlhAQABAAD/ACwAAAAAAQABAAACADs=\n",
      "data:image/gif;base64,R0lGODlhAQABAAD/ACwAAAAAAQABAAACADs=\n",
      "data:image/gif;base64,R0lGODlhAQABAAD/ACwAAAAAAQABAAACADs=\n",
      "data:image/gif;base64,R0lGODlhAQABAAD/ACwAAAAAAQABAAACADs=\n",
      "data:image/gif;base64,R0lGODlhAQABAAD/ACwAAAAAAQABAAACADs=\n",
      "data:image/svg+xml,%3Csvg%20xmlns='http://www.w3.org/2000/svg'%20width='100'%20height='56'/%3E\n",
      "data:image/svg+xml,%3Csvg%20xmlns='http://www.w3.org/2000/svg'%20width='100'%20height='56'/%3E\n",
      "data:image/svg+xml,%3Csvg%20xmlns='http://www.w3.org/2000/svg'%20width='100'%20height='56'/%3E\n",
      "data:image/svg+xml,%3Csvg%20xmlns='http://www.w3.org/2000/svg'%20width='100'%20height='56'/%3E\n"
     ]
    }
   ],
   "source": [
    "#7. pegar todas as imagens da home. Listar os links das imagens que aparecem na home do site\n",
    "\n",
    "home_url = 'https://www.letras.mus.br/'\n",
    "soup = get_soup(home_url)\n",
    "\n",
    "imgs = soup.find_all('img')\n",
    "\n",
    "for img in imgs:\n",
    "    print(img['src'])\n"
   ]
  },
  {
   "cell_type": "code",
   "execution_count": 34,
   "metadata": {},
   "outputs": [
    {
     "name": "stdout",
     "output_type": "stream",
     "text": [
      "https://akamai.sscdn.co/uploadfile/letras/imagem_destaques/10748_pt_BR_e154c90.jpg baixado com sucesso\n",
      "https://akamai.sscdn.co/uploadfile/letras/fotos/3/0/8/3/3083b1621a661eee9c2eb4ef9d03daa5-tb5.jpg baixado com sucesso\n",
      "https://akamai.sscdn.co/uploadfile/letras/fotos/e/d/8/1/ed81d6c11a327c91d479ee057e15a913-tb5.jpg baixado com sucesso\n",
      "https://akamai.sscdn.co/uploadfile/letras/fotos/2/9/8/6/29866cf1c6051a0f685e358606c5e54a-tb5.jpg baixado com sucesso\n",
      "data:image/gif;base64,R0lGODlhAQABAAD/ACwAAAAAAQABAAACADs= baixado com sucesso\n",
      "data:image/gif;base64,R0lGODlhAQABAAD/ACwAAAAAAQABAAACADs= baixado com sucesso\n",
      "data:image/gif;base64,R0lGODlhAQABAAD/ACwAAAAAAQABAAACADs= baixado com sucesso\n",
      "data:image/gif;base64,R0lGODlhAQABAAD/ACwAAAAAAQABAAACADs= baixado com sucesso\n",
      "data:image/gif;base64,R0lGODlhAQABAAD/ACwAAAAAAQABAAACADs= baixado com sucesso\n",
      "data:image/gif;base64,R0lGODlhAQABAAD/ACwAAAAAAQABAAACADs= baixado com sucesso\n"
     ]
    }
   ],
   "source": [
    "#8. coletar e salvar localmente as imagens. Acessar a pag principal, coletar todos os img, filtrar os que tem url valida, baixar e salvar com nome organizado e criar uma pasta para salvar as imagens\n",
    "\n",
    "import os\n",
    "import time\n",
    "from urllib.request import urlretrieve\n",
    "\n",
    "os.makedirs('imagens', exist_ok=True)\n",
    "\n",
    "imgs = soup.find_all('img')\n",
    "\n",
    "for k, img in enumerate(imgs[:10]):\n",
    "    src = img['src']\n",
    "    if not src and not src.startswith('http'): #se a url não começa com http, não é uma url válida\n",
    "        continue\n",
    "\n",
    "    ext = os.path.splitext(src)[1]\n",
    "    filename = f'imagens/img_{k}{ext}'\n",
    "\n",
    "    try:\n",
    "        urlretrieve(src, filename)\n",
    "        print(f'{src} baixado com sucesso')\n",
    "        time.sleep(1) #espera 1 segundo para não sobrecarregar o servidor\n",
    "    except:\n",
    "        print(f'Erro ao baixar {src}')\n",
    "\n",
    "\n",
    "\n"
   ]
  },
  {
   "cell_type": "code",
   "execution_count": 38,
   "metadata": {},
   "outputs": [
    {
     "name": "stdout",
     "output_type": "stream",
     "text": [
      "ana-carolina: 248 músicas\n",
      "marisa-monte: 235 músicas\n",
      "caetano-veloso: 720 músicas\n",
      "gilberto-gil: 647 músicas\n",
      "gal-costa: 566 músicas\n",
      "mamonas-assassinas: 43 músicas\n"
     ]
    }
   ],
   "source": [
    "#10. verificar total de músicas por artista\n",
    "artistas = ['ana-carolina', 'marisa-monte', 'caetano-veloso', 'gilberto-gil', 'gal-costa', 'mamonas-assassinas']\n",
    "\n",
    "def contar_musicas_artista(url):\n",
    "    soup = get_soup(url)\n",
    "    container = soup.find('div', class_='cnt-list--alp')\n",
    "    musicas = container.find_all('li')\n",
    "    return len(musicas)\n",
    "\n",
    "for artista in artistas:\n",
    "    url = f'https://www.letras.mus.br/{artista}/'\n",
    "    count = contar_musicas_artista(url)\n",
    "    print(f'{artista}: {count} músicas')\n"
   ]
  },
  {
   "cell_type": "code",
   "execution_count": 40,
   "metadata": {},
   "outputs": [
    {
     "name": "stdout",
     "output_type": "stream",
     "text": [
      "              Artista  Total de músicas  \\\n",
      "0        ana-carolina               248   \n",
      "1        marisa-monte               235   \n",
      "2      caetano-veloso               720   \n",
      "3        gilberto-gil               647   \n",
      "4           gal-costa               566   \n",
      "5  mamonas-assassinas                43   \n",
      "\n",
      "                                  Música mais tocada  \n",
      "0  Quem De Nós Dois (La Mia Storia Tra Le Dita)  ...  \n",
      "1  Depois    Amor I Love You / Citação: Trecho Da...  \n",
      "2  Você Não Me Ensinou a Te Esquecer    Sozinho  ...  \n",
      "3  Palco    Aquele Abraço    Não Chore Mais    Sí...  \n",
      "4  Lágrimas Negras    Palavras No Corpo    Eterna...  \n",
      "5  Pelados Em Santos    1406    Uma Arlinda Mulhe...  \n"
     ]
    }
   ],
   "source": [
    "#11. análise detalhada de artistas musicais\n",
    "\n",
    "dados = []\n",
    "artista = ['ana-carolina', 'marisa-monte', 'caetano-veloso', 'gilberto-gil', 'gal-costa', 'mamonas-assassinas']\n",
    "\n",
    "for nome in artista:\n",
    "    link = f'https://www.letras.mus.br/{nome}/'\n",
    "    soup = get_soup(link)\n",
    "    total = contar_musicas_artista(link)\n",
    "    numero_1 = soup.find('ol', class_='cnt-list cnt-list--num artist-songList-content js-song-list')\n",
    "    dados.append({'Artista': nome, 'Total de músicas': total, 'Música mais tocada': numero_1.text.strip()})\n",
    "\n",
    "df = pd.DataFrame(dados)\n",
    "print(df)"
   ]
  }
 ],
 "metadata": {
  "kernelspec": {
   "display_name": "Python 3",
   "language": "python",
   "name": "python3"
  },
  "language_info": {
   "codemirror_mode": {
    "name": "ipython",
    "version": 3
   },
   "file_extension": ".py",
   "mimetype": "text/x-python",
   "name": "python",
   "nbconvert_exporter": "python",
   "pygments_lexer": "ipython3",
   "version": "3.11.5"
  }
 },
 "nbformat": 4,
 "nbformat_minor": 2
}

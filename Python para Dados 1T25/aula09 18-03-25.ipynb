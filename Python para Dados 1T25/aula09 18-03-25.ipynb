{
 "cells": [
  {
   "cell_type": "markdown",
   "metadata": {},
   "source": [
    "## Exercício 1 Criando a Classe Livro\n",
    "atributos: titulo, autor, ano_publicacao, disponivel (padrao True)"
   ]
  },
  {
   "cell_type": "code",
   "execution_count": 25,
   "metadata": {},
   "outputs": [
    {
     "data": {
      "text/plain": [
       "'Livro: 1984 (1949) - George Orwell, disponível: sim'"
      ]
     },
     "execution_count": 25,
     "metadata": {},
     "output_type": "execute_result"
    }
   ],
   "source": [
    "class Livro ():\n",
    "    def __init__ (self, titulo, autor, ano_publicacao, disponivel=True):\n",
    "        self.titulo = titulo\n",
    "        self.autor = autor\n",
    "        self.ano_publicacao = ano_publicacao\n",
    "        self.disponivel = disponivel\n",
    "\n",
    "    def __str__ (self): #retorna uma string\n",
    "        return f\"{self.titulo} ({self.ano_publicacao})\"\n",
    "\n",
    "    def __repr__(self): #retorna uma representação do objeto\n",
    "        return f\"{self.titulo} ({self.ano_publicacao})\"\n",
    "\n",
    "    def info(self):\n",
    "        return f\"Livro: {self.titulo} ({self.ano_publicacao}) - {self.autor}, disponível: {'sim' if self.disponivel else 'não'}\"\n",
    "\n",
    "\n",
    "l1 = Livro(\"1984\", \"George Orwell\", 1949)\n",
    "l1\n",
    "l1.info()"
   ]
  },
  {
   "cell_type": "code",
   "execution_count": 26,
   "metadata": {},
   "outputs": [
    {
     "data": {
      "text/plain": [
       "'Nenhum livro foi empretado ainda'"
      ]
     },
     "execution_count": 26,
     "metadata": {},
     "output_type": "execute_result"
    }
   ],
   "source": [
    "#Criando a classe Usuario\n",
    "\n",
    "class Usuario():\n",
    "    def __init__ (self, nome, email):\n",
    "        self.nome = nome\n",
    "        self.email = email\n",
    "        self.livros_emprestados = [] #todos os usuários começam com uma lista vazia\n",
    "\n",
    "    def __repr__ (self):\n",
    "        return f\"Usuário: {self.nome} ({self.email}, Livros Emprestados: {self.livros_emprestados if self.livros_emprestados else 'nenhum livro emprestado'})\"\n",
    "    \n",
    "    def historico(self):\n",
    "        if not self.livros_emprestados:\n",
    "            return \"Nenhum livro foi empretado ainda\"\n",
    "        return self.livros_emprestados\n",
    "\n",
    "u1 = Usuario(\"Alice\", \"alice@email.com\")\n",
    "u1\n",
    "u1.historico()"
   ]
  },
  {
   "cell_type": "code",
   "execution_count": 21,
   "metadata": {},
   "outputs": [
    {
     "name": "stdout",
     "output_type": "stream",
     "text": [
      "1984 (1949) adicionado ao catálogo\n",
      "Pai Rico, Pai Pobre (1997) adicionado ao catálogo\n",
      "O Poder do Hábito (2012) adicionado ao catálogo\n",
      "Livro: 1984 (1949) - George Orwell, disponível: sim\n",
      "Livro: Pai Rico, Pai Pobre (1997) - Robert Kiyosaki, disponível: sim\n",
      "Livro: O Poder do Hábito (2012) - Charles Duhigg, disponível: sim\n"
     ]
    }
   ],
   "source": [
    "#Criando a classe Biblioteca\n",
    "\n",
    "class Biblioteca:\n",
    "    def __init__ (self):\n",
    "        self.catalogo = []\n",
    "\n",
    "    def adicionar_livro(self, livro):\n",
    "        self.catalogo.append(livro)\n",
    "        print(f\"{livro} adicionado ao catálogo\")\n",
    "\n",
    "    def listar_livros(self):\n",
    "        if not self.catalogo:\n",
    "            print(\"Nenhum livro cadastrado\")\n",
    "            return\n",
    "        else:\n",
    "            for livro in self.catalogo:\n",
    "                print(livro.info())\n",
    "\n",
    "l2 = Livro(\"Pai Rico, Pai Pobre\", \"Robert Kiyosaki\", 1997)\n",
    "l3 = Livro(\"O Poder do Hábito\", \"Charles Duhigg\", 2012)\n",
    "\n",
    "b1 = Biblioteca()\n",
    "b1.adicionar_livro(l1)\n",
    "b1.adicionar_livro(l2)\n",
    "b1.adicionar_livro(l3)\n",
    "b1.listar_livros()"
   ]
  },
  {
   "cell_type": "code",
   "execution_count": 34,
   "metadata": {},
   "outputs": [
    {
     "name": "stdout",
     "output_type": "stream",
     "text": [
      "1984 (1949) adicionado ao catálogo\n",
      "Pai Rico, Pai Pobre (1997) adicionado ao catálogo\n",
      "O Poder do Hábito (2012) adicionado ao catálogo\n",
      "Livro: 1984 (1949) - George Orwell, disponível: sim\n",
      "Livro: Pai Rico, Pai Pobre (1997) - Robert Kiyosaki, disponível: sim\n",
      "Livro: O Poder do Hábito (2012) - Charles Duhigg, disponível: sim\n",
      "\n",
      "\n",
      "\n",
      "\n",
      "1984 (1949) não está disponível para empréstimo\n",
      "Pai Rico, Pai Pobre (1997) não está disponível para empréstimo\n",
      "O Poder do Hábito (2012) não está disponível para empréstimo\n",
      "None\n",
      "Livro: 1984 (1949) - George Orwell, disponível: sim\n",
      "Livro: Pai Rico, Pai Pobre (1997) - Robert Kiyosaki, disponível: sim\n",
      "Livro: O Poder do Hábito (2012) - Charles Duhigg, disponível: sim\n"
     ]
    }
   ],
   "source": [
    "#4. Implementando o Empréstimo de Livros\n",
    "# adicione um método emprestar_livro(titulo, usuario) à classe Biblioteca\n",
    "# o livro só pode ser emprestado se estiver disponível\n",
    "\n",
    "class Biblioteca:\n",
    "    def __init__ (self):\n",
    "        self.catalogo = []\n",
    "\n",
    "    def adicionar_livro(self, livro):\n",
    "        self.catalogo.append(livro)\n",
    "        print(f\"{livro} adicionado ao catálogo\")\n",
    "\n",
    "    def listar_livros(self):\n",
    "        if not self.catalogo:\n",
    "            print(\"Nenhum livro cadastrado\")\n",
    "            return\n",
    "        else:\n",
    "            for livro in self.catalogo:\n",
    "                print(livro.info())\n",
    "\n",
    "    def emprestar_livro(self, titulo, usuario):\n",
    "        #Verificar se o livro está no catálogo\n",
    "        for livro in self.catalogo: #para cada livro no catálogo\n",
    "            if livro.titulo == titulo and livro.disponivel: #se o título do livro for igual ao título passado e o livro estiver disponível\n",
    "                livro.disponivel = False #muda o status do livro para indisponível pois ele foi emprestado\n",
    "                usuario.livros_emprestados.append(livro.titulo) #adiciona o livro à lista de livros emprestados do usuário\n",
    "                print(f\"{livro} emprestado para {usuario.nome}\") \n",
    "            else:\n",
    "                print(f\"{livro} não está disponível para empréstimo\")\n",
    "\n",
    "l2 = Livro(\"Pai Rico, Pai Pobre\", \"Robert Kiyosaki\", 1997)\n",
    "l3 = Livro(\"O Poder do Hábito\", \"Charles Duhigg\", 2012)\n",
    "\n",
    "b1 = Biblioteca()\n",
    "b1.adicionar_livro(l1)\n",
    "b1.adicionar_livro(l2)\n",
    "b1.adicionar_livro(l3)\n",
    "b1.listar_livros()\n",
    "\n",
    "u1 = Usuario(\"Alice\", \"alice@alice.com\")\n",
    "u2 = Usuario(\"Bob\", \"bob@.com\")\n",
    "u3 = Usuario(\"Charlie\", \"charlie@.com\")\n",
    "\n",
    "# testar o emprestar_livro\n",
    "print(\"\\n\")\n",
    "print(\"\\n\")\n",
    "print(b1.emprestar_livro(l2, u1))\n",
    "\n",
    "b1.listar_livros()\n",
    "\n",
    "\n",
    "\n"
   ]
  },
  {
   "cell_type": "code",
   "execution_count": 37,
   "metadata": {},
   "outputs": [
    {
     "name": "stdout",
     "output_type": "stream",
     "text": [
      "Python Fluente (2015)\n",
      "Livro: Python Fluente (2015) - Luciano Ramalho, disponível: sim - Formato: PDF\n"
     ]
    }
   ],
   "source": [
    "#5. Criando uma Clase Especializada (LivroDigital)\n",
    "\n",
    "class LivroDigital(Livro):\n",
    "    def __init__ (self, titulo, autor, ano_publicacao, formato):\n",
    "        super().__init__(titulo, autor, ano_publicacao) # esses são os atributos da classe Livro que foram herdados da classe Livro\n",
    "        self.formato = formato\n",
    "\n",
    "    def info(self):\n",
    "        return f\"{super().info()} - Formato: {self.formato}\"\n",
    "\n",
    "    \n",
    "ld = LivroDigital(\"Python Fluente\", \"Luciano Ramalho\", 2015, \"PDF\")\n",
    "print(ld) #retorna o título e o ano de publicação pois herda o método __str__ da classe Livro\n",
    "print(ld.info()) #retorna o título, o ano de publicação, o autor e o formato do livro digital"
   ]
  },
  {
   "cell_type": "code",
   "execution_count": null,
   "metadata": {},
   "outputs": [
    {
     "name": "stdout",
     "output_type": "stream",
     "text": [
      "A Volta dos Que Não Foram (2020) adicionado ao catálogo\n",
      "A Volta dos Que Não Foram (2020) emprestado para Alice\n",
      "\n",
      "\n",
      "\n",
      "Livro: A Volta dos Que Não Foram (2020) - Zé Ruela, disponível: não\n",
      "A Volta dos Que Não Foram devolvido por Alice para a biblioteca\n",
      "\n",
      "\n",
      "\n"
     ]
    }
   ],
   "source": [
    "#6. Devolução de Livros - adicione um método devolver_livro(titulo, usuario) à classe Biblioteca\n",
    "# o livro só pode ser devolvido se estiver emprestado\n",
    "\n",
    "class Biblioteca:\n",
    "    def __init__ (self):\n",
    "        self.catalogo = []\n",
    "\n",
    "    def adicionar_livro(self, livro):\n",
    "        self.catalogo.append(livro)\n",
    "        print(f\"{livro} adicionado ao catálogo\")\n",
    "\n",
    "    def listar_livros(self):\n",
    "        if not self.catalogo:\n",
    "            print(\"Nenhum livro cadastrado\")\n",
    "            return\n",
    "        else:\n",
    "            for livro in self.catalogo:\n",
    "                print(f\"{livro.info()}\")\n",
    "\n",
    "    def emprestar_livro(self, titulo, usuario):\n",
    "        for livro in self.catalogo: \n",
    "            if livro.titulo == titulo and livro.disponivel:\n",
    "                livro.disponivel = False \n",
    "                usuario.livros_emprestados.append(livro.titulo) \n",
    "                return f\"{livro} emprestado para {usuario.nome}\"\n",
    "        return f\"{titulo} não está disponível para empréstimo\"\n",
    "\n",
    "    def devolver_livro(self, titulo, usuario):\n",
    "        for livro in self.catalogo:\n",
    "            if livro.titulo == titulo and not livro.disponivel and titulo in usuario.livros_emprestados:\n",
    "                livro.disponivel = True\n",
    "                usuario.livros_emprestados.remove(livro.titulo)\n",
    "                return f\"{titulo} devolvido por {usuario.nome} para a biblioteca\"\n",
    "        return \"Erro na devolução.\"\n",
    "    \n",
    "biblio = Biblioteca()\n",
    "u1 = Usuario(\"Alice\", \"alice@email.com\")\n",
    "l1 = Livro(\"A Volta dos Que Não Foram\", \"Zé Ruela\", 2020)\n",
    "\n",
    "biblio.adicionar_livro(l1)\n",
    "\n",
    "#emprestar livro\n",
    "print(biblio.emprestar_livro(l1.titulo, u1))\n",
    "print('\\n\\n')\n",
    "biblio.listar_livros()\n",
    "print(biblio.devolver_livro(l1.titulo, u1))\n",
    "\n",
    "print('\\n\\n')\n",
    "biblio.listar_livros()\n"
   ]
  },
  {
   "cell_type": "code",
   "execution_count": 45,
   "metadata": {},
   "outputs": [
    {
     "name": "stdout",
     "output_type": "stream",
     "text": [
      "A Volta dos Que Não Foram (1969) adicionado ao catálogo\n",
      "Pai Pobre, Pai Favelado (2020) adicionado ao catálogo\n",
      "Senhor dos Anéis (1954) adicionado ao catálogo\n",
      "Bebendo para ficar rico (2025) adicionado ao catálogo\n",
      "['Livro: Pai Pobre, Pai Favelado (2020) - Maneco do Butikim, disponível: sim', 'Livro: Bebendo para ficar rico (2025) - Bussetilda, disponível: sim']\n"
     ]
    }
   ],
   "source": [
    "#Modifique a classe livro para incluir um atributo categoria\n",
    "\n",
    "class Livro ():\n",
    "    def __init__ (self, titulo, autor, ano_publicacao, categoria, disponivel=True):\n",
    "        self.titulo = titulo\n",
    "        self.autor = autor\n",
    "        self.ano_publicacao = ano_publicacao\n",
    "        self.categoria = categoria\n",
    "        self.disponivel = disponivel\n",
    "\n",
    "    def __str__ (self): #retorna uma string\n",
    "        return f\"{self.titulo} ({self.ano_publicacao})\"\n",
    "\n",
    "    def __repr__(self): #retorna uma representação do objeto\n",
    "        return f\"{self.titulo} ({self.ano_publicacao})\"\n",
    "\n",
    "    def info(self):\n",
    "        return f\"Livro: {self.titulo} ({self.ano_publicacao}) - {self.autor}, disponível: {'sim' if self.disponivel else 'não'}\"\n",
    "\n",
    "\n",
    "class Biblioteca:\n",
    "    def __init__ (self):\n",
    "        self.catalogo = []\n",
    "\n",
    "    def adicionar_livro(self, livro):\n",
    "        self.catalogo.append(livro)\n",
    "        print(f\"{livro} adicionado ao catálogo\")\n",
    "\n",
    "    def filtrar_por_categoria(self, categoria):\n",
    "        return [livro.info() for livro in self.catalogo if livro.categoria.lower() == categoria.lower()]\n",
    "    \n",
    "biblio = Biblioteca()\n",
    "l1 = Livro(\"A Volta dos Que Não Foram\", \"Zézinho Metelão\", 1969, \"baboseira\")\n",
    "l2 = Livro(\"Pai Pobre, Pai Favelado\", \"Maneco do Butikim\", 2020, \"cachaça\")\n",
    "l3 = Livro(\"Senhor dos Anéis\", \"J. Tokien\", 1954, \"Ficção\")\n",
    "l4 = Livro(\"Bebendo para ficar rico\", \"Bussetilda\", 2025, \"cachaça\")\n",
    "\n",
    "biblio.adicionar_livro(l1)\n",
    "biblio.adicionar_livro(l2)\n",
    "biblio.adicionar_livro(l3)\n",
    "biblio.adicionar_livro(l4)\n",
    "\n",
    "print(biblio.filtrar_por_categoria(\"Cachaça\"))\n",
    "\n"
   ]
  }
 ],
 "metadata": {
  "kernelspec": {
   "display_name": "Python 3",
   "language": "python",
   "name": "python3"
  },
  "language_info": {
   "codemirror_mode": {
    "name": "ipython",
    "version": 3
   },
   "file_extension": ".py",
   "mimetype": "text/x-python",
   "name": "python",
   "nbconvert_exporter": "python",
   "pygments_lexer": "ipython3",
   "version": "3.11.5"
  }
 },
 "nbformat": 4,
 "nbformat_minor": 2
}

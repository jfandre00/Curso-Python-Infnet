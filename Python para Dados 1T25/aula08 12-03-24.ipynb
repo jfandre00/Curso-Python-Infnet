{
 "cells": [
  {
   "cell_type": "code",
   "execution_count": 55,
   "metadata": {},
   "outputs": [
    {
     "name": "stdout",
     "output_type": "stream",
     "text": [
      "Requirement already satisfied: sqlalchemy in c:\\users\\jfand\\appdata\\local\\programs\\python\\python311\\lib\\site-packages (2.0.38)\n",
      "Requirement already satisfied: greenlet!=0.4.17 in c:\\users\\jfand\\appdata\\local\\programs\\python\\python311\\lib\\site-packages (from sqlalchemy) (3.1.1)\n",
      "Requirement already satisfied: typing-extensions>=4.6.0 in c:\\users\\jfand\\appdata\\local\\programs\\python\\python311\\lib\\site-packages (from sqlalchemy) (4.12.2)\n",
      "Note: you may need to restart the kernel to use updated packages.\n"
     ]
    }
   ],
   "source": [
    "pip install sqlalchemy"
   ]
  },
  {
   "cell_type": "code",
   "execution_count": 1,
   "metadata": {},
   "outputs": [],
   "source": [
    "#Criando a conexão com o banco de dados\n",
    "#O primeiro passo no SQLAlchemy é criar uma conexão com o banco de dados.\n",
    "\n",
    "from sqlalchemy import create_engine\n",
    "\n",
    "#Criando a conexão com o banco SQLite\n",
    "\n",
    "engine = create_engine('sqlite:///banco_exemplo.db', echo=True)\n",
    "\n",
    "#O que são essas 3 barras?\n",
    "#Essas 3 barras são uma forma de dizer para o SQLAlchemy que queremos usar um banco de dados SQLite.\n",
    "#Aonde o arquivo do banco de dados será criado?\n",
    "#O arquivo do banco de dados será criado no mesmo diretório que o script está sendo executado."
   ]
  },
  {
   "cell_type": "code",
   "execution_count": 2,
   "metadata": {},
   "outputs": [],
   "source": [
    "#Criando uma Classe Base\n",
    "\n",
    "#O SQLAlchemy usa classes Python para representar tabelas em um banco de dados.\n",
    "\n",
    "from sqlalchemy.orm import declarative_base\n",
    "\n",
    "#Criando a base para o ORM\n",
    "Base = declarative_base() #cria uma base para todas as tabelas do banco.\n"
   ]
  },
  {
   "cell_type": "code",
   "execution_count": 3,
   "metadata": {},
   "outputs": [],
   "source": [
    "#Definindo a estrutura da tabela\n",
    "\n",
    "from sqlalchemy import Column, Integer, String\n",
    "\n",
    "class Usuario(Base):\n",
    "    __tablename__ = 'usuarios' #Nome da tabela no banco de dados\n",
    "\n",
    "    id = Column(Integer, primary_key=True) #Chave primária\n",
    "    nome = Column(String, nullable=False) #Nome não pode ser nulo\n",
    "    idade = Column(Integer, nullable=False) #Idade não pode ser nula\n",
    "\n",
    "    def __repr__(self):\n",
    "        return f'Usuario(id={self.id}, nome={self.nome}, idade={self.idade})'\n"
   ]
  },
  {
   "cell_type": "code",
   "execution_count": 4,
   "metadata": {},
   "outputs": [
    {
     "name": "stdout",
     "output_type": "stream",
     "text": [
      "2025-03-12 20:24:19,606 INFO sqlalchemy.engine.Engine BEGIN (implicit)\n",
      "2025-03-12 20:24:19,607 INFO sqlalchemy.engine.Engine PRAGMA main.table_info(\"usuarios\")\n",
      "2025-03-12 20:24:19,608 INFO sqlalchemy.engine.Engine [raw sql] ()\n",
      "2025-03-12 20:24:19,610 INFO sqlalchemy.engine.Engine PRAGMA temp.table_info(\"usuarios\")\n",
      "2025-03-12 20:24:19,612 INFO sqlalchemy.engine.Engine [raw sql] ()\n",
      "2025-03-12 20:24:19,614 INFO sqlalchemy.engine.Engine \n",
      "CREATE TABLE usuarios (\n",
      "\tid INTEGER NOT NULL, \n",
      "\tnome VARCHAR NOT NULL, \n",
      "\tidade INTEGER NOT NULL, \n",
      "\tPRIMARY KEY (id)\n",
      ")\n",
      "\n",
      "\n",
      "2025-03-12 20:24:19,616 INFO sqlalchemy.engine.Engine [no key 0.00253s] ()\n",
      "2025-03-12 20:24:19,624 INFO sqlalchemy.engine.Engine COMMIT\n"
     ]
    }
   ],
   "source": [
    "#Criando as Tabelas no banco de dados\n",
    "\n",
    "Base.metadata.create_all(engine) #Cria as tabelas no banco de dados.\n",
    "\n",
    "#O SQLAlchemy verifica se a tabela já existe no banco de dados e, se não existir, a cria automaticamente.\n"
   ]
  },
  {
   "cell_type": "code",
   "execution_count": 5,
   "metadata": {},
   "outputs": [],
   "source": [
    "#Criando uma Sessão para Manipular o Banco\n",
    "\n",
    "from sqlalchemy.orm import sessionmaker\n",
    "\n",
    "#Criando uma fábrica de sessões\n",
    "Session = sessionmaker(bind=engine) \n",
    "\n",
    "#Criando uma sessão a partir da fábrica\n",
    "session = Session() \n",
    "\n",
    "#Agora temos uma sessão que podemos usar para manipular o banco de dados.\n",
    "\n"
   ]
  },
  {
   "cell_type": "code",
   "execution_count": null,
   "metadata": {},
   "outputs": [
    {
     "name": "stdout",
     "output_type": "stream",
     "text": [
      "2025-03-12 20:16:01,410 INFO sqlalchemy.engine.Engine BEGIN (implicit)\n",
      "2025-03-12 20:16:01,412 INFO sqlalchemy.engine.Engine INSERT INTO usuarios (nome, idade) VALUES (?, ?)\n",
      "2025-03-12 20:16:01,412 INFO sqlalchemy.engine.Engine [generated in 0.00065s] ('João', 25)\n",
      "2025-03-12 20:16:01,422 INFO sqlalchemy.engine.Engine COMMIT\n"
     ]
    }
   ],
   "source": [
    "#Adicionando Registros ao Banco\n",
    "\n",
    "#Criando um novo usuário\n",
    "usuario = Usuario(nome='João', idade=25)\n",
    "\n",
    "#Adicionando à sessão\n",
    "session.add(usuario)\n",
    "\n",
    "#Salvando no banco\n",
    "session.commit()"
   ]
  },
  {
   "cell_type": "code",
   "execution_count": 33,
   "metadata": {},
   "outputs": [
    {
     "name": "stdout",
     "output_type": "stream",
     "text": [
      "2025-03-12 20:16:03,720 INFO sqlalchemy.engine.Engine BEGIN (implicit)\n",
      "2025-03-12 20:16:03,721 INFO sqlalchemy.engine.Engine SELECT usuarios.id AS usuarios_id, usuarios.nome AS usuarios_nome, usuarios.idade AS usuarios_idade \n",
      "FROM usuarios \n",
      "WHERE usuarios.nome = ?\n",
      " LIMIT ? OFFSET ?\n",
      "2025-03-12 20:16:03,723 INFO sqlalchemy.engine.Engine [generated in 0.00101s] ('João', 1, 0)\n",
      "1 João 25\n"
     ]
    }
   ],
   "source": [
    "#Consultando Registros no Banco\n",
    "#Vamos buscar um usuário pelo nome\n",
    "\n",
    "#Consultando um usuário pelo nome João\n",
    "usuario = session.query(Usuario).filter_by(nome='João').first()\n",
    "print(usuario.id, usuario.nome, usuario.idade)"
   ]
  },
  {
   "cell_type": "code",
   "execution_count": 34,
   "metadata": {},
   "outputs": [
    {
     "name": "stdout",
     "output_type": "stream",
     "text": [
      "Usuario(id=1, nome=João, idade=25)\n"
     ]
    }
   ],
   "source": [
    "#Usando a função __repr__\n",
    "\n",
    "print(usuario)"
   ]
  },
  {
   "cell_type": "code",
   "execution_count": 35,
   "metadata": {},
   "outputs": [
    {
     "name": "stdout",
     "output_type": "stream",
     "text": [
      "2025-03-12 20:16:11,422 INFO sqlalchemy.engine.Engine UPDATE usuarios SET idade=? WHERE usuarios.id = ?\n",
      "2025-03-12 20:16:11,423 INFO sqlalchemy.engine.Engine [generated in 0.00129s] (50, 1)\n",
      "2025-03-12 20:16:11,434 INFO sqlalchemy.engine.Engine COMMIT\n"
     ]
    }
   ],
   "source": [
    "# Atualizando Registros no Banco\n",
    "\n",
    "#Alterando a idade do usuário João\n",
    "usuario.idade = 50\n",
    "\n",
    "#Salvando a alteração no banco\n",
    "session.commit()\n",
    "\n",
    "#Deletando Registros no Banco"
   ]
  },
  {
   "cell_type": "code",
   "execution_count": 36,
   "metadata": {},
   "outputs": [
    {
     "name": "stdout",
     "output_type": "stream",
     "text": [
      "2025-03-12 20:16:13,672 INFO sqlalchemy.engine.Engine BEGIN (implicit)\n",
      "2025-03-12 20:16:13,673 INFO sqlalchemy.engine.Engine SELECT usuarios.id AS usuarios_id, usuarios.nome AS usuarios_nome, usuarios.idade AS usuarios_idade \n",
      "FROM usuarios \n",
      "WHERE usuarios.id = ?\n",
      "2025-03-12 20:16:13,675 INFO sqlalchemy.engine.Engine [generated in 0.00102s] (1,)\n"
     ]
    },
    {
     "data": {
      "text/plain": [
       "Usuario(id=1, nome=João, idade=50)"
      ]
     },
     "execution_count": 36,
     "metadata": {},
     "output_type": "execute_result"
    }
   ],
   "source": [
    "usuario # Usuário João"
   ]
  },
  {
   "cell_type": "code",
   "execution_count": 37,
   "metadata": {},
   "outputs": [
    {
     "name": "stdout",
     "output_type": "stream",
     "text": [
      "2025-03-12 20:16:16,662 INFO sqlalchemy.engine.Engine DELETE FROM usuarios WHERE usuarios.id = ?\n",
      "2025-03-12 20:16:16,663 INFO sqlalchemy.engine.Engine [generated in 0.00210s] (1,)\n",
      "2025-03-12 20:16:16,677 INFO sqlalchemy.engine.Engine COMMIT\n"
     ]
    }
   ],
   "source": [
    "#Removendo um Registro do Banco\n",
    "\n",
    "session.delete(usuario)\n",
    "\n",
    "#Salvando a alteração no banco\n",
    "session.commit()\n",
    "\n"
   ]
  },
  {
   "cell_type": "code",
   "execution_count": 38,
   "metadata": {},
   "outputs": [
    {
     "name": "stdout",
     "output_type": "stream",
     "text": [
      "2025-03-12 20:16:20,078 INFO sqlalchemy.engine.Engine BEGIN (implicit)\n",
      "2025-03-12 20:16:20,079 INFO sqlalchemy.engine.Engine SELECT usuarios.id AS usuarios_id, usuarios.nome AS usuarios_nome, usuarios.idade AS usuarios_idade \n",
      "FROM usuarios \n",
      "WHERE usuarios.nome = ?\n",
      " LIMIT ? OFFSET ?\n",
      "2025-03-12 20:16:20,080 INFO sqlalchemy.engine.Engine [cached since 16.36s ago] ('João', 1, 0)\n",
      "None\n"
     ]
    }
   ],
   "source": [
    "#Confirmar a remoção\n",
    "\n",
    "#Consultando o usuário João\n",
    "usuario = session.query(Usuario).filter_by(nome='João').first()\n",
    "print(usuario)"
   ]
  },
  {
   "cell_type": "code",
   "execution_count": 44,
   "metadata": {},
   "outputs": [
    {
     "name": "stdout",
     "output_type": "stream",
     "text": [
      "2025-03-12 20:19:55,356 INFO sqlalchemy.engine.Engine SELECT usuarios.id AS usuarios_id, usuarios.nome AS usuarios_nome, usuarios.idade AS usuarios_idade \n",
      "FROM usuarios\n",
      "2025-03-12 20:19:55,357 INFO sqlalchemy.engine.Engine [cached since 165.8s ago] ()\n"
     ]
    }
   ],
   "source": [
    "# tem como fazer um select * from usuarios\n",
    "\n",
    "#Consultando todos os usuários\n",
    "\n",
    "usuarios = session.query(Usuario).all()"
   ]
  },
  {
   "cell_type": "code",
   "execution_count": 6,
   "metadata": {},
   "outputs": [
    {
     "name": "stdout",
     "output_type": "stream",
     "text": [
      "2025-03-12 20:24:33,719 INFO sqlalchemy.engine.Engine BEGIN (implicit)\n",
      "2025-03-12 20:24:33,727 INFO sqlalchemy.engine.Engine INSERT INTO usuarios (nome, idade) VALUES (?, ?) RETURNING id\n",
      "2025-03-12 20:24:33,728 INFO sqlalchemy.engine.Engine [generated in 0.00021s (insertmanyvalues) 1/5 (ordered; batch not supported)] ('Maria', 30)\n",
      "2025-03-12 20:24:33,732 INFO sqlalchemy.engine.Engine INSERT INTO usuarios (nome, idade) VALUES (?, ?) RETURNING id\n",
      "2025-03-12 20:24:33,736 INFO sqlalchemy.engine.Engine [insertmanyvalues 2/5 (ordered; batch not supported)] ('José', 40)\n",
      "2025-03-12 20:24:33,738 INFO sqlalchemy.engine.Engine INSERT INTO usuarios (nome, idade) VALUES (?, ?) RETURNING id\n",
      "2025-03-12 20:24:33,741 INFO sqlalchemy.engine.Engine [insertmanyvalues 3/5 (ordered; batch not supported)] ('Ana', 35)\n",
      "2025-03-12 20:24:33,743 INFO sqlalchemy.engine.Engine INSERT INTO usuarios (nome, idade) VALUES (?, ?) RETURNING id\n",
      "2025-03-12 20:24:33,743 INFO sqlalchemy.engine.Engine [insertmanyvalues 4/5 (ordered; batch not supported)] ('Pedro', 22)\n",
      "2025-03-12 20:24:33,744 INFO sqlalchemy.engine.Engine INSERT INTO usuarios (nome, idade) VALUES (?, ?) RETURNING id\n",
      "2025-03-12 20:24:33,745 INFO sqlalchemy.engine.Engine [insertmanyvalues 5/5 (ordered; batch not supported)] ('Paula', 28)\n",
      "2025-03-12 20:24:33,746 INFO sqlalchemy.engine.Engine COMMIT\n",
      "2025-03-12 20:24:33,756 INFO sqlalchemy.engine.Engine BEGIN (implicit)\n",
      "2025-03-12 20:24:33,759 INFO sqlalchemy.engine.Engine SELECT usuarios.id AS usuarios_id, usuarios.nome AS usuarios_nome, usuarios.idade AS usuarios_idade \n",
      "FROM usuarios\n",
      "2025-03-12 20:24:33,760 INFO sqlalchemy.engine.Engine [generated in 0.00124s] ()\n",
      "Usuario(id=1, nome=Maria, idade=30)\n",
      "Usuario(id=2, nome=José, idade=40)\n",
      "Usuario(id=3, nome=Ana, idade=35)\n",
      "Usuario(id=4, nome=Pedro, idade=22)\n",
      "Usuario(id=5, nome=Paula, idade=28)\n"
     ]
    }
   ],
   "source": [
    "#Vamos inserir 5 usuários no banco de dados\n",
    "\n",
    "#Criando 5 usuários\n",
    "\n",
    "usuarios = [\n",
    "    Usuario(nome='Maria', idade=30),\n",
    "    Usuario(nome='José', idade=40),\n",
    "    Usuario(nome='Ana', idade=35),\n",
    "    Usuario(nome='Pedro', idade=22),\n",
    "    Usuario(nome='Paula', idade=28)\n",
    "]\n",
    "\n",
    "#Adicionando os usuários à sessão\n",
    "\n",
    "session.add_all(usuarios)\n",
    "\n",
    "#Salvando no banco\n",
    "\n",
    "session.commit()\n",
    "\n",
    "#Consultando todos os usuários\n",
    "\n",
    "usuarios = session.query(Usuario).all()\n",
    "\n",
    "for usuario in usuarios:\n",
    "    print(usuario)"
   ]
  },
  {
   "cell_type": "code",
   "execution_count": 8,
   "metadata": {},
   "outputs": [
    {
     "name": "stdout",
     "output_type": "stream",
     "text": [
      "2025-03-12 20:24:45,705 INFO sqlalchemy.engine.Engine SELECT usuarios.id AS usuarios_id, usuarios.nome AS usuarios_nome, usuarios.idade AS usuarios_idade \n",
      "FROM usuarios\n",
      "2025-03-12 20:24:45,707 INFO sqlalchemy.engine.Engine [cached since 11.95s ago] ()\n",
      "Usuario(id=1, nome=Maria, idade=30)\n",
      "Usuario(id=2, nome=José, idade=40)\n",
      "Usuario(id=3, nome=Ana, idade=35)\n",
      "Usuario(id=4, nome=Pedro, idade=22)\n",
      "Usuario(id=5, nome=Paula, idade=28)\n"
     ]
    }
   ],
   "source": [
    "#Consultando todos os usuários\n",
    "\n",
    "usuarios = session.query(Usuario).all()\n",
    "for usuario in usuarios:\n",
    "    print(usuario)"
   ]
  }
 ],
 "metadata": {
  "kernelspec": {
   "display_name": "Python 3",
   "language": "python",
   "name": "python3"
  },
  "language_info": {
   "codemirror_mode": {
    "name": "ipython",
    "version": 3
   },
   "file_extension": ".py",
   "mimetype": "text/x-python",
   "name": "python",
   "nbconvert_exporter": "python",
   "pygments_lexer": "ipython3",
   "version": "3.11.5"
  }
 },
 "nbformat": 4,
 "nbformat_minor": 2
}

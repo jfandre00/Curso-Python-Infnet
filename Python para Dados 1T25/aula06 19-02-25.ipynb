{
 "cells": [
  {
   "cell_type": "markdown",
   "metadata": {},
   "source": [
    "## Análise de Reviews de Filmes com Pandas\n",
    "\n",
    "Este notebook utiliza o dataset `IMDB Dataset of 50K Movie Reviews` para analisar e manipular reviews de filmes usando funções avançadas do Pandas\n",
    "\n",
    "O objetivo é realizar transformações textuais, análises exploratórias e responder a diversas perguntas básicas nos dados.\n"
   ]
  },
  {
   "cell_type": "markdown",
   "metadata": {},
   "source": [
    "## Importando Bibliotecas e Carregando os Dados"
   ]
  },
  {
   "cell_type": "code",
   "execution_count": 6,
   "metadata": {},
   "outputs": [
    {
     "data": {
      "text/html": [
       "<div>\n",
       "<style scoped>\n",
       "    .dataframe tbody tr th:only-of-type {\n",
       "        vertical-align: middle;\n",
       "    }\n",
       "\n",
       "    .dataframe tbody tr th {\n",
       "        vertical-align: top;\n",
       "    }\n",
       "\n",
       "    .dataframe thead th {\n",
       "        text-align: right;\n",
       "    }\n",
       "</style>\n",
       "<table border=\"1\" class=\"dataframe\">\n",
       "  <thead>\n",
       "    <tr style=\"text-align: right;\">\n",
       "      <th></th>\n",
       "      <th>review</th>\n",
       "      <th>sentiment</th>\n",
       "    </tr>\n",
       "  </thead>\n",
       "  <tbody>\n",
       "    <tr>\n",
       "      <th>0</th>\n",
       "      <td>One of the other reviewers has mentioned that ...</td>\n",
       "      <td>positive</td>\n",
       "    </tr>\n",
       "    <tr>\n",
       "      <th>1</th>\n",
       "      <td>A wonderful little production. &lt;br /&gt;&lt;br /&gt;The...</td>\n",
       "      <td>positive</td>\n",
       "    </tr>\n",
       "    <tr>\n",
       "      <th>2</th>\n",
       "      <td>I thought this was a wonderful way to spend ti...</td>\n",
       "      <td>positive</td>\n",
       "    </tr>\n",
       "    <tr>\n",
       "      <th>3</th>\n",
       "      <td>Basically there's a family where a little boy ...</td>\n",
       "      <td>negative</td>\n",
       "    </tr>\n",
       "    <tr>\n",
       "      <th>4</th>\n",
       "      <td>Petter Mattei's \"Love in the Time of Money\" is...</td>\n",
       "      <td>positive</td>\n",
       "    </tr>\n",
       "  </tbody>\n",
       "</table>\n",
       "</div>"
      ],
      "text/plain": [
       "                                              review sentiment\n",
       "0  One of the other reviewers has mentioned that ...  positive\n",
       "1  A wonderful little production. <br /><br />The...  positive\n",
       "2  I thought this was a wonderful way to spend ti...  positive\n",
       "3  Basically there's a family where a little boy ...  negative\n",
       "4  Petter Mattei's \"Love in the Time of Money\" is...  positive"
      ]
     },
     "execution_count": 6,
     "metadata": {},
     "output_type": "execute_result"
    }
   ],
   "source": [
    "import pandas as pd\n",
    "\n",
    "# Carregar os dados\n",
    "file_path = 'data/IMDB Dataset.csv'\n",
    "df = pd.read_csv(file_path)\n",
    "df.head()"
   ]
  },
  {
   "cell_type": "markdown",
   "metadata": {},
   "source": [
    "### Exploração Inicial dos Dados"
   ]
  },
  {
   "cell_type": "code",
   "execution_count": null,
   "metadata": {},
   "outputs": [
    {
     "data": {
      "text/plain": [
       "\"One of the other reviewers has mentioned that after watching just 1 Oz episode you'll be hooked. They are right, as this is exactly what happened with me.<br /><br />The first thing that struck me about Oz was its brutality and unflinching scenes of violence, which set in right from the word GO. Trust me, this is not a show for the faint hearted or timid. This show pulls no punches with regards to drugs, sex or violence. Its is hardcore, in the classic use of the word.<br /><br />It is called OZ as that is the nickname given to the Oswald Maximum Security State Penitentary. It focuses mainly on Emerald City, an experimental section of the prison where all the cells have glass fronts and face inwards, so privacy is not high on the agenda. Em City is home to many..Aryans, Muslims, gangstas, Latinos, Christians, Italians, Irish and more....so scuffles, death stares, dodgy dealings and shady agreements are never far away.<br /><br />I would say the main appeal of the show is due to the fact that it goes where other shows wouldn't dare. Forget pretty pictures painted for mainstream audiences, forget charm, forget romance...OZ doesn't mess around. The first episode I ever saw struck me as so nasty it was surreal, I couldn't say I was ready for it, but as I watched more, I developed a taste for Oz, and got accustomed to the high levels of graphic violence. Not just violence, but injustice (crooked guards who'll be sold out for a nickel, inmates who'll kill on order and get away with it, well mannered, middle class inmates being turned into prison bitches due to their lack of street skills or prison experience) Watching Oz, you may become comfortable with what is uncomfortable viewing....thats if you can get in touch with your darker side.\""
      ]
     },
     "execution_count": 12,
     "metadata": {},
     "output_type": "execute_result"
    }
   ],
   "source": [
    "df['review'][0] #vamos ver o que tem na primeira linha da coluna review"
   ]
  },
  {
   "cell_type": "code",
   "execution_count": 13,
   "metadata": {},
   "outputs": [
    {
     "name": "stdout",
     "output_type": "stream",
     "text": [
      "<class 'pandas.core.frame.DataFrame'>\n",
      "RangeIndex: 50000 entries, 0 to 49999\n",
      "Data columns (total 4 columns):\n",
      " #   Column         Non-Null Count  Dtype \n",
      "---  ------         --------------  ----- \n",
      " 0   review         50000 non-null  object\n",
      " 1   sentiment      50000 non-null  object\n",
      " 2   review_length  50000 non-null  int64 \n",
      " 3   review_lower   50000 non-null  object\n",
      "dtypes: int64(1), object(3)\n",
      "memory usage: 1.5+ MB\n"
     ]
    },
    {
     "data": {
      "text/html": [
       "<div>\n",
       "<style scoped>\n",
       "    .dataframe tbody tr th:only-of-type {\n",
       "        vertical-align: middle;\n",
       "    }\n",
       "\n",
       "    .dataframe tbody tr th {\n",
       "        vertical-align: top;\n",
       "    }\n",
       "\n",
       "    .dataframe thead th {\n",
       "        text-align: right;\n",
       "    }\n",
       "</style>\n",
       "<table border=\"1\" class=\"dataframe\">\n",
       "  <thead>\n",
       "    <tr style=\"text-align: right;\">\n",
       "      <th></th>\n",
       "      <th>review_length</th>\n",
       "    </tr>\n",
       "  </thead>\n",
       "  <tbody>\n",
       "    <tr>\n",
       "      <th>count</th>\n",
       "      <td>50000.000000</td>\n",
       "    </tr>\n",
       "    <tr>\n",
       "      <th>mean</th>\n",
       "      <td>1309.431020</td>\n",
       "    </tr>\n",
       "    <tr>\n",
       "      <th>std</th>\n",
       "      <td>989.728014</td>\n",
       "    </tr>\n",
       "    <tr>\n",
       "      <th>min</th>\n",
       "      <td>32.000000</td>\n",
       "    </tr>\n",
       "    <tr>\n",
       "      <th>25%</th>\n",
       "      <td>699.000000</td>\n",
       "    </tr>\n",
       "    <tr>\n",
       "      <th>50%</th>\n",
       "      <td>970.000000</td>\n",
       "    </tr>\n",
       "    <tr>\n",
       "      <th>75%</th>\n",
       "      <td>1590.250000</td>\n",
       "    </tr>\n",
       "    <tr>\n",
       "      <th>max</th>\n",
       "      <td>13704.000000</td>\n",
       "    </tr>\n",
       "  </tbody>\n",
       "</table>\n",
       "</div>"
      ],
      "text/plain": [
       "       review_length\n",
       "count   50000.000000\n",
       "mean     1309.431020\n",
       "std       989.728014\n",
       "min        32.000000\n",
       "25%       699.000000\n",
       "50%       970.000000\n",
       "75%      1590.250000\n",
       "max     13704.000000"
      ]
     },
     "execution_count": 13,
     "metadata": {},
     "output_type": "execute_result"
    }
   ],
   "source": [
    "df.info()\n",
    "df.describe()"
   ]
  },
  {
   "cell_type": "markdown",
   "metadata": {},
   "source": [
    "## Qual a distribuição das classes de sentimento?"
   ]
  },
  {
   "cell_type": "code",
   "execution_count": 3,
   "metadata": {},
   "outputs": [
    {
     "data": {
      "text/plain": [
       "sentiment\n",
       "positive    25000\n",
       "negative    25000\n",
       "Name: count, dtype: int64"
      ]
     },
     "execution_count": 3,
     "metadata": {},
     "output_type": "execute_result"
    }
   ],
   "source": [
    "df['sentiment'].value_counts()"
   ]
  },
  {
   "cell_type": "markdown",
   "metadata": {},
   "source": [
    "# Limpeza e Transformação de Dados\n",
    "\n",
    "#### Criar uma nova coluna com o comprimento de cada review"
   ]
  },
  {
   "cell_type": "code",
   "execution_count": 7,
   "metadata": {},
   "outputs": [
    {
     "data": {
      "text/html": [
       "<div>\n",
       "<style scoped>\n",
       "    .dataframe tbody tr th:only-of-type {\n",
       "        vertical-align: middle;\n",
       "    }\n",
       "\n",
       "    .dataframe tbody tr th {\n",
       "        vertical-align: top;\n",
       "    }\n",
       "\n",
       "    .dataframe thead th {\n",
       "        text-align: right;\n",
       "    }\n",
       "</style>\n",
       "<table border=\"1\" class=\"dataframe\">\n",
       "  <thead>\n",
       "    <tr style=\"text-align: right;\">\n",
       "      <th></th>\n",
       "      <th>review</th>\n",
       "      <th>review_length</th>\n",
       "    </tr>\n",
       "  </thead>\n",
       "  <tbody>\n",
       "    <tr>\n",
       "      <th>0</th>\n",
       "      <td>One of the other reviewers has mentioned that ...</td>\n",
       "      <td>1761</td>\n",
       "    </tr>\n",
       "    <tr>\n",
       "      <th>1</th>\n",
       "      <td>A wonderful little production. &lt;br /&gt;&lt;br /&gt;The...</td>\n",
       "      <td>998</td>\n",
       "    </tr>\n",
       "    <tr>\n",
       "      <th>2</th>\n",
       "      <td>I thought this was a wonderful way to spend ti...</td>\n",
       "      <td>926</td>\n",
       "    </tr>\n",
       "    <tr>\n",
       "      <th>3</th>\n",
       "      <td>Basically there's a family where a little boy ...</td>\n",
       "      <td>748</td>\n",
       "    </tr>\n",
       "    <tr>\n",
       "      <th>4</th>\n",
       "      <td>Petter Mattei's \"Love in the Time of Money\" is...</td>\n",
       "      <td>1317</td>\n",
       "    </tr>\n",
       "  </tbody>\n",
       "</table>\n",
       "</div>"
      ],
      "text/plain": [
       "                                              review  review_length\n",
       "0  One of the other reviewers has mentioned that ...           1761\n",
       "1  A wonderful little production. <br /><br />The...            998\n",
       "2  I thought this was a wonderful way to spend ti...            926\n",
       "3  Basically there's a family where a little boy ...            748\n",
       "4  Petter Mattei's \"Love in the Time of Money\" is...           1317"
      ]
     },
     "execution_count": 7,
     "metadata": {},
     "output_type": "execute_result"
    }
   ],
   "source": [
    "df['review_length'] = df['review'].str.len()\n",
    "df[['review', 'review_length']].head()"
   ]
  },
  {
   "cell_type": "markdown",
   "metadata": {},
   "source": [
    "#### Converter todas as reviews para minúsculas"
   ]
  },
  {
   "cell_type": "code",
   "execution_count": 8,
   "metadata": {},
   "outputs": [
    {
     "data": {
      "text/html": [
       "<div>\n",
       "<style scoped>\n",
       "    .dataframe tbody tr th:only-of-type {\n",
       "        vertical-align: middle;\n",
       "    }\n",
       "\n",
       "    .dataframe tbody tr th {\n",
       "        vertical-align: top;\n",
       "    }\n",
       "\n",
       "    .dataframe thead th {\n",
       "        text-align: right;\n",
       "    }\n",
       "</style>\n",
       "<table border=\"1\" class=\"dataframe\">\n",
       "  <thead>\n",
       "    <tr style=\"text-align: right;\">\n",
       "      <th></th>\n",
       "      <th>review</th>\n",
       "      <th>review_lower</th>\n",
       "    </tr>\n",
       "  </thead>\n",
       "  <tbody>\n",
       "    <tr>\n",
       "      <th>0</th>\n",
       "      <td>One of the other reviewers has mentioned that ...</td>\n",
       "      <td>one of the other reviewers has mentioned that ...</td>\n",
       "    </tr>\n",
       "    <tr>\n",
       "      <th>1</th>\n",
       "      <td>A wonderful little production. &lt;br /&gt;&lt;br /&gt;The...</td>\n",
       "      <td>a wonderful little production. &lt;br /&gt;&lt;br /&gt;the...</td>\n",
       "    </tr>\n",
       "    <tr>\n",
       "      <th>2</th>\n",
       "      <td>I thought this was a wonderful way to spend ti...</td>\n",
       "      <td>i thought this was a wonderful way to spend ti...</td>\n",
       "    </tr>\n",
       "    <tr>\n",
       "      <th>3</th>\n",
       "      <td>Basically there's a family where a little boy ...</td>\n",
       "      <td>basically there's a family where a little boy ...</td>\n",
       "    </tr>\n",
       "    <tr>\n",
       "      <th>4</th>\n",
       "      <td>Petter Mattei's \"Love in the Time of Money\" is...</td>\n",
       "      <td>petter mattei's \"love in the time of money\" is...</td>\n",
       "    </tr>\n",
       "  </tbody>\n",
       "</table>\n",
       "</div>"
      ],
      "text/plain": [
       "                                              review  \\\n",
       "0  One of the other reviewers has mentioned that ...   \n",
       "1  A wonderful little production. <br /><br />The...   \n",
       "2  I thought this was a wonderful way to spend ti...   \n",
       "3  Basically there's a family where a little boy ...   \n",
       "4  Petter Mattei's \"Love in the Time of Money\" is...   \n",
       "\n",
       "                                        review_lower  \n",
       "0  one of the other reviewers has mentioned that ...  \n",
       "1  a wonderful little production. <br /><br />the...  \n",
       "2  i thought this was a wonderful way to spend ti...  \n",
       "3  basically there's a family where a little boy ...  \n",
       "4  petter mattei's \"love in the time of money\" is...  "
      ]
     },
     "execution_count": 8,
     "metadata": {},
     "output_type": "execute_result"
    }
   ],
   "source": [
    "df['review_lower'] = df['review'].str.lower()\n",
    "df[['review', 'review_lower']].head()"
   ]
  },
  {
   "cell_type": "markdown",
   "metadata": {},
   "source": [
    "#### Criar uma nova coluna indicando se a review contém a palavra 'amazing'"
   ]
  },
  {
   "cell_type": "code",
   "execution_count": 14,
   "metadata": {},
   "outputs": [
    {
     "data": {
      "text/html": [
       "<div>\n",
       "<style scoped>\n",
       "    .dataframe tbody tr th:only-of-type {\n",
       "        vertical-align: middle;\n",
       "    }\n",
       "\n",
       "    .dataframe tbody tr th {\n",
       "        vertical-align: top;\n",
       "    }\n",
       "\n",
       "    .dataframe thead th {\n",
       "        text-align: right;\n",
       "    }\n",
       "</style>\n",
       "<table border=\"1\" class=\"dataframe\">\n",
       "  <thead>\n",
       "    <tr style=\"text-align: right;\">\n",
       "      <th></th>\n",
       "      <th>review</th>\n",
       "      <th>contains_amazing</th>\n",
       "    </tr>\n",
       "  </thead>\n",
       "  <tbody>\n",
       "    <tr>\n",
       "      <th>0</th>\n",
       "      <td>One of the other reviewers has mentioned that ...</td>\n",
       "      <td>False</td>\n",
       "    </tr>\n",
       "    <tr>\n",
       "      <th>1</th>\n",
       "      <td>A wonderful little production. &lt;br /&gt;&lt;br /&gt;The...</td>\n",
       "      <td>False</td>\n",
       "    </tr>\n",
       "    <tr>\n",
       "      <th>2</th>\n",
       "      <td>I thought this was a wonderful way to spend ti...</td>\n",
       "      <td>False</td>\n",
       "    </tr>\n",
       "    <tr>\n",
       "      <th>3</th>\n",
       "      <td>Basically there's a family where a little boy ...</td>\n",
       "      <td>False</td>\n",
       "    </tr>\n",
       "    <tr>\n",
       "      <th>4</th>\n",
       "      <td>Petter Mattei's \"Love in the Time of Money\" is...</td>\n",
       "      <td>False</td>\n",
       "    </tr>\n",
       "  </tbody>\n",
       "</table>\n",
       "</div>"
      ],
      "text/plain": [
       "                                              review  contains_amazing\n",
       "0  One of the other reviewers has mentioned that ...             False\n",
       "1  A wonderful little production. <br /><br />The...             False\n",
       "2  I thought this was a wonderful way to spend ti...             False\n",
       "3  Basically there's a family where a little boy ...             False\n",
       "4  Petter Mattei's \"Love in the Time of Money\" is...             False"
      ]
     },
     "execution_count": 14,
     "metadata": {},
     "output_type": "execute_result"
    }
   ],
   "source": [
    "df['contains_amazing'] = df['review'].str.contains('amazing', case=False)\n",
    "df[['review', 'contains_amazing']].head()"
   ]
  },
  {
   "cell_type": "markdown",
   "metadata": {},
   "source": [
    "#### Filtrar reviews que mencionam 'bad'"
   ]
  },
  {
   "cell_type": "code",
   "execution_count": null,
   "metadata": {},
   "outputs": [
    {
     "name": "stdout",
     "output_type": "stream",
     "text": [
      "0.25408\n"
     ]
    },
    {
     "data": {
      "text/html": [
       "<div>\n",
       "<style scoped>\n",
       "    .dataframe tbody tr th:only-of-type {\n",
       "        vertical-align: middle;\n",
       "    }\n",
       "\n",
       "    .dataframe tbody tr th {\n",
       "        vertical-align: top;\n",
       "    }\n",
       "\n",
       "    .dataframe thead th {\n",
       "        text-align: right;\n",
       "    }\n",
       "</style>\n",
       "<table border=\"1\" class=\"dataframe\">\n",
       "  <thead>\n",
       "    <tr style=\"text-align: right;\">\n",
       "      <th></th>\n",
       "      <th>review</th>\n",
       "      <th>sentiment</th>\n",
       "      <th>review_length</th>\n",
       "      <th>review_lower</th>\n",
       "      <th>contains_amazing</th>\n",
       "    </tr>\n",
       "  </thead>\n",
       "  <tbody>\n",
       "    <tr>\n",
       "      <th>7</th>\n",
       "      <td>This show was an amazing, fresh &amp; innovative i...</td>\n",
       "      <td>negative</td>\n",
       "      <td>934</td>\n",
       "      <td>this show was an amazing, fresh &amp; innovative i...</td>\n",
       "      <td>True</td>\n",
       "    </tr>\n",
       "    <tr>\n",
       "      <th>8</th>\n",
       "      <td>Encouraged by the positive comments about this...</td>\n",
       "      <td>negative</td>\n",
       "      <td>681</td>\n",
       "      <td>encouraged by the positive comments about this...</td>\n",
       "      <td>False</td>\n",
       "    </tr>\n",
       "    <tr>\n",
       "      <th>12</th>\n",
       "      <td>So im not a big fan of Boll's work but then ag...</td>\n",
       "      <td>negative</td>\n",
       "      <td>2227</td>\n",
       "      <td>so im not a big fan of boll's work but then ag...</td>\n",
       "      <td>False</td>\n",
       "    </tr>\n",
       "    <tr>\n",
       "      <th>14</th>\n",
       "      <td>This a fantastic movie of three prisoners who ...</td>\n",
       "      <td>positive</td>\n",
       "      <td>275</td>\n",
       "      <td>this a fantastic movie of three prisoners who ...</td>\n",
       "      <td>False</td>\n",
       "    </tr>\n",
       "    <tr>\n",
       "      <th>15</th>\n",
       "      <td>Kind of drawn in by the erotic scenes, only to...</td>\n",
       "      <td>negative</td>\n",
       "      <td>830</td>\n",
       "      <td>kind of drawn in by the erotic scenes, only to...</td>\n",
       "      <td>False</td>\n",
       "    </tr>\n",
       "  </tbody>\n",
       "</table>\n",
       "</div>"
      ],
      "text/plain": [
       "                                               review sentiment  \\\n",
       "7   This show was an amazing, fresh & innovative i...  negative   \n",
       "8   Encouraged by the positive comments about this...  negative   \n",
       "12  So im not a big fan of Boll's work but then ag...  negative   \n",
       "14  This a fantastic movie of three prisoners who ...  positive   \n",
       "15  Kind of drawn in by the erotic scenes, only to...  negative   \n",
       "\n",
       "    review_length                                       review_lower  \\\n",
       "7             934  this show was an amazing, fresh & innovative i...   \n",
       "8             681  encouraged by the positive comments about this...   \n",
       "12           2227  so im not a big fan of boll's work but then ag...   \n",
       "14            275  this a fantastic movie of three prisoners who ...   \n",
       "15            830  kind of drawn in by the erotic scenes, only to...   \n",
       "\n",
       "    contains_amazing  \n",
       "7               True  \n",
       "8              False  \n",
       "12             False  \n",
       "14             False  \n",
       "15             False  "
      ]
     },
     "execution_count": 22,
     "metadata": {},
     "output_type": "execute_result"
    }
   ],
   "source": [
    "df_bad = df[df['review'].str.contains('bad', case=False)]\n",
    "print(len(df_bad) / len(df)) # 25% dos reviews contém a palavra 'bad'\n",
    "df_bad.head()\n"
   ]
  },
  {
   "cell_type": "markdown",
   "metadata": {},
   "source": [
    "#### Criar uma coluna categorizando as reviews pelo tamanho\n",
    "\n",
    "Curta - até 500 caracteres\n",
    "Média - de 500 até 1000 caracteres\n",
    "Longa - mais de 1000 caracteres"
   ]
  },
  {
   "cell_type": "code",
   "execution_count": null,
   "metadata": {},
   "outputs": [
    {
     "data": {
      "text/html": [
       "<div>\n",
       "<style scoped>\n",
       "    .dataframe tbody tr th:only-of-type {\n",
       "        vertical-align: middle;\n",
       "    }\n",
       "\n",
       "    .dataframe tbody tr th {\n",
       "        vertical-align: top;\n",
       "    }\n",
       "\n",
       "    .dataframe thead th {\n",
       "        text-align: right;\n",
       "    }\n",
       "</style>\n",
       "<table border=\"1\" class=\"dataframe\">\n",
       "  <thead>\n",
       "    <tr style=\"text-align: right;\">\n",
       "      <th></th>\n",
       "      <th>review_length</th>\n",
       "      <th>review_category</th>\n",
       "    </tr>\n",
       "  </thead>\n",
       "  <tbody>\n",
       "    <tr>\n",
       "      <th>0</th>\n",
       "      <td>1761</td>\n",
       "      <td>Longa</td>\n",
       "    </tr>\n",
       "    <tr>\n",
       "      <th>1</th>\n",
       "      <td>998</td>\n",
       "      <td>Média</td>\n",
       "    </tr>\n",
       "    <tr>\n",
       "      <th>2</th>\n",
       "      <td>926</td>\n",
       "      <td>Média</td>\n",
       "    </tr>\n",
       "    <tr>\n",
       "      <th>3</th>\n",
       "      <td>748</td>\n",
       "      <td>Média</td>\n",
       "    </tr>\n",
       "    <tr>\n",
       "      <th>4</th>\n",
       "      <td>1317</td>\n",
       "      <td>Longa</td>\n",
       "    </tr>\n",
       "  </tbody>\n",
       "</table>\n",
       "</div>"
      ],
      "text/plain": [
       "   review_length review_category\n",
       "0           1761           Longa\n",
       "1            998           Média\n",
       "2            926           Média\n",
       "3            748           Média\n",
       "4           1317           Longa"
      ]
     },
     "execution_count": 23,
     "metadata": {},
     "output_type": "execute_result"
    }
   ],
   "source": [
    "df['review_category'] = pd.cut(df['review_length'], bins=[0, 500, 1000, float('inf')], labels=['Curta', 'Média', 'Longa'])\n",
    "# o bins é uma lista com os limites dos intervalos. O primeiro intervalo é [0, 500], o segundo é [500, 1000] e o terceiro é [1000, infinito]\n",
    "\n",
    "df[['review_length', 'review_category']].head()"
   ]
  },
  {
   "cell_type": "code",
   "execution_count": 24,
   "metadata": {},
   "outputs": [
    {
     "data": {
      "text/plain": [
       "review_category\n",
       "Longa    24001\n",
       "Média    21016\n",
       "Curta     4983\n",
       "Name: count, dtype: int64"
      ]
     },
     "execution_count": 24,
     "metadata": {},
     "output_type": "execute_result"
    }
   ],
   "source": [
    "df['review_category'].value_counts()"
   ]
  },
  {
   "cell_type": "markdown",
   "metadata": {},
   "source": [
    "## Questões"
   ]
  },
  {
   "cell_type": "markdown",
   "metadata": {},
   "source": [
    "### Quais reviews tem mais de 1000 caracteres?"
   ]
  },
  {
   "cell_type": "code",
   "execution_count": 26,
   "metadata": {},
   "outputs": [
    {
     "data": {
      "text/html": [
       "<div>\n",
       "<style scoped>\n",
       "    .dataframe tbody tr th:only-of-type {\n",
       "        vertical-align: middle;\n",
       "    }\n",
       "\n",
       "    .dataframe tbody tr th {\n",
       "        vertical-align: top;\n",
       "    }\n",
       "\n",
       "    .dataframe thead th {\n",
       "        text-align: right;\n",
       "    }\n",
       "</style>\n",
       "<table border=\"1\" class=\"dataframe\">\n",
       "  <thead>\n",
       "    <tr style=\"text-align: right;\">\n",
       "      <th></th>\n",
       "      <th>review</th>\n",
       "      <th>sentiment</th>\n",
       "      <th>review_length</th>\n",
       "      <th>review_lower</th>\n",
       "      <th>contains_amazing</th>\n",
       "      <th>review_category</th>\n",
       "    </tr>\n",
       "  </thead>\n",
       "  <tbody>\n",
       "    <tr>\n",
       "      <th>0</th>\n",
       "      <td>One of the other reviewers has mentioned that ...</td>\n",
       "      <td>positive</td>\n",
       "      <td>1761</td>\n",
       "      <td>one of the other reviewers has mentioned that ...</td>\n",
       "      <td>False</td>\n",
       "      <td>Longa</td>\n",
       "    </tr>\n",
       "    <tr>\n",
       "      <th>4</th>\n",
       "      <td>Petter Mattei's \"Love in the Time of Money\" is...</td>\n",
       "      <td>positive</td>\n",
       "      <td>1317</td>\n",
       "      <td>petter mattei's \"love in the time of money\" is...</td>\n",
       "      <td>False</td>\n",
       "      <td>Longa</td>\n",
       "    </tr>\n",
       "    <tr>\n",
       "      <th>12</th>\n",
       "      <td>So im not a big fan of Boll's work but then ag...</td>\n",
       "      <td>negative</td>\n",
       "      <td>2227</td>\n",
       "      <td>so im not a big fan of boll's work but then ag...</td>\n",
       "      <td>False</td>\n",
       "      <td>Longa</td>\n",
       "    </tr>\n",
       "    <tr>\n",
       "      <th>17</th>\n",
       "      <td>This movie made it into one of my top 10 most ...</td>\n",
       "      <td>negative</td>\n",
       "      <td>1322</td>\n",
       "      <td>this movie made it into one of my top 10 most ...</td>\n",
       "      <td>False</td>\n",
       "      <td>Longa</td>\n",
       "    </tr>\n",
       "    <tr>\n",
       "      <th>20</th>\n",
       "      <td>After the success of Die Hard and it's sequels...</td>\n",
       "      <td>positive</td>\n",
       "      <td>1813</td>\n",
       "      <td>after the success of die hard and it's sequels...</td>\n",
       "      <td>False</td>\n",
       "      <td>Longa</td>\n",
       "    </tr>\n",
       "    <tr>\n",
       "      <th>...</th>\n",
       "      <td>...</td>\n",
       "      <td>...</td>\n",
       "      <td>...</td>\n",
       "      <td>...</td>\n",
       "      <td>...</td>\n",
       "      <td>...</td>\n",
       "    </tr>\n",
       "    <tr>\n",
       "      <th>49991</th>\n",
       "      <td>Les Visiteurs, the first movie about the medie...</td>\n",
       "      <td>negative</td>\n",
       "      <td>1498</td>\n",
       "      <td>les visiteurs, the first movie about the medie...</td>\n",
       "      <td>False</td>\n",
       "      <td>Longa</td>\n",
       "    </tr>\n",
       "    <tr>\n",
       "      <th>49993</th>\n",
       "      <td>Robert Colomb has two full-time jobs. He's kno...</td>\n",
       "      <td>negative</td>\n",
       "      <td>2717</td>\n",
       "      <td>robert colomb has two full-time jobs. he's kno...</td>\n",
       "      <td>False</td>\n",
       "      <td>Longa</td>\n",
       "    </tr>\n",
       "    <tr>\n",
       "      <th>49995</th>\n",
       "      <td>I thought this movie did a down right good job...</td>\n",
       "      <td>positive</td>\n",
       "      <td>1008</td>\n",
       "      <td>i thought this movie did a down right good job...</td>\n",
       "      <td>False</td>\n",
       "      <td>Longa</td>\n",
       "    </tr>\n",
       "    <tr>\n",
       "      <th>49997</th>\n",
       "      <td>I am a Catholic taught in parochial elementary...</td>\n",
       "      <td>negative</td>\n",
       "      <td>1280</td>\n",
       "      <td>i am a catholic taught in parochial elementary...</td>\n",
       "      <td>False</td>\n",
       "      <td>Longa</td>\n",
       "    </tr>\n",
       "    <tr>\n",
       "      <th>49998</th>\n",
       "      <td>I'm going to have to disagree with the previou...</td>\n",
       "      <td>negative</td>\n",
       "      <td>1234</td>\n",
       "      <td>i'm going to have to disagree with the previou...</td>\n",
       "      <td>False</td>\n",
       "      <td>Longa</td>\n",
       "    </tr>\n",
       "  </tbody>\n",
       "</table>\n",
       "<p>24001 rows × 6 columns</p>\n",
       "</div>"
      ],
      "text/plain": [
       "                                                  review sentiment  \\\n",
       "0      One of the other reviewers has mentioned that ...  positive   \n",
       "4      Petter Mattei's \"Love in the Time of Money\" is...  positive   \n",
       "12     So im not a big fan of Boll's work but then ag...  negative   \n",
       "17     This movie made it into one of my top 10 most ...  negative   \n",
       "20     After the success of Die Hard and it's sequels...  positive   \n",
       "...                                                  ...       ...   \n",
       "49991  Les Visiteurs, the first movie about the medie...  negative   \n",
       "49993  Robert Colomb has two full-time jobs. He's kno...  negative   \n",
       "49995  I thought this movie did a down right good job...  positive   \n",
       "49997  I am a Catholic taught in parochial elementary...  negative   \n",
       "49998  I'm going to have to disagree with the previou...  negative   \n",
       "\n",
       "       review_length                                       review_lower  \\\n",
       "0               1761  one of the other reviewers has mentioned that ...   \n",
       "4               1317  petter mattei's \"love in the time of money\" is...   \n",
       "12              2227  so im not a big fan of boll's work but then ag...   \n",
       "17              1322  this movie made it into one of my top 10 most ...   \n",
       "20              1813  after the success of die hard and it's sequels...   \n",
       "...              ...                                                ...   \n",
       "49991           1498  les visiteurs, the first movie about the medie...   \n",
       "49993           2717  robert colomb has two full-time jobs. he's kno...   \n",
       "49995           1008  i thought this movie did a down right good job...   \n",
       "49997           1280  i am a catholic taught in parochial elementary...   \n",
       "49998           1234  i'm going to have to disagree with the previou...   \n",
       "\n",
       "       contains_amazing review_category  \n",
       "0                 False           Longa  \n",
       "4                 False           Longa  \n",
       "12                False           Longa  \n",
       "17                False           Longa  \n",
       "20                False           Longa  \n",
       "...                 ...             ...  \n",
       "49991             False           Longa  \n",
       "49993             False           Longa  \n",
       "49995             False           Longa  \n",
       "49997             False           Longa  \n",
       "49998             False           Longa  \n",
       "\n",
       "[24001 rows x 6 columns]"
      ]
     },
     "execution_count": 26,
     "metadata": {},
     "output_type": "execute_result"
    }
   ],
   "source": [
    "df[df['review_length'] > 1000]"
   ]
  },
  {
   "cell_type": "code",
   "execution_count": 30,
   "metadata": {},
   "outputs": [
    {
     "data": {
      "text/plain": [
       "3409"
      ]
     },
     "execution_count": 30,
     "metadata": {},
     "output_type": "execute_result"
    }
   ],
   "source": [
    "#Quantas reviews contem a palavra 'excellent'\n",
    "\n",
    "len(df[df['review'].str.contains('excellent')]) "
   ]
  },
  {
   "cell_type": "code",
   "execution_count": 32,
   "metadata": {},
   "outputs": [
    {
     "data": {
      "text/plain": [
       "sentiment\n",
       "negative    1294.06436\n",
       "positive    1324.79768\n",
       "Name: review_length, dtype: float64"
      ]
     },
     "execution_count": 32,
     "metadata": {},
     "output_type": "execute_result"
    }
   ],
   "source": [
    "#Qual a média de comprimento das reviews positivas e negativas\n",
    "\n",
    "#groupby\n",
    "\n",
    "df.groupby('sentiment')['review_length'].mean()\n"
   ]
  },
  {
   "cell_type": "code",
   "execution_count": 36,
   "metadata": {},
   "outputs": [
    {
     "data": {
      "text/html": [
       "<div>\n",
       "<style scoped>\n",
       "    .dataframe tbody tr th:only-of-type {\n",
       "        vertical-align: middle;\n",
       "    }\n",
       "\n",
       "    .dataframe tbody tr th {\n",
       "        vertical-align: top;\n",
       "    }\n",
       "\n",
       "    .dataframe thead th {\n",
       "        text-align: right;\n",
       "    }\n",
       "</style>\n",
       "<table border=\"1\" class=\"dataframe\">\n",
       "  <thead>\n",
       "    <tr style=\"text-align: right;\">\n",
       "      <th></th>\n",
       "      <th>review</th>\n",
       "      <th>sentiment</th>\n",
       "      <th>review_length</th>\n",
       "      <th>review_lower</th>\n",
       "      <th>contains_amazing</th>\n",
       "      <th>review_category</th>\n",
       "      <th>contains_excellent</th>\n",
       "    </tr>\n",
       "  </thead>\n",
       "  <tbody>\n",
       "    <tr>\n",
       "      <th>8</th>\n",
       "      <td>Encouraged by the positive comments about this...</td>\n",
       "      <td>negative</td>\n",
       "      <td>681</td>\n",
       "      <td>encouraged by the positive comments about this...</td>\n",
       "      <td>False</td>\n",
       "      <td>Média</td>\n",
       "      <td>False</td>\n",
       "    </tr>\n",
       "    <tr>\n",
       "      <th>23</th>\n",
       "      <td>First of all, let's get a few things straight ...</td>\n",
       "      <td>negative</td>\n",
       "      <td>1767</td>\n",
       "      <td>first of all, let's get a few things straight ...</td>\n",
       "      <td>False</td>\n",
       "      <td>Longa</td>\n",
       "      <td>False</td>\n",
       "    </tr>\n",
       "    <tr>\n",
       "      <th>34</th>\n",
       "      <td>I watched this film not really expecting much,...</td>\n",
       "      <td>negative</td>\n",
       "      <td>1300</td>\n",
       "      <td>i watched this film not really expecting much,...</td>\n",
       "      <td>False</td>\n",
       "      <td>Longa</td>\n",
       "      <td>False</td>\n",
       "    </tr>\n",
       "    <tr>\n",
       "      <th>63</th>\n",
       "      <td>Besides being boring, the scenes were oppressi...</td>\n",
       "      <td>negative</td>\n",
       "      <td>267</td>\n",
       "      <td>besides being boring, the scenes were oppressi...</td>\n",
       "      <td>False</td>\n",
       "      <td>Curta</td>\n",
       "      <td>False</td>\n",
       "    </tr>\n",
       "    <tr>\n",
       "      <th>107</th>\n",
       "      <td>While Star Trek the Motion Picture was mostly ...</td>\n",
       "      <td>negative</td>\n",
       "      <td>1642</td>\n",
       "      <td>while star trek the motion picture was mostly ...</td>\n",
       "      <td>False</td>\n",
       "      <td>Longa</td>\n",
       "      <td>False</td>\n",
       "    </tr>\n",
       "    <tr>\n",
       "      <th>...</th>\n",
       "      <td>...</td>\n",
       "      <td>...</td>\n",
       "      <td>...</td>\n",
       "      <td>...</td>\n",
       "      <td>...</td>\n",
       "      <td>...</td>\n",
       "      <td>...</td>\n",
       "    </tr>\n",
       "    <tr>\n",
       "      <th>49913</th>\n",
       "      <td>Why does this movie fall WELL below standards?...</td>\n",
       "      <td>negative</td>\n",
       "      <td>1438</td>\n",
       "      <td>why does this movie fall well below standards?...</td>\n",
       "      <td>False</td>\n",
       "      <td>Longa</td>\n",
       "      <td>False</td>\n",
       "    </tr>\n",
       "    <tr>\n",
       "      <th>49939</th>\n",
       "      <td>Depending entirely on your own personal state ...</td>\n",
       "      <td>negative</td>\n",
       "      <td>1927</td>\n",
       "      <td>depending entirely on your own personal state ...</td>\n",
       "      <td>False</td>\n",
       "      <td>Longa</td>\n",
       "      <td>False</td>\n",
       "    </tr>\n",
       "    <tr>\n",
       "      <th>49946</th>\n",
       "      <td>One of the greatest lessons I ever had in how ...</td>\n",
       "      <td>negative</td>\n",
       "      <td>2901</td>\n",
       "      <td>one of the greatest lessons i ever had in how ...</td>\n",
       "      <td>False</td>\n",
       "      <td>Longa</td>\n",
       "      <td>False</td>\n",
       "    </tr>\n",
       "    <tr>\n",
       "      <th>49948</th>\n",
       "      <td>It is the early morning of our discontent, and...</td>\n",
       "      <td>negative</td>\n",
       "      <td>5847</td>\n",
       "      <td>it is the early morning of our discontent, and...</td>\n",
       "      <td>False</td>\n",
       "      <td>Longa</td>\n",
       "      <td>False</td>\n",
       "    </tr>\n",
       "    <tr>\n",
       "      <th>49994</th>\n",
       "      <td>This is your typical junk comedy.&lt;br /&gt;&lt;br /&gt;T...</td>\n",
       "      <td>negative</td>\n",
       "      <td>759</td>\n",
       "      <td>this is your typical junk comedy.&lt;br /&gt;&lt;br /&gt;t...</td>\n",
       "      <td>False</td>\n",
       "      <td>Média</td>\n",
       "      <td>False</td>\n",
       "    </tr>\n",
       "  </tbody>\n",
       "</table>\n",
       "<p>2386 rows × 7 columns</p>\n",
       "</div>"
      ],
      "text/plain": [
       "                                                  review sentiment  \\\n",
       "8      Encouraged by the positive comments about this...  negative   \n",
       "23     First of all, let's get a few things straight ...  negative   \n",
       "34     I watched this film not really expecting much,...  negative   \n",
       "63     Besides being boring, the scenes were oppressi...  negative   \n",
       "107    While Star Trek the Motion Picture was mostly ...  negative   \n",
       "...                                                  ...       ...   \n",
       "49913  Why does this movie fall WELL below standards?...  negative   \n",
       "49939  Depending entirely on your own personal state ...  negative   \n",
       "49946  One of the greatest lessons I ever had in how ...  negative   \n",
       "49948  It is the early morning of our discontent, and...  negative   \n",
       "49994  This is your typical junk comedy.<br /><br />T...  negative   \n",
       "\n",
       "       review_length                                       review_lower  \\\n",
       "8                681  encouraged by the positive comments about this...   \n",
       "23              1767  first of all, let's get a few things straight ...   \n",
       "34              1300  i watched this film not really expecting much,...   \n",
       "63               267  besides being boring, the scenes were oppressi...   \n",
       "107             1642  while star trek the motion picture was mostly ...   \n",
       "...              ...                                                ...   \n",
       "49913           1438  why does this movie fall well below standards?...   \n",
       "49939           1927  depending entirely on your own personal state ...   \n",
       "49946           2901  one of the greatest lessons i ever had in how ...   \n",
       "49948           5847  it is the early morning of our discontent, and...   \n",
       "49994            759  this is your typical junk comedy.<br /><br />t...   \n",
       "\n",
       "       contains_amazing review_category  contains_excellent  \n",
       "8                 False           Média               False  \n",
       "23                False           Longa               False  \n",
       "34                False           Longa               False  \n",
       "63                False           Curta               False  \n",
       "107               False           Longa               False  \n",
       "...                 ...             ...                 ...  \n",
       "49913             False           Longa               False  \n",
       "49939             False           Longa               False  \n",
       "49946             False           Longa               False  \n",
       "49948             False           Longa               False  \n",
       "49994             False           Média               False  \n",
       "\n",
       "[2386 rows x 7 columns]"
      ]
     },
     "execution_count": 36,
     "metadata": {},
     "output_type": "execute_result"
    }
   ],
   "source": [
    "#Filtre apenas as reviews negativas que mencionam a palavra 'boring'\n",
    "\n",
    "aux = df[(df['sentiment'] == 'negative') & (df['review'].str.contains('boring'))]\n",
    "aux"
   ]
  },
  {
   "cell_type": "code",
   "execution_count": null,
   "metadata": {},
   "outputs": [
    {
     "data": {
      "text/plain": [
       "\"Encouraged by the positive comments about this film on here I was looking forward to watching this film. Bad mistake. I've seen 950+ films and this is truly one of the worst of them - it's awful in almost every way: editing, pacing, storyline, 'acting,' soundtrack (the film's only song - a lame country tune - is played no less than four times). The film looks cheap and nasty and is boring in the extreme. Rarely have I been so happy to see the end credits of a film. <br /><br />The only thing that prevents me giving this a 1-score is Harvey Keitel - while this is far from his best performance he at least seems to be making a bit of an effort. One for Keitel obsessives only.\""
      ]
     },
     "execution_count": 37,
     "metadata": {},
     "output_type": "execute_result"
    }
   ],
   "source": [
    "aux = aux.reset_index(drop=True) #resetar o index\n",
    "aux['review'][0]  #vamos ver o que tem na primeira linha da coluna review"
   ]
  },
  {
   "cell_type": "code",
   "execution_count": null,
   "metadata": {},
   "outputs": [
    {
     "data": {
      "text/plain": [
       "review_category\n",
       "Longa    0.48002\n",
       "Média    0.42032\n",
       "Curta    0.09966\n",
       "Name: proportion, dtype: float64"
      ]
     },
     "execution_count": 40,
     "metadata": {},
     "output_type": "execute_result"
    }
   ],
   "source": [
    "# Qual a proporção de reviews curtas, médias e longas?\n",
    "\n",
    "df['review_category'].value_counts(normalize=True) #normalize=True para obter a proporção"
   ]
  },
  {
   "cell_type": "code",
   "execution_count": 46,
   "metadata": {},
   "outputs": [
    {
     "data": {
      "text/html": [
       "<div>\n",
       "<style scoped>\n",
       "    .dataframe tbody tr th:only-of-type {\n",
       "        vertical-align: middle;\n",
       "    }\n",
       "\n",
       "    .dataframe tbody tr th {\n",
       "        vertical-align: top;\n",
       "    }\n",
       "\n",
       "    .dataframe thead th {\n",
       "        text-align: right;\n",
       "    }\n",
       "</style>\n",
       "<table border=\"1\" class=\"dataframe\">\n",
       "  <thead>\n",
       "    <tr style=\"text-align: right;\">\n",
       "      <th></th>\n",
       "      <th>review</th>\n",
       "      <th>sentiment</th>\n",
       "      <th>review_length</th>\n",
       "      <th>review_lower</th>\n",
       "      <th>contains_amazing</th>\n",
       "      <th>review_category</th>\n",
       "      <th>contains_excellent</th>\n",
       "    </tr>\n",
       "  </thead>\n",
       "  <tbody>\n",
       "    <tr>\n",
       "      <th>31481</th>\n",
       "      <td>Match 1: Tag Team Table Match Bubba Ray and Sp...</td>\n",
       "      <td>positive</td>\n",
       "      <td>13704</td>\n",
       "      <td>match 1: tag team table match bubba ray and sp...</td>\n",
       "      <td>False</td>\n",
       "      <td>Longa</td>\n",
       "      <td>False</td>\n",
       "    </tr>\n",
       "    <tr>\n",
       "      <th>40521</th>\n",
       "      <td>There's a sign on The Lost Highway that says:&lt;...</td>\n",
       "      <td>positive</td>\n",
       "      <td>12988</td>\n",
       "      <td>there's a sign on the lost highway that says:&lt;...</td>\n",
       "      <td>False</td>\n",
       "      <td>Longa</td>\n",
       "      <td>True</td>\n",
       "    </tr>\n",
       "    <tr>\n",
       "      <th>31240</th>\n",
       "      <td>(Some spoilers included:)&lt;br /&gt;&lt;br /&gt;Although,...</td>\n",
       "      <td>positive</td>\n",
       "      <td>12930</td>\n",
       "      <td>(some spoilers included:)&lt;br /&gt;&lt;br /&gt;although,...</td>\n",
       "      <td>False</td>\n",
       "      <td>Longa</td>\n",
       "      <td>False</td>\n",
       "    </tr>\n",
       "    <tr>\n",
       "      <th>31436</th>\n",
       "      <td>Back in the mid/late 80s, an OAV anime by titl...</td>\n",
       "      <td>positive</td>\n",
       "      <td>12129</td>\n",
       "      <td>back in the mid/late 80s, an oav anime by titl...</td>\n",
       "      <td>False</td>\n",
       "      <td>Longa</td>\n",
       "      <td>False</td>\n",
       "    </tr>\n",
       "    <tr>\n",
       "      <th>5708</th>\n",
       "      <td>**Attention Spoilers**&lt;br /&gt;&lt;br /&gt;First of all...</td>\n",
       "      <td>positive</td>\n",
       "      <td>10363</td>\n",
       "      <td>**attention spoilers**&lt;br /&gt;&lt;br /&gt;first of all...</td>\n",
       "      <td>True</td>\n",
       "      <td>Longa</td>\n",
       "      <td>False</td>\n",
       "    </tr>\n",
       "  </tbody>\n",
       "</table>\n",
       "</div>"
      ],
      "text/plain": [
       "                                                  review sentiment  \\\n",
       "31481  Match 1: Tag Team Table Match Bubba Ray and Sp...  positive   \n",
       "40521  There's a sign on The Lost Highway that says:<...  positive   \n",
       "31240  (Some spoilers included:)<br /><br />Although,...  positive   \n",
       "31436  Back in the mid/late 80s, an OAV anime by titl...  positive   \n",
       "5708   **Attention Spoilers**<br /><br />First of all...  positive   \n",
       "\n",
       "       review_length                                       review_lower  \\\n",
       "31481          13704  match 1: tag team table match bubba ray and sp...   \n",
       "40521          12988  there's a sign on the lost highway that says:<...   \n",
       "31240          12930  (some spoilers included:)<br /><br />although,...   \n",
       "31436          12129  back in the mid/late 80s, an oav anime by titl...   \n",
       "5708           10363  **attention spoilers**<br /><br />first of all...   \n",
       "\n",
       "       contains_amazing review_category  contains_excellent  \n",
       "31481             False           Longa               False  \n",
       "40521             False           Longa                True  \n",
       "31240             False           Longa               False  \n",
       "31436             False           Longa               False  \n",
       "5708               True           Longa               False  "
      ]
     },
     "execution_count": 46,
     "metadata": {},
     "output_type": "execute_result"
    }
   ],
   "source": [
    "#Quais são as 5 reviews mais longas no dataset?\n",
    "\n",
    "#df.nlargest(5, 'review_length')['review']\n",
    "\n",
    "#fazer um sort do review_length em ordem decrescente e pegar os 5 primeiros\n",
    "\n",
    "sub_df = df.sort_values('review_length', ascending=False).head()\n",
    "sub_df\n"
   ]
  },
  {
   "cell_type": "code",
   "execution_count": null,
   "metadata": {},
   "outputs": [
    {
     "data": {
      "text/plain": [
       "141"
      ]
     },
     "execution_count": 55,
     "metadata": {},
     "output_type": "execute_result"
    }
   ],
   "source": [
    "#Quantas reviews mencionam ao mesmo tempo 'amazing' e 'boring'?\n",
    "\n",
    "len(df[(df['review_lower'].str.contains('amazing')) & (df['review_lower'].str.contains('boring'))])\n",
    "#precisamos pegar o lower case pois podemos perder reviews que contém 'Amazing' ou 'Boring'\n",
    "\n"
   ]
  },
  {
   "cell_type": "code",
   "execution_count": 54,
   "metadata": {},
   "outputs": [
    {
     "data": {
      "text/plain": [
       "138"
      ]
     },
     "execution_count": 54,
     "metadata": {},
     "output_type": "execute_result"
    }
   ],
   "source": [
    "#df [ df['contains_amazing'] & df['review'].str.contains('boring')]\n",
    "len(df [ df['contains_amazing'] & df['review'].str.contains('boring')])"
   ]
  },
  {
   "cell_type": "code",
   "execution_count": 62,
   "metadata": {},
   "outputs": [
    {
     "data": {
      "text/plain": [
       "contains_amazing\n",
       "False    1292.055091\n",
       "True     1642.517547\n",
       "Name: review_length, dtype: float64"
      ]
     },
     "execution_count": 62,
     "metadata": {},
     "output_type": "execute_result"
    }
   ],
   "source": [
    "#Existe alguma relação entre o tamanho da review e a presença da palavra 'amazing' ?\n",
    "\n",
    "# 1 a coluna a ser agrupada\n",
    "# 1 coluna vai ser utilizada com a coluna de critério\n",
    "# 1 métrica estatística de critério\n",
    "\n",
    "## df.groupby(coluna a ser agrupada)[coluna de critério].métrica()\n",
    "\n",
    "df.groupby('contains_amazing')['review_length'].mean()"
   ]
  },
  {
   "cell_type": "code",
   "execution_count": null,
   "metadata": {},
   "outputs": [
    {
     "data": {
      "text/plain": [
       "contains_movie\n",
       "False    1256.507726\n",
       "True     1338.026000\n",
       "Name: review_length, dtype: float64"
      ]
     },
     "execution_count": 64,
     "metadata": {},
     "output_type": "execute_result"
    }
   ],
   "source": [
    "#Existe diferença no tamanho médio das reviews entre aquelas que contêm a palavra 'movie' e as que não contêm?\n",
    "\n",
    "df['contains_movie'] = df['review'].str.contains('movie' , case=False) #case=False para não diferenciar maiúsculas de minúsculas\n",
    "\n",
    "df.groupby('contains_movie')['review_length'].mean()\n",
    "\n"
   ]
  },
  {
   "cell_type": "code",
   "execution_count": 66,
   "metadata": {},
   "outputs": [
    {
     "data": {
      "text/plain": [
       "\"One of the other reviewers has mentioned that after watching just 1 Oz episode you'll be hooked. They are right, as this is exactly what happened with me.<br /><br />The first thing that struck me about Oz was its brutality and unflinching scenes of violence, which set in right from the word GO. Trust me, this is not a show for the faint hearted or timid. This show pulls no punches with regards to drugs, sex or violence. Its is hardcore, in the classic use of the word.<br /><br />It is called OZ as that is the nickname given to the Oswald Maximum Security State Penitentary. It focuses mainly on Emerald City, an experimental section of the prison where all the cells have glass fronts and face inwards, so privacy is not high on the agenda. Em City is home to many..Aryans, Muslims, gangstas, Latinos, Christians, Italians, Irish and more....so scuffles, death stares, dodgy dealings and shady agreements are never far away.<br /><br />I would say the main appeal of the show is due to the fact that it goes where other shows wouldn't dare. Forget pretty pictures painted for mainstream audiences, forget charm, forget romance...OZ doesn't mess around. The first episode I ever saw struck me as so nasty it was surreal, I couldn't say I was ready for it, but as I watched more, I developed a taste for Oz, and got accustomed to the high levels of graphic violence. Not just violence, but injustice (crooked guards who'll be sold out for a nickel, inmates who'll kill on order and get away with it, well mannered, middle class inmates being turned into prison bitches due to their lack of street skills or prison experience) Watching Oz, you may become comfortable with what is uncomfortable viewing....thats if you can get in touch with your darker side.\""
      ]
     },
     "execution_count": 66,
     "metadata": {},
     "output_type": "execute_result"
    }
   ],
   "source": [
    "D = df.to_dict() #transforma o dataframe em um dicionário\n",
    "D['review'][0] #vamos ver o que tem na primeira linha da coluna review"
   ]
  },
  {
   "cell_type": "code",
   "execution_count": null,
   "metadata": {},
   "outputs": [],
   "source": [
    "df.to_csv('reviews_imbd_modificadas.csv' , index=False) #salvar o dataframe em um arquivo csv sem o index"
   ]
  },
  {
   "cell_type": "code",
   "execution_count": 70,
   "metadata": {},
   "outputs": [
    {
     "data": {
      "text/html": [
       "<div>\n",
       "<style scoped>\n",
       "    .dataframe tbody tr th:only-of-type {\n",
       "        vertical-align: middle;\n",
       "    }\n",
       "\n",
       "    .dataframe tbody tr th {\n",
       "        vertical-align: top;\n",
       "    }\n",
       "\n",
       "    .dataframe thead th {\n",
       "        text-align: right;\n",
       "    }\n",
       "</style>\n",
       "<table border=\"1\" class=\"dataframe\">\n",
       "  <thead>\n",
       "    <tr style=\"text-align: right;\">\n",
       "      <th></th>\n",
       "      <th>review</th>\n",
       "      <th>sentiment</th>\n",
       "      <th>review_length</th>\n",
       "      <th>review_lower</th>\n",
       "      <th>contains_amazing</th>\n",
       "      <th>review_category</th>\n",
       "      <th>contains_excellent</th>\n",
       "      <th>contains_movie</th>\n",
       "    </tr>\n",
       "  </thead>\n",
       "  <tbody>\n",
       "    <tr>\n",
       "      <th>0</th>\n",
       "      <td>One of the other reviewers has mentioned that ...</td>\n",
       "      <td>positive</td>\n",
       "      <td>1761</td>\n",
       "      <td>one of the other reviewers has mentioned that ...</td>\n",
       "      <td>False</td>\n",
       "      <td>Longa</td>\n",
       "      <td>False</td>\n",
       "      <td>False</td>\n",
       "    </tr>\n",
       "    <tr>\n",
       "      <th>1</th>\n",
       "      <td>A wonderful little production. &lt;br /&gt;&lt;br /&gt;The...</td>\n",
       "      <td>positive</td>\n",
       "      <td>998</td>\n",
       "      <td>a wonderful little production. &lt;br /&gt;&lt;br /&gt;the...</td>\n",
       "      <td>False</td>\n",
       "      <td>Média</td>\n",
       "      <td>False</td>\n",
       "      <td>False</td>\n",
       "    </tr>\n",
       "    <tr>\n",
       "      <th>2</th>\n",
       "      <td>I thought this was a wonderful way to spend ti...</td>\n",
       "      <td>positive</td>\n",
       "      <td>926</td>\n",
       "      <td>i thought this was a wonderful way to spend ti...</td>\n",
       "      <td>False</td>\n",
       "      <td>Média</td>\n",
       "      <td>False</td>\n",
       "      <td>False</td>\n",
       "    </tr>\n",
       "    <tr>\n",
       "      <th>3</th>\n",
       "      <td>Basically there's a family where a little boy ...</td>\n",
       "      <td>negative</td>\n",
       "      <td>748</td>\n",
       "      <td>basically there's a family where a little boy ...</td>\n",
       "      <td>False</td>\n",
       "      <td>Média</td>\n",
       "      <td>False</td>\n",
       "      <td>True</td>\n",
       "    </tr>\n",
       "    <tr>\n",
       "      <th>4</th>\n",
       "      <td>Petter Mattei's \"Love in the Time of Money\" is...</td>\n",
       "      <td>positive</td>\n",
       "      <td>1317</td>\n",
       "      <td>petter mattei's \"love in the time of money\" is...</td>\n",
       "      <td>False</td>\n",
       "      <td>Longa</td>\n",
       "      <td>False</td>\n",
       "      <td>True</td>\n",
       "    </tr>\n",
       "    <tr>\n",
       "      <th>...</th>\n",
       "      <td>...</td>\n",
       "      <td>...</td>\n",
       "      <td>...</td>\n",
       "      <td>...</td>\n",
       "      <td>...</td>\n",
       "      <td>...</td>\n",
       "      <td>...</td>\n",
       "      <td>...</td>\n",
       "    </tr>\n",
       "    <tr>\n",
       "      <th>49995</th>\n",
       "      <td>I thought this movie did a down right good job...</td>\n",
       "      <td>positive</td>\n",
       "      <td>1008</td>\n",
       "      <td>i thought this movie did a down right good job...</td>\n",
       "      <td>False</td>\n",
       "      <td>Longa</td>\n",
       "      <td>False</td>\n",
       "      <td>True</td>\n",
       "    </tr>\n",
       "    <tr>\n",
       "      <th>49996</th>\n",
       "      <td>Bad plot, bad dialogue, bad acting, idiotic di...</td>\n",
       "      <td>negative</td>\n",
       "      <td>642</td>\n",
       "      <td>bad plot, bad dialogue, bad acting, idiotic di...</td>\n",
       "      <td>False</td>\n",
       "      <td>Média</td>\n",
       "      <td>False</td>\n",
       "      <td>False</td>\n",
       "    </tr>\n",
       "    <tr>\n",
       "      <th>49997</th>\n",
       "      <td>I am a Catholic taught in parochial elementary...</td>\n",
       "      <td>negative</td>\n",
       "      <td>1280</td>\n",
       "      <td>i am a catholic taught in parochial elementary...</td>\n",
       "      <td>False</td>\n",
       "      <td>Longa</td>\n",
       "      <td>False</td>\n",
       "      <td>True</td>\n",
       "    </tr>\n",
       "    <tr>\n",
       "      <th>49998</th>\n",
       "      <td>I'm going to have to disagree with the previou...</td>\n",
       "      <td>negative</td>\n",
       "      <td>1234</td>\n",
       "      <td>i'm going to have to disagree with the previou...</td>\n",
       "      <td>False</td>\n",
       "      <td>Longa</td>\n",
       "      <td>False</td>\n",
       "      <td>False</td>\n",
       "    </tr>\n",
       "    <tr>\n",
       "      <th>49999</th>\n",
       "      <td>No one expects the Star Trek movies to be high...</td>\n",
       "      <td>negative</td>\n",
       "      <td>678</td>\n",
       "      <td>no one expects the star trek movies to be high...</td>\n",
       "      <td>False</td>\n",
       "      <td>Média</td>\n",
       "      <td>False</td>\n",
       "      <td>True</td>\n",
       "    </tr>\n",
       "  </tbody>\n",
       "</table>\n",
       "<p>50000 rows × 8 columns</p>\n",
       "</div>"
      ],
      "text/plain": [
       "                                                  review sentiment  \\\n",
       "0      One of the other reviewers has mentioned that ...  positive   \n",
       "1      A wonderful little production. <br /><br />The...  positive   \n",
       "2      I thought this was a wonderful way to spend ti...  positive   \n",
       "3      Basically there's a family where a little boy ...  negative   \n",
       "4      Petter Mattei's \"Love in the Time of Money\" is...  positive   \n",
       "...                                                  ...       ...   \n",
       "49995  I thought this movie did a down right good job...  positive   \n",
       "49996  Bad plot, bad dialogue, bad acting, idiotic di...  negative   \n",
       "49997  I am a Catholic taught in parochial elementary...  negative   \n",
       "49998  I'm going to have to disagree with the previou...  negative   \n",
       "49999  No one expects the Star Trek movies to be high...  negative   \n",
       "\n",
       "       review_length                                       review_lower  \\\n",
       "0               1761  one of the other reviewers has mentioned that ...   \n",
       "1                998  a wonderful little production. <br /><br />the...   \n",
       "2                926  i thought this was a wonderful way to spend ti...   \n",
       "3                748  basically there's a family where a little boy ...   \n",
       "4               1317  petter mattei's \"love in the time of money\" is...   \n",
       "...              ...                                                ...   \n",
       "49995           1008  i thought this movie did a down right good job...   \n",
       "49996            642  bad plot, bad dialogue, bad acting, idiotic di...   \n",
       "49997           1280  i am a catholic taught in parochial elementary...   \n",
       "49998           1234  i'm going to have to disagree with the previou...   \n",
       "49999            678  no one expects the star trek movies to be high...   \n",
       "\n",
       "       contains_amazing review_category  contains_excellent  contains_movie  \n",
       "0                 False           Longa               False           False  \n",
       "1                 False           Média               False           False  \n",
       "2                 False           Média               False           False  \n",
       "3                 False           Média               False            True  \n",
       "4                 False           Longa               False            True  \n",
       "...                 ...             ...                 ...             ...  \n",
       "49995             False           Longa               False            True  \n",
       "49996             False           Média               False           False  \n",
       "49997             False           Longa               False            True  \n",
       "49998             False           Longa               False           False  \n",
       "49999             False           Média               False            True  \n",
       "\n",
       "[50000 rows x 8 columns]"
      ]
     },
     "execution_count": 70,
     "metadata": {},
     "output_type": "execute_result"
    }
   ],
   "source": [
    "pd.read_csv('reviews_imbd_modificadas.csv') #ler o arquivo csv"
   ]
  },
  {
   "cell_type": "code",
   "execution_count": 73,
   "metadata": {},
   "outputs": [],
   "source": [
    "import json\n",
    "\n",
    "\n",
    "stats = {\n",
    "    'total_reviews': len(df),\n",
    "    'avg_review_length': df['review_length'].mean(),\n",
    "    'percent_contains_amazing': df['contains_amazing'].mean(),\n",
    "}\n",
    "\n",
    "with open('reviews_imdb_completo.json', 'w') as f:\n",
    "    json.dump(stats, f) #salvar o dicionário em um arquivo json"
   ]
  },
  {
   "cell_type": "code",
   "execution_count": 74,
   "metadata": {},
   "outputs": [
    {
     "data": {
      "text/plain": [
       "{'total_reviews': 50000,\n",
       " 'avg_review_length': 1309.43102,\n",
       " 'percent_contains_amazing': 0.04958}"
      ]
     },
     "execution_count": 74,
     "metadata": {},
     "output_type": "execute_result"
    }
   ],
   "source": [
    "#abrir o json\n",
    "\n",
    "with open('reviews_imdb_completo.json', 'r') as f:\n",
    "    stats = json.load(f)\n",
    "\n",
    "stats"
   ]
  }
 ],
 "metadata": {
  "kernelspec": {
   "display_name": "Python 3",
   "language": "python",
   "name": "python3"
  },
  "language_info": {
   "codemirror_mode": {
    "name": "ipython",
    "version": 3
   },
   "file_extension": ".py",
   "mimetype": "text/x-python",
   "name": "python",
   "nbconvert_exporter": "python",
   "pygments_lexer": "ipython3",
   "version": "3.11.5"
  }
 },
 "nbformat": 4,
 "nbformat_minor": 2
}

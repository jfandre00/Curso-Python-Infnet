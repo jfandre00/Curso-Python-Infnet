{
 "cells": [
  {
   "cell_type": "code",
   "execution_count": 2,
   "metadata": {},
   "outputs": [],
   "source": [
    "from sqlalchemy import create_engine\n",
    "from sqlalchemy.orm import sessionmaker, declarative_base\n",
    "from sqlalchemy import Column, Integer, String, Float"
   ]
  },
  {
   "cell_type": "code",
   "execution_count": 3,
   "metadata": {},
   "outputs": [],
   "source": [
    "#Criando a conexão com o banco de dados\n",
    "\n",
    "engine = create_engine('sqlite:///superstore.db')\n",
    "\n",
    "Base = declarative_base()\n",
    "\n",
    "#Criando uma classe que representa a tabela \"pedidos\"\n",
    "\n",
    "class Pedidos(Base):\n",
    "    __tablename__ = 'pedidos'\n",
    "    id = Column(Integer, primary_key=True, autoincrement=True)\n",
    "    nome_cliente = Column(String)\n",
    "    cidade = Column(String)\n",
    "    categoria = Column(String)\n",
    "    quantidade = Column(Integer)\n",
    "    vendas = Column(Float)\n",
    "\n",
    "#Criando a tabela no banco de dados\n",
    "\n",
    "Base.metadata.create_all(engine)\n",
    "\n",
    "#Criando uma sessão para inserir dados na tabela\n",
    "\n",
    "Session = sessionmaker(bind=engine)\n",
    "\n",
    "session = Session()\n",
    "\n",
    "#Inserindo dados na tabela\n",
    "\n",
    "pedido1 = Pedidos(nome_cliente='João', cidade='São Paulo', categoria='Tecnologia', quantidade=2, vendas=1000.00)\n",
    "pedido2 = Pedidos(nome_cliente='Maria', cidade='Rio de Janeiro', categoria='Livros', quantidade=3, vendas=200.00)\n",
    "pedido3 = Pedidos(nome_cliente='José', cidade='Curitiba', categoria='Decoração', quantidade=1, vendas=500.00)\n",
    "\n",
    "session.add(pedido1)\n",
    "session.add(pedido2)\n",
    "session.add(pedido3)\n",
    "\n",
    "\n"
   ]
  },
  {
   "cell_type": "code",
   "execution_count": 5,
   "metadata": {},
   "outputs": [
    {
     "name": "stdout",
     "output_type": "stream",
     "text": [
      "João 1000.0\n",
      "José 500.0\n"
     ]
    }
   ],
   "source": [
    "#Filtrar pedidos com vendas maiores ou iguias a 500.00\n",
    "\n",
    "pedidos = session.query(Pedidos).filter(Pedidos.vendas >= 500.00)\n",
    "for pedido in pedidos:\n",
    "    print(pedido.nome_cliente, pedido.vendas)"
   ]
  },
  {
   "cell_type": "code",
   "execution_count": null,
   "metadata": {},
   "outputs": [],
   "source": [
    "#Buscar um pedido e atualizar a quantidade\n",
    "\n",
    "pedido = session.query(Pedidos).filter(Pedidos.nome_cliente == 'João').first()\n",
    "pedido.quantidade = 3\n",
    "\n",
    "session.commit()"
   ]
  },
  {
   "cell_type": "code",
   "execution_count": 7,
   "metadata": {},
   "outputs": [
    {
     "name": "stdout",
     "output_type": "stream",
     "text": [
      "João 3\n",
      "Maria 3\n",
      "José 1\n"
     ]
    }
   ],
   "source": [
    "#Consultar todos os pedidos\n",
    "\n",
    "pedidos = session.query(Pedidos).all()\n",
    "for pedido in pedidos:\n",
    "    print(pedido.nome_cliente, pedido.quantidade)"
   ]
  },
  {
   "cell_type": "code",
   "execution_count": 8,
   "metadata": {},
   "outputs": [],
   "source": [
    "#Buscar e excluir um pedido\n",
    "\n",
    "pedido = session.query(Pedidos).filter(Pedidos.nome_cliente == 'Maria').first()\n",
    "session.delete(pedido)\n",
    "\n",
    "session.commit()\n"
   ]
  },
  {
   "cell_type": "code",
   "execution_count": 10,
   "metadata": {},
   "outputs": [
    {
     "name": "stdout",
     "output_type": "stream",
     "text": [
      "João 3\n",
      "José 1\n"
     ]
    }
   ],
   "source": [
    "#Consultar todos os pedidos\n",
    "\n",
    "pedidos = session.query(Pedidos).all()\n",
    "for pedido in pedidos:\n",
    "    print(pedido.nome_cliente, pedido.quantidade)"
   ]
  },
  {
   "cell_type": "code",
   "execution_count": 13,
   "metadata": {},
   "outputs": [
    {
     "name": "stdout",
     "output_type": "stream",
     "text": [
      "  nome_cliente  id  vendas     cidade  quantidade   categoria\n",
      "0         João   1  1000.0  São Paulo           3  Tecnologia\n",
      "1         José   3   500.0   Curitiba           1   Decoração\n"
     ]
    }
   ],
   "source": [
    "#Abrir a tabela no pandas (ORM)\n",
    "\n",
    "import pandas as pd\n",
    "\n",
    "#Buscando todos os registro da tabela pedidos\n",
    "pedidos = session.query(Pedidos).all()\n",
    "\n",
    "#Convertendo para um DataFrame Pandas\n",
    "df = pd.DataFrame([pedido.__dict__ for pedido in pedidos])\n",
    "\n",
    "#Removendo a coluna _sa_instance_state (gerada pelo SQLAlchemy)\n",
    "df.drop(columns=['_sa_instance_state'], inplace=True, errors='ignore')\n",
    "\n",
    "#Exibindo o DataFrame\n",
    "print(df)"
   ]
  },
  {
   "cell_type": "code",
   "execution_count": 15,
   "metadata": {},
   "outputs": [
    {
     "name": "stdout",
     "output_type": "stream",
     "text": [
      "   id nome_cliente     cidade   categoria  quantidade  vendas\n",
      "0   1         João  São Paulo  Tecnologia           3  1000.0\n",
      "1   3         José   Curitiba   Decoração           1   500.0\n"
     ]
    }
   ],
   "source": [
    "#Abrir a tabela no pandas (mais eficiente)\n",
    "\n",
    "import pandas as pd\n",
    "from sqlalchemy import create_engine\n",
    "\n",
    "#Criando conexão com o banco de dados\n",
    "engine = create_engine('sqlite:///superstore.db')\n",
    "\n",
    "#Lendo a tabela pedidos e carregando em um DataFrame\n",
    "df = pd.read_sql(\"SELECT * FROM pedidos\", con=engine)\n",
    "\n",
    "#Exibindo o DataFrame\n",
    "print(df)"
   ]
  }
 ],
 "metadata": {
  "kernelspec": {
   "display_name": "Python 3",
   "language": "python",
   "name": "python3"
  },
  "language_info": {
   "codemirror_mode": {
    "name": "ipython",
    "version": 3
   },
   "file_extension": ".py",
   "mimetype": "text/x-python",
   "name": "python",
   "nbconvert_exporter": "python",
   "pygments_lexer": "ipython3",
   "version": "3.11.5"
  }
 },
 "nbformat": 4,
 "nbformat_minor": 2
}

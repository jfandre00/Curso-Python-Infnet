{
 "cells": [
  {
   "cell_type": "markdown",
   "metadata": {},
   "source": [
    "## Criando uma Classe Básica\n",
    "\n",
    "Crie uma classe Pessoa que tenha os atributos nome e idade\n",
    "Intancie um objeto e exiba seus atributos"
   ]
  },
  {
   "cell_type": "code",
   "execution_count": 1,
   "metadata": {},
   "outputs": [
    {
     "name": "stdout",
     "output_type": "stream",
     "text": [
      "Nome: João, Idade: 20\n"
     ]
    }
   ],
   "source": [
    "class Pessoa:\n",
    "    def __init__(self, nome, idade):\n",
    "        self.nome = nome\n",
    "        self.idade = idade\n",
    "\n",
    "#Criando um objeto da classe Pessoa\n",
    "pessoa1 = Pessoa(\"João\", 20)\n",
    "\n",
    "#Exibindo os atributos\n",
    "print(f\"Nome: {pessoa1.nome}, Idade: {pessoa1.idade}\")"
   ]
  },
  {
   "cell_type": "markdown",
   "metadata": {},
   "source": [
    "## Criando uma Classe Livro\n",
    "Crie uma classe Livro com os atributos titulo, autor e ano\n",
    "Instancie 3 objetos e exiba as informações"
   ]
  },
  {
   "cell_type": "code",
   "execution_count": 2,
   "metadata": {},
   "outputs": [
    {
     "name": "stdout",
     "output_type": "stream",
     "text": [
      "Título: Python para Desenvolvedores, Autor: Luiz Eduardo Borges, Ano: 2015\n",
      "Título: Python Fluente, Autor: Luciano Ramalho, Ano: 2015\n",
      "Título: Python Cookbook, Autor: David Beazley, Ano: 2013\n"
     ]
    }
   ],
   "source": [
    "class Livro:\n",
    "    def __init__(self, titulo, autor, ano):\n",
    "        self.titulo = titulo\n",
    "        self.autor = autor\n",
    "        self.ano = ano\n",
    "\n",
    "#Criando um objeto da classe Livro\n",
    "livro1 = Livro(\"Python para Desenvolvedores\", \"Luiz Eduardo Borges\", 2015)\n",
    "livro2 = Livro(\"Python Fluente\", \"Luciano Ramalho\", 2015)\n",
    "livro3 = Livro(\"Python Cookbook\", \"David Beazley\", 2013)\n",
    "\n",
    "#Exibindo as informações\n",
    "\n",
    "for livro in [livro1, livro2, livro3]:\n",
    "    print(f\"Título: {livro.titulo}, Autor: {livro.autor}, Ano: {livro.ano}\")"
   ]
  },
  {
   "cell_type": "markdown",
   "metadata": {},
   "source": [
    "## Métodos em Classes\n",
    "\n",
    "Adicione um método apresentar() à classe Pessoa que exiba a frase: 'Olá, meu nome é [nome] e eu tenho [idade] anos.'"
   ]
  },
  {
   "cell_type": "code",
   "execution_count": 6,
   "metadata": {},
   "outputs": [
    {
     "name": "stdout",
     "output_type": "stream",
     "text": [
      "Olá, meu nome é João e eu tenho 20 anos.\n"
     ]
    },
    {
     "data": {
      "text/plain": [
       "'Olá, eu sou capaz de andar 300 metros em 1 hora.'"
      ]
     },
     "execution_count": 6,
     "metadata": {},
     "output_type": "execute_result"
    }
   ],
   "source": [
    "class Pessoa:\n",
    "    def __init__(self, nome, idade):\n",
    "        self.nome = nome\n",
    "        self.idade = idade\n",
    "\n",
    "    def exibir_informacoes(self):\n",
    "        print(f\"Olá, meu nome é {self.nome} e eu tenho {self.idade} anos.\")\n",
    "\n",
    "    def andar(self, distancia):\n",
    "        return f\"Olá, eu sou capaz de andar {distancia} metros em 1 hora.\"\n",
    "\n",
    "#Criando um objeto da classe Pessoa e chamando o método exibir_informacoes\n",
    "\n",
    "pessoa1 = Pessoa(\"João\", 20)\n",
    "pessoa1.exibir_informacoes()\n",
    "\n",
    "pessoa1.andar(300)"
   ]
  },
  {
   "cell_type": "code",
   "execution_count": null,
   "metadata": {},
   "outputs": [
    {
     "data": {
      "text/plain": [
       "'Saldo de João: R$ 600'"
      ]
     },
     "execution_count": 8,
     "metadata": {},
     "output_type": "execute_result"
    }
   ],
   "source": [
    "#Criando uma Conta Bancária\n",
    "\n",
    "class ContaBancaria:\n",
    "    def __init__(self, titular, saldo=0):\n",
    "        self.titular = titular\n",
    "        self.__saldo = saldo #Atributo privado, só pode ser acessado dentro da classe, por meio de métodos (funções). Se você chamar conta.__saldo, vai dar erro.\n",
    "\n",
    "    def depositar(self, valor):\n",
    "        self.__saldo += valor\n",
    "    \n",
    "    def sacar(self, valor):\n",
    "        if valor > self.__saldo:\n",
    "            print('Saldo insuficiente')\n",
    "        else:\n",
    "            self.__saldo -= valor\n",
    "\n",
    "    def exibir_saldo(self):\n",
    "        return f\"Saldo de {self.titular}: R$ {self.__saldo}\"\n",
    "    \n",
    "#Criando a conta e testando métodos\n",
    "conta = ContaBancaria(\"João\", 500)\n",
    "conta.depositar(200)\n",
    "conta.sacar(100)\n",
    "conta.exibir_saldo()"
   ]
  },
  {
   "cell_type": "code",
   "execution_count": null,
   "metadata": {},
   "outputs": [
    {
     "name": "stdout",
     "output_type": "stream",
     "text": [
      "Tesla Model S\n"
     ]
    }
   ],
   "source": [
    "#Herança em Classes \n",
    "#Crie uma classe veículo e duas subclasses Carro e Moto\n",
    "#Cada subclasse \n",
    "\n",
    "marca = \"Toyota\"\n",
    "modelo = \"Corolla\"\n",
    "ano = 2020\n",
    "\n",
    "class Carro:\n",
    "    def __init__(self, marca, modelo, ano):\n",
    "        self.marca = marca\n",
    "        self.modelo = modelo\n",
    "        self.ano = ano\n",
    "        \n",
    "     \n",
    "    def __str__(self): #quando eu chamar a instância carro ele vai imprimir\n",
    "        return f\"{self.marca} {self.modelo}\"\n",
    "\n",
    "carro1 = Carro(\"Tesla\", \"Model S\", 2024)\n",
    "print(carro1)"
   ]
  },
  {
   "cell_type": "code",
   "execution_count": 14,
   "metadata": {},
   "outputs": [
    {
     "name": "stdout",
     "output_type": "stream",
     "text": [
      "11\n"
     ]
    }
   ],
   "source": [
    "class Texto:\n",
    "    def __init__(self, conteudo):\n",
    "        self.conteudo = conteudo\n",
    "    \n",
    "    def __len__(self):\n",
    "        return len(self.conteudo)\n",
    "    \n",
    "meu_texto = Texto(\"Olá, Mundo!\")\n",
    "meu_texto\n",
    "\n",
    "print(len(meu_texto))"
   ]
  },
  {
   "cell_type": "markdown",
   "metadata": {},
   "source": [
    "## Herança em Python\n",
    "\n",
    "permite criar código estável, reutilizável e confiável, reduzindo a necessidade de duplicação\n",
    "\n",
    "Classe \"pai\" - superclasse\n",
    "Classe \"filha\" - herda esses atributos e métodos e pode adicionar ou modificar comportamentos\n",
    "\n"
   ]
  },
  {
   "cell_type": "code",
   "execution_count": 4,
   "metadata": {},
   "outputs": [],
   "source": [
    "class Veiculo:\n",
    "    def __init__(self, marca, modelo, ano):\n",
    "        self.marca = marca\n",
    "        self.modelo = modelo\n",
    "        self.ano = ano\n",
    "    \n",
    "    def exibir_info(self):\n",
    "        return f\"{self.ano} {self.marca} {self.modelo}\"\n",
    "    \n",
    "    def ligar(self):\n",
    "        return f\"{self.marca} {self.modelo} está ligado\""
   ]
  },
  {
   "cell_type": "code",
   "execution_count": 5,
   "metadata": {},
   "outputs": [
    {
     "data": {
      "text/plain": [
       "'Volkswagen gol está ligado'"
      ]
     },
     "execution_count": 5,
     "metadata": {},
     "output_type": "execute_result"
    }
   ],
   "source": [
    "caminhao1 = Veiculo('Volkswagen', 'gol', 2010)\n",
    "caminhao1.exibir_info()\n",
    "caminhao1.ligar()"
   ]
  },
  {
   "cell_type": "code",
   "execution_count": 6,
   "metadata": {},
   "outputs": [
    {
     "name": "stdout",
     "output_type": "stream",
     "text": [
      "2022 Toyota Corolla, 4 portas\n",
      "Toyota Corolla está ligado\n"
     ]
    }
   ],
   "source": [
    "#Classe filha Carro que herda de Veiculo\n",
    "\n",
    "class Carro(Veiculo):\n",
    "    def __init__(self, marca, modelo, ano, portas):\n",
    "        super().__init__(marca, modelo, ano) #Chama o __init__ da classe pai\n",
    "        self.portas = portas # Novo atributo específico de Carro\n",
    "\n",
    "    #Sobrescrevendo um método da classe pai\n",
    "    def exibir_info(self):\n",
    "        return f\"{self.ano} {self.marca} {self.modelo}, {self.portas} portas\"\n",
    "\n",
    "\n",
    "carro1 = Carro(\"Toyota\", \"Corolla\", 2022, 4)\n",
    "print(carro1.exibir_info())\n",
    "print(carro1.ligar())"
   ]
  },
  {
   "cell_type": "code",
   "execution_count": 8,
   "metadata": {},
   "outputs": [
    {
     "name": "stdout",
     "output_type": "stream",
     "text": [
      "2021 Honda CB 500, 500 cilindradas\n",
      "Honda CB 500 está ligado\n"
     ]
    }
   ],
   "source": [
    "#Classe filha Moto que herda de Veiculo\n",
    "\n",
    "class Moto(Veiculo):\n",
    "    def __init__(self, marca, modelo, ano, cilindradas):\n",
    "        super().__init__(marca, modelo, ano)\n",
    "        self.cilindradas = cilindradas\n",
    "\n",
    "    def exibir_info(self):\n",
    "        return f\"{self.ano} {self.marca} {self.modelo}, {self.cilindradas} cilindradas\"\n",
    "    \n",
    "moto1 = Moto(\"Honda\", \"CB 500\", 2021, 500)\n",
    "print(moto1.exibir_info())\n",
    "print(moto1.ligar())"
   ]
  },
  {
   "cell_type": "code",
   "execution_count": null,
   "metadata": {},
   "outputs": [
    {
     "name": "stdout",
     "output_type": "stream",
     "text": [
      "Toyota Corolla está ligado.\n",
      "Toyota Corolla está ligado. Pronto para acelerar!\n"
     ]
    }
   ],
   "source": [
    "#Aqui a classe Veiculo tem um método ligar(), e a subclasse Carro o reutiliza\n",
    "\n",
    "class Veiculo:\n",
    "    def __init__(self, marca, modelo):\n",
    "        self.marca = marca\n",
    "        self.modelo = modelo\n",
    "    \n",
    "    def ligar(self):\n",
    "        return f\"{self.marca} {self.modelo} está ligado.\"\n",
    "    \n",
    "# Subclasse Carro\n",
    "class Carro(Veiculo):\n",
    "    def __init__(self, marca, modelo, portas):\n",
    "        super().__init__(marca, modelo) # Chama o __init__ da superclasse\n",
    "        self.portas = portas\n",
    "\n",
    "    def ligar_carro(self):\n",
    "        return super().ligar() + \" Pronto para dirigir!\"\n",
    "\n",
    "# Criando objeto\n",
    "meu_carro = Carro(\"Toyota\", \"Corolla\", 4)\n",
    "\n",
    "#Chamando método da classe pai\n",
    "print(meu_carro.ligar())\n",
    "\n",
    "#Chamando métodos\n",
    "print(meu_carro.ligar_carro())"
   ]
  }
 ],
 "metadata": {
  "kernelspec": {
   "display_name": "Python 3",
   "language": "python",
   "name": "python3"
  },
  "language_info": {
   "codemirror_mode": {
    "name": "ipython",
    "version": 3
   },
   "file_extension": ".py",
   "mimetype": "text/x-python",
   "name": "python",
   "nbconvert_exporter": "python",
   "pygments_lexer": "ipython3",
   "version": "3.11.5"
  }
 },
 "nbformat": 4,
 "nbformat_minor": 2
}

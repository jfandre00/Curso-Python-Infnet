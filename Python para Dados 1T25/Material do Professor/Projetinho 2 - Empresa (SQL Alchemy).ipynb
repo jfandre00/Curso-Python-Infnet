{
 "cells": [
  {
   "cell_type": "markdown",
   "id": "17658c5e",
   "metadata": {},
   "source": [
    "# Projeto de Banco de Dados com SQLAlchemy"
   ]
  },
  {
   "cell_type": "markdown",
   "id": "a0d7623f-6589-4650-8967-0666d4fbbee9",
   "metadata": {},
   "source": [
    "\n",
    "## **Criação do Banco de Dados**\n",
    " **Crie um banco de dados SQLite** que contenha as seguintes tabelas:\n",
    "   - **Departamento** (um departamento pode ter vários funcionários).\n",
    "   - **Funcionário** (um funcionário pertence a um departamento e pode ter vários projetos).\n",
    "   - **Projeto** (um projeto pertence a um único funcionário).\n"
   ]
  },
  {
   "cell_type": "code",
   "execution_count": 1,
   "id": "2b708c33",
   "metadata": {},
   "outputs": [],
   "source": [
    "from sqlalchemy import create_engine, Column, Integer, String, ForeignKey\n",
    "from sqlalchemy.orm import declarative_base, relationship, sessionmaker\n",
    "\n",
    "# Criando a base ORM\n",
    "Base = declarative_base()"
   ]
  },
  {
   "cell_type": "code",
   "execution_count": 2,
   "id": "7a2322f3",
   "metadata": {},
   "outputs": [],
   "source": [
    "class Departamento(Base):\n",
    "    __tablename__ = \"departamentos\"\n",
    "\n",
    "    id = Column(Integer, primary_key=True, autoincrement=True)\n",
    "    nome = Column(String, nullable=False, unique=True)\n",
    "\n",
    "    # Relacionamento com Funcionários (One-to-Many)\n",
    "    funcionarios = relationship(\"Funcionario\", back_populates=\"departamento\")\n",
    "\n",
    "class Funcionario(Base):\n",
    "    __tablename__ = \"funcionarios\"\n",
    "\n",
    "    id = Column(Integer, primary_key=True, autoincrement=True)\n",
    "    nome = Column(String, nullable=False)\n",
    "    cargo = Column(String, nullable=False)\n",
    "    salario = Column(Integer, nullable=False)\n",
    "    departamento_id = Column(Integer, ForeignKey(\"departamentos.id\"))\n",
    "\n",
    "    # Relacionamento com Departamento (Many-to-One)\n",
    "    departamento = relationship(\"Departamento\", back_populates=\"funcionarios\")\n",
    "\n",
    "    # Relacionamento com Projetos (One-to-Many)\n",
    "    projetos = relationship(\"Projeto\", back_populates=\"funcionario\")\n",
    "\n",
    "class Projeto(Base):\n",
    "    __tablename__ = \"projetos\"\n",
    "\n",
    "    id = Column(Integer, primary_key=True, autoincrement=True)\n",
    "    nome = Column(String, nullable=False, unique=True)\n",
    "    descricao = Column(String)\n",
    "    funcionario_id = Column(Integer, ForeignKey(\"funcionarios.id\"))\n",
    "\n",
    "    # Relacionamento com Funcionário (Many-to-One)\n",
    "    funcionario = relationship(\"Funcionario\", back_populates=\"projetos\")"
   ]
  },
  {
   "cell_type": "code",
   "execution_count": 3,
   "id": "fe91d240-249e-42b2-9815-b78363dcbc34",
   "metadata": {},
   "outputs": [],
   "source": [
    "engine = create_engine(\"sqlite:///banco.db\", echo=False) # conectou ao banco de dados banco.db caso ele exista (c.c. cria um novo)\n",
    "Base.metadata.create_all(engine)"
   ]
  },
  {
   "cell_type": "code",
   "execution_count": 4,
   "id": "601ad5cd-3119-4731-82b2-72dbd71feb35",
   "metadata": {},
   "outputs": [],
   "source": [
    "# Criar uma sessão\n",
    "Session = sessionmaker(bind=engine)\n",
    "session = Session()"
   ]
  },
  {
   "cell_type": "markdown",
   "id": "2ebc0434-3e6d-4434-9060-7a863c48981f",
   "metadata": {},
   "source": [
    "\n",
    "## **Inserção de Dados**\n",
    "**Crie e adicione os seguintes departamentos ao banco de dados:**\n",
    "   - \"TI\"\n",
    "   - \"RH\"\n",
    "   - \"Financeiro\""
   ]
  },
  {
   "cell_type": "code",
   "execution_count": 5,
   "id": "03a0b97b-839f-40b2-9603-c64f6d5afe63",
   "metadata": {},
   "outputs": [],
   "source": [
    "# adicionar algo a alguma tabela: session.add, depois session.commit()"
   ]
  },
  {
   "cell_type": "code",
   "execution_count": 6,
   "id": "1b38ed98-91db-4b02-a713-52c6db04c3bd",
   "metadata": {},
   "outputs": [],
   "source": [
    "# Criando linhas na tabela Departamento\n",
    "dep1 = Departamento(nome=\"TI\")\n",
    "dep2 = Departamento(nome=\"RH\")\n",
    "dep3 = Departamento(nome=\"Financeiro\")\n",
    "\n",
    "session.add_all([dep1, dep2, dep3])\n",
    "session.commit()"
   ]
  },
  {
   "cell_type": "markdown",
   "id": "8960548e-abf2-4cc6-bafe-04cbc74f3761",
   "metadata": {},
   "source": [
    "**Crie e adicione os seguintes funcionários ao banco de dados, vinculando-os a seus departamentos:**\n",
    "   - \"Carlos\", \"Desenvolvedor\", salário: **5000** → Departamento: **TI**\n",
    "   - \"Ana\", \"Analista de RH\", salário: **4000** → Departamento: **RH**\n",
    "   - \"Mariana\", \"Contadora\", salário: **4500** → Departamento: **Financeiro**"
   ]
  },
  {
   "cell_type": "code",
   "execution_count": 7,
   "id": "ab8160b1-3e9a-415e-9f68-6256d0f85f91",
   "metadata": {},
   "outputs": [],
   "source": [
    "func1 = Funcionario(nome=\"Carlos\", cargo=\"Desenvolvedor\", salario=5000, departamento=dep1)\n",
    "func2 = Funcionario(nome=\"Ana\", cargo=\"Analista de RH\", salario=4000, departamento=dep2)\n",
    "func3 = Funcionario(nome=\"Mariana\", cargo=\"Contadora\", salario=4500, departamento=dep3)\n",
    "\n",
    "session.add_all([func1, func2, func3])\n",
    "session.commit()"
   ]
  },
  {
   "cell_type": "markdown",
   "id": "93ef9f4b-e8a0-41b8-b397-1933dc38a771",
   "metadata": {},
   "source": [
    " **Crie e adicione os seguintes projetos ao banco de dados, vinculando-os a seus respectivos funcionários:**\n",
    "   - \"Sistema Web\", descrição: **\"Desenvolvimento de um sistema web\"** → Funcionário: **Carlos**\n",
    "   - \"Treinamento Interno\", descrição: **\"Organização de treinamentos para funcionários\"** → Funcionário: **Ana**\n",
    "   - \"Auditoria 2024\", descrição: **\"Planejamento da auditoria financeira anual\"** → Funcionário: **Ana**\n",
    "   - \"Gestão de clientes\", descrição: **\"Controle e manutenção de clientes na firma\"** → Funcionário: **Mariana**"
   ]
  },
  {
   "cell_type": "code",
   "execution_count": 8,
   "id": "5fc02255",
   "metadata": {},
   "outputs": [],
   "source": [
    "proj1 = Projeto(nome=\"Sistema Web\", descricao=\"Desenvolvimento de um sistema web\", funcionario=func1)\n",
    "proj2 = Projeto(nome=\"Treinamento Interno\", descricao=\"Organização de treinamentos para funcionários\", funcionario=func2)\n",
    "proj3 = Projeto(nome=\"Auditoria 2024\", descricao=\"Planejamento da auditoria financeira anual\", funcionario=func2)\n",
    "proj4 = Projeto(nome=\"Gestão de clientes\", descricao=\"Controle e manutenção de clientes na firma\", funcionario=func3)\n",
    "\n",
    "session.add_all([proj1, proj2, proj3, proj4])\n",
    "session.commit()"
   ]
  },
  {
   "cell_type": "markdown",
   "id": "724635d8-2a54-4e0c-86ce-77804bb5749e",
   "metadata": {},
   "source": [
    "## **Consultando Funcionários e seus Projetos**\n",
    " **Liste todos os funcionários cadastrados, exibindo também seu cargo, o departamento ao qual pertencem e os projetos associados.**\n",
    "   - Para cada funcionário, exiba:\n",
    "     - Nome\n",
    "     - Cargo\n",
    "     - Nome do departamento\n",
    "     - Lista de projetos nos quais está trabalhando, com nome e descrição."
   ]
  },
  {
   "cell_type": "code",
   "execution_count": 9,
   "id": "9cd16243",
   "metadata": {},
   "outputs": [
    {
     "name": "stdout",
     "output_type": "stream",
     "text": [
      "Carlos , cargo: Desenvolvedor dpto:  TI \n",
      "\n",
      "Carlos , projeto: Sistema Web , descrição: Desenvolvimento de um sistema web\n",
      "Ana , cargo: Analista de RH dpto:  RH \n",
      "\n",
      "Ana , projeto: Treinamento Interno , descrição: Organização de treinamentos para funcionários\n",
      "Ana , projeto: Auditoria 2024 , descrição: Planejamento da auditoria financeira anual\n",
      "Mariana , cargo: Contadora dpto:  Financeiro \n",
      "\n",
      "Mariana , projeto: Gestão de clientes , descrição: Controle e manutenção de clientes na firma\n"
     ]
    }
   ],
   "source": [
    "funcionarios = session.query(Funcionario).all()\n",
    "\n",
    "for func in funcionarios:\n",
    "    print(func.nome, ', cargo:', func.cargo, 'dpto: ', func.departamento.nome, '\\n')\n",
    "    for proj in func.projetos:\n",
    "        print(func.nome, ', projeto:', proj.nome, ', descrição:', proj.descricao)"
   ]
  },
  {
   "cell_type": "markdown",
   "id": "5417bd33-a21b-4d7d-8251-bfcf5f3e4f4b",
   "metadata": {},
   "source": [
    "## **Consultando Funcionários por Departamento**\n",
    " **Liste todos os departamentos cadastrados e, para cada um deles, exiba os funcionários associados, incluindo o cargo e o salário.**\n",
    "   - Para cada departamento, exiba:\n",
    "     - Nome do departamento.\n",
    "     - Lista de funcionários vinculados, com nome, cargo e salário."
   ]
  },
  {
   "cell_type": "code",
   "execution_count": 10,
   "id": "1db210cf",
   "metadata": {},
   "outputs": [
    {
     "name": "stdout",
     "output_type": "stream",
     "text": [
      "Departamento:, TI\n",
      "Funcionário: Carlos, cargo: Desenvolvedor, salário: 5000\n",
      "----------------------------------------\n",
      "Departamento:, RH\n",
      "Funcionário: Ana, cargo: Analista de RH, salário: 4000\n",
      "----------------------------------------\n",
      "Departamento:, Financeiro\n",
      "Funcionário: Mariana, cargo: Contadora, salário: 4500\n",
      "----------------------------------------\n"
     ]
    }
   ],
   "source": [
    "departamentos = session.query(Departamento).all()\n",
    "\n",
    "for dep in departamentos:\n",
    "    print(f\"Departamento:, {dep.nome}\")\n",
    "    for func in dep.funcionarios:\n",
    "        print(f\"Funcionário: {func.nome}, cargo: {func.cargo}, salário: {func.salario}\")\n",
    "    print('-' * 40)"
   ]
  },
  {
   "cell_type": "markdown",
   "id": "d546d1c1-f0f3-4695-b35e-e70b0f1abff4",
   "metadata": {},
   "source": [
    "## **Atualizações e Remoções**\n",
    "**Atualize o salário do funcionário Carlos para 5500.**"
   ]
  },
  {
   "cell_type": "code",
   "execution_count": 11,
   "id": "03d2af6b-b8e2-4fc0-ad5e-0183114399be",
   "metadata": {},
   "outputs": [],
   "source": [
    "# funcionario1 = session.query(Funcionario).filter_by(nome=\"Carlos\").first()\n",
    "# funcionario1.salario = 5000\n",
    "# session.commit()\n",
    "\n",
    "session.query(Funcionario).filter_by(nome=\"Carlos\").update({\"salario\": 5500})\n",
    "session.commit()"
   ]
  },
  {
   "cell_type": "markdown",
   "id": "189c14ff-750a-44dc-9f14-1c6fc7b5c2b4",
   "metadata": {},
   "source": [
    "**Remova a funcionária Mariana e verifique se o projeto vinculado a ela também foi removido.**"
   ]
  },
  {
   "cell_type": "code",
   "execution_count": 12,
   "id": "9c89193b-9332-4d07-a774-d9d8a80dc20c",
   "metadata": {},
   "outputs": [
    {
     "name": "stdout",
     "output_type": "stream",
     "text": [
      "Os projetos associados à(o) funcionária(o) Mariana foram removidos\n"
     ]
    }
   ],
   "source": [
    "funcionario_remover = session.query(Funcionario).filter_by(nome=\"Mariana\").first()\n",
    "session.delete(funcionario_remover)\n",
    "session.commit()\n",
    "\n",
    "projetos_remover = session.query(Projeto).filter_by(funcionario_id=funcionario_remover.id).all()\n",
    "if not projetos_remover:\n",
    "    print(f\"Os projetos associados à(o) funcionária(o) {funcionario_remover.nome} foram removidos\")"
   ]
  },
  {
   "cell_type": "markdown",
   "id": "df7e6a73-aa3a-405c-a7a8-0eb7cab89068",
   "metadata": {},
   "source": [
    "### **Transferindo Funcionários de departamentos**\n",
    "**Transfira todos os funcionários do departamento de \"TI\" para o departamento de \"RH\".** "
   ]
  },
  {
   "cell_type": "code",
   "execution_count": 13,
   "id": "c601e915-3566-4fad-8c94-5312bcdfd615",
   "metadata": {},
   "outputs": [],
   "source": [
    "dep_origem = session.query(Departamento).filter_by(nome=\"TI\").first()\n",
    "dep_destino = session.query(Departamento).filter_by(nome=\"RH\").first()\n",
    "funcionarios = session.query(Funcionario).filter_by(departamento_id=dep_origem.id).all()\n",
    "\n",
    "for func in funcionarios:\n",
    "    func.departamento_id = dep_destino.id\n",
    "\n",
    "session.commit()"
   ]
  },
  {
   "cell_type": "code",
   "execution_count": 14,
   "id": "ec8cf44d-f1d2-429b-af94-f889860e9d52",
   "metadata": {},
   "outputs": [
    {
     "name": "stdout",
     "output_type": "stream",
     "text": [
      "Departamento:, TI\n",
      "----------------------------------------\n",
      "Departamento:, RH\n",
      "Funcionário: Carlos, cargo: Desenvolvedor, salário: 5500\n",
      "Funcionário: Ana, cargo: Analista de RH, salário: 4000\n",
      "----------------------------------------\n",
      "Departamento:, Financeiro\n",
      "----------------------------------------\n"
     ]
    }
   ],
   "source": [
    "departamentos = session.query(Departamento).all()\n",
    "\n",
    "for dep in departamentos:\n",
    "    print(f\"Departamento:, {dep.nome}\")\n",
    "    for func in dep.funcionarios:\n",
    "        print(f\"Funcionário: {func.nome}, cargo: {func.cargo}, salário: {func.salario}\")\n",
    "    print('-' * 40)"
   ]
  },
  {
   "cell_type": "markdown",
   "id": "02cc712d-f52d-493f-81b8-85c05fc09914",
   "metadata": {},
   "source": [
    "## **Exclusão e Reset do Banco**\n",
    "- **Exclua todas as tabelas do banco sem remover o arquivo.**  \n",
    "- **Exclua o banco de dados completamente, removendo o arquivo SQLite.**"
   ]
  },
  {
   "cell_type": "code",
   "execution_count": 15,
   "id": "6d1f26b0-f951-4145-8366-e603c014d332",
   "metadata": {},
   "outputs": [],
   "source": [
    "Base.metadata.drop_all(bind=engine)"
   ]
  },
  {
   "cell_type": "code",
   "execution_count": 16,
   "id": "8644754c-a4ac-4143-b64e-d73f5163b61c",
   "metadata": {},
   "outputs": [
    {
     "name": "stdout",
     "output_type": "stream",
     "text": [
      "Banco removido com sucesso\n"
     ]
    }
   ],
   "source": [
    "import os\n",
    "\n",
    "session.close()\n",
    "\n",
    "if os.path.exists(\"banco.db\"):\n",
    "    os.remove(\"banco.db\")\n",
    "    print(\"Banco removido com sucesso\")\n",
    "else:\n",
    "    print(\"Banco não existe\")"
   ]
  },
  {
   "cell_type": "code",
   "execution_count": null,
   "id": "539997e1-0ae6-4245-a129-27c6d2ed44dc",
   "metadata": {},
   "outputs": [],
   "source": []
  }
 ],
 "metadata": {
  "kernelspec": {
   "display_name": "Python 3 (ipykernel)",
   "language": "python",
   "name": "python3"
  },
  "language_info": {
   "codemirror_mode": {
    "name": "ipython",
    "version": 3
   },
   "file_extension": ".py",
   "mimetype": "text/x-python",
   "name": "python",
   "nbconvert_exporter": "python",
   "pygments_lexer": "ipython3",
   "version": "3.11.7"
  }
 },
 "nbformat": 4,
 "nbformat_minor": 5
}

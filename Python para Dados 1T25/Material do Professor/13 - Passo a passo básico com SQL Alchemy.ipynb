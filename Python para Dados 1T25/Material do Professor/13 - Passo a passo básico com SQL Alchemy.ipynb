{
 "cells": [
  {
   "cell_type": "markdown",
   "id": "2be3cd56",
   "metadata": {},
   "source": [
    "\n",
    "# 🚀 Guia Completo do SQLAlchemy ORM\n",
    "\n",
    "Neste notebook, você aprenderá tudo sobre **SQLAlchemy ORM**, desde os conceitos fundamentais até exemplos práticos avançados.  \n",
    "Vamos explorar como **manipular bancos de dados** sem precisar escrever SQL puro, utilizando a técnica de **Object-Relational Mapping (ORM)**.\n",
    "\n",
    "---\n",
    "\n",
    "## 📌 **O que é ORM e por que usar?**\n",
    "\n",
    "ORM (**Object-Relational Mapping**) permite manipular bancos de dados usando **classes e objetos** em Python, ao invés de escrever **SQL manualmente**.  \n",
    "Isso traz várias vantagens:\n",
    "\n",
    "✔ **Facilidade de uso** → Trabalhamos com classes Python em vez de consultas SQL complexas.  \n",
    "✔ **Portabilidade** → Podemos trocar o banco de dados (SQLite, MySQL, PostgreSQL, etc.) sem modificar o código.  \n",
    "✔ **Segurança** → Evita SQL Injection, pois as consultas são geradas automaticamente pelo SQLAlchemy.  \n",
    "✔ **Reutilização de código** → Classes podem ser reutilizadas e ampliadas em diferentes partes do programa.  \n",
    "\n",
    "O **SQLAlchemy** é a biblioteca ORM mais popular do Python e permite transformar tabelas do banco de dados em **classes Python**, facilitando a manipulação dos dados.\n",
    "\n",
    "---\n",
    "\n",
    "## 📌 **Configuração do SQLAlchemy**\n",
    "\n",
    "Vamos configurar um **banco de dados SQLite** e criar uma **classe ORM** que representa a tabela `pedidos`.  \n",
    "\n",
    "---\n"
   ]
  },
  {
   "cell_type": "markdown",
   "id": "45282654",
   "metadata": {},
   "source": [
    "## **Criando a Conexão com o Banco**"
   ]
  },
  {
   "cell_type": "markdown",
   "id": "bd0fecd1-6cc5-4fed-b31a-3fd72f32e8d6",
   "metadata": {},
   "source": [
    "O primeiro passo no SQLAlchemy é criar a conexão com o banco de dados."
   ]
  },
  {
   "cell_type": "code",
   "execution_count": 1,
   "id": "ad9e6f48-58e8-4ac6-a26d-d011a9150578",
   "metadata": {},
   "outputs": [],
   "source": [
    "from sqlalchemy import create_engine\n",
    "\n",
    "# Criando conexão com o banco SQLite\n",
    "engine = create_engine(\"sqlite:///banco_exemplo.db\", echo=True)"
   ]
  },
  {
   "cell_type": "markdown",
   "id": "e5f1357b-4742-41fb-8ce7-8dddc1ff34f4",
   "metadata": {},
   "source": [
    "/// ou ////"
   ]
  },
  {
   "cell_type": "markdown",
   "id": "df790376-a9a2-4635-b060-ceeed4e370cd",
   "metadata": {},
   "source": [
    "**Resumo**\n",
    "- `create_engine()` cria a conexão com o banco.\n",
    "- `\"sqlite:///meu_banco.db\"` indica que estamos usando um banco SQLite chamado `meu_banco.db`.\n",
    "- `echo=True` ativa logs para visualizar os comandos SQL gerados."
   ]
  },
  {
   "cell_type": "markdown",
   "id": "987e3499-94bc-47e2-a6d5-129fe4eaaaaa",
   "metadata": {},
   "source": [
    "## **Criando uma Classe Base**"
   ]
  },
  {
   "cell_type": "markdown",
   "id": "c1018ae5-5ba3-4b09-85ca-9c8252f5f158",
   "metadata": {},
   "source": [
    "O SQLAlchemy usa classes Python para representar tabelas do banco.  \n",
    "Para isso, precisamos de uma **classe base** para criar nossas tabelas."
   ]
  },
  {
   "cell_type": "code",
   "execution_count": 2,
   "id": "721a2a7c-98c9-4051-a0ae-528e50677c18",
   "metadata": {},
   "outputs": [],
   "source": [
    "from sqlalchemy.orm import declarative_base\n",
    "\n",
    "# Criando a base para o ORM\n",
    "Base = declarative_base()"
   ]
  },
  {
   "cell_type": "markdown",
   "id": "ab87762d-0fd5-4bf1-b9d1-cca045f2ec4d",
   "metadata": {},
   "source": [
    "**Resumo**\n",
    "- `declarative_base()` cria uma classe base para todas as tabelas do banco.\n",
    "- Todas as classes que criarmos herdarão dessa base"
   ]
  },
  {
   "cell_type": "markdown",
   "id": "88c29ff9",
   "metadata": {},
   "source": [
    "## **Definindo uma Tabela (Criando uma Classe ORM)**"
   ]
  },
  {
   "cell_type": "markdown",
   "id": "7d19f7c7-ce48-4fa0-91d0-2f475dbdf8c2",
   "metadata": {},
   "source": [
    "Agora, vamos criar uma classe Python que representa uma tabela no banco."
   ]
  },
  {
   "cell_type": "code",
   "execution_count": 3,
   "id": "a329f27e",
   "metadata": {},
   "outputs": [],
   "source": [
    "from sqlalchemy import Column, Integer, String\n",
    "\n",
    "class Usuario(Base):\n",
    "    __tablename__ = \"usuarios\"  # Nome da tabela no banco\n",
    "\n",
    "    id = Column(Integer, primary_key=True)  # Chave primária\n",
    "    nome = Column(String, nullable=False)  # Nome do usuário\n",
    "    idade = Column(Integer, nullable=False)  # Idade do usuário\n",
    "\n",
    "    def __repr__(self):\n",
    "        return f'{self.nome}, {self.idade}'"
   ]
  },
  {
   "cell_type": "markdown",
   "id": "aa05521d-9262-421b-bd49-f5efb812f424",
   "metadata": {},
   "source": [
    "**Resumo**\n",
    "- Criamos a classe `Usuario`, que representa uma tabela chamada `\"usuarios\"`.\n",
    "- `id` → Chave primária da tabela.\n",
    "- `nome` → Coluna do tipo `String`, que não pode ser `NULL`.\n",
    "- `idade` → Coluna do tipo `Integer`, que também não pode ser `NULL`."
   ]
  },
  {
   "cell_type": "markdown",
   "id": "d862dbb5-b76c-4196-87f3-10e675afb42d",
   "metadata": {},
   "source": [
    "## **Criando as Tabelas no Banco**"
   ]
  },
  {
   "cell_type": "markdown",
   "id": "63b40e96-dbd0-435d-9e21-c03f8a3cf1e5",
   "metadata": {},
   "source": [
    "Agora que definimos a classe `Usuario`, precisamos **criar essa tabela no banco**."
   ]
  },
  {
   "cell_type": "code",
   "execution_count": 4,
   "id": "27737052-57d1-46d1-8cb5-e17933e2f28b",
   "metadata": {},
   "outputs": [
    {
     "name": "stdout",
     "output_type": "stream",
     "text": [
      "2025-03-12 21:25:44,794 INFO sqlalchemy.engine.Engine BEGIN (implicit)\n",
      "2025-03-12 21:25:44,795 INFO sqlalchemy.engine.Engine PRAGMA main.table_info(\"usuarios\")\n",
      "2025-03-12 21:25:44,795 INFO sqlalchemy.engine.Engine [raw sql] ()\n",
      "2025-03-12 21:25:44,797 INFO sqlalchemy.engine.Engine PRAGMA temp.table_info(\"usuarios\")\n",
      "2025-03-12 21:25:44,798 INFO sqlalchemy.engine.Engine [raw sql] ()\n",
      "2025-03-12 21:25:44,799 INFO sqlalchemy.engine.Engine \n",
      "CREATE TABLE usuarios (\n",
      "\tid INTEGER NOT NULL, \n",
      "\tnome VARCHAR NOT NULL, \n",
      "\tidade INTEGER NOT NULL, \n",
      "\tPRIMARY KEY (id)\n",
      ")\n",
      "\n",
      "\n",
      "2025-03-12 21:25:44,800 INFO sqlalchemy.engine.Engine [no key 0.00075s] ()\n",
      "2025-03-12 21:25:44,805 INFO sqlalchemy.engine.Engine COMMIT\n"
     ]
    }
   ],
   "source": [
    "# Criando a tabela no banco de dados\n",
    "Base.metadata.create_all(engine)"
   ]
  },
  {
   "cell_type": "markdown",
   "id": "9e7dfb52-06be-4096-a6f5-1e04bf70c651",
   "metadata": {},
   "source": [
    "**Resumo**\n",
    "- O SQLAlchemy **verifica se a tabela já existe** no banco.\n",
    "- Se **não existir**, ele **cria a tabela automaticamente**."
   ]
  },
  {
   "cell_type": "markdown",
   "id": "ea9f5ad1",
   "metadata": {},
   "source": [
    "## **Criando uma Sessão para Manipular o Banco**"
   ]
  },
  {
   "cell_type": "markdown",
   "id": "ac41a3fd-6af4-47b7-92b5-e8ee307ac3fa",
   "metadata": {},
   "source": [
    "Para adicionar, buscar ou atualizar registros, precisamos de uma **sessão**."
   ]
  },
  {
   "cell_type": "code",
   "execution_count": 5,
   "id": "575d14bd",
   "metadata": {},
   "outputs": [],
   "source": [
    "from sqlalchemy.orm import sessionmaker\n",
    "\n",
    "# Criando uma fábrica de sessões\n",
    "Session = sessionmaker(bind=engine)\n",
    "\n",
    "# Criando uma sessão\n",
    "session = Session()"
   ]
  },
  {
   "cell_type": "markdown",
   "id": "c3153e15-cf94-4982-9121-f48351de913c",
   "metadata": {},
   "source": [
    "**Resumo**\n",
    "- `sessionmaker(bind=engine)` cria uma **fábrica de sessões** conectada ao banco.\n",
    "- `Session()` inicia uma **nova sessão**, permitindo executar operações no banco."
   ]
  },
  {
   "cell_type": "markdown",
   "id": "b5b14e81",
   "metadata": {},
   "source": [
    "## **Adicionando Registros ao Banco**"
   ]
  },
  {
   "cell_type": "code",
   "execution_count": 14,
   "id": "d542d7ba",
   "metadata": {},
   "outputs": [
    {
     "name": "stdout",
     "output_type": "stream",
     "text": [
      "2025-03-12 21:27:09,207 INFO sqlalchemy.engine.Engine INSERT INTO usuarios (nome, idade) VALUES (?, ?)\n",
      "2025-03-12 21:27:09,208 INFO sqlalchemy.engine.Engine [cached since 84.38s ago] ('Carlos', 30)\n",
      "2025-03-12 21:27:09,209 INFO sqlalchemy.engine.Engine COMMIT\n"
     ]
    }
   ],
   "source": [
    "# Criando um novo usuário\n",
    "novo_usuario = Usuario(nome=\"Carlos\", idade=30)\n",
    "\n",
    "# Adicionando à sessão\n",
    "session.add(novo_usuario)\n",
    "\n",
    "# Salvando no banco\n",
    "session.commit()"
   ]
  },
  {
   "cell_type": "markdown",
   "id": "711e8642-0f79-4d79-9dbf-bb28be7679a0",
   "metadata": {},
   "source": [
    "**Resumo**\n",
    "- Criamos um objeto `Usuario` (representando um registro na tabela).\n",
    "- `session.add(novo_usuario)` adiciona o objeto na sessão.\n",
    "- `session.commit()` grava os dados no banco."
   ]
  },
  {
   "cell_type": "markdown",
   "id": "78e3d53e",
   "metadata": {},
   "source": [
    "## **Consultando Registros no Banco**"
   ]
  },
  {
   "cell_type": "markdown",
   "id": "c464bad9-9860-4f4a-b2ab-f701f4110952",
   "metadata": {},
   "source": [
    "Agora, vamos buscar um usuário pelo nome."
   ]
  },
  {
   "cell_type": "code",
   "execution_count": 15,
   "id": "beb1e0b8",
   "metadata": {},
   "outputs": [
    {
     "name": "stdout",
     "output_type": "stream",
     "text": [
      "2025-03-12 21:27:11,323 INFO sqlalchemy.engine.Engine BEGIN (implicit)\n",
      "2025-03-12 21:27:11,324 INFO sqlalchemy.engine.Engine SELECT usuarios.id AS usuarios_id, usuarios.nome AS usuarios_nome, usuarios.idade AS usuarios_idade \n",
      "FROM usuarios \n",
      "WHERE usuarios.nome = ?\n",
      " LIMIT ? OFFSET ?\n",
      "2025-03-12 21:27:11,324 INFO sqlalchemy.engine.Engine [cached since 77.84s ago] ('Carlos', 1, 0)\n",
      "Nome: Carlos , Idade: 30\n"
     ]
    }
   ],
   "source": [
    "# Buscando um usuário com nome \"Fernando\"\n",
    "usuario = session.query(Usuario).filter_by(nome=\"Carlos\").first()\n",
    "print('Nome:', usuario.nome, ', Idade:', usuario.idade)"
   ]
  },
  {
   "cell_type": "code",
   "execution_count": 54,
   "id": "56a4cc27-9b39-4969-a992-3ccf166ebb52",
   "metadata": {},
   "outputs": [],
   "source": [
    "# print(usuario)"
   ]
  },
  {
   "cell_type": "markdown",
   "id": "794d7f4d-c4f8-4d11-b342-a52238578ecb",
   "metadata": {},
   "source": [
    "**Resumo**\n",
    "- `session.query(Usuario)` → Inicia uma consulta na tabela `usuarios`.\n",
    "- `filter_by(nome=\"Carlos\")` → Filtra apenas os usuários com `nome = \"Carlos\"`.\n",
    "- `first()` → Retorna apenas o primeiro resultado encontrado."
   ]
  },
  {
   "cell_type": "markdown",
   "id": "0e0123d6",
   "metadata": {},
   "source": [
    "## **Atualizando um Registro no Banco**"
   ]
  },
  {
   "cell_type": "code",
   "execution_count": 8,
   "id": "b4ec4842",
   "metadata": {},
   "outputs": [
    {
     "name": "stdout",
     "output_type": "stream",
     "text": [
      "2025-03-12 21:26:00,719 INFO sqlalchemy.engine.Engine UPDATE usuarios SET idade=? WHERE usuarios.id = ?\n",
      "2025-03-12 21:26:00,720 INFO sqlalchemy.engine.Engine [generated in 0.00103s] (35, 1)\n",
      "2025-03-12 21:26:00,721 INFO sqlalchemy.engine.Engine COMMIT\n"
     ]
    }
   ],
   "source": [
    "# Alterando a idade do usuário \"Fernando\"\n",
    "usuario.idade = 35\n",
    "\n",
    "# Salvando a alteração no banco\n",
    "session.commit()"
   ]
  },
  {
   "cell_type": "markdown",
   "id": "08d58f91-1554-47fd-a037-3c3aea0a4bef",
   "metadata": {},
   "source": [
    "**Resumo**\n",
    "- Alteramos o valor do atributo `idade` do objeto `usuario`.\n",
    "- `session.commit()` grava a alteração no banco de dados."
   ]
  },
  {
   "cell_type": "markdown",
   "id": "c1a3a846",
   "metadata": {},
   "source": [
    "## **Removendo um Registro do Banco**"
   ]
  },
  {
   "cell_type": "code",
   "execution_count": 16,
   "id": "9add2195",
   "metadata": {},
   "outputs": [
    {
     "name": "stdout",
     "output_type": "stream",
     "text": [
      "2025-03-12 21:27:17,617 INFO sqlalchemy.engine.Engine DELETE FROM usuarios WHERE usuarios.id = ?\n",
      "2025-03-12 21:27:17,618 INFO sqlalchemy.engine.Engine [cached since 71.54s ago] (1,)\n",
      "2025-03-12 21:27:17,619 INFO sqlalchemy.engine.Engine COMMIT\n"
     ]
    }
   ],
   "source": [
    "# Deletando o usuário \"Fernando\"\n",
    "session.delete(usuario)\n",
    "\n",
    "# Confirmando a exclusão\n",
    "session.commit()"
   ]
  },
  {
   "cell_type": "code",
   "execution_count": 17,
   "id": "31b8bef1-4e7d-4d44-95a3-e1d9f7802654",
   "metadata": {},
   "outputs": [
    {
     "name": "stdout",
     "output_type": "stream",
     "text": [
      "2025-03-12 21:27:19,474 INFO sqlalchemy.engine.Engine BEGIN (implicit)\n",
      "2025-03-12 21:27:19,476 INFO sqlalchemy.engine.Engine SELECT usuarios.id AS usuarios_id, usuarios.nome AS usuarios_nome, usuarios.idade AS usuarios_idade \n",
      "FROM usuarios \n",
      "WHERE usuarios.nome = ?\n",
      " LIMIT ? OFFSET ?\n",
      "2025-03-12 21:27:19,477 INFO sqlalchemy.engine.Engine [cached since 85.99s ago] ('Carlos', 1, 0)\n"
     ]
    }
   ],
   "source": [
    "session.query(Usuario).filter_by(nome=\"Carlos\").first()"
   ]
  },
  {
   "cell_type": "markdown",
   "id": "cec07706-225b-4dbe-8961-b4dfcea26120",
   "metadata": {},
   "source": [
    "**Resumo**\n",
    "- `session.delete(usuario)` marca o objeto para exclusão.\n",
    "- `session.commit()` confirma a remoção no banco."
   ]
  },
  {
   "cell_type": "markdown",
   "id": "92bba770",
   "metadata": {},
   "source": [
    "\n",
    "# 📌 **Resumo das Operações SQLAlchemy**\n",
    "\n",
    "| Passo | Comando | Explicação |\n",
    "|-------|---------|------------|\n",
    "| **1️⃣ Criar conexão** | `engine = create_engine(\"sqlite:///meu_banco.db\")` | Conexão com o banco |\n",
    "| **2️⃣ Criar base ORM** | `Base = declarative_base()` | Define a estrutura ORM |\n",
    "| **3️⃣ Criar tabela** | Criar classe herdando de `Base` | Define a estrutura da tabela |\n",
    "| **4️⃣ Criar tabelas no banco** | `Base.metadata.create_all(engine)` | Cria a tabela se não existir |\n",
    "| **5️⃣ Criar sessão** | `session = Session()` | Inicia a sessão para interagir com o banco |\n",
    "| **6️⃣ Adicionar registro** | `session.add(objeto)` + `session.commit()` | Insere um novo dado |\n",
    "| **7️⃣ Buscar dados** | `session.query(Tabela).filter_by(coluna=valor).first()` | Consulta dados no banco |\n",
    "| **8️⃣ Atualizar dados** | `objeto.atributo = novo_valor` + `session.commit()` | Atualiza um valor |\n",
    "| **9️⃣ Deletar dados** | `session.delete(objeto)` + `session.commit()` | Remove um dado |"
   ]
  },
  {
   "cell_type": "code",
   "execution_count": null,
   "id": "0cd12b60-96d0-486b-85ac-fb650ebd7687",
   "metadata": {},
   "outputs": [],
   "source": []
  }
 ],
 "metadata": {
  "kernelspec": {
   "display_name": "Python 3 (ipykernel)",
   "language": "python",
   "name": "python3"
  },
  "language_info": {
   "codemirror_mode": {
    "name": "ipython",
    "version": 3
   },
   "file_extension": ".py",
   "mimetype": "text/x-python",
   "name": "python",
   "nbconvert_exporter": "python",
   "pygments_lexer": "ipython3",
   "version": "3.11.7"
  }
 },
 "nbformat": 4,
 "nbformat_minor": 5
}

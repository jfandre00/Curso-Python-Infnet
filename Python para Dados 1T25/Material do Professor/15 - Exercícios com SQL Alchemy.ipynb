{
 "cells": [
  {
   "cell_type": "code",
   "execution_count": 2,
   "id": "dad64421-6444-4117-b660-b3635110ada9",
   "metadata": {},
   "outputs": [],
   "source": [
    "from sqlalchemy import create_engine, Column, Integer, String, ForeignKey\n",
    "from sqlalchemy.ext.declarative import declarative_base\n",
    "from sqlalchemy.orm import relationship, sessionmaker"
   ]
  },
  {
   "cell_type": "code",
   "execution_count": 3,
   "id": "47cccac6-0bd2-4a03-9120-8a968d19fb4e",
   "metadata": {},
   "outputs": [
    {
     "name": "stderr",
     "output_type": "stream",
     "text": [
      "/tmp/ipykernel_50028/3715230047.py:2: MovedIn20Warning: The ``declarative_base()`` function is now available as sqlalchemy.orm.declarative_base(). (deprecated since: 2.0) (Background on SQLAlchemy 2.0 at: https://sqlalche.me/e/b8d9)\n",
      "  Base = declarative_base()\n"
     ]
    }
   ],
   "source": [
    "# Criando a base declarativa\n",
    "Base = declarative_base()"
   ]
  },
  {
   "cell_type": "markdown",
   "id": "e46e35d2-212a-4b58-897e-da1e5075d9fd",
   "metadata": {},
   "source": [
    "### Criar duas classes representando tabelas no banco de dados"
   ]
  },
  {
   "cell_type": "code",
   "execution_count": 4,
   "id": "ff87bb6c-7ffe-4d75-8c6e-2a766ee703a3",
   "metadata": {},
   "outputs": [],
   "source": [
    "class Usuario(Base):\n",
    "    __tablename__ = 'usuarios'\n",
    "    id = Column(Integer, primary_key=True)\n",
    "    nome = Column(String, nullable=False)\n",
    "    idade = Column(Integer, nullable=False)\n",
    "    pedidos = relationship(\"Pedido\", back_populates=\"usuario\")\n",
    "\n",
    "class Pedido(Base):\n",
    "    __tablename__ = 'pedidos'\n",
    "    id = Column(Integer, primary_key=True)\n",
    "    descricao = Column(String, nullable=False)\n",
    "    usuario_id = Column(Integer, ForeignKey('usuarios.id'))\n",
    "    usuario = relationship(\"Usuario\", back_populates=\"pedidos\")"
   ]
  },
  {
   "cell_type": "markdown",
   "id": "ce53ed8e-aea0-4f3b-aa2a-af9f7078442d",
   "metadata": {},
   "source": [
    "### Criar um banco de dados SQLite em memória"
   ]
  },
  {
   "cell_type": "code",
   "execution_count": 5,
   "id": "e29afc0c-a9bb-48ec-b935-02117cbfa807",
   "metadata": {},
   "outputs": [],
   "source": [
    "engine = create_engine('sqlite:///:memory:', echo=False)\n",
    "Base.metadata.create_all(engine)"
   ]
  },
  {
   "cell_type": "markdown",
   "id": "a3769385-8591-44ee-a153-7a25a291597d",
   "metadata": {},
   "source": [
    "### Criar uma sessão"
   ]
  },
  {
   "cell_type": "code",
   "execution_count": 6,
   "id": "50a0ce62-c33c-43fe-86e0-1199312522aa",
   "metadata": {},
   "outputs": [],
   "source": [
    "Session = sessionmaker(bind=engine)\n",
    "session = Session()"
   ]
  },
  {
   "cell_type": "markdown",
   "id": "48c59500-54b0-4507-9304-0442ecf215e4",
   "metadata": {},
   "source": [
    "### Inserir usuários e pedidos no banco de dados"
   ]
  },
  {
   "cell_type": "code",
   "execution_count": 7,
   "id": "0233eced-3799-4d94-9b17-27499814914d",
   "metadata": {},
   "outputs": [],
   "source": [
    "usuario1 = Usuario(nome=\"Alice\", idade=30)\n",
    "usuario2 = Usuario(nome=\"Bob\", idade=25)\n",
    "\n",
    "pedido1 = Pedido(descricao=\"Livro de SQLAlchemy\", usuario=usuario1)\n",
    "pedido2 = Pedido(descricao=\"Notebook\", usuario=usuario1)\n",
    "pedido3 = Pedido(descricao=\"Teclado mecânico\", usuario=usuario2)\n",
    "\n",
    "session.add_all([usuario1, usuario2, pedido1, pedido2, pedido3])\n",
    "session.commit()"
   ]
  },
  {
   "cell_type": "markdown",
   "id": "038fd199-3e07-4e4a-9ab3-eed4e3aca448",
   "metadata": {},
   "source": [
    "### Consultar e exibir todos os usuários e seus pedidos"
   ]
  },
  {
   "cell_type": "code",
   "execution_count": 19,
   "id": "6a39d470-433e-4d06-b670-6ef8d36e886e",
   "metadata": {},
   "outputs": [
    {
     "name": "stdout",
     "output_type": "stream",
     "text": [
      "Usuário: Alice, idade: 30\n",
      "Pedido: Livro de SQLAlchemy\n",
      "Pedido: Notebook\n",
      "\n",
      "\n",
      "Usuário: Bob, idade: 25\n",
      "Pedido: Teclado mecânico\n",
      "\n",
      "\n"
     ]
    }
   ],
   "source": [
    "usuarios = session.query(Usuario).all()\n",
    "for usuario in usuarios:\n",
    "    print(f\"Usuário: {usuario.nome}, idade: {usuario.idade}\")\n",
    "    # cada usuario tem varios pedidos\n",
    "    for pedido in usuario.pedidos:\n",
    "        print(f'Pedido:', pedido.descricao)\n",
    "    print('\\n')"
   ]
  },
  {
   "cell_type": "markdown",
   "id": "d29558f8-ac56-4202-a47f-26f48934444a",
   "metadata": {},
   "source": [
    "### Atualizar a idade de um usuário"
   ]
  },
  {
   "cell_type": "code",
   "execution_count": null,
   "id": "31920dd2-d8a6-4964-9339-f638037c834c",
   "metadata": {},
   "outputs": [],
   "source": []
  },
  {
   "cell_type": "markdown",
   "id": "7d81ea77-5b59-4a9c-bcbe-30a6f6c55ee6",
   "metadata": {},
   "source": [
    "### Excluir um usuário e seus pedidos associados"
   ]
  },
  {
   "cell_type": "code",
   "execution_count": null,
   "id": "d2f999dd-99b0-4109-bc2a-20c7d1c206e9",
   "metadata": {},
   "outputs": [],
   "source": []
  },
  {
   "cell_type": "markdown",
   "id": "c0ea54e2-f52a-48b1-b88e-f0be76bccae1",
   "metadata": {},
   "source": [
    "### Buscar pedidos contendo uma palavra-chave"
   ]
  },
  {
   "cell_type": "code",
   "execution_count": null,
   "id": "cf0b09e6-df7e-4445-a4df-070b043ad10c",
   "metadata": {},
   "outputs": [],
   "source": []
  }
 ],
 "metadata": {
  "kernelspec": {
   "display_name": "Python 3 (ipykernel)",
   "language": "python",
   "name": "python3"
  },
  "language_info": {
   "codemirror_mode": {
    "name": "ipython",
    "version": 3
   },
   "file_extension": ".py",
   "mimetype": "text/x-python",
   "name": "python",
   "nbconvert_exporter": "python",
   "pygments_lexer": "ipython3",
   "version": "3.11.7"
  }
 },
 "nbformat": 4,
 "nbformat_minor": 5
}

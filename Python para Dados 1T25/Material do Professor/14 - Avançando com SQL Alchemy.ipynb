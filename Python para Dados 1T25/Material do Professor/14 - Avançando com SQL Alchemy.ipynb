{
 "cells": [
  {
   "cell_type": "markdown",
   "id": "c55f8a13-fb15-40ad-9a10-b5a1c9654b83",
   "metadata": {},
   "source": [
    "# 📌 Manipulação de Tabela `Pedido` com SQLAlchemy ORM\n",
    "\n",
    "Este notebook demonstra o uso do **SQLAlchemy ORM** para criar, explorar e manipular a tabela `Pedido`. "
   ]
  },
  {
   "cell_type": "markdown",
   "id": "cecda737-7576-40de-8ea3-7c2f1e2c2a58",
   "metadata": {},
   "source": [
    "## Criar conexão com o banco e definir a tabela"
   ]
  },
  {
   "cell_type": "code",
   "execution_count": 69,
   "id": "5f63c32a-4eee-48c0-bf6d-a7aefd5100b2",
   "metadata": {},
   "outputs": [],
   "source": [
    "from sqlalchemy import create_engine\n",
    "from sqlalchemy import Column, Float, Integer, String\n",
    "from sqlalchemy.orm import declarative_base, sessionmaker"
   ]
  },
  {
   "cell_type": "code",
   "execution_count": 73,
   "id": "e3396a0b",
   "metadata": {},
   "outputs": [
    {
     "name": "stdout",
     "output_type": "stream",
     "text": [
      "2025-03-12 21:31:57,185 INFO sqlalchemy.engine.Engine BEGIN (implicit)\n",
      "2025-03-12 21:31:57,186 INFO sqlalchemy.engine.Engine PRAGMA main.table_info(\"pedidos\")\n",
      "2025-03-12 21:31:57,186 INFO sqlalchemy.engine.Engine [raw sql] ()\n",
      "2025-03-12 21:31:57,187 INFO sqlalchemy.engine.Engine COMMIT\n"
     ]
    }
   ],
   "source": [
    "# Criando conexão com o banco de dados SQLite\n",
    "engine = create_engine(\"sqlite:///superstore.db\", echo=True)\n",
    "\n",
    "# Criando a base do ORM\n",
    "Base = declarative_base()\n",
    "\n",
    "# Criando uma classe que representa a tabela \"pedidos\"\n",
    "class Pedido(Base):\n",
    "    __tablename__ = \"pedidos\"\n",
    "    \n",
    "    id = Column(Integer, primary_key=True, autoincrement=True)\n",
    "    nome_cliente = Column(String)\n",
    "    cidade = Column(String)\n",
    "    categoria = Column(String)\n",
    "    quantidade = Column(Integer)\n",
    "    vendas = Column(Float)\n",
    "\n",
    "# Criando a tabela no banco\n",
    "Base.metadata.create_all(engine)\n",
    "\n",
    "# Criando uma sessão para manipular os dados\n",
    "Session = sessionmaker(bind=engine)\n",
    "session = Session()"
   ]
  },
  {
   "cell_type": "markdown",
   "id": "4bf7ef36",
   "metadata": {},
   "source": [
    "## Criar um novo pedido"
   ]
  },
  {
   "cell_type": "code",
   "execution_count": 93,
   "id": "93a8d9bb",
   "metadata": {},
   "outputs": [
    {
     "name": "stdout",
     "output_type": "stream",
     "text": [
      "2025-03-12 21:39:00,319 INFO sqlalchemy.engine.Engine INSERT INTO pedidos (nome_cliente, cidade, categoria, quantidade, vendas) VALUES (?, ?, ?, ?, ?) RETURNING id\n",
      "2025-03-12 21:39:00,321 INFO sqlalchemy.engine.Engine [generated in 0.00017s (insertmanyvalues) 1/2 (ordered; batch not supported)] ('Carlos Silva', 'São Paulo', 'Tecnologia', 5, 1200.5)\n",
      "2025-03-12 21:39:00,321 INFO sqlalchemy.engine.Engine INSERT INTO pedidos (nome_cliente, cidade, categoria, quantidade, vendas) VALUES (?, ?, ?, ?, ?) RETURNING id\n",
      "2025-03-12 21:39:00,322 INFO sqlalchemy.engine.Engine [insertmanyvalues 2/2 (ordered; batch not supported)] ('Alberto Santos', 'São Paulo', 'Tecnologia', 15, 200.0)\n",
      "2025-03-12 21:39:00,323 INFO sqlalchemy.engine.Engine COMMIT\n"
     ]
    }
   ],
   "source": [
    "novo_pedido = Pedido(nome_cliente=\"Carlos Silva\", cidade=\"São Paulo\", categoria=\"Tecnologia\", quantidade=5, vendas=1200.50)\n",
    "novo_pedido2 = Pedido(nome_cliente=\"Alberto Santos\", cidade=\"São Paulo\", categoria=\"Tecnologia\", quantidade=15, vendas=200.00)\n",
    "\n",
    "\n",
    "# Adicionando e salvando no banco\n",
    "session.add(novo_pedido)\n",
    "session.add(novo_pedido2)\n",
    "session.commit()"
   ]
  },
  {
   "cell_type": "markdown",
   "id": "b78ac642",
   "metadata": {},
   "source": [
    "## Buscar todos os pedidos"
   ]
  },
  {
   "cell_type": "code",
   "execution_count": 77,
   "id": "ae0e6cc7",
   "metadata": {},
   "outputs": [
    {
     "name": "stdout",
     "output_type": "stream",
     "text": [
      "2025-03-12 21:33:01,265 INFO sqlalchemy.engine.Engine SELECT pedidos.id AS pedidos_id, pedidos.nome_cliente AS pedidos_nome_cliente, pedidos.cidade AS pedidos_cidade, pedidos.categoria AS pedidos_categoria, pedidos.quantidade AS pedidos_quantidade, pedidos.vendas AS pedidos_vendas \n",
      "FROM pedidos\n",
      "2025-03-12 21:33:01,266 INFO sqlalchemy.engine.Engine [cached since 60.08s ago] ()\n",
      "\n",
      "\n",
      "1 Carlos Silva São Paulo Tecnologia 5 1200.5\n",
      "2 Alberto Santos São Paulo Tecnologia 15 200.0\n"
     ]
    }
   ],
   "source": [
    "pedidos = session.query(Pedido).all()\n",
    "print('\\n')\n",
    "\n",
    "# Exibir os pedidos\n",
    "for pedido in pedidos:\n",
    "    print(pedido.id, pedido.nome_cliente, pedido.cidade, pedido.categoria, pedido.quantidade, pedido.vendas)"
   ]
  },
  {
   "cell_type": "markdown",
   "id": "68a54d47",
   "metadata": {},
   "source": [
    "## Filtrar pedidos com vendas > 1000"
   ]
  },
  {
   "cell_type": "code",
   "execution_count": 76,
   "id": "d60ab6bf",
   "metadata": {},
   "outputs": [
    {
     "name": "stdout",
     "output_type": "stream",
     "text": [
      "2025-03-12 21:32:43,949 INFO sqlalchemy.engine.Engine SELECT pedidos.id AS pedidos_id, pedidos.nome_cliente AS pedidos_nome_cliente, pedidos.cidade AS pedidos_cidade, pedidos.categoria AS pedidos_categoria, pedidos.quantidade AS pedidos_quantidade, pedidos.vendas AS pedidos_vendas \n",
      "FROM pedidos \n",
      "WHERE pedidos.vendas > ?\n",
      "2025-03-12 21:32:43,951 INFO sqlalchemy.engine.Engine [cached since 37.1s ago] (1000,)\n",
      "\n",
      "\n",
      "Carlos Silva 1200.5\n"
     ]
    }
   ],
   "source": [
    "pedidos_grandes = session.query(Pedido).filter(Pedido.vendas > 1000).all()\n",
    "\n",
    "print('\\n')\n",
    "for pedido in pedidos_grandes:\n",
    "    print(pedido.nome_cliente, pedido.vendas)"
   ]
  },
  {
   "cell_type": "markdown",
   "id": "2ab6435e-2de4-455e-8cc6-6c4c0a447fdb",
   "metadata": {},
   "source": [
    "## Buscar um pedido e atualizar a quantidade"
   ]
  },
  {
   "cell_type": "code",
   "execution_count": 82,
   "id": "fae24a4c",
   "metadata": {},
   "outputs": [
    {
     "name": "stdout",
     "output_type": "stream",
     "text": [
      "2025-03-12 21:34:50,567 INFO sqlalchemy.engine.Engine SELECT pedidos.id AS pedidos_id, pedidos.nome_cliente AS pedidos_nome_cliente, pedidos.cidade AS pedidos_cidade, pedidos.categoria AS pedidos_categoria, pedidos.quantidade AS pedidos_quantidade, pedidos.vendas AS pedidos_vendas \n",
      "FROM pedidos \n",
      "WHERE pedidos.nome_cliente = ?\n",
      " LIMIT ? OFFSET ?\n",
      "2025-03-12 21:34:50,569 INFO sqlalchemy.engine.Engine [generated in 0.00182s] ('Carlos Silva', 1, 0)\n",
      "2025-03-12 21:34:50,571 INFO sqlalchemy.engine.Engine UPDATE pedidos SET quantidade=? WHERE pedidos.id = ?\n",
      "2025-03-12 21:34:50,572 INFO sqlalchemy.engine.Engine [generated in 0.00065s] (10, 1)\n",
      "2025-03-12 21:34:50,573 INFO sqlalchemy.engine.Engine COMMIT\n"
     ]
    }
   ],
   "source": [
    "pedido = session.query(Pedido).filter_by(nome_cliente=\"Carlos Silva\").first()\n",
    "pedido.quantidade = 10\n",
    "\n",
    "# Salvar no banco\n",
    "session.commit()"
   ]
  },
  {
   "cell_type": "code",
   "execution_count": 83,
   "id": "23e57767-9166-436f-a352-55337d2b6018",
   "metadata": {},
   "outputs": [
    {
     "name": "stdout",
     "output_type": "stream",
     "text": [
      "2025-03-12 21:34:53,136 INFO sqlalchemy.engine.Engine BEGIN (implicit)\n",
      "2025-03-12 21:34:53,137 INFO sqlalchemy.engine.Engine SELECT pedidos.id AS pedidos_id, pedidos.nome_cliente AS pedidos_nome_cliente, pedidos.cidade AS pedidos_cidade, pedidos.categoria AS pedidos_categoria, pedidos.quantidade AS pedidos_quantidade, pedidos.vendas AS pedidos_vendas \n",
      "FROM pedidos \n",
      "WHERE pedidos.vendas > ?\n",
      "2025-03-12 21:34:53,138 INFO sqlalchemy.engine.Engine [cached since 166.3s ago] (1000,)\n",
      "10\n"
     ]
    }
   ],
   "source": [
    "temp = session.query(Pedido).filter(Pedido.vendas > 1000).all()\n",
    "for pedido in temp:\n",
    "    print(pedido.quantidade)"
   ]
  },
  {
   "cell_type": "markdown",
   "id": "8d2a007d",
   "metadata": {},
   "source": [
    "## Buscar e excluir um pedido"
   ]
  },
  {
   "cell_type": "code",
   "execution_count": 84,
   "id": "f5031863",
   "metadata": {},
   "outputs": [
    {
     "name": "stdout",
     "output_type": "stream",
     "text": [
      "2025-03-12 21:35:33,648 INFO sqlalchemy.engine.Engine SELECT pedidos.id AS pedidos_id, pedidos.nome_cliente AS pedidos_nome_cliente, pedidos.cidade AS pedidos_cidade, pedidos.categoria AS pedidos_categoria, pedidos.quantidade AS pedidos_quantidade, pedidos.vendas AS pedidos_vendas \n",
      "FROM pedidos \n",
      "WHERE pedidos.nome_cliente = ?\n",
      " LIMIT ? OFFSET ?\n",
      "2025-03-12 21:35:33,650 INFO sqlalchemy.engine.Engine [cached since 43.08s ago] ('Carlos Silva', 1, 0)\n",
      "2025-03-12 21:35:33,654 INFO sqlalchemy.engine.Engine DELETE FROM pedidos WHERE pedidos.id = ?\n",
      "2025-03-12 21:35:33,656 INFO sqlalchemy.engine.Engine [generated in 0.00204s] (1,)\n",
      "2025-03-12 21:35:33,657 INFO sqlalchemy.engine.Engine COMMIT\n"
     ]
    }
   ],
   "source": [
    "pedido_para_excluir = session.query(Pedido).filter_by(nome_cliente=\"Carlos Silva\").first()\n",
    "session.delete(pedido_para_excluir)\n",
    "session.commit()"
   ]
  },
  {
   "cell_type": "markdown",
   "id": "c136a554-2b64-44c5-a327-98e659795759",
   "metadata": {},
   "source": [
    "## Abrir a tabela no pandas (ORM)"
   ]
  },
  {
   "cell_type": "code",
   "execution_count": 91,
   "id": "8db4dced-cf9a-478c-8d6a-8ac835480c72",
   "metadata": {},
   "outputs": [],
   "source": [
    "# pedidos[0].__dict__"
   ]
  },
  {
   "cell_type": "code",
   "execution_count": 90,
   "id": "5e41b7e1-bbab-47b6-85de-254902c94006",
   "metadata": {},
   "outputs": [
    {
     "name": "stdout",
     "output_type": "stream",
     "text": [
      "2025-03-12 21:37:32,358 INFO sqlalchemy.engine.Engine SELECT pedidos.id AS pedidos_id, pedidos.nome_cliente AS pedidos_nome_cliente, pedidos.cidade AS pedidos_cidade, pedidos.categoria AS pedidos_categoria, pedidos.quantidade AS pedidos_quantidade, pedidos.vendas AS pedidos_vendas \n",
      "FROM pedidos\n",
      "2025-03-12 21:37:32,360 INFO sqlalchemy.engine.Engine [cached since 331.2s ago] ()\n"
     ]
    },
    {
     "data": {
      "text/html": [
       "<div>\n",
       "<style scoped>\n",
       "    .dataframe tbody tr th:only-of-type {\n",
       "        vertical-align: middle;\n",
       "    }\n",
       "\n",
       "    .dataframe tbody tr th {\n",
       "        vertical-align: top;\n",
       "    }\n",
       "\n",
       "    .dataframe thead th {\n",
       "        text-align: right;\n",
       "    }\n",
       "</style>\n",
       "<table border=\"1\" class=\"dataframe\">\n",
       "  <thead>\n",
       "    <tr style=\"text-align: right;\">\n",
       "      <th></th>\n",
       "      <th>cidade</th>\n",
       "      <th>vendas</th>\n",
       "      <th>categoria</th>\n",
       "      <th>quantidade</th>\n",
       "      <th>id</th>\n",
       "      <th>nome_cliente</th>\n",
       "    </tr>\n",
       "  </thead>\n",
       "  <tbody>\n",
       "    <tr>\n",
       "      <th>0</th>\n",
       "      <td>São Paulo</td>\n",
       "      <td>200.0</td>\n",
       "      <td>Tecnologia</td>\n",
       "      <td>15</td>\n",
       "      <td>2</td>\n",
       "      <td>Alberto Santos</td>\n",
       "    </tr>\n",
       "  </tbody>\n",
       "</table>\n",
       "</div>"
      ],
      "text/plain": [
       "      cidade  vendas   categoria  quantidade  id    nome_cliente\n",
       "0  São Paulo   200.0  Tecnologia          15   2  Alberto Santos"
      ]
     },
     "execution_count": 90,
     "metadata": {},
     "output_type": "execute_result"
    }
   ],
   "source": [
    "import pandas as pd\n",
    "\n",
    "# Buscando todos os registros da tabela 'pedidos'\n",
    "pedidos = session.query(Pedido).all()\n",
    "\n",
    "# Convertendo para um DataFrame Pandas\n",
    "df = pd.DataFrame([pedido.__dict__ for pedido in pedidos])\n",
    "\n",
    "# Removendo a coluna '_sa_instance_state' (gerada pelo SQLAlchemy)\n",
    "df.drop(columns=['_sa_instance_state'], inplace=True, errors='ignore')\n",
    "\n",
    "# Exibindo os dados\n",
    "df"
   ]
  },
  {
   "cell_type": "code",
   "execution_count": 49,
   "id": "73d4353f-3d29-452f-95a5-e8eb8c4683a9",
   "metadata": {},
   "outputs": [],
   "source": [
    "# [pedido.__dict__ for pedido in pedidos]"
   ]
  },
  {
   "cell_type": "markdown",
   "id": "d0d4b541-2c52-4590-aee6-05ba7e167cda",
   "metadata": {},
   "source": [
    "## Abrir a tabela no pandas (mais eficiente)"
   ]
  },
  {
   "cell_type": "code",
   "execution_count": 94,
   "id": "f31b855c-304e-4e09-bbf5-a840176d34fc",
   "metadata": {},
   "outputs": [
    {
     "data": {
      "text/html": [
       "<div>\n",
       "<style scoped>\n",
       "    .dataframe tbody tr th:only-of-type {\n",
       "        vertical-align: middle;\n",
       "    }\n",
       "\n",
       "    .dataframe tbody tr th {\n",
       "        vertical-align: top;\n",
       "    }\n",
       "\n",
       "    .dataframe thead th {\n",
       "        text-align: right;\n",
       "    }\n",
       "</style>\n",
       "<table border=\"1\" class=\"dataframe\">\n",
       "  <thead>\n",
       "    <tr style=\"text-align: right;\">\n",
       "      <th></th>\n",
       "      <th>id</th>\n",
       "      <th>nome_cliente</th>\n",
       "      <th>cidade</th>\n",
       "      <th>categoria</th>\n",
       "      <th>quantidade</th>\n",
       "      <th>vendas</th>\n",
       "    </tr>\n",
       "  </thead>\n",
       "  <tbody>\n",
       "    <tr>\n",
       "      <th>0</th>\n",
       "      <td>2</td>\n",
       "      <td>Alberto Santos</td>\n",
       "      <td>São Paulo</td>\n",
       "      <td>Tecnologia</td>\n",
       "      <td>15</td>\n",
       "      <td>200.0</td>\n",
       "    </tr>\n",
       "    <tr>\n",
       "      <th>1</th>\n",
       "      <td>3</td>\n",
       "      <td>Carlos Silva</td>\n",
       "      <td>São Paulo</td>\n",
       "      <td>Tecnologia</td>\n",
       "      <td>5</td>\n",
       "      <td>1200.5</td>\n",
       "    </tr>\n",
       "    <tr>\n",
       "      <th>2</th>\n",
       "      <td>4</td>\n",
       "      <td>Alberto Santos</td>\n",
       "      <td>São Paulo</td>\n",
       "      <td>Tecnologia</td>\n",
       "      <td>15</td>\n",
       "      <td>200.0</td>\n",
       "    </tr>\n",
       "  </tbody>\n",
       "</table>\n",
       "</div>"
      ],
      "text/plain": [
       "   id    nome_cliente     cidade   categoria  quantidade  vendas\n",
       "0   2  Alberto Santos  São Paulo  Tecnologia          15   200.0\n",
       "1   3    Carlos Silva  São Paulo  Tecnologia           5  1200.5\n",
       "2   4  Alberto Santos  São Paulo  Tecnologia          15   200.0"
      ]
     },
     "execution_count": 94,
     "metadata": {},
     "output_type": "execute_result"
    }
   ],
   "source": [
    "import pandas as pd\n",
    "from sqlalchemy import create_engine\n",
    "\n",
    "# Criando conexão com o banco\n",
    "engine = create_engine(\"sqlite:///superstore.db\")\n",
    "\n",
    "# Lendo a tabela diretamente para Pandas (muito mais rápido!)\n",
    "df = pd.read_sql(\"SELECT * FROM pedidos\", con=engine)\n",
    "\n",
    "# Exibindo as primeiras linhas\n",
    "df.head()"
   ]
  },
  {
   "cell_type": "code",
   "execution_count": null,
   "id": "f0f8eb41-2891-46ce-9727-88b0a3427e68",
   "metadata": {},
   "outputs": [],
   "source": []
  }
 ],
 "metadata": {
  "kernelspec": {
   "display_name": "Python 3 (ipykernel)",
   "language": "python",
   "name": "python3"
  },
  "language_info": {
   "codemirror_mode": {
    "name": "ipython",
    "version": 3
   },
   "file_extension": ".py",
   "mimetype": "text/x-python",
   "name": "python",
   "nbconvert_exporter": "python",
   "pygments_lexer": "ipython3",
   "version": "3.11.7"
  }
 },
 "nbformat": 4,
 "nbformat_minor": 5
}

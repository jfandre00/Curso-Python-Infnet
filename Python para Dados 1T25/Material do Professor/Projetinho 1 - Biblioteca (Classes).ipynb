{
 "cells": [
  {
   "cell_type": "markdown",
   "id": "9128edc0",
   "metadata": {},
   "source": [
    "# 📚 Projeto: Biblioteca Virtual - Exercícios de POO\n",
    "\n",
    "## 🎯 Objetivo\n",
    "Neste notebook, você trabalhará com **Programação Orientada a Objetos (POO)** para desenvolver um sistema de gerenciamento de uma biblioteca virtual.\n",
    "\n",
    "Você implementará classes para representar **livros, usuários e a biblioteca**. Ao longo dos exercícios, adicionaremos funcionalidades mais avançadas ao sistema.\n",
    "\n",
    "---\n",
    "\n",
    "## Instruções\n",
    "- Leia atentamente cada enunciado.\n",
    "- **Crie classes e métodos** para resolver cada exercício.\n",
    "- **Teste suas classes** instanciando objetos e chamando métodos.\n",
    "- O objetivo é estruturar o código da biblioteca progressivamente.\n",
    "\n",
    "Boa prática!"
   ]
  },
  {
   "cell_type": "markdown",
   "id": "5d8250db",
   "metadata": {},
   "source": [
    "## Exercício 1: Criando a Classe Livro\n",
    "\n",
    "Crie uma classe `Livro` com os seguintes atributos:\n",
    "- `titulo`\n",
    "- `autor`\n",
    "- `ano_publicacao`\n",
    "- `disponivel` (padrão: `True`)\n",
    "\n",
    "Adicione um método `info()` que retorna uma string formatada com as informações do livro.\n",
    "\n",
    "```python\n",
    "l1 = Livro(\"1984\", \"George Orwell\", 1949)\n",
    "print(l1.info())  # \"1984, de George Orwell (1949)\"\n",
    "```"
   ]
  },
  {
   "cell_type": "code",
   "execution_count": 56,
   "id": "fbefbb55-b63f-4f50-91ec-d54c6c331b79",
   "metadata": {},
   "outputs": [
    {
     "data": {
      "text/plain": [
       "'1984, George Orwell, 1949, livro disponível'"
      ]
     },
     "execution_count": 56,
     "metadata": {},
     "output_type": "execute_result"
    }
   ],
   "source": [
    "class Livro:\n",
    "    def __init__(self, titulo, autor, ano_publicacao, disponivel=True):\n",
    "        self.titulo = titulo\n",
    "        self.autor = autor\n",
    "        self.ano = ano_publicacao\n",
    "        self.disponivel = disponivel\n",
    "\n",
    "    def __repr__(self):\n",
    "        return f\"{self.titulo}, {self.autor}, {self.ano}\"\n",
    "\n",
    "    def info(self):\n",
    "        return f\"{self.titulo}, {self.autor}, {self.ano}, {'livro disponível' if self.disponivel else 'livro não está disponível'}\"        \n",
    "\n",
    "l1 = Livro(\"1984\", \"George Orwell\", 1949)\n",
    "l2 = Livro(\"Percy Jackson\", \"Rick Riordan\", 2005)\n",
    "l3 = Livro(\"Senhor dos Anéis\", \"J. Tokien\", 1954) \n",
    "l1.info()"
   ]
  },
  {
   "cell_type": "markdown",
   "id": "382685bd",
   "metadata": {},
   "source": [
    "## Exercício 2: Criando a Classe Usuario\n",
    "\n",
    "Crie uma classe `Usuario` com os atributos:\n",
    "- `nome`\n",
    "- `email`\n",
    "- `livros_emprestados` (lista vazia)\n",
    "\n",
    "Adicione um método `historico()` que lista os livros emprestados.\n",
    "\n",
    "```python\n",
    "u1 = Usuario(\"Alice\", \"alice@email.com\")\n",
    "print(u1.historico())  # Nenhum livro emprestado ainda.\n",
    "```"
   ]
  },
  {
   "cell_type": "code",
   "execution_count": 57,
   "id": "5fa07859-ceaf-4ce0-88f6-ba983b358bc8",
   "metadata": {},
   "outputs": [
    {
     "data": {
      "text/plain": [
       "'Nenhum livro foi emprestado ainda.'"
      ]
     },
     "execution_count": 57,
     "metadata": {},
     "output_type": "execute_result"
    }
   ],
   "source": [
    "class Usuario():\n",
    "    def __init__(self, nome, email):\n",
    "        self.nome = nome\n",
    "        self.email = email\n",
    "        self.livros_emprestados = []\n",
    "\n",
    "    def __repr__(self):\n",
    "        return f\"{self.nome}, {self.email}, {self.livros_emprestados if self.livros_emprestados else 'nenhum livro foi emprestado a este usuário'}\"\n",
    "\n",
    "    def historico(self):\n",
    "        if not self.livros_emprestados:\n",
    "            return \"Nenhum livro foi emprestado ainda.\"\n",
    "        return self.livros_emprestados\n",
    "        \n",
    "\n",
    "u1 = Usuario(\"Alice\", \"alice@email.com\")\n",
    "u1.historico()"
   ]
  },
  {
   "cell_type": "markdown",
   "id": "13fa1818",
   "metadata": {},
   "source": [
    "## Exercício 3: Criando a Classe Biblioteca\n",
    "\n",
    "Agora crie a classe `Biblioteca`, que possui:\n",
    "- Um atributo `catalogo` (lista de livros).\n",
    "- Um método `adicionar_livro(livro)` para adicionar um livro ao catálogo.\n",
    "- Um método `listar_livros()` que exibe todos os livros disponíveis.\n",
    "\n",
    "```python\n",
    "biblio = Biblioteca()\n",
    "biblio.adicionar_livro(l1)\n",
    "biblio.listar_livros()\n",
    "```"
   ]
  },
  {
   "cell_type": "code",
   "execution_count": 39,
   "id": "c6a25601-e657-4e0e-8a04-bb866947a494",
   "metadata": {},
   "outputs": [
    {
     "name": "stdout",
     "output_type": "stream",
     "text": [
      "1984, George Orwell, 1949, livro disponível\n",
      "Percy Jackson, Rick Riordan, 2005, livro disponível\n",
      "Senhor dos Anéis, J. Tokien, 1954, livro disponível\n"
     ]
    }
   ],
   "source": [
    "class Biblioteca:\n",
    "    def __init__(self):\n",
    "        self.catalogo = []\n",
    "\n",
    "    def adicionar_livro(self, livro):\n",
    "        self.catalogo.append(livro)\n",
    "\n",
    "    def listar_livros(self):\n",
    "        if not self.catalogo:\n",
    "            print('Nenhum livro disponível')\n",
    "            return\n",
    "        for livro in self.catalogo:\n",
    "            print(livro.info())\n",
    "\n",
    "biblio = Biblioteca()\n",
    "biblio.adicionar_livro(l1)\n",
    "biblio.adicionar_livro(l2)\n",
    "biblio.adicionar_livro(l3)\n",
    "biblio.listar_livros()"
   ]
  },
  {
   "cell_type": "markdown",
   "id": "8ed87a17-386b-4a05-996c-b1e6a245e670",
   "metadata": {},
   "source": [
    "## Exercício 4: Implementando o Empréstimo de Livros  \n",
    "Adicione um método `emprestar_livro(titulo, usuario)` na classe `Biblioteca`.  \n",
    "OBS: O livro só pode ser emprestado se estiver disponível."
   ]
  },
  {
   "cell_type": "code",
   "execution_count": 40,
   "id": "50a2bb58-ee36-4098-8f42-643f739e1846",
   "metadata": {},
   "outputs": [
    {
     "name": "stdout",
     "output_type": "stream",
     "text": [
      "1984 emprestado para Alice\n",
      "\n",
      "\n",
      "\n",
      "1984, George Orwell, 1949, livro não está disponível\n",
      "Percy Jackson, Rick Riordan, 2005, livro disponível\n",
      "Senhor dos Anéis, J. Tokien, 1954, livro disponível\n"
     ]
    }
   ],
   "source": [
    "class Biblioteca:\n",
    "    def __init__(self):\n",
    "        self.catalogo = []\n",
    "\n",
    "    def adicionar_livro(self, livro):\n",
    "        self.catalogo.append(livro)\n",
    "\n",
    "    def listar_livros(self):\n",
    "        if not self.catalogo:\n",
    "            print('Nenhum livro disponível')\n",
    "            return\n",
    "        for livro in self.catalogo:\n",
    "            print(f\"{livro.info()}\")\n",
    "\n",
    "    def emprestar_livro(self, titulo, usuario):\n",
    "        for livro in self.catalogo:\n",
    "            if livro.titulo == titulo and livro.disponivel:\n",
    "                livro.disponivel = False\n",
    "                usuario.livros_emprestados.append(livro.titulo)\n",
    "                return f\"{titulo} emprestado para {usuario.nome}\"\n",
    "        return 'Livro indisponível.'   \n",
    "                        \n",
    "\n",
    "biblio = Biblioteca()\n",
    "u1 = Usuario(\"Alice\", \"alice@email.com\")\n",
    "u2 = Usuario(\"Bruno\", \"bruno@gmail.com\")\n",
    "u3 = Usuario(\"Carla\", \"carla@hotmail.com\")\n",
    "\n",
    "biblio.adicionar_livro(l1)\n",
    "biblio.adicionar_livro(l2)\n",
    "biblio.adicionar_livro(l3)\n",
    "\n",
    "# emprestar livro\n",
    "print(biblio.emprestar_livro(l1.titulo, u1))\n",
    "\n",
    "print('\\n\\n')\n",
    "biblio.listar_livros()"
   ]
  },
  {
   "cell_type": "markdown",
   "id": "35de867e-3d8a-4365-9d71-6a61324985ab",
   "metadata": {},
   "source": [
    "## Exercício 5: Criando uma Classe Especializada (LivroDigital)\n",
    "Crie uma classe `LivroDigital`, que herda de Livro e adiciona:\n",
    "\n",
    "- Um atributo formato (ex: \"PDF\", \"EPUB\").\n",
    "- Sobrescreva `info()` para incluir o formato."
   ]
  },
  {
   "cell_type": "code",
   "execution_count": 58,
   "id": "5fad151c-5430-413a-a181-94f62cd033e2",
   "metadata": {},
   "outputs": [
    {
     "name": "stdout",
     "output_type": "stream",
     "text": [
      "Python básico, João dos Santos, 2022, livro disponível, formato: PDF\n"
     ]
    }
   ],
   "source": [
    "class LivroDigital(Livro):\n",
    "    def __init__(self, titulo, autor, ano_publicacao, formato):\n",
    "        super().__init__(titulo, autor, ano_publicacao)\n",
    "        self.formato = formato\n",
    "\n",
    "    def info(self):\n",
    "        return super().info() + ', ' + f\"formato: {self.formato.upper()}\"\n",
    "        # return f\"{self.titulo}, {self.autor}, {self.ano}, {'livro disponível' if self.disponivel else 'livro não está disponível'}, {self.formato}\" \n",
    "\n",
    "ld = LivroDigital(\"Python básico\", \"João dos Santos\", 2022, 'pdf')\n",
    "print(ld.info())"
   ]
  },
  {
   "cell_type": "markdown",
   "id": "9c415963-8589-49cf-9fd5-980d09755429",
   "metadata": {},
   "source": [
    "## Exercício 6: Devolução de Livros\n",
    "Adicione um método `devolver_livro(titulo, usuario)` na classe `Biblioteca`.\n",
    "\n",
    "OBS: O livro só pode ser devolvido se foi emprestado ao usuário."
   ]
  },
  {
   "cell_type": "code",
   "execution_count": 60,
   "id": "ad223c8c-755c-450f-913b-e671b9a75cf9",
   "metadata": {},
   "outputs": [
    {
     "name": "stdout",
     "output_type": "stream",
     "text": [
      "1984 emprestado para Alice\n",
      "\n",
      "\n",
      "\n",
      "1984, George Orwell, 1949, livro não está disponível\n",
      "Percy Jackson, Rick Riordan, 2005, livro disponível\n",
      "Senhor dos Anéis, J. Tokien, 1954, livro disponível\n",
      "1984 devolvido por Alice para a biblioteca\n",
      "\n",
      "\n",
      "\n",
      "1984, George Orwell, 1949, livro disponível\n",
      "Percy Jackson, Rick Riordan, 2005, livro disponível\n",
      "Senhor dos Anéis, J. Tokien, 1954, livro disponível\n"
     ]
    }
   ],
   "source": [
    "class Biblioteca:\n",
    "    def __init__(self):\n",
    "        self.catalogo = []\n",
    "\n",
    "    def adicionar_livro(self, livro):\n",
    "        self.catalogo.append(livro)\n",
    "\n",
    "    def listar_livros(self):\n",
    "        if not self.catalogo:\n",
    "            print('Nenhum livro disponível')\n",
    "            return\n",
    "        for livro in self.catalogo:\n",
    "            print(f\"{livro.info()}\")\n",
    "\n",
    "    def emprestar_livro(self, titulo, usuario):\n",
    "        for livro in self.catalogo:\n",
    "            if livro.titulo == titulo and livro.disponivel:\n",
    "                livro.disponivel = False\n",
    "                usuario.livros_emprestados.append(livro.titulo)\n",
    "                return f\"{titulo} emprestado para {usuario.nome}\"\n",
    "        return 'Livro indisponível.' \n",
    "\n",
    "    def devolver_livro(self, titulo, usuario):\n",
    "        for livro in self.catalogo:\n",
    "            if livro.titulo == titulo and not livro.disponivel and titulo in usuario.livros_emprestados:\n",
    "                livro.disponivel = True\n",
    "                usuario.livros_emprestados.remove(livro.titulo)\n",
    "                return f\"{titulo} devolvido por {usuario.nome} para a biblioteca\"\n",
    "        return \"Erro na devolução.\"        \n",
    "                        \n",
    "\n",
    "biblio = Biblioteca()\n",
    "u1 = Usuario(\"Alice\", \"alice@email.com\")\n",
    "u2 = Usuario(\"Bruno\", \"bruno@gmail.com\")\n",
    "u3 = Usuario(\"Carla\", \"carla@hotmail.com\")\n",
    "\n",
    "biblio.adicionar_livro(l1)\n",
    "biblio.adicionar_livro(l2)\n",
    "biblio.adicionar_livro(l3)\n",
    "\n",
    "# emprestar livro\n",
    "print(biblio.emprestar_livro(l1.titulo, u1))\n",
    "print('\\n\\n')\n",
    "biblio.listar_livros()\n",
    "print(biblio.devolver_livro(l1.titulo, u1))\n",
    "\n",
    "print('\\n\\n')\n",
    "biblio.listar_livros()"
   ]
  },
  {
   "cell_type": "markdown",
   "id": "dcc7282e-bbde-45da-960c-c2b065cc5992",
   "metadata": {},
   "source": [
    "## Exercício 7: Adicionando Categorias de Livros\n",
    "Modifique a classe `Livro` para incluir um atributo `categoria`.   \n",
    "Adicione um método `filtrar_por_categoria(categoria)` na classe `Biblioteca` para listar livros de uma categoria específica."
   ]
  },
  {
   "cell_type": "code",
   "execution_count": 65,
   "id": "38ee2633-4881-46ca-9db8-bf4ab6115ddb",
   "metadata": {},
   "outputs": [
    {
     "name": "stdout",
     "output_type": "stream",
     "text": [
      "[1984, George Orwell, 1949, Senhor dos Anéis, J. Tokien, 1954]\n"
     ]
    }
   ],
   "source": [
    "class Livro:\n",
    "    def __init__(self, titulo, autor, ano_publicacao, categoria, disponivel=True):\n",
    "        self.titulo = titulo\n",
    "        self.autor = autor\n",
    "        self.ano = ano_publicacao\n",
    "        self.categoria = categoria\n",
    "        self.disponivel = disponivel\n",
    "\n",
    "    def __repr__(self):\n",
    "        return f\"{self.titulo}, {self.autor}, {self.ano}\"\n",
    "\n",
    "    def info(self):\n",
    "        return f\"{self.titulo}, {self.autor}, {self.ano}, {'livro disponível' if self.disponivel else 'livro não está disponível'}\"        \n",
    "\n",
    "\n",
    "class Biblioteca:\n",
    "    def __init__(self):\n",
    "        self.catalogo = []\n",
    "\n",
    "    def adicionar_livro(self, livro):\n",
    "        self.catalogo.append(livro)\n",
    "\n",
    "    def filtrar_por_categoria(self, categoria):\n",
    "        # return [livro.info() for livro in self.catalogo if categoria.lower() in livro.categoria.lower()]\n",
    "        return list(filter(lambda x: categoria.lower() in x.categoria.lower(), self.catalogo))\n",
    "\n",
    "\n",
    "biblio = Biblioteca()\n",
    "l1 = Livro(\"1984\", \"George Orwell\", 1949, 'Ficção Histórica')\n",
    "l2 = Livro(\"Percy Jackson\", \"Rick Riordan\", 2005, 'Aventura') \n",
    "l3 = Livro(\"Senhor dos Anéis\", \"J. Tokien\", 1954, 'Ficção') \n",
    "\n",
    "biblio.adicionar_livro(l1)\n",
    "biblio.adicionar_livro(l2)\n",
    "biblio.adicionar_livro(l3)\n",
    "\n",
    "print(biblio.filtrar_por_categoria('ficção'))"
   ]
  },
  {
   "cell_type": "code",
   "execution_count": null,
   "id": "ab715e4f-7b1b-4549-a4b4-a33a7297768f",
   "metadata": {},
   "outputs": [],
   "source": []
  }
 ],
 "metadata": {
  "kernelspec": {
   "display_name": "Python 3 (ipykernel)",
   "language": "python",
   "name": "python3"
  },
  "language_info": {
   "codemirror_mode": {
    "name": "ipython",
    "version": 3
   },
   "file_extension": ".py",
   "mimetype": "text/x-python",
   "name": "python",
   "nbconvert_exporter": "python",
   "pygments_lexer": "ipython3",
   "version": "3.11.7"
  }
 },
 "nbformat": 4,
 "nbformat_minor": 5
}

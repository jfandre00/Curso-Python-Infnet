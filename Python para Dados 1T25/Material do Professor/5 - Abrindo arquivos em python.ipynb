{
 "cells": [
  {
   "cell_type": "markdown",
   "id": "e4ac4f51",
   "metadata": {},
   "source": [
    "# 📖 Abrindo Arquivos em Python: Teoria e Prática\n",
    "\n",
    "Este notebook cobre a manipulação de arquivos em Python, incluindo conceitos teóricos, exemplos básicos e avançados, e uso da biblioteca `pandas` para manipulação de arquivos estruturados."
   ]
  },
  {
   "cell_type": "markdown",
   "id": "b2387da3",
   "metadata": {},
   "source": [
    "## 📝 Parte 1: Teoria e Conceitos Fundamentais\n",
    "\n",
    "Em Python, a manipulação de arquivos é feita usando a função `open()`, que permite **ler, escrever e manipular arquivos** no sistema.\n",
    "\n",
    "### 📌 Modos de Abertura de Arquivos\n",
    "\n",
    "| Modo  | Descrição |\n",
    "|--------|-------------------------------|\n",
    "| `\"r\"`  | Leitura (modo padrão). O arquivo deve existir. |\n",
    "| `\"w\"`  | Escrita. Sobrescreve o conteúdo do arquivo se ele já existir. |\n",
    "| `\"a\"`  | Acrescenta conteúdo ao final do arquivo. Se não existir, cria um novo. |\n",
    "| `\"x\"`  | Cria um novo arquivo. Retorna erro se o arquivo já existir. |\n",
    "| `\"b\"`  | Modo binário (usado para arquivos como imagens e PDFs). |\n",
    "| `\"t\"`  | Modo de texto (padrão). |\n",
    "\n",
    "A sintaxe básica é:\n",
    "\n",
    "```python\n",
    "arquivo = open(\"meuarquivo.txt\", \"r\")\n",
    "conteudo = arquivo.read()\n",
    "arquivo.close()\n",
    "```\n",
    "\n",
    "Para evitar esquecer de fechar o arquivo, use `with open()`, que fecha o arquivo automaticamente:\n",
    "\n",
    "```python\n",
    "with open(\"meuarquivo.txt\", \"r\") as arquivo:\n",
    "    conteudo = arquivo.read()\n",
    "```"
   ]
  },
  {
   "cell_type": "markdown",
   "id": "af5733db",
   "metadata": {},
   "source": [
    "## ✏ Parte 2: Exemplos Simples"
   ]
  },
  {
   "cell_type": "code",
   "execution_count": 1,
   "id": "6f9520d0-7f7a-42a8-b55b-5e8422539dd8",
   "metadata": {},
   "outputs": [],
   "source": [
    "with open(\"exemplo.txt\", \"w\", encoding=\"utf-8\") as f:\n",
    "    pass  # Apenas cria o arquivo sem escrever nada"
   ]
  },
  {
   "cell_type": "code",
   "execution_count": 2,
   "id": "edfc5c51",
   "metadata": {},
   "outputs": [
    {
     "name": "stdout",
     "output_type": "stream",
     "text": [
      "Nome: João da Silva\n",
      "Idade: 32 anos\n",
      "Cidade: São Paulo\n",
      "Profissão: Engenheiro de Software\n",
      "\n",
      "Nome: Maria Oliveira\n",
      "Idade: 28 anos\n",
      "Cidade: Rio de Janeiro\n",
      "Profissão: Designer Gráfico\n",
      "\n",
      "Nome: Pedro Santos\n",
      "Idade: 40 anos\n",
      "Cidade: Belo Horizonte\n",
      "Profissão: Analista de Dados\n",
      "\n",
      "Este é um arquivo de exemplo contendo informações de diferentes pessoas.\n",
      "Cada bloco contém nome, idade, cidade e profissão.\n",
      "\n"
     ]
    }
   ],
   "source": [
    "# 1️⃣ Lendo um Arquivo Texto Inteiro\n",
    "with open(\"texto.txt\", \"r\", encoding=\"utf-8\") as arquivo:\n",
    "    conteudo = arquivo.read()\n",
    "    print(conteudo)"
   ]
  },
  {
   "cell_type": "code",
   "execution_count": 3,
   "id": "03dcaf7c",
   "metadata": {},
   "outputs": [
    {
     "name": "stdout",
     "output_type": "stream",
     "text": [
      "Nome: João da Silva\n",
      "Idade: 32 anos\n",
      "Cidade: São Paulo\n",
      "Profissão: Engenheiro de Software\n",
      "\n",
      "Nome: Maria Oliveira\n",
      "Idade: 28 anos\n",
      "Cidade: Rio de Janeiro\n",
      "Profissão: Designer Gráfico\n",
      "\n",
      "Nome: Pedro Santos\n",
      "Idade: 40 anos\n",
      "Cidade: Belo Horizonte\n",
      "Profissão: Analista de Dados\n",
      "\n",
      "Este é um arquivo de exemplo contendo informações de diferentes pessoas.\n",
      "Cada bloco contém nome, idade, cidade e profissão.\n"
     ]
    }
   ],
   "source": [
    "# 2️⃣ Lendo um Arquivo Linha por Linha\n",
    "with open(\"texto.txt\", \"r\", encoding=\"utf-8\") as arquivo:\n",
    "    for linha in arquivo:\n",
    "        print(linha.strip())"
   ]
  },
  {
   "cell_type": "code",
   "execution_count": 4,
   "id": "364ceb35",
   "metadata": {},
   "outputs": [],
   "source": [
    "# 3️⃣ Escrevendo em um Arquivo (Sobrescrevendo)\n",
    "with open(\"saida.txt\", \"w\", encoding=\"utf-8\") as arquivo:\n",
    "    arquivo.write(\"Escrevendo minha primeira linha em um arquivo!\\n\")\n",
    "    arquivo.write(\"E esta é a segunda linha.\")"
   ]
  },
  {
   "cell_type": "code",
   "execution_count": 7,
   "id": "d7d1ac9f-8392-4282-9931-ff12a4f87897",
   "metadata": {},
   "outputs": [
    {
     "name": "stdout",
     "output_type": "stream",
     "text": [
      "Escrevendo minha primeira linha em um arquivo!\n",
      "E esta é a segunda linha.\n",
      "Agora estou adicionando mais conteúdo ao final!\n"
     ]
    }
   ],
   "source": [
    "with open(\"saida.txt\", \"r\", encoding=\"utf-8\") as arquivo:\n",
    "    conteudo = arquivo.read()\n",
    "    print(conteudo)"
   ]
  },
  {
   "cell_type": "code",
   "execution_count": 6,
   "id": "dd40c306",
   "metadata": {},
   "outputs": [],
   "source": [
    "# 4️⃣ Acrescentando Texto em um Arquivo Existente\n",
    "with open(\"saida.txt\", \"a\", encoding=\"utf-8\") as arquivo:\n",
    "    arquivo.write(\"\\nAgora estou adicionando mais conteúdo ao final!\")"
   ]
  },
  {
   "cell_type": "markdown",
   "id": "e4ae17f2",
   "metadata": {},
   "source": [
    "## 🏗 Parte 3: Exemplos Mais Complexos"
   ]
  },
  {
   "cell_type": "code",
   "execution_count": 114,
   "id": "ceea118c",
   "metadata": {},
   "outputs": [
    {
     "name": "stdout",
     "output_type": "stream",
     "text": [
      "[('de', 5), ('Nome:', 3), ('Idade:', 3), ('anos', 3), ('Cidade:', 3)]\n"
     ]
    }
   ],
   "source": [
    "# 6️⃣ Contar a Frequência de Palavras em um Arquivo Texto\n",
    "from collections import Counter\n",
    "\n",
    "with open(\"texto.txt\", \"r\", encoding=\"utf-8\") as arquivo:\n",
    "    palavras = arquivo.read().split()\n",
    "    # print(palavras)\n",
    "    contagem = Counter(palavras)\n",
    "    # print(contagem)\n",
    "\n",
    "print(contagem.most_common(5))"
   ]
  },
  {
   "cell_type": "markdown",
   "id": "ede748c9-0c1b-489d-8d8c-0b394972bb7a",
   "metadata": {},
   "source": [
    "CSV: comma separator value"
   ]
  },
  {
   "cell_type": "code",
   "execution_count": 8,
   "id": "8e4bf7b1",
   "metadata": {},
   "outputs": [
    {
     "name": "stdout",
     "output_type": "stream",
     "text": [
      "['Nome', 'Idade', 'Cidade', 'Profissão', 'Salário']\n",
      "['João da Silva', '32', 'São Paulo', 'Engenheiro de Software', '12000']\n",
      "['Maria Oliveira', '28', 'Rio de Janeiro', 'Designer Gráfico', '7500']\n",
      "['Pedro Santos', '40', 'Belo Horizonte', 'Analista de Dados', '9500']\n",
      "['Ana Souza', '35', 'Curitiba', 'Gerente de Projetos', '13500']\n",
      "['Carlos Mendes', '29', 'Porto Alegre', 'Desenvolvedor Web', '8500']\n",
      "['Fernanda Lima', '41', 'Brasília', 'Cientista de Dados', '14500']\n"
     ]
    }
   ],
   "source": [
    "# 7️⃣ Manipulando Arquivos CSV sem Pandas\n",
    "import csv\n",
    "\n",
    "with open(\"dados.csv\", \"r\", encoding=\"utf-8\") as arquivo:\n",
    "    leitor = csv.reader(arquivo)\n",
    "    for linha in leitor:\n",
    "        print(linha)"
   ]
  },
  {
   "cell_type": "code",
   "execution_count": 9,
   "id": "0aa5dc94",
   "metadata": {},
   "outputs": [],
   "source": [
    "# Escrevendo um CSV sem Pandas\n",
    "dados = [\n",
    "    [\"Nome\", \"Idade\", \"Cidade\"],\n",
    "    [\"Ana\", 25, \"São Paulo\"],\n",
    "    [\"Carlos\", 30, \"Rio de Janeiro\"]\n",
    "]\n",
    "\n",
    "with open(\"saida.csv\", \"w\", newline='', encoding=\"utf-8\") as arquivo:\n",
    "    escritor = csv.writer(arquivo)\n",
    "    escritor.writerows(dados)"
   ]
  },
  {
   "cell_type": "code",
   "execution_count": 10,
   "id": "4a6ae168-05db-45e8-a01b-339f81956506",
   "metadata": {},
   "outputs": [
    {
     "name": "stdout",
     "output_type": "stream",
     "text": [
      "['Nome', 'Idade', 'Cidade']\n",
      "['Ana', '25', 'São Paulo']\n",
      "['Carlos', '30', 'Rio de Janeiro']\n"
     ]
    }
   ],
   "source": [
    "with open(\"saida.csv\", \"r\", newline='', encoding=\"utf-8\") as arquivo:\n",
    "    conteudo = csv.reader(arquivo)\n",
    "    for linha in conteudo:\n",
    "        print(linha)"
   ]
  },
  {
   "cell_type": "code",
   "execution_count": 11,
   "id": "3a8d4392",
   "metadata": {},
   "outputs": [
    {
     "name": "stdout",
     "output_type": "stream",
     "text": [
      "{'nome': 'João', 'idade': 30, 'cidade': 'Curitiba'}\n"
     ]
    }
   ],
   "source": [
    "# 8️⃣ Trabalhando com JSON\n",
    "import json\n",
    "\n",
    "dados = {\n",
    "    \"nome\": \"João\",\n",
    "    \"idade\": 30,\n",
    "    \"cidade\": \"Curitiba\"\n",
    "}\n",
    "\n",
    "# Salvando um dicionário em JSON\n",
    "with open(\"dados.json\", \"w\", encoding=\"utf-8\") as arquivo:\n",
    "    json.dump(dados, arquivo, indent=4)\n",
    "\n",
    "# Lendo JSON\n",
    "with open(\"dados.json\", \"r\", encoding=\"utf-8\") as arquivo:\n",
    "    dados_carregados = json.load(arquivo)\n",
    "\n",
    "print(dados_carregados)"
   ]
  },
  {
   "cell_type": "markdown",
   "id": "df52bc7b",
   "metadata": {},
   "source": [
    "## 📊 Parte 4: Manipulação de Arquivos com Pandas"
   ]
  },
  {
   "cell_type": "code",
   "execution_count": 12,
   "id": "82ea32f5",
   "metadata": {},
   "outputs": [
    {
     "data": {
      "text/html": [
       "<div>\n",
       "<style scoped>\n",
       "    .dataframe tbody tr th:only-of-type {\n",
       "        vertical-align: middle;\n",
       "    }\n",
       "\n",
       "    .dataframe tbody tr th {\n",
       "        vertical-align: top;\n",
       "    }\n",
       "\n",
       "    .dataframe thead th {\n",
       "        text-align: right;\n",
       "    }\n",
       "</style>\n",
       "<table border=\"1\" class=\"dataframe\">\n",
       "  <thead>\n",
       "    <tr style=\"text-align: right;\">\n",
       "      <th></th>\n",
       "      <th>Nome</th>\n",
       "      <th>Idade</th>\n",
       "      <th>Cidade</th>\n",
       "      <th>Profissão</th>\n",
       "      <th>Salário</th>\n",
       "    </tr>\n",
       "  </thead>\n",
       "  <tbody>\n",
       "    <tr>\n",
       "      <th>0</th>\n",
       "      <td>João da Silva</td>\n",
       "      <td>32</td>\n",
       "      <td>São Paulo</td>\n",
       "      <td>Engenheiro de Software</td>\n",
       "      <td>12000</td>\n",
       "    </tr>\n",
       "    <tr>\n",
       "      <th>1</th>\n",
       "      <td>Maria Oliveira</td>\n",
       "      <td>28</td>\n",
       "      <td>Rio de Janeiro</td>\n",
       "      <td>Designer Gráfico</td>\n",
       "      <td>7500</td>\n",
       "    </tr>\n",
       "  </tbody>\n",
       "</table>\n",
       "</div>"
      ],
      "text/plain": [
       "             Nome  Idade          Cidade               Profissão  Salário\n",
       "0   João da Silva     32       São Paulo  Engenheiro de Software    12000\n",
       "1  Maria Oliveira     28  Rio de Janeiro        Designer Gráfico     7500"
      ]
     },
     "execution_count": 12,
     "metadata": {},
     "output_type": "execute_result"
    }
   ],
   "source": [
    "# 9️⃣ Lendo um CSV com Pandas\n",
    "import pandas as pd\n",
    "\n",
    "df = pd.read_csv(\"dados.csv\", encoding=\"utf-8\") # modo 'r'\n",
    "df.head(2)"
   ]
  },
  {
   "cell_type": "code",
   "execution_count": 121,
   "id": "bc18731d",
   "metadata": {},
   "outputs": [],
   "source": [
    "# 🔟 Salvando um DataFrame como CSV\n",
    "df.to_csv(\"saida_pandas.csv\", index=False, encoding=\"utf-8\") # modo 'w'"
   ]
  },
  {
   "cell_type": "code",
   "execution_count": 122,
   "id": "31fad7c0",
   "metadata": {},
   "outputs": [
    {
     "data": {
      "text/html": [
       "<div>\n",
       "<style scoped>\n",
       "    .dataframe tbody tr th:only-of-type {\n",
       "        vertical-align: middle;\n",
       "    }\n",
       "\n",
       "    .dataframe tbody tr th {\n",
       "        vertical-align: top;\n",
       "    }\n",
       "\n",
       "    .dataframe thead th {\n",
       "        text-align: right;\n",
       "    }\n",
       "</style>\n",
       "<table border=\"1\" class=\"dataframe\">\n",
       "  <thead>\n",
       "    <tr style=\"text-align: right;\">\n",
       "      <th></th>\n",
       "      <th>0</th>\n",
       "    </tr>\n",
       "  </thead>\n",
       "  <tbody>\n",
       "    <tr>\n",
       "      <th>nome</th>\n",
       "      <td>João</td>\n",
       "    </tr>\n",
       "    <tr>\n",
       "      <th>idade</th>\n",
       "      <td>30</td>\n",
       "    </tr>\n",
       "    <tr>\n",
       "      <th>cidade</th>\n",
       "      <td>Curitiba</td>\n",
       "    </tr>\n",
       "  </tbody>\n",
       "</table>\n",
       "</div>"
      ],
      "text/plain": [
       "               0\n",
       "nome        João\n",
       "idade         30\n",
       "cidade  Curitiba"
      ]
     },
     "execution_count": 122,
     "metadata": {},
     "output_type": "execute_result"
    }
   ],
   "source": [
    "# 1️⃣1️⃣ Lendo um Arquivo JSON com Pandas\n",
    "df_json = pd.read_json(\"dados.json\", orient=\"index\")\n",
    "df_json"
   ]
  },
  {
   "cell_type": "code",
   "execution_count": 123,
   "id": "89b73bdf",
   "metadata": {},
   "outputs": [],
   "source": [
    "# 1️⃣2️⃣ Salvando um DataFrame em JSON\n",
    "df_json.to_json(\"saida.json\", orient=\"records\", indent=4)"
   ]
  },
  {
   "cell_type": "code",
   "execution_count": 124,
   "id": "5143a39d-210b-4b93-af09-4ba790bc6d3a",
   "metadata": {},
   "outputs": [
    {
     "name": "stdout",
     "output_type": "stream",
     "text": [
      "[{'0': 'João'}, {'0': 30}, {'0': 'Curitiba'}]\n"
     ]
    }
   ],
   "source": [
    "with open(\"saida.json\", \"r\", encoding=\"utf-8\") as arquivo:\n",
    "    dados_carregados = json.load(arquivo)\n",
    "    print(dados_carregados)"
   ]
  },
  {
   "cell_type": "code",
   "execution_count": 125,
   "id": "dbdf8c9e",
   "metadata": {},
   "outputs": [
    {
     "data": {
      "text/html": [
       "<div>\n",
       "<style scoped>\n",
       "    .dataframe tbody tr th:only-of-type {\n",
       "        vertical-align: middle;\n",
       "    }\n",
       "\n",
       "    .dataframe tbody tr th {\n",
       "        vertical-align: top;\n",
       "    }\n",
       "\n",
       "    .dataframe thead th {\n",
       "        text-align: right;\n",
       "    }\n",
       "</style>\n",
       "<table border=\"1\" class=\"dataframe\">\n",
       "  <thead>\n",
       "    <tr style=\"text-align: right;\">\n",
       "      <th></th>\n",
       "      <th>Nome</th>\n",
       "      <th>Idade</th>\n",
       "      <th>Cidade</th>\n",
       "      <th>Profissão</th>\n",
       "      <th>Salário</th>\n",
       "    </tr>\n",
       "  </thead>\n",
       "  <tbody>\n",
       "    <tr>\n",
       "      <th>2</th>\n",
       "      <td>Pedro Santos</td>\n",
       "      <td>40</td>\n",
       "      <td>Belo Horizonte</td>\n",
       "      <td>Analista de Dados</td>\n",
       "      <td>9500</td>\n",
       "    </tr>\n",
       "    <tr>\n",
       "      <th>5</th>\n",
       "      <td>Fernanda Lima</td>\n",
       "      <td>41</td>\n",
       "      <td>Brasília</td>\n",
       "      <td>Cientista de Dados</td>\n",
       "      <td>14500</td>\n",
       "    </tr>\n",
       "  </tbody>\n",
       "</table>\n",
       "</div>"
      ],
      "text/plain": [
       "            Nome  Idade          Cidade           Profissão  Salário\n",
       "2   Pedro Santos     40  Belo Horizonte   Analista de Dados     9500\n",
       "5  Fernanda Lima     41        Brasília  Cientista de Dados    14500"
      ]
     },
     "execution_count": 125,
     "metadata": {},
     "output_type": "execute_result"
    }
   ],
   "source": [
    "# 1️⃣3️⃣ Filtrando Dados de um CSV\n",
    "df_filtrado = df[df[\"Idade\"] > 35]  # Filtra apenas pessoas com mais de 25 anos\n",
    "df_filtrado"
   ]
  },
  {
   "cell_type": "code",
   "execution_count": 126,
   "id": "0dc87054",
   "metadata": {},
   "outputs": [],
   "source": [
    "# 1️⃣4️⃣ Criando um Novo CSV Apenas com Colunas Específicas\n",
    "df_cols = df[[\"Nome\", \"Idade\"]]\n",
    "df_cols.to_csv(\"nomes_idades.csv\", index=False) # modo 'w'"
   ]
  },
  {
   "cell_type": "code",
   "execution_count": 127,
   "id": "6639a5d9-1fea-4168-ba66-c52e74a50295",
   "metadata": {},
   "outputs": [
    {
     "data": {
      "text/html": [
       "<div>\n",
       "<style scoped>\n",
       "    .dataframe tbody tr th:only-of-type {\n",
       "        vertical-align: middle;\n",
       "    }\n",
       "\n",
       "    .dataframe tbody tr th {\n",
       "        vertical-align: top;\n",
       "    }\n",
       "\n",
       "    .dataframe thead th {\n",
       "        text-align: right;\n",
       "    }\n",
       "</style>\n",
       "<table border=\"1\" class=\"dataframe\">\n",
       "  <thead>\n",
       "    <tr style=\"text-align: right;\">\n",
       "      <th></th>\n",
       "      <th>Nome</th>\n",
       "      <th>Idade</th>\n",
       "    </tr>\n",
       "  </thead>\n",
       "  <tbody>\n",
       "    <tr>\n",
       "      <th>0</th>\n",
       "      <td>João da Silva</td>\n",
       "      <td>32</td>\n",
       "    </tr>\n",
       "    <tr>\n",
       "      <th>1</th>\n",
       "      <td>Maria Oliveira</td>\n",
       "      <td>28</td>\n",
       "    </tr>\n",
       "    <tr>\n",
       "      <th>2</th>\n",
       "      <td>Pedro Santos</td>\n",
       "      <td>40</td>\n",
       "    </tr>\n",
       "  </tbody>\n",
       "</table>\n",
       "</div>"
      ],
      "text/plain": [
       "             Nome  Idade\n",
       "0   João da Silva     32\n",
       "1  Maria Oliveira     28\n",
       "2    Pedro Santos     40"
      ]
     },
     "execution_count": 127,
     "metadata": {},
     "output_type": "execute_result"
    }
   ],
   "source": [
    "df_subset = pd.read_csv(\"nomes_idades.csv\")\n",
    "df_subset.head(3)"
   ]
  },
  {
   "cell_type": "markdown",
   "id": "a6b302b2",
   "metadata": {},
   "source": [
    "## 🎯 Resumo e Conclusão\n",
    "\n",
    "✔ Python permite abrir arquivos de texto, CSV e JSON facilmente com `open()`.\n",
    "\n",
    "✔ Para arquivos grandes, ler **linha por linha** evita o consumo excessivo de memória.\n",
    "\n",
    "✔ O **modo de abertura (`r`, `w`, `a`, `b`)** define o comportamento ao acessar o arquivo.\n",
    "\n",
    "✔ `csv` e `json` são módulos úteis para manipular arquivos estruturados.\n",
    "\n",
    "✔ `pandas` facilita a análise e transformação de arquivos CSV e JSON."
   ]
  },
  {
   "cell_type": "code",
   "execution_count": null,
   "id": "179cd5b3-105a-4376-9b2d-1cb0523b841a",
   "metadata": {},
   "outputs": [],
   "source": []
  }
 ],
 "metadata": {
  "kernelspec": {
   "display_name": "Python 3",
   "language": "python",
   "name": "python3"
  },
  "language_info": {
   "codemirror_mode": {
    "name": "ipython",
    "version": 3
   },
   "file_extension": ".py",
   "mimetype": "text/x-python",
   "name": "python",
   "nbconvert_exporter": "python",
   "pygments_lexer": "ipython3",
   "version": "3.11.5"
  }
 },
 "nbformat": 4,
 "nbformat_minor": 5
}

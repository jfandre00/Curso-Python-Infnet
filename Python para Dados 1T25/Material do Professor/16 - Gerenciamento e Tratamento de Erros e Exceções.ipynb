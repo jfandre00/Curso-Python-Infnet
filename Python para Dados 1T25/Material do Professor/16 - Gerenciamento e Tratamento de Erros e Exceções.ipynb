{
 "cells": [
  {
   "cell_type": "markdown",
   "id": "72f0df41",
   "metadata": {},
   "source": [
    "\n",
    "# **Gerenciamento e Tratamento de Erros e Exceções em Python**\n",
    "\n",
    "Na lição de hoje, iremos aprender sobre tratamento de exceções em Python com:\n",
    "\n",
    "- Blocos `try/except`\n",
    "- Uso do `else`\n",
    "- Manipulação do erro `FileNotFoundError`\n",
    "- Uso do `pass` para silenciar exceções conscientemente\n",
    "\n",
    "O tratamento adequado de erros melhora a robustez e previsibilidade do código, evitando falhas inesperadas.\n"
   ]
  },
  {
   "cell_type": "markdown",
   "id": "6d19ba62",
   "metadata": {},
   "source": [
    "\n",
    "## **📌 O que são Exceções em Python?**\n",
    "\n",
    "Exceções são erros que ocorrem **durante a execução do programa**, interrompendo o fluxo normal.\n",
    "\n",
    "Exemplos comuns:\n",
    "- `ZeroDivisionError` → Quando tentamos dividir por zero\n",
    "- `FileNotFoundError` → Quando um arquivo não é encontrado\n",
    "- `ValueError` → Quando um dado tem tipo incorreto\n",
    "\n",
    "Para evitar falhas inesperadas, usamos **blocos try/except** para capturar e tratar essas exceções.\n"
   ]
  },
  {
   "cell_type": "markdown",
   "id": "b3b6f138",
   "metadata": {},
   "source": [
    "\n",
    "## **🔹 Blocos `try/except` para tratar exceções**\n",
    "O bloco `try/except` permite capturar erros e evitar que o programa quebre.\n",
    "\n",
    "### **Exemplo 1: Tratando um erro de divisão por zero**\n"
   ]
  },
  {
   "cell_type": "code",
   "execution_count": 4,
   "id": "e9fa3c14",
   "metadata": {},
   "outputs": [
    {
     "name": "stdout",
     "output_type": "stream",
     "text": [
      "Erro: Não é possível dividir por zero!\n",
      "1000000000.0\n"
     ]
    }
   ],
   "source": [
    "try:\n",
    "    resultado = 10 / 0  # Isso geraria um erro ZeroDivisionError\n",
    "except ZeroDivisionError:\n",
    "    print(\"Erro: Não é possível dividir por zero!\")\n",
    "    epsilon = 0.00000001\n",
    "    resultado = 10 / (0 + epsilon)\n",
    "    print(resultado)"
   ]
  },
  {
   "cell_type": "markdown",
   "id": "e62601c2",
   "metadata": {},
   "source": [
    "\n",
    "## **🔹 Usando exceções para evitar falhas**\n",
    "Podemos capturar múltiplos tipos de exceção ou capturar **qualquer erro genérico** usando `Exception`.\n",
    "\n",
    "### **Exemplo 2: Capturando diferentes tipos de erro**\n"
   ]
  },
  {
   "cell_type": "code",
   "execution_count": 11,
   "id": "1175f6d2",
   "metadata": {},
   "outputs": [
    {
     "name": "stdin",
     "output_type": "stream",
     "text": [
      "Digite um número:  5\n"
     ]
    }
   ],
   "source": [
    "try:\n",
    "    num = int(input(\"Digite um número: \"))\n",
    "    resultado = 10 / num  # Pode gerar ZeroDivisionError ou ValueError\n",
    "except ZeroDivisionError:\n",
    "    print(\"Erro: Divisão por zero não permitida!\")\n",
    "except ValueError:\n",
    "    print(\"Erro: Digite um número válido!\")\n",
    "except Exception as e:  # Captura qualquer outro erro\n",
    "    print(f\"Erro inesperado: {e}\")"
   ]
  },
  {
   "cell_type": "markdown",
   "id": "fe88d993",
   "metadata": {},
   "source": [
    "\n",
    "## **🔹 Usando `else` para tratar exceções**\n",
    "O bloco `else` executa código **apenas se nenhuma exceção ocorrer**.\n",
    "\n",
    "### **Exemplo 3: Usando `else` para código seguro**\n"
   ]
  },
  {
   "cell_type": "code",
   "execution_count": 12,
   "id": "e42b4b64",
   "metadata": {},
   "outputs": [
    {
     "name": "stdin",
     "output_type": "stream",
     "text": [
      "Digite um número:  5\n"
     ]
    },
    {
     "name": "stdout",
     "output_type": "stream",
     "text": [
      "Resultado da divisão: 2.0\n"
     ]
    }
   ],
   "source": [
    "try:\n",
    "    num = int(input(\"Digite um número: \"))\n",
    "    resultado = 10 / num\n",
    "except ZeroDivisionError:\n",
    "    print(\"Erro: Divisão por zero!\")\n",
    "except ValueError:\n",
    "    print(\"Erro: Digite um número válido!\")\n",
    "else:\n",
    "    print(f\"Resultado da divisão: {resultado}\")  # Só executa se não houver erro"
   ]
  },
  {
   "cell_type": "markdown",
   "id": "87a056a6",
   "metadata": {},
   "source": [
    "\n",
    "## **🔹 Manipulando `FileNotFoundError`**\n",
    "Quando tentamos abrir um arquivo que **não existe**, ocorre um `FileNotFoundError`.\n",
    "\n",
    "### **Exemplo 4: Lidando com erro ao abrir um arquivo**\n"
   ]
  },
  {
   "cell_type": "code",
   "execution_count": 13,
   "id": "c7d63626",
   "metadata": {},
   "outputs": [
    {
     "name": "stdout",
     "output_type": "stream",
     "text": [
      "Erro: O arquivo não foi encontrado!\n"
     ]
    }
   ],
   "source": [
    "try:\n",
    "    with open(\"arquivo_inexistente.txt\", \"r\") as file:\n",
    "        conteudo = file.read()\n",
    "except FileNotFoundError:\n",
    "    print(\"Erro: O arquivo não foi encontrado!\")"
   ]
  },
  {
   "cell_type": "markdown",
   "id": "db2cdec8",
   "metadata": {},
   "source": [
    "\n",
    "## **🔹 Utilizando `pass` para silenciar falhas**\n",
    "Se queremos ignorar um erro sem interromper o programa, usamos `pass`.\n",
    "\n",
    "### **Exemplo 5: Silenciando um erro conscientemente**\n"
   ]
  },
  {
   "cell_type": "code",
   "execution_count": 14,
   "id": "1ba2f708",
   "metadata": {},
   "outputs": [
    {
     "name": "stdout",
     "output_type": "stream",
     "text": [
      "O programa continua rodando normalmente.\n"
     ]
    }
   ],
   "source": [
    "try:\n",
    "    resultado = 10 / 0  # Isso geraria erro, mas será ignorado\n",
    "except ZeroDivisionError:\n",
    "    pass  # Ignora o erro e segue o fluxo do programa\n",
    "\n",
    "print(\"O programa continua rodando normalmente.\")"
   ]
  },
  {
   "cell_type": "markdown",
   "id": "6f6a4da9",
   "metadata": {},
   "source": [
    "\n",
    "## **📌 Resumo**\n",
    "| Conceito | Explicação |\n",
    "|----------|------------|\n",
    "| `try/except` | Captura exceções e evita falhas |\n",
    "| `except Exception as e` | Captura qualquer erro e imprime detalhes |\n",
    "| `else` | Executado **somente se** não houver erro |\n",
    "| `FileNotFoundError` | Tratamento para arquivos inexistentes |\n",
    "| `pass` | Ignora erros conscientemente |\n",
    "\n",
    "Agora você já sabe como tratar erros em Python e deixar seu código mais robusto! 🚀\n"
   ]
  }
 ],
 "metadata": {
  "kernelspec": {
   "display_name": "Python 3 (ipykernel)",
   "language": "python",
   "name": "python3"
  },
  "language_info": {
   "codemirror_mode": {
    "name": "ipython",
    "version": 3
   },
   "file_extension": ".py",
   "mimetype": "text/x-python",
   "name": "python",
   "nbconvert_exporter": "python",
   "pygments_lexer": "ipython3",
   "version": "3.11.7"
  }
 },
 "nbformat": 4,
 "nbformat_minor": 5
}

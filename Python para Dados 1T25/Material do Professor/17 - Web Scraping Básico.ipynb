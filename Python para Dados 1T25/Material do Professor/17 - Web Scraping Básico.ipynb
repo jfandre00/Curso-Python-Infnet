{
 "cells": [
  {
   "cell_type": "markdown",
   "id": "d12fbc12",
   "metadata": {},
   "source": [
    "# Web Scraping com Python\n",
    "\n",
    "Neste notebook, vamos aprender **Web Scraping** em Python, explorando técnicas para **baixar e analisar páginas HTML**.  \n",
    "Usaremos bibliotecas como **`urllib` e `BeautifulSoup`** para extrair informações da web.\n",
    "\n",
    "---\n",
    "\n",
    "## **O que é Web Scraping?**\n",
    "\n",
    "O **Web Scraping** é o processo de **extrair informações** de páginas web automaticamente.  \n",
    "Isso é útil para:\n",
    "\n",
    "✔ **Coletar dados de sites para análise** (preços de produtos, notícias, etc.).  \n",
    "✔ **Automatizar tarefas repetitivas**, como baixar tabelas e atualizar bancos de dados.  \n",
    "✔ **Monitorar sites dinamicamente**, acompanhando mudanças em tempo real.\n",
    "\n",
    "O processo de Web Scraping geralmente é dividido em **duas etapas principais**:\n",
    "\n",
    "1. **Crawler (Coletor de Dados)**: Responsável por buscar o conteúdo da página, obtendo o HTML bruto.\n",
    "2. **Parser (Analisador de Conteúdo)**: Responsável por processar o HTML e extrair as informações desejadas.\n",
    "\n",
    "---\n",
    "\n",
    "## **Como funciona o Web Scraping?**\n",
    "\n",
    "### **Crawler (Robô de Navegação)**\n",
    "- Um **crawler** acessa sites, **lê** o HTML e **baixa** a página.  \n",
    "- Ele funciona como um **navegador automatizado**, seguindo links e coletando conteúdo.  \n",
    "\n",
    "### **Parser (Analisador de Conteúdo)**\n",
    "- O **parser** lê o HTML baixado e extrai informações específicas (títulos, links, imagens, etc.).  \n",
    "- Em Python, usamos **`BeautifulSoup`** para processar e encontrar dados no HTML.\n",
    "\n",
    "---\n",
    "\n",
    "## **O que há por trás? (HTML, CSS e HTTP)**\n",
    "\n",
    "Para entender Web Scraping, precisamos conhecer um pouco sobre **HTML e CSS**:\n",
    "\n",
    "- **HTML (HyperText Markup Language)** → Estrutura da página web.\n",
    "- **CSS (Cascading Style Sheets)** → Define o estilo da página.\n",
    "- **HTTP Requests** → Comunicação entre o navegador e os sites.\n",
    "\n",
    "A estrutura básica de uma página HTML é assim:\n",
    "\n",
    "```html\n",
    "<!DOCTYPE html>\n",
    "<html>\n",
    "<head>\n",
    "    <title>Minha Página</title>\n",
    "</head>\n",
    "<body>\n",
    "    <h1>Bem-vindo!</h1>\n",
    "    <p>Esta é uma página de exemplo.</p>\n",
    "</body>\n",
    "</html>\n"
   ]
  },
  {
   "cell_type": "markdown",
   "id": "69c2d330",
   "metadata": {},
   "source": [
    "\n",
    "## Biblioteca `urllib`\n",
    "A biblioteca `urllib` faz parte da **standard library** do Python e permite baixar dados da web.\n",
    "\n",
    "### Funções principais:\n",
    "- `urllib.request.urlopen(url)`: Abre uma URL e retorna uma resposta.\n",
    "- `urllib.request.Request(url, headers)`: Permite personalizar requisições.\n",
    "- `urllib.parse.urljoin(base, url)`: Junta URLs relativas e absolutas.\n",
    "    "
   ]
  },
  {
   "cell_type": "code",
   "execution_count": 15,
   "id": "6cff000e",
   "metadata": {},
   "outputs": [
    {
     "name": "stdout",
     "output_type": "stream",
     "text": [
      "b'<!doctype html>\\n<html>\\n<head>\\n    <title>Example Domain</title>\\n\\n    <meta charset=\"utf-8\" />\\n    <meta http-equiv=\"Content-type\" content=\"text/html; charset=utf-8\" />\\n    <meta name=\"viewport\" content=\"width=device-width, initial-scale=1\" />\\n    <style type=\"text/css\">\\n    body {\\n        background-color: #f0f0f2;\\n        margin: 0;\\n        padding: 0;\\n        font-family: -apple-system, system-ui, BlinkMacSystemFont, \"Segoe UI\", \"Open Sans\", \"Helvetica Neue\", Helvetica, Arial, sans-serif;\\n    '\n"
     ]
    }
   ],
   "source": [
    "import urllib.request\n",
    "\n",
    "url = \"https://example.com\"\n",
    "response = urllib.request.urlopen(url)\n",
    "html = response.read()\n",
    "\n",
    "print(html[:500])  # Mostra os primeiros 500 caracteres do HTML"
   ]
  },
  {
   "cell_type": "markdown",
   "id": "198d98bd",
   "metadata": {},
   "source": [
    "\n",
    "## Biblioteca `BeautifulSoup`\n",
    "`BeautifulSoup` é uma biblioteca poderosa para analisar HTML e XML.\n",
    "\n",
    "### Funções principais:\n",
    "- `BeautifulSoup(html, \"html.parser\")`: Cria um objeto BeautifulSoup.\n",
    "- `.find(tag)`: Retorna a primeira ocorrência de uma tag específica.\n",
    "- `.find_all(tag)`: Retorna todas as ocorrências de uma tag.\n",
    "- `.get_text()`: Obtém apenas o texto dentro da tag.\n",
    "\n",
    "#### Exemplos:"
   ]
  },
  {
   "cell_type": "code",
   "execution_count": 20,
   "id": "6e59701e",
   "metadata": {},
   "outputs": [
    {
     "name": "stdout",
     "output_type": "stream",
     "text": [
      "Olá, Mundo!\n"
     ]
    }
   ],
   "source": [
    "from bs4 import BeautifulSoup\n",
    "\n",
    "html = \"<html><body><h1>Olá, Mundo!</h1></body></html>\"\n",
    "soup = BeautifulSoup(html, \"html.parser\")\n",
    "\n",
    "print(soup.h1.text)"
   ]
  },
  {
   "cell_type": "code",
   "execution_count": 21,
   "id": "c60ab895-95cc-4763-b87d-b65a02b536bc",
   "metadata": {},
   "outputs": [
    {
     "name": "stdout",
     "output_type": "stream",
     "text": [
      "Primeiro parágrafo.\n",
      "Segundo parágrafo.\n"
     ]
    }
   ],
   "source": [
    "html = \"<html><body><p>Primeiro parágrafo.</p><p>Segundo parágrafo.</p></body></html>\"\n",
    "soup = BeautifulSoup(html, \"html.parser\")\n",
    "\n",
    "# Extraindo todos os parágrafos\n",
    "paragrafos = soup.find_all(\"p\")\n",
    "for p in paragrafos:\n",
    "    print(p.text)"
   ]
  },
  {
   "cell_type": "code",
   "execution_count": 26,
   "id": "cfad72a1-2b0a-4c45-9e1e-d8de17405dbd",
   "metadata": {},
   "outputs": [
    {
     "name": "stdout",
     "output_type": "stream",
     "text": [
      "Texto do link: Clique aqui\n",
      "URL: https://example.com\n"
     ]
    }
   ],
   "source": [
    "html = '<html><body><a href=\"https://example.com\">Clique aqui</a></body></html>'\n",
    "soup = BeautifulSoup(html, \"html.parser\")\n",
    "\n",
    "# Extraindo o link\n",
    "link = soup.a.text\n",
    "url = soup.a['href']\n",
    "\n",
    "print(f\"Texto do link: {link}\")\n",
    "print(f\"URL: {url}\")"
   ]
  },
  {
   "cell_type": "code",
   "execution_count": 31,
   "id": "1df452f4-e938-4a7a-a8b3-e4156b05c0cd",
   "metadata": {},
   "outputs": [
    {
     "name": "stdout",
     "output_type": "stream",
     "text": [
      "['Item 1', 'Item 2', 'Item 3']\n"
     ]
    }
   ],
   "source": [
    "html = \"<html><body><ul><li>Item 1</li><li>Item 2</li><li>Item 3</li></ul></body></html>\"\n",
    "soup = BeautifulSoup(html, \"html.parser\")\n",
    "\n",
    "# Pegando todos os itens da lista\n",
    "itens = [li.text for li in soup.find_all(\"li\")]\n",
    "print(itens)"
   ]
  },
  {
   "cell_type": "code",
   "execution_count": 32,
   "id": "ceb2c670-68ed-4979-9f4b-89087d2f5a20",
   "metadata": {},
   "outputs": [
    {
     "name": "stdout",
     "output_type": "stream",
     "text": [
      "Conteúdo importante\n"
     ]
    }
   ],
   "source": [
    "html = '<html><body><div class=\"destaque\">Conteúdo importante</div></body></html>'\n",
    "soup = BeautifulSoup(html, \"html.parser\")\n",
    "\n",
    "# Pegando o conteúdo dentro da classe 'destaque'\n",
    "conteudo = soup.find(\"div\", class_=\"destaque\").text\n",
    "print(conteudo)"
   ]
  },
  {
   "cell_type": "code",
   "execution_count": 33,
   "id": "4d8de484-4dd8-4aef-9767-57d6f3bd3709",
   "metadata": {},
   "outputs": [
    {
     "name": "stdout",
     "output_type": "stream",
     "text": [
      "['Notícia 1', 'Notícia 2', 'Notícia 3']\n"
     ]
    }
   ],
   "source": [
    "html = '''\n",
    "<html>\n",
    "    <body>\n",
    "        <div class=\"noticia\">Notícia 1</div>\n",
    "        <div class=\"noticia\">Notícia 2</div>\n",
    "        <div class=\"noticia\">Notícia 3</div>\n",
    "    </body>\n",
    "</html>\n",
    "'''\n",
    "soup = BeautifulSoup(html, \"html.parser\")\n",
    "\n",
    "# Pegando todas as notícias\n",
    "noticias = [div.text for div in soup.find_all(\"div\", class_=\"noticia\")]\n",
    "print(noticias)"
   ]
  },
  {
   "cell_type": "code",
   "execution_count": 34,
   "id": "5167ded6-e93d-4acb-aeac-f117234158d3",
   "metadata": {},
   "outputs": [
    {
     "name": "stdout",
     "output_type": "stream",
     "text": [
      "['Nome', 'Idade']\n",
      "['Ana', '25']\n",
      "['Bruno', '30']\n"
     ]
    }
   ],
   "source": [
    "html = \"\"\"\n",
    "<table>\n",
    "    <tr><th>Nome</th><th>Idade</th></tr>\n",
    "    <tr><td>Ana</td><td>25</td></tr>\n",
    "    <tr><td>Bruno</td><td>30</td></tr>\n",
    "</table>\n",
    "\"\"\"\n",
    "soup = BeautifulSoup(html, \"html.parser\")\n",
    "\n",
    "# Pegando todas as linhas da tabela\n",
    "linhas = soup.find_all(\"tr\")\n",
    "\n",
    "for linha in linhas:\n",
    "    colunas = linha.find_all([\"th\", \"td\"])\n",
    "    dados = [col.text for col in colunas]\n",
    "    print(dados)"
   ]
  },
  {
   "cell_type": "markdown",
   "id": "e757c5c6",
   "metadata": {},
   "source": [
    "# Web Scraping no Site quotes.toscrape.com"
   ]
  },
  {
   "cell_type": "markdown",
   "id": "88ff2309",
   "metadata": {},
   "source": [
    "## Objetivo: Extrair citações, autores e tags"
   ]
  },
  {
   "cell_type": "code",
   "execution_count": 35,
   "id": "3886dac5-7fec-4c2a-adaa-d856ab038110",
   "metadata": {},
   "outputs": [],
   "source": [
    "import urllib.request\n",
    "\n",
    "# Pegando o HTML da página\n",
    "url = \"http://quotes.toscrape.com\"\n",
    "html = urllib.request.urlopen(url).read()\n",
    "\n",
    "# Criando o objeto BeautifulSoup\n",
    "soup = BeautifulSoup(html, \"html.parser\")"
   ]
  },
  {
   "cell_type": "code",
   "execution_count": 37,
   "id": "5fa62cda-86ea-4046-aef7-af0a512a4db9",
   "metadata": {},
   "outputs": [
    {
     "name": "stdout",
     "output_type": "stream",
     "text": [
      "“The world as we have created it is a process of our thinking. It cannot be changed without changing our thinking.”\n",
      "“It is our choices, Harry, that show what we truly are, far more than our abilities.”\n",
      "“There are only two ways to live your life. One is as though nothing is a miracle. The other is as though everything is a miracle.”\n",
      "“The person, be it gentleman or lady, who has not pleasure in a good novel, must be intolerably stupid.”\n",
      "“Imperfection is beauty, madness is genius and it's better to be absolutely ridiculous than absolutely boring.”\n",
      "“Try not to become a man of success. Rather become a man of value.”\n",
      "“It is better to be hated for what you are than to be loved for what you are not.”\n",
      "“I have not failed. I've just found 10,000 ways that won't work.”\n",
      "“A woman is like a tea bag; you never know how strong it is until it's in hot water.”\n",
      "“A day without sunshine is like, you know, night.”\n"
     ]
    }
   ],
   "source": [
    "# Extraindo as citações\n",
    "for quote in soup.find_all(\"span\", class_=\"text\"):\n",
    "    print(quote.text)"
   ]
  },
  {
   "cell_type": "code",
   "execution_count": 39,
   "id": "656573d9-289e-4574-a5ad-9cb305921fa6",
   "metadata": {},
   "outputs": [
    {
     "name": "stdout",
     "output_type": "stream",
     "text": [
      "Albert Einstein\n",
      "J.K. Rowling\n",
      "Albert Einstein\n",
      "Jane Austen\n",
      "Marilyn Monroe\n",
      "Albert Einstein\n",
      "André Gide\n",
      "Thomas A. Edison\n",
      "Eleanor Roosevelt\n",
      "Steve Martin\n"
     ]
    }
   ],
   "source": [
    "# Extraindo os autores\n",
    "for author in soup.find_all(\"small\", class_=\"author\"):\n",
    "    print(author.text)"
   ]
  },
  {
   "cell_type": "code",
   "execution_count": 40,
   "id": "5cf188aa-5dbd-4cfb-a712-4e0f481807eb",
   "metadata": {},
   "outputs": [
    {
     "name": "stdout",
     "output_type": "stream",
     "text": [
      "change\n",
      "deep-thoughts\n",
      "thinking\n",
      "world\n",
      "abilities\n",
      "choices\n",
      "inspirational\n",
      "life\n",
      "live\n",
      "miracle\n",
      "miracles\n",
      "aliteracy\n",
      "books\n",
      "classic\n",
      "humor\n",
      "be-yourself\n",
      "inspirational\n",
      "adulthood\n",
      "success\n",
      "value\n",
      "life\n",
      "love\n",
      "edison\n",
      "failure\n",
      "inspirational\n",
      "paraphrased\n",
      "misattributed-eleanor-roosevelt\n",
      "humor\n",
      "obvious\n",
      "simile\n",
      "love\n",
      "inspirational\n",
      "life\n",
      "humor\n",
      "books\n",
      "reading\n",
      "friendship\n",
      "friends\n",
      "truth\n",
      "simile\n"
     ]
    }
   ],
   "source": [
    "# Extraindo todas as tags usadas nas citações\n",
    "for tag in soup.find_all(\"a\", class_=\"tag\"):\n",
    "    print(tag.text)"
   ]
  },
  {
   "cell_type": "code",
   "execution_count": 42,
   "id": "c8fe4b96-c0f6-41b0-b92a-66f8cea67e7f",
   "metadata": {},
   "outputs": [
    {
     "name": "stdout",
     "output_type": "stream",
     "text": [
      "\"“The world as we have created it is a process of our thinking. It cannot be changed without changing our thinking.”\" - Albert Einstein (change)\n",
      "\"“It is our choices, Harry, that show what we truly are, far more than our abilities.”\" - J.K. Rowling (abilities)\n",
      "\"“There are only two ways to live your life. One is as though nothing is a miracle. The other is as though everything is a miracle.”\" - Albert Einstein (inspirational)\n",
      "\"“The person, be it gentleman or lady, who has not pleasure in a good novel, must be intolerably stupid.”\" - Jane Austen (aliteracy)\n",
      "\"“Imperfection is beauty, madness is genius and it's better to be absolutely ridiculous than absolutely boring.”\" - Marilyn Monroe (be-yourself)\n",
      "\"“Try not to become a man of success. Rather become a man of value.”\" - Albert Einstein (adulthood)\n",
      "\"“It is better to be hated for what you are than to be loved for what you are not.”\" - André Gide (life)\n",
      "\"“I have not failed. I've just found 10,000 ways that won't work.”\" - Thomas A. Edison (edison)\n",
      "\"“A woman is like a tea bag; you never know how strong it is until it's in hot water.”\" - Eleanor Roosevelt (misattributed-eleanor-roosevelt)\n",
      "\"“A day without sunshine is like, you know, night.”\" - Steve Martin (humor)\n"
     ]
    }
   ],
   "source": [
    "# Extraindo citações e autores juntos\n",
    "for quote_block in soup.find_all(\"div\", class_=\"quote\"):\n",
    "    quote = quote_block.find(\"span\", class_=\"text\").text\n",
    "    author = quote_block.find(\"small\", class_=\"author\").text\n",
    "    tags = quote_block.find(\"a\", class_=\"tag\").text\n",
    "    print(f'\"{quote}\" - {author} ({tags})')"
   ]
  },
  {
   "cell_type": "code",
   "execution_count": 54,
   "id": "09186beb-c275-4704-8761-ccc621906d0c",
   "metadata": {},
   "outputs": [
    {
     "data": {
      "text/plain": [
       "['love',\n",
       " 'inspirational',\n",
       " 'life',\n",
       " 'humor',\n",
       " 'books',\n",
       " 'reading',\n",
       " 'friendship',\n",
       " 'friends',\n",
       " 'truth',\n",
       " 'simile']"
      ]
     },
     "execution_count": 54,
     "metadata": {},
     "output_type": "execute_result"
    }
   ],
   "source": [
    "soup_top_tags = soup.find_all(\"span\", class_=\"tag-item\")\n",
    "top_tags = [i.text.strip() for i in soup_top_tags]\n",
    "top_tags"
   ]
  },
  {
   "cell_type": "code",
   "execution_count": 67,
   "id": "23902fdc-e8b7-4f00-a432-9c102fef8d4a",
   "metadata": {},
   "outputs": [],
   "source": [
    "import pandas as pd \n",
    "\n",
    "# Extraindo as citações\n",
    "quotes = [quote.text for quote in soup.find_all(\"span\", class_=\"text\")]\n",
    "authors = [quote.text for quote in soup.find_all(\"small\", class_=\"author\")]\n",
    "# tags = [quote.text for quote in soup.find_all(\"a\", class_=\"tag\")]"
   ]
  },
  {
   "cell_type": "code",
   "execution_count": 69,
   "id": "2f1f4811-2fa8-4d88-9898-99501ae7a945",
   "metadata": {},
   "outputs": [
    {
     "name": "stdout",
     "output_type": "stream",
     "text": [
      "Arquivo 'citacoes.csv' salvo com sucesso!\n"
     ]
    }
   ],
   "source": [
    "# Criando DataFrame e salvando CSV\n",
    "df = pd.DataFrame({\"Citação\": quotes, \"Autor\": authors})\n",
    "df.to_csv(\"citacoes.csv\", index=False)\n",
    "\n",
    "print(\"Arquivo 'citacoes.csv' salvo com sucesso!\")"
   ]
  },
  {
   "cell_type": "code",
   "execution_count": 70,
   "id": "723ceada-3baa-48e9-baac-db0eb88f7607",
   "metadata": {},
   "outputs": [
    {
     "data": {
      "text/html": [
       "<div>\n",
       "<style scoped>\n",
       "    .dataframe tbody tr th:only-of-type {\n",
       "        vertical-align: middle;\n",
       "    }\n",
       "\n",
       "    .dataframe tbody tr th {\n",
       "        vertical-align: top;\n",
       "    }\n",
       "\n",
       "    .dataframe thead th {\n",
       "        text-align: right;\n",
       "    }\n",
       "</style>\n",
       "<table border=\"1\" class=\"dataframe\">\n",
       "  <thead>\n",
       "    <tr style=\"text-align: right;\">\n",
       "      <th></th>\n",
       "      <th>Citação</th>\n",
       "      <th>Autor</th>\n",
       "    </tr>\n",
       "  </thead>\n",
       "  <tbody>\n",
       "    <tr>\n",
       "      <th>0</th>\n",
       "      <td>“The world as we have created it is a process ...</td>\n",
       "      <td>Albert Einstein</td>\n",
       "    </tr>\n",
       "    <tr>\n",
       "      <th>1</th>\n",
       "      <td>“It is our choices, Harry, that show what we t...</td>\n",
       "      <td>J.K. Rowling</td>\n",
       "    </tr>\n",
       "    <tr>\n",
       "      <th>2</th>\n",
       "      <td>“There are only two ways to live your life. On...</td>\n",
       "      <td>Albert Einstein</td>\n",
       "    </tr>\n",
       "    <tr>\n",
       "      <th>3</th>\n",
       "      <td>“The person, be it gentleman or lady, who has ...</td>\n",
       "      <td>Jane Austen</td>\n",
       "    </tr>\n",
       "    <tr>\n",
       "      <th>4</th>\n",
       "      <td>“Imperfection is beauty, madness is genius and...</td>\n",
       "      <td>Marilyn Monroe</td>\n",
       "    </tr>\n",
       "  </tbody>\n",
       "</table>\n",
       "</div>"
      ],
      "text/plain": [
       "                                             Citação            Autor\n",
       "0  “The world as we have created it is a process ...  Albert Einstein\n",
       "1  “It is our choices, Harry, that show what we t...     J.K. Rowling\n",
       "2  “There are only two ways to live your life. On...  Albert Einstein\n",
       "3  “The person, be it gentleman or lady, who has ...      Jane Austen\n",
       "4  “Imperfection is beauty, madness is genius and...   Marilyn Monroe"
      ]
     },
     "execution_count": 70,
     "metadata": {},
     "output_type": "execute_result"
    }
   ],
   "source": [
    "df.head()"
   ]
  },
  {
   "cell_type": "code",
   "execution_count": null,
   "id": "965f3d3c-1d9b-4e35-aafb-e089c01a67e7",
   "metadata": {},
   "outputs": [],
   "source": []
  }
 ],
 "metadata": {
  "kernelspec": {
   "display_name": "Python 3 (ipykernel)",
   "language": "python",
   "name": "python3"
  },
  "language_info": {
   "codemirror_mode": {
    "name": "ipython",
    "version": 3
   },
   "file_extension": ".py",
   "mimetype": "text/x-python",
   "name": "python",
   "nbconvert_exporter": "python",
   "pygments_lexer": "ipython3",
   "version": "3.11.7"
  }
 },
 "nbformat": 4,
 "nbformat_minor": 5
}

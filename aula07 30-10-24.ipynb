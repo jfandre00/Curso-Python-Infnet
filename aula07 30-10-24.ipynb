{
 "cells": [
  {
   "cell_type": "markdown",
   "metadata": {},
   "source": [
    "### Revisão de funções"
   ]
  },
  {
   "cell_type": "code",
   "execution_count": null,
   "metadata": {},
   "outputs": [
    {
     "name": "stdout",
     "output_type": "stream",
     "text": [
      "[2, 4, 6, 8, 10]\n"
     ]
    }
   ],
   "source": [
    "lista = [1, 2, 3, 4, 5, 6, 7, 8, 9, 10]\n",
    "\n",
    "def retorna_pares(lista):\n",
    "    '''\n",
    "    Função que retorna os números pares de uma lista\n",
    "\n",
    "    Input: lista\n",
    "    Output: lista com os números pares\n",
    "    '''\n",
    "    pares = []\n",
    "    for i in lista:\n",
    "        if i % 2 == 0:\n",
    "            pares.append(i)\n",
    "    return pares\n",
    "\n",
    "print(retorna_pares(lista))\n"
   ]
  },
  {
   "cell_type": "markdown",
   "metadata": {},
   "source": [
    "## Funções com argumento default"
   ]
  },
  {
   "cell_type": "code",
   "execution_count": 9,
   "metadata": {},
   "outputs": [
    {
     "name": "stdout",
     "output_type": "stream",
     "text": [
      "Nome: João\n",
      "Sobrenome: Silva\n",
      "Idade: 30\n",
      "Linguagem Favorita: Python\n"
     ]
    }
   ],
   "source": [
    "def descreve_pessoa(nome, sobrenome, idade=None, linguagem_favorita='C++'):\n",
    "    ''' \n",
    "    Função que descreve uma pessoa\n",
    "\n",
    "    input: nome, sobrenome, idade, linguagem_favorita\n",
    "    output: imprime os dados da pessoa\n",
    "    '''\n",
    "    print('Nome:', nome)\n",
    "    print('Sobrenome:', sobrenome)\n",
    "    print('Idade:', idade)\n",
    "    print('Linguagem Favorita:', linguagem_favorita)\n",
    "\n",
    "descreve_pessoa(nome='João', sobrenome='Silva', idade=30, linguagem_favorita='Python')\n",
    "\n",
    "#A vantagem de usar o nome dos argumentos é que a ordem dos argumentos não importa, podemos fazer na ordem que quisermos.\n",
    "\n",
    "\n"
   ]
  },
  {
   "cell_type": "code",
   "execution_count": 10,
   "metadata": {},
   "outputs": [
    {
     "name": "stdout",
     "output_type": "stream",
     "text": [
      "Nome: Andre\n",
      "Sobrenome: Ferreira\n",
      "Idade: None\n",
      "Linguagem Favorita: C++\n"
     ]
    }
   ],
   "source": [
    "descreve_pessoa(nome='Andre', sobrenome='Ferreira')"
   ]
  },
  {
   "cell_type": "code",
   "execution_count": 11,
   "metadata": {},
   "outputs": [
    {
     "data": {
      "text/plain": [
       "55"
      ]
     },
     "execution_count": 11,
     "metadata": {},
     "output_type": "execute_result"
    }
   ],
   "source": [
    "#Funções com número indefinido de argumentos\n",
    "\n",
    "def soma(*nums):\n",
    "    '''\n",
    "    Função que soma números\n",
    "\n",
    "    input: números\n",
    "    output: soma dos números\n",
    "    '''\n",
    "    return sum(nums)\n",
    "\n",
    "soma(1, 2, 3, 4, 5, 6, 7, 8, 9, 10) \n",
    "\n"
   ]
  },
  {
   "cell_type": "code",
   "execution_count": 13,
   "metadata": {},
   "outputs": [
    {
     "name": "stdout",
     "output_type": "stream",
     "text": [
      "3\n",
      "6\n"
     ]
    }
   ],
   "source": [
    "def soma3(num1, num2, *nums):\n",
    "    '''\n",
    "    Função que soma 2 ou mais números\n",
    "\n",
    "    input: 2 ou mais números\n",
    "    output: soma dos números\n",
    "    '''\n",
    "    return num1 + num2 + sum(nums)\n",
    "\n",
    "print(soma3(1,2))\n",
    "print(soma3(1,2,3))"
   ]
  },
  {
   "cell_type": "markdown",
   "metadata": {},
   "source": [
    "## Exercício 5: Implemente a função `enumerate` do python"
   ]
  },
  {
   "cell_type": "code",
   "execution_count": null,
   "metadata": {},
   "outputs": [
    {
     "name": "stdout",
     "output_type": "stream",
     "text": [
      "0 pão\n",
      "1 leite\n",
      "2 café\n",
      "3 açucar\n"
     ]
    }
   ],
   "source": [
    "def my_enumerate(lista):\n",
    "    '''     \n",
    "    Função que simula a função enumerate\n",
    "\n",
    "    input: lista\n",
    "    output: lista com tuplas (idx, item)\n",
    "    '''\n",
    "    idx = 0\n",
    "    resultado = []\n",
    "    for item in lista:\n",
    "        resultado.append((idx, item))\n",
    "        idx += 1\n",
    "    return resultado\n",
    "\n",
    "produtos = ['pão', 'leite', 'café', 'açucar']\n",
    "\n",
    "for k, i in my_enumerate(produtos):\n",
    "    print(k, i)\n"
   ]
  },
  {
   "cell_type": "markdown",
   "metadata": {},
   "source": [
    "## Exercício 6: Implemente a função `pop` do python\n",
    "OBS: Retornar a lista transformada\n",
    "pop remove um elemento da lista, se você não passa nada como parâmetro ele remove o último elemento da lista"
   ]
  },
  {
   "cell_type": "code",
   "execution_count": 22,
   "metadata": {},
   "outputs": [
    {
     "name": "stdout",
     "output_type": "stream",
     "text": [
      "[1, 2, 4, 5]\n",
      "[2, 3, 4, 5]\n",
      "[1, 2, 3, 4]\n"
     ]
    }
   ],
   "source": [
    "def funcao_pop(lista, index=len(lista)-1):\n",
    "    '''\n",
    "    Função que simula o pop\n",
    "\n",
    "    input: lista, index\n",
    "    output: valor removido\n",
    "    '''\n",
    "    nova_lista = []\n",
    "    for i in range(len(lista)):\n",
    "        if i != index:\n",
    "            nova_lista.append(lista[i])\n",
    "    return nova_lista  \n",
    "\n",
    "lista = [1, 2, 3, 4, 5]\n",
    "\n",
    "print(funcao_pop(lista, 2))\n",
    "print(funcao_pop(lista, 0))\n",
    "print(funcao_pop(lista))\n",
    "\n"
   ]
  },
  {
   "cell_type": "code",
   "execution_count": 26,
   "metadata": {},
   "outputs": [
    {
     "name": "stdout",
     "output_type": "stream",
     "text": [
      "[1, 2, 4, 5]\n"
     ]
    }
   ],
   "source": [
    "def custom_pop(lista, idx=-1):\n",
    "    del lista[idx]\n",
    "    return lista\n",
    "\n",
    "lista = [1, 2, 3, 4, 5]\n",
    "print(custom_pop(lista, 2))\n"
   ]
  }
 ],
 "metadata": {
  "kernelspec": {
   "display_name": "Python 3",
   "language": "python",
   "name": "python3"
  },
  "language_info": {
   "codemirror_mode": {
    "name": "ipython",
    "version": 3
   },
   "file_extension": ".py",
   "mimetype": "text/x-python",
   "name": "python",
   "nbconvert_exporter": "python",
   "pygments_lexer": "ipython3",
   "version": "3.11.5"
  }
 },
 "nbformat": 4,
 "nbformat_minor": 2
}

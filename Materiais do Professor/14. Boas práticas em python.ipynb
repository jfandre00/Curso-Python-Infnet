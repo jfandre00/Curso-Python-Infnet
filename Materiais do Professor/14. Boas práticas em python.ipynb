{
 "cells": [
  {
   "cell_type": "markdown",
   "id": "d49ae76a-8b5c-46e7-a124-2bc392fa69c9",
   "metadata": {},
   "source": [
    "# **Boas Normas e Dicas em Python**\n",
    "\n",
    "## **1. Uso do print e Formatação de Strings**\n",
    "### **1.1. Print simples**\n",
    "- Utilize `print()` para exibir informações no console.\n",
    "```python\n",
    "print(\"Olá, mundo!\")\n"
   ]
  },
  {
   "cell_type": "markdown",
   "id": "16966a9c-2d99-470c-8f61-7b9bcda8f57a",
   "metadata": {},
   "source": [
    "### **1.2. Interpolação de strings (f-strings)**\n",
    "- Prefira f-strings para formatar mensagens."
   ]
  },
  {
   "cell_type": "code",
   "execution_count": 5,
   "id": "23866d8b-8e0f-4ce5-b60f-18f7b569fca8",
   "metadata": {},
   "outputs": [
    {
     "name": "stdout",
     "output_type": "stream",
     "text": [
      "Meu nome é Luis e eu tenho 35 anos.\n"
     ]
    }
   ],
   "source": [
    "nome = \"Luis\"\n",
    "idade = 35\n",
    "print(f\"Meu nome é {nome} e eu tenho {idade} anos.\")"
   ]
  },
  {
   "cell_type": "markdown",
   "id": "2822a157-1acd-4c15-a59a-f0562d572c2d",
   "metadata": {},
   "source": [
    "### **1.3. Formatação com `.format`**\n",
    "- Outra forma de formatar strings."
   ]
  },
  {
   "cell_type": "code",
   "execution_count": 4,
   "id": "f78faff9-0279-4bbf-9497-ba065ad50002",
   "metadata": {},
   "outputs": [
    {
     "name": "stdout",
     "output_type": "stream",
     "text": [
      "Meu nome é Luis e eu tenho 30 anos.\n"
     ]
    }
   ],
   "source": [
    "print(\"Meu nome é {} e eu tenho {} anos.\".format(nome, idade))"
   ]
  },
  {
   "cell_type": "markdown",
   "id": "4df2ae2e-2b07-4f7c-8ea0-6663e75d25b8",
   "metadata": {},
   "source": [
    "### **1.4. Alinhamento com `ljust`, `rjust` e `center`**\n",
    "- Use para ajustar o alinhamento de strings."
   ]
  },
  {
   "cell_type": "code",
   "execution_count": 6,
   "id": "c4d04031-25c7-4d79-a2ff-062d1339f2b1",
   "metadata": {},
   "outputs": [
    {
     "name": "stdout",
     "output_type": "stream",
     "text": [
      "Python----\n",
      "----Python\n",
      "--Python--\n"
     ]
    }
   ],
   "source": [
    "texto = \"Python\"\n",
    "print(texto.ljust(10, \"-\"))  # Alinha à esquerda\n",
    "print(texto.rjust(10, \"-\"))  # Alinha à direita\n",
    "print(texto.center(10, \"-\")) # Centraliza"
   ]
  },
  {
   "cell_type": "markdown",
   "id": "a70213de-1969-497e-be88-90128bde9049",
   "metadata": {},
   "source": [
    "### **1.5. Multilinhas com `\\n`**\n",
    "- Quebre linhas para melhorar a legibilidade."
   ]
  },
  {
   "cell_type": "code",
   "execution_count": 7,
   "id": "a430874e-6a00-47f4-87f0-887db3f7a26a",
   "metadata": {},
   "outputs": [
    {
     "name": "stdout",
     "output_type": "stream",
     "text": [
      "Linha 1\n",
      "Linha 2\n",
      "Linha 3\n"
     ]
    }
   ],
   "source": [
    "print(\"Linha 1\\nLinha 2\\nLinha 3\")"
   ]
  },
  {
   "cell_type": "markdown",
   "id": "19e66bda-5899-466d-877f-ddf21a3deed3",
   "metadata": {},
   "source": [
    "### **1.6. Manipulação de Strings com `strip`, `lstrip`, e `rstrip`**\n",
    "- Remova espaços ou caracteres indesejados no início/fim de uma string."
   ]
  },
  {
   "cell_type": "code",
   "execution_count": 9,
   "id": "33915a88-ef71-4d8c-a700-18826fcba8c6",
   "metadata": {},
   "outputs": [
    {
     "name": "stdout",
     "output_type": "stream",
     "text": [
      "Olá, mundo!\n",
      "Olá, mundo!  \n",
      "  Olá, mundo!\n"
     ]
    }
   ],
   "source": [
    "texto = \"  Olá, mundo!  \"\n",
    "print(texto.strip())   # Remove espaços das duas extremidades\n",
    "print(texto.lstrip())  # Remove espaços da esquerda\n",
    "print(texto.rstrip())  # Remove espaços da direita"
   ]
  },
  {
   "cell_type": "markdown",
   "id": "49ccee75-ac17-4b4a-9ff0-58d729e3799b",
   "metadata": {},
   "source": [
    "## **2. Documentação de Código**\n",
    "### **2.1. Comentários**\n",
    "- Explique partes do código usando comentários claros."
   ]
  },
  {
   "cell_type": "code",
   "execution_count": null,
   "id": "c75d7b30-3178-4e47-890d-77d46e33d8b3",
   "metadata": {},
   "outputs": [],
   "source": [
    "# Este código calcula a soma de dois números\n",
    "soma = 5 + 3\n",
    "print(soma)"
   ]
  },
  {
   "cell_type": "markdown",
   "id": "93b3d6a9-d8db-488c-aeba-67689952d232",
   "metadata": {},
   "source": [
    "### **2.2. Docstrings**\n",
    "- Use docstrings para documentar funções, classes e módulos."
   ]
  },
  {
   "cell_type": "code",
   "execution_count": 1,
   "id": "6d55728b-0b64-4f8f-b05d-ba94ac31fdfd",
   "metadata": {},
   "outputs": [],
   "source": [
    "def somar(a, b):\n",
    "    \"\"\"\n",
    "    Soma dois números e retorna o resultado.\n",
    "\n",
    "    Args:\n",
    "        a (int ou float): O primeiro número.\n",
    "        b (int ou float): O segundo número.\n",
    "\n",
    "    Returns:\n",
    "        int ou float: A soma de a e b.\n",
    "    \"\"\"\n",
    "    return a + b"
   ]
  },
  {
   "cell_type": "markdown",
   "id": "4570d338-a7d7-4d40-83a9-93b77eb40e47",
   "metadata": {},
   "source": [
    "### **2.3. PEP 8**\n",
    "- Siga as convenções de estilo do Python (PEP 8), como nomes de variáveis claros e boa organização."
   ]
  },
  {
   "cell_type": "markdown",
   "id": "c32b9df8-4ebf-4fc3-b934-39ea89ea80c7",
   "metadata": {},
   "source": [
    "A **PEP 8** (Python Enhancement Proposal) número 8 define um guia oficial de estilo para escrever código Python. Ela foi criada para ajudar os programadores a seguirem padrões consistentes, tornando o código mais **legível**, **manutenível** e **compartilhável** entre diferentes equipes."
   ]
  },
  {
   "cell_type": "markdown",
   "id": "216494e9-5c21-4043-8ccf-26f3dddcc819",
   "metadata": {},
   "source": [
    "https://peps.python.org/pep-0008/"
   ]
  },
  {
   "cell_type": "markdown",
   "id": "f5627b0d-dc64-4344-9872-9dc79f86aa77",
   "metadata": {},
   "source": [
    "## **3. Debugging**\n",
    "### **3.1. Uso básico de `print` para depuração**\n",
    "- Inclua prints estratégicos para inspecionar variáveis."
   ]
  },
  {
   "cell_type": "code",
   "execution_count": 14,
   "id": "35d8012d-1773-4098-bbb5-fe309b55f630",
   "metadata": {},
   "outputs": [
    {
     "name": "stdout",
     "output_type": "stream",
     "text": [
      "Multiplicando: 1 * 1\n",
      "Resultado parcial: 1\n",
      "\n",
      "Multiplicando: 1 * 2\n",
      "Resultado parcial: 2\n",
      "\n",
      "Multiplicando: 2 * 3\n",
      "Resultado parcial: 6\n",
      "\n",
      "Multiplicando: 6 * 4\n",
      "Resultado parcial: 24\n",
      "\n",
      "Resultado final: 24\n"
     ]
    },
    {
     "data": {
      "text/plain": [
       "24"
      ]
     },
     "execution_count": 14,
     "metadata": {},
     "output_type": "execute_result"
    }
   ],
   "source": [
    "def calcular_fatorial(n):\n",
    "    if n < 0:\n",
    "        raise ValueError(\"Número não pode ser negativo!\")\n",
    "    resultado = 1\n",
    "    for i in range(1, n + 1):\n",
    "        print(f\"Multiplicando: {resultado} * {i}\")  # Debug: Exibindo o progresso\n",
    "        resultado *= i\n",
    "        print(f\"Resultado parcial: {resultado}\\n\") # Debug: Exibindo o resultado parcial\n",
    "    print(f\"Resultado final: {resultado}\")  # Debug: Exibindo o resultado final\n",
    "    return resultado\n",
    "\n",
    "calcular_fatorial(4)"
   ]
  },
  {
   "cell_type": "markdown",
   "id": "b3388fea-1377-43eb-b164-c0c2c27e7299",
   "metadata": {},
   "source": [
    "### **3.2. Uso de `assert`**\n",
    "- Verifique condições no código durante a execução."
   ]
  },
  {
   "cell_type": "code",
   "execution_count": 17,
   "id": "f369b57a-8218-44a3-8d9f-14de7cc3dbaa",
   "metadata": {},
   "outputs": [],
   "source": [
    "idade = 20\n",
    "assert idade >= 18, \"Idade deve ser maior ou igual a 18\""
   ]
  },
  {
   "cell_type": "code",
   "execution_count": 6,
   "id": "562cb2c9-eb04-41e5-8220-7055df5d75d3",
   "metadata": {},
   "outputs": [],
   "source": [
    "def somar(a, b):\n",
    "    return a + b\n",
    "\n",
    "assert somar(2, 3) == 5, \"Erro no teste de soma\""
   ]
  },
  {
   "cell_type": "markdown",
   "id": "a9e0e501-4b4a-4166-bd3b-68ff395f6a21",
   "metadata": {},
   "source": [
    "### **3.3. Try/Except para tratar erros**\n",
    "- Evite que erros interrompam o programa."
   ]
  },
  {
   "cell_type": "code",
   "execution_count": 19,
   "id": "34e50535-8cd1-4689-b0d0-d6daa9952eb6",
   "metadata": {},
   "outputs": [
    {
     "name": "stdin",
     "output_type": "stream",
     "text": [
      "Digite um número:  a\n"
     ]
    },
    {
     "name": "stdout",
     "output_type": "stream",
     "text": [
      "Erro: Entrada inválida. Digite um número inteiro.\n"
     ]
    }
   ],
   "source": [
    "try:\n",
    "    x = int(input(\"Digite um número: \"))\n",
    "    print(f\"Você digitou: {x}\")\n",
    "except ValueError:\n",
    "    print(\"Erro: Entrada inválida. Digite um número inteiro.\")"
   ]
  },
  {
   "cell_type": "markdown",
   "id": "76f83c4d-c274-4b81-8694-75661dcc7aa0",
   "metadata": {},
   "source": [
    "### **3.4. Uso de breakpoints**\n",
    "- Configure pontos de parada no código usando ferramentas de IDEs."
   ]
  },
  {
   "cell_type": "markdown",
   "id": "60f46e84-54fb-48f7-afad-c4bb8cfdf274",
   "metadata": {},
   "source": [
    "Definir um ponto de parada (breakpoint) em uma IDE (Integrated Development Environment) é uma prática usada durante a depuração (debugging) de programas.\n",
    "\n",
    "Um ponto de parada é uma linha específica no código onde você solicita que o programa pause sua execução, permitindo que você inspecione o estado do programa naquele momento. Isso ajuda a identificar e corrigir erros lógicos ou de execução no código."
   ]
  },
  {
   "cell_type": "markdown",
   "id": "cbffa621-3595-467b-9d2e-3f86ec768ccd",
   "metadata": {},
   "source": [
    "## **4. Funções Úteis Embutidas (built-in functions)**\n",
    "### **4.1. `type()`**\n",
    "- Retorna o tipo de uma variável."
   ]
  },
  {
   "cell_type": "code",
   "execution_count": 20,
   "id": "8efaf902-f0c6-4d29-9094-fc07034777ea",
   "metadata": {},
   "outputs": [
    {
     "name": "stdout",
     "output_type": "stream",
     "text": [
      "<class 'float'>\n"
     ]
    }
   ],
   "source": [
    "print(type(42.0))  # <class 'int'>"
   ]
  },
  {
   "cell_type": "markdown",
   "id": "b3db86cb-db27-4888-976d-c23a84acb7fb",
   "metadata": {},
   "source": [
    "### **4.2. `dir()`**\n",
    "- Mostra os métodos e atributos disponíveis para um objeto."
   ]
  },
  {
   "cell_type": "code",
   "execution_count": 9,
   "id": "29f3b84a-fb8a-4029-bd4d-3c5902c4346b",
   "metadata": {},
   "outputs": [
    {
     "name": "stdout",
     "output_type": "stream",
     "text": [
      "['__add__', '__class__', '__contains__', '__delattr__', '__dir__', '__doc__', '__eq__', '__format__', '__ge__', '__getattribute__', '__getitem__', '__getnewargs__', '__getstate__', '__gt__', '__hash__', '__init__', '__init_subclass__', '__iter__', '__le__', '__len__', '__lt__', '__mod__', '__mul__', '__ne__', '__new__', '__reduce__', '__reduce_ex__', '__repr__', '__rmod__', '__rmul__', '__setattr__', '__sizeof__', '__str__', '__subclasshook__', 'capitalize', 'casefold', 'center', 'count', 'encode', 'endswith', 'expandtabs', 'find', 'format', 'format_map', 'index', 'isalnum', 'isalpha', 'isascii', 'isdecimal', 'isdigit', 'isidentifier', 'islower', 'isnumeric', 'isprintable', 'isspace', 'istitle', 'isupper', 'join', 'ljust', 'lower', 'lstrip', 'maketrans', 'partition', 'removeprefix', 'removesuffix', 'replace', 'rfind', 'rindex', 'rjust', 'rpartition', 'rsplit', 'rstrip', 'split', 'splitlines', 'startswith', 'strip', 'swapcase', 'title', 'translate', 'upper', 'zfill']\n"
     ]
    }
   ],
   "source": [
    "print(dir(str))  # Lista métodos de strings"
   ]
  },
  {
   "cell_type": "markdown",
   "id": "887183ad-9f4c-43d1-b2f6-3ead8c29d857",
   "metadata": {},
   "source": [
    "### **4.3. `help()`**\n",
    "- Exibe a documentação de um objeto."
   ]
  },
  {
   "cell_type": "code",
   "execution_count": 5,
   "id": "d27c6be0-e377-4b82-a329-5cb6626a4698",
   "metadata": {},
   "outputs": [
    {
     "name": "stdout",
     "output_type": "stream",
     "text": [
      "Help on method_descriptor:\n",
      "\n",
      "strip(self, chars=None, /)\n",
      "    Return a copy of the string with leading and trailing whitespace removed.\n",
      "    \n",
      "    If chars is given and not None, remove characters in chars instead.\n",
      "\n"
     ]
    }
   ],
   "source": [
    "help(str.strip)"
   ]
  },
  {
   "cell_type": "markdown",
   "id": "7c3dd11b-eeb7-43b2-bb4c-e86c99504fd2",
   "metadata": {},
   "source": [
    "## **5. Medidor de tempo de execução**\n",
    "- Medição de tempo de execução é uma prática útil para avaliar a eficiência de trechos de código."
   ]
  },
  {
   "cell_type": "code",
   "execution_count": 29,
   "id": "95e2da54-8b00-4a59-8ff4-0cffe0c98027",
   "metadata": {},
   "outputs": [
    {
     "name": "stdout",
     "output_type": "stream",
     "text": [
      "Tempo total de execução: 0.00022 segundos\n"
     ]
    }
   ],
   "source": [
    "import time\n",
    "\n",
    "def calcular_fatorial(n):\n",
    "    if n < 0:\n",
    "        raise ValueError(\"Número não pode ser negativo!\")\n",
    "    resultado = 1\n",
    "    for i in range(1, n + 1):\n",
    "        resultado *= i\n",
    "    return resultado\n",
    "\n",
    "# Medir o tempo de execução\n",
    "start = time.time()  # Marca o início\n",
    "resultado = calcular_fatorial(1000)  # Função cujo tempo será medido\n",
    "end = time.time()  # Marca o fim\n",
    "\n",
    "# Exibir resultado e tempo total\n",
    "# print(f\"Fatorial calculado: {resultado}\")\n",
    "print(f\"Tempo total de execução: {end - start:.5f} segundos\")"
   ]
  },
  {
   "cell_type": "markdown",
   "id": "f2a33c61-553f-4d6e-8ce3-d04c2b7dcb45",
   "metadata": {},
   "source": [
    "Esse método é simples, eficiente e funciona bem para trechos de código. Se você precisar medir o tempo de execução de blocos maiores ou em projetos mais complexos, considere usar ferramentas como o módulo _timeit_ ou profiler de desempenho."
   ]
  },
  {
   "cell_type": "markdown",
   "id": "ce1b85b4-62bf-468a-8873-36d4f4b913a9",
   "metadata": {},
   "source": [
    "## 6. Erros Comuns em Python\n",
    "\n",
    "## 6.1 Chamar uma função antes de defini-la\n",
    "\n",
    "Em Python, você não pode chamar uma função antes de defini-la. Isso ocorre porque o interpretador lê o código de cima para baixo.\n",
    "\n",
    "### Exemplo de erro:\n",
    "\n",
    "```python\n",
    "resultado = minha_funcao(5)  # Erro: Função não definida ainda\n",
    "\n",
    "def minha_funcao(x):\n",
    "    return x * 2\n"
   ]
  },
  {
   "cell_type": "markdown",
   "id": "8b23ee1f-f622-4ff0-bc93-89a57e64fe21",
   "metadata": {},
   "source": [
    "#### Erro gerado:\n",
    "`NameError: name 'minha_funcao' is not defined`\n",
    "\n",
    "#### Como corrigir:\n",
    "Defina a função antes de chamá-la:"
   ]
  },
  {
   "cell_type": "code",
   "execution_count": 3,
   "id": "fbdf3a14-596c-475a-9ee4-8b351e82ace0",
   "metadata": {},
   "outputs": [
    {
     "name": "stdout",
     "output_type": "stream",
     "text": [
      "10\n"
     ]
    }
   ],
   "source": [
    "def minha_funcao(x):\n",
    "    return x * 2\n",
    "\n",
    "resultado = minha_funcao(5)\n",
    "print(resultado)"
   ]
  },
  {
   "cell_type": "markdown",
   "id": "1d481def-4141-4d73-8088-abc21c304cbc",
   "metadata": {},
   "source": [
    "## 6.2 Confundir indentação\n",
    "\n",
    "A indentação é essencial em Python, pois define os blocos de código. Um erro comum é esquecer de indentar corretamente ou misturar espaços e tabulações.\n",
    "\n",
    "### Exemplo de erro:\n",
    "\n",
    "```python\n",
    "def exemplo():\n",
    "print(\"Este código não está corretamente indentado\")  # Erro de indentação\n"
   ]
  },
  {
   "cell_type": "markdown",
   "id": "70f1b7ca-f1e0-42f3-8546-b8e460cffbb5",
   "metadata": {},
   "source": [
    "#### Erro gerado:\n",
    "```IndentationError: expected an indented block```\n",
    "\n",
    "#### Como corrigir:\n",
    "Garanta que todos os blocos de código estejam corretamente indentados, preferencialmente com 4 espaços:"
   ]
  },
  {
   "cell_type": "code",
   "execution_count": 2,
   "id": "9b69ccef-d678-4d25-b0be-27a76e6756f6",
   "metadata": {},
   "outputs": [],
   "source": [
    "def exemplo():\n",
    "    print(\"Agora está corretamente indentado!\")"
   ]
  },
  {
   "cell_type": "markdown",
   "id": "2f656ef1-7932-4d32-a178-d18dd2af3e3f",
   "metadata": {},
   "source": [
    "## 6.3 Modificar uma lista durante a iteração\n",
    "\n",
    "Modificar uma lista enquanto a percorre pode levar a comportamentos inesperados, pois os índices mudam durante a iteração.\n",
    "\n",
    "### Exemplo de erro:\n",
    "\n",
    "```python\n",
    "numeros = [1, 2, 3, 4]\n",
    "for num in numeros:\n",
    "    if num % 2 == 0:\n",
    "        numeros.remove(num)  # Modificação causa comportamento inesperado\n",
    "print(numeros)\n"
   ]
  },
  {
   "cell_type": "markdown",
   "id": "f9bd1d60-c272-4939-911b-5466e7964b60",
   "metadata": {},
   "source": [
    "#### Comportamento gerado:\n",
    "A lista resultante será `[1, 3]`, mas pode variar dependendo da estrutura.\n",
    "\n",
    "####  Como corrigir:"
   ]
  },
  {
   "cell_type": "markdown",
   "id": "4b1d3272-d0bc-4352-8adb-8222f8116eba",
   "metadata": {},
   "source": [
    "1. Use uma cópia da lista para iterar:"
   ]
  },
  {
   "cell_type": "code",
   "execution_count": 1,
   "id": "f62a284e-6112-4044-a788-1b9c2af7f721",
   "metadata": {},
   "outputs": [
    {
     "name": "stdout",
     "output_type": "stream",
     "text": [
      "[1, 3]\n"
     ]
    }
   ],
   "source": [
    "numeros = [1, 2, 3, 4]\n",
    "for num in numeros[:]:  # Iterar sobre uma cópia\n",
    "    if num % 2 == 0:\n",
    "        numeros.remove(num)\n",
    "print(numeros)"
   ]
  },
  {
   "cell_type": "markdown",
   "id": "44685267-f762-463f-af09-6c95a95fd610",
   "metadata": {},
   "source": [
    "2. Use uma compreensão de lista para criar uma nova lista sem os elementos desejados:"
   ]
  },
  {
   "cell_type": "code",
   "execution_count": 45,
   "id": "f6333918-6998-4b99-82ec-72a0608476d4",
   "metadata": {},
   "outputs": [
    {
     "name": "stdout",
     "output_type": "stream",
     "text": [
      "[1, 3]\n"
     ]
    }
   ],
   "source": [
    "numeros = [1, 2, 3, 4]\n",
    "numeros = [num for num in numeros if num % 2 != 0]\n",
    "print(numeros)"
   ]
  },
  {
   "cell_type": "code",
   "execution_count": null,
   "id": "de99d904-df2b-4774-b91d-d535f763bb7c",
   "metadata": {},
   "outputs": [],
   "source": []
  }
 ],
 "metadata": {
  "kernelspec": {
   "display_name": "Python 3 (ipykernel)",
   "language": "python",
   "name": "python3"
  },
  "language_info": {
   "codemirror_mode": {
    "name": "ipython",
    "version": 3
   },
   "file_extension": ".py",
   "mimetype": "text/x-python",
   "name": "python",
   "nbconvert_exporter": "python",
   "pygments_lexer": "ipython3",
   "version": "3.11.7"
  }
 },
 "nbformat": 4,
 "nbformat_minor": 5
}

{
 "cells": [
  {
   "cell_type": "markdown",
   "id": "55926649-0bd5-45dd-8f7d-f6ec7fa246e3",
   "metadata": {},
   "source": [
    "# Definições em Python e Estruturas de Dados\n",
    "\n",
    "## O que é Python?\n",
    "\n",
    "Python é uma linguagem de programação interpretada, de alto nível, dinâmica e multiparadigma. Isso significa que:\n",
    "- **Interpretada**: O código é executado linha a linha, sem a necessidade de uma etapa explícita de compilação.\n",
    "- **Dinâmica**: O tipo de uma variável é determinado em tempo de execução.\n",
    "- **Multiparadigma**: Suporta programação orientada a objetos, funcional e procedural.\n",
    "\n",
    "### Diferenças em relação a outras linguagens\n",
    "- **Compilação**: Linguagens como C/C++ precisam ser compiladas para gerar um executável, enquanto Python é interpretado. O interpretador converte o código em bytecode, que é executado pela máquina virtual Python (PVM).\n",
    "- **Sintaxe**: Python tem uma sintaxe mais limpa e legível, usando indentação para definir blocos de código.\n",
    "- **Tipagem**: Não é necessário declarar o tipo de variável explicitamente.\n",
    "\n",
    "Exemplo básico:\n",
    "```python\n",
    "# Imprimindo uma mensagem\n",
    "print(\"Olá, mundo!\")\n"
   ]
  },
  {
   "cell_type": "markdown",
   "id": "74006b76-a733-4f6a-b960-79aa6c484678",
   "metadata": {},
   "source": [
    "### Estruturas de Dados\n",
    "As estruturas de dados são formas de organizar e armazenar dados de maneira eficiente. Em Python, temos estruturas de dados embutidas e estruturas avançadas disponíveis por meio de bibliotecas.\n",
    "\n",
    "#### Por que estruturas de dados são importantes?\n",
    "Permitem organizar dados de forma eficiente para diferentes tipos de problemas.\n",
    "Servem como base para estruturas mais complexas, como pandas.DataFrame (que é, essencialmente, uma combinação de dicionários e listas)."
   ]
  },
  {
   "cell_type": "markdown",
   "id": "8fd8aa5c-8b8e-4b51-9b0c-6b0e038db6c4",
   "metadata": {},
   "source": [
    "### Tipos de Estruturas de Dados em Python"
   ]
  },
  {
   "cell_type": "markdown",
   "id": "e1d24f37-c1eb-45fc-b3fa-b210062eb21c",
   "metadata": {},
   "source": [
    "##### 1. Listas (`list`)\n",
    "Uma lista é uma coleção ordenada e mutável que pode conter elementos de diferentes tipos."
   ]
  },
  {
   "cell_type": "code",
   "execution_count": null,
   "id": "16260df7-0ae5-4963-b1e5-d6af63ad0efb",
   "metadata": {},
   "outputs": [],
   "source": [
    "# Exemplo de lista\n",
    "numeros = [1, 2, 3, 4, 5]\n",
    "mista = [1, \"Python\", 3.14, True]\n",
    "\n",
    "# Operações comuns\n",
    "numeros.append(6)  # Adiciona um elemento\n",
    "print(numeros[0])  # Acessa o primeiro elemento\n",
    "numeros.pop()      # Remove o último elemento"
   ]
  },
  {
   "cell_type": "markdown",
   "id": "6214a3b6-3a15-42d9-94a0-b18ff8babdb9",
   "metadata": {},
   "source": [
    "##### 2. Tuplas (`tuple`)\n",
    "Uma tupla é semelhante a uma lista, mas é imutável."
   ]
  },
  {
   "cell_type": "code",
   "execution_count": null,
   "id": "df84e5c8-1429-46ce-bfee-b24743162cf8",
   "metadata": {},
   "outputs": [],
   "source": [
    "# Exemplo de tupla\n",
    "coordenadas = (10, 20)\n",
    "\n",
    "# Operações\n",
    "print(coordenadas[0])  # Acessa o primeiro elemento\n",
    "# coordenadas[0] = 15  # Isso causaria um erro, pois tuplas são imutáveis"
   ]
  },
  {
   "cell_type": "markdown",
   "id": "5d5ef29e-7edd-4de2-ac40-ced3d15bd0f1",
   "metadata": {},
   "source": [
    "##### 3. Dicionário (`dict`)\n",
    "Dicionários armazenam pares de chave-valor e são mutáveis."
   ]
  },
  {
   "cell_type": "code",
   "execution_count": null,
   "id": "abcdccd5-0c8c-4a88-ab7b-308caf5243d3",
   "metadata": {},
   "outputs": [],
   "source": [
    "# Exemplo de dicionário\n",
    "aluno = {\"nome\": \"João\", \"idade\": 20, \"notas\": [8.5, 7.0, 9.5]}\n",
    "\n",
    "# Operações comuns\n",
    "print(aluno[\"nome\"])      # Acessa o valor associado à chave \"nome\"\n",
    "aluno[\"curso\"] = \"Python\" # Adiciona um novo par chave-valor\n",
    "del aluno[\"idade\"]        # Remove a chave \"idade\""
   ]
  },
  {
   "cell_type": "markdown",
   "id": "3e67b975-893e-489c-bef4-b74f2e650ba5",
   "metadata": {},
   "source": [
    "##### 4. Conjuntos (`set`)\n",
    "Um conjunto é uma coleção não ordenada e sem duplicatas."
   ]
  },
  {
   "cell_type": "code",
   "execution_count": null,
   "id": "04c407b3-aa43-40e1-b5f8-9f32a21e4730",
   "metadata": {},
   "outputs": [],
   "source": [
    "# Exemplo de conjunto\n",
    "frutas = {\"maçã\", \"banana\", \"laranja\"}\n",
    "\n",
    "# Operações comuns\n",
    "frutas.add(\"uva\")     # Adiciona um elemento\n",
    "frutas.remove(\"maçã\") # Remove um elemento"
   ]
  },
  {
   "cell_type": "markdown",
   "id": "da98596c-1d86-4787-a844-413b92ecd286",
   "metadata": {},
   "source": [
    "##### 5. String (`str`)\n",
    "Permitem organizar e acessar sequências de caracteres de forma eficiente."
   ]
  },
  {
   "cell_type": "code",
   "execution_count": null,
   "id": "ab17f99d-37e3-4169-b529-efb96fd9de9c",
   "metadata": {},
   "outputs": [],
   "source": [
    "texto = \"Python\"\n",
    "print(texto[0])  # Saída: 'P' (acessando o primeiro caractere)\n",
    "print(texto[-1]) # Saída: 'n' (acessando o último caractere)\n",
    "\n",
    "# Iterando pela string\n",
    "for char in texto:\n",
    "    print(char)"
   ]
  },
  {
   "cell_type": "markdown",
   "id": "9d199c24-22c7-4402-8dd8-375cbfe7b444",
   "metadata": {},
   "source": [
    "### Tipos Primitivos de Dados\n",
    "\n",
    "Os tipos primitivos são os blocos de construção mais básicos em Python. Eles representam valores individuais.\n",
    "\n",
    "##### 1. **Inteiros (`int`)**\n",
    "##### 2. **Números de Ponto Flutuante (`float`)**\n",
    "##### 3. **Números Complexos (`complex`)**\n",
    "##### 4. **Booleanos (`bool`)**\n",
    "##### 5. **Strings (`str`)**"
   ]
  },
  {
   "cell_type": "markdown",
   "id": "fbebf798-2db3-4ba3-b077-c7ea786459ce",
   "metadata": {},
   "source": [
    "### Conceitos Básicos de Python"
   ]
  },
  {
   "cell_type": "markdown",
   "id": "2f122200-186b-4f89-9dc8-6895b38b7a4a",
   "metadata": {},
   "source": [
    "#### Identação\n",
    "A identação é usada para definir blocos de código."
   ]
  },
  {
   "cell_type": "code",
   "execution_count": null,
   "id": "1b47999d-0966-4961-add5-027875fd2e7d",
   "metadata": {},
   "outputs": [],
   "source": [
    "if True:\n",
    "    print(\"Indentado corretamente\")"
   ]
  },
  {
   "cell_type": "markdown",
   "id": "641650d5-c0c2-49b0-92f3-a9c32c0a5811",
   "metadata": {},
   "source": [
    "#### Variáveis e Tipos\n",
    "Você não precisa declarar tipos explicitamente."
   ]
  },
  {
   "cell_type": "code",
   "execution_count": null,
   "id": "ca0d66d8-9e57-4b92-a072-0f0e3d743b86",
   "metadata": {},
   "outputs": [],
   "source": [
    "nome = \"Ana\"    # String\n",
    "idade = 30      # Inteiro\n",
    "altura = 1.75   # Float"
   ]
  },
  {
   "cell_type": "markdown",
   "id": "e1e4c6e9-98dd-4809-92af-ace420f9e7fb",
   "metadata": {},
   "source": [
    "### Estruturas de Controle"
   ]
  },
  {
   "cell_type": "markdown",
   "id": "65014843-e15f-4611-b767-acda712ada60",
   "metadata": {},
   "source": [
    "#### 1. Condicional (`if`)"
   ]
  },
  {
   "cell_type": "code",
   "execution_count": null,
   "id": "0e5fd092-7382-42cb-85b0-82ecb06c0eb1",
   "metadata": {},
   "outputs": [],
   "source": [
    "if idade > 18:\n",
    "    print(\"Maior de idade\")\n",
    "else:\n",
    "    print(\"Menor de idade\")"
   ]
  },
  {
   "cell_type": "markdown",
   "id": "90016bf3-c62d-4776-ba0d-a5e3907feb33",
   "metadata": {},
   "source": [
    "#### 2. Loop (`for`, `while`)"
   ]
  },
  {
   "cell_type": "code",
   "execution_count": null,
   "id": "8aec98c3-7393-408b-89d3-74b16341999e",
   "metadata": {},
   "outputs": [],
   "source": [
    "for i in range(5):\n",
    "    print(i)\n",
    "\n",
    "while idade > 0:\n",
    "    idade -= 1\n"
   ]
  },
  {
   "cell_type": "markdown",
   "id": "69672fa7-b5d9-4e2b-9832-2d0805722b47",
   "metadata": {},
   "source": [
    "### Funções\n",
    "Funções são definidas com a palavra-chave `def`."
   ]
  },
  {
   "cell_type": "code",
   "execution_count": null,
   "id": "5be10aed-3b8f-403d-8317-c7854eb80da1",
   "metadata": {},
   "outputs": [],
   "source": [
    "def saudacao(nome):\n",
    "    return f\"Olá, {nome}!\"\n",
    "\n",
    "print(saudacao(\"Ana\"))"
   ]
  },
  {
   "cell_type": "code",
   "execution_count": null,
   "id": "d4e4d787-96f1-404b-9eac-45c9731c56f1",
   "metadata": {},
   "outputs": [],
   "source": []
  }
 ],
 "metadata": {
  "kernelspec": {
   "display_name": "Python 3 (ipykernel)",
   "language": "python",
   "name": "python3"
  },
  "language_info": {
   "codemirror_mode": {
    "name": "ipython",
    "version": 3
   },
   "file_extension": ".py",
   "mimetype": "text/x-python",
   "name": "python",
   "nbconvert_exporter": "python",
   "pygments_lexer": "ipython3",
   "version": "3.11.7"
  }
 },
 "nbformat": 4,
 "nbformat_minor": 5
}

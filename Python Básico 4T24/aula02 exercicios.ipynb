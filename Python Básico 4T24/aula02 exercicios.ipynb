{
 "cells": [
  {
   "cell_type": "markdown",
   "metadata": {},
   "source": [
    "5. Contar a frequência de um número em uma lista "
   ]
  },
  {
   "cell_type": "code",
   "execution_count": 1,
   "metadata": {},
   "outputs": [
    {
     "name": "stdout",
     "output_type": "stream",
     "text": [
      "O número 5 aparece 5 vezes na lista\n"
     ]
    }
   ],
   "source": [
    "numeros = [1, 2, 5, 7, 5, 8, 6, 5, 1, 10, 0, 5, 3, 5]\n",
    "\n",
    "contador = 0\n",
    "numeroAComparar = 5\n",
    "for numero in numeros:\n",
    "    if numero == numeroAComparar:\n",
    "        contador += 1\n",
    "print(f'O número {numeroAComparar} aparece {contador} vezes na lista')"
   ]
  },
  {
   "cell_type": "markdown",
   "metadata": {},
   "source": [
    "Dada a string abaixo, resolver os próximos problemas:\n",
    "string = 'Estes são exercícios introdutórios à linguagem python, então são bons para o aprendizado'\n",
    "6. Contar quantas palavras há na string\n",
    "\n",
    "7. Encontrar a palavra mais longa da string\n",
    "\n",
    "8. Contar quantas vezes um caracter específico aparece na string (non-case sensitive)\n",
    "Ex: letra 'e'\n",
    "\n",
    "9. Contar o número de palavras com mais de 5 caracteres\n",
    "\n",
    "10. Encontrar o segundo maior valor de uma lista"
   ]
  },
  {
   "cell_type": "code",
   "execution_count": 1,
   "metadata": {},
   "outputs": [
    {
     "name": "stdout",
     "output_type": "stream",
     "text": [
      "A string possui 13 palavras\n",
      "A string possui 13 palavras\n"
     ]
    }
   ],
   "source": [
    "string = 'Estes são exercícios introdutórios à linguagem python, então são bons para o aprendizado'\n",
    "\n",
    "contadorDePalavras = 0\n",
    "listaDePalavras = string.split()\n",
    "for palavra in listaDePalavras:\n",
    "    contadorDePalavras += 1\n",
    "print(f'A string possui {contadorDePalavras} palavras')\n",
    "\n",
    "#Outra forma de fazer o exercício acima\n",
    "contadorDePalavras = len(string.split())\n",
    "print(f'A string possui {contadorDePalavras} palavras')"
   ]
  },
  {
   "cell_type": "code",
   "execution_count": 2,
   "metadata": {},
   "outputs": [
    {
     "name": "stdout",
     "output_type": "stream",
     "text": [
      "A maior palavra da string é introdutórios\n"
     ]
    }
   ],
   "source": [
    "maiorPalavra = ''\n",
    "for palavra in listaDePalavras:\n",
    "    if len(palavra) > len(maiorPalavra):\n",
    "        maiorPalavra = palavra\n",
    "\n",
    "print(f'A maior palavra da string é {maiorPalavra}')"
   ]
  },
  {
   "cell_type": "code",
   "execution_count": 4,
   "metadata": {},
   "outputs": [
    {
     "name": "stdout",
     "output_type": "stream",
     "text": [
      "O caracter e aparece 7 vezes na string\n"
     ]
    }
   ],
   "source": [
    "caracter = 'e'\n",
    "contadorDeCaracter = 0\n",
    "for letra in string:\n",
    "    if letra.lower() == caracter:\n",
    "        contadorDeCaracter += 1 \n",
    "print(f'O caracter {caracter} aparece {contadorDeCaracter} vezes na string')"
   ]
  },
  {
   "cell_type": "code",
   "execution_count": 11,
   "metadata": {},
   "outputs": [
    {
     "name": "stdout",
     "output_type": "stream",
     "text": [
      "A string possui 5 palavras com mais de cinco letras\n"
     ]
    }
   ],
   "source": [
    "contadorDePalavrasComMaisDeCincoLetras = 0\n",
    "for palavra in listaDePalavras:\n",
    "    if len(palavra) > 5:\n",
    "        contadorDePalavrasComMaisDeCincoLetras += 1\n",
    "print(f'A string possui {contadorDePalavrasComMaisDeCincoLetras} palavras com mais de cinco letras')"
   ]
  },
  {
   "cell_type": "code",
   "execution_count": 14,
   "metadata": {},
   "outputs": [
    {
     "name": "stdout",
     "output_type": "stream",
     "text": [
      "O segundo maior número da lista é 8\n"
     ]
    }
   ],
   "source": [
    "#Encontrar o segundo maior valor de uma lista\n",
    "lista = [1, 2, 3, 8, 5, 6, 7, 4, 9]\n",
    "maior = 0\n",
    "segundoMaior = 0\n",
    "\n",
    "for numero in lista:\n",
    "    if numero > maior:\n",
    "        segundoMaior = maior\n",
    "        maior = numero\n",
    "    elif numero > segundoMaior:\n",
    "        segundoMaior = numero\n",
    "print(f'O segundo maior número da lista é {segundoMaior}')\n",
    "\n",
    "# Existe outra forma de encontar o segundo maior número da lista?\n",
    "lista.sort()\n",
    "print(f'O segundo maior número da lista é {lista[-2]}')\n",
    "\n",
    "#Mais uma forma\n",
    "lista.remove(max(lista))\n",
    "print(f'O segundo maior número da lista é {max(lista)}')\n",
    "\n",
    "#Outra forma\n",
    "\n",
    "for i in range(2): #só trocar o valor de i para encontrar o terceiro, quarto, quinto maior número\n",
    "    maior = float('-inf')\n",
    "    idx_maior = 0\n",
    "\n",
    "    for i in range(len(lista)):\n",
    "        if lista[i] > maior:\n",
    "            maior = lista[i]\n",
    "            idx_maior = i\n",
    "\n",
    "    a = lista.pop(idx_maior)\n",
    "\n",
    "print(f'O segundo maior número da lista é {a}')\n",
    "\n"
   ]
  }
 ],
 "metadata": {
  "kernelspec": {
   "display_name": "Python 3",
   "language": "python",
   "name": "python3"
  },
  "language_info": {
   "codemirror_mode": {
    "name": "ipython",
    "version": 3
   },
   "file_extension": ".py",
   "mimetype": "text/x-python",
   "name": "python",
   "nbconvert_exporter": "python",
   "pygments_lexer": "ipython3",
   "version": "3.11.5"
  }
 },
 "nbformat": 4,
 "nbformat_minor": 2
}

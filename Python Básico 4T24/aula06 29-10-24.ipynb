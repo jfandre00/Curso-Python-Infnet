{
 "cells": [
  {
   "cell_type": "code",
   "execution_count": 7,
   "metadata": {},
   "outputs": [],
   "source": [
    "def f(x):\n",
    "    quadrado = x**2\n",
    "    return quadrado"
   ]
  },
  {
   "cell_type": "code",
   "execution_count": 2,
   "metadata": {},
   "outputs": [],
   "source": [
    "def funcao(arg1, arg2):\n",
    "    return arg1, arg2"
   ]
  },
  {
   "cell_type": "code",
   "execution_count": 3,
   "metadata": {},
   "outputs": [],
   "source": [
    "def f(x):\n",
    "    quadrado = x**2\n",
    "    return x, quadrado"
   ]
  },
  {
   "cell_type": "code",
   "execution_count": null,
   "metadata": {},
   "outputs": [
    {
     "name": "stdout",
     "output_type": "stream",
     "text": [
      "25\n"
     ]
    }
   ],
   "source": [
    "num = 5\n",
    "quadrado = f(num)\n",
    "print(quadrado)"
   ]
  },
  {
   "cell_type": "code",
   "execution_count": 7,
   "metadata": {},
   "outputs": [],
   "source": [
    "#Função que recebe uma lista de alunos e imprime\n",
    "\n",
    "def lista_alunos(alunos, mensagem):\n",
    "    print(mensagem)\n",
    "    for aluno in alunos:\n",
    "        print(aluno)"
   ]
  },
  {
   "cell_type": "code",
   "execution_count": 8,
   "metadata": {},
   "outputs": [],
   "source": [
    "estudantes = ['Maria', 'João', 'José', 'Ana']\n",
    "msg = 'Os alunos são:'\n",
    "\n",
    "\n"
   ]
  },
  {
   "cell_type": "code",
   "execution_count": 9,
   "metadata": {},
   "outputs": [
    {
     "name": "stdout",
     "output_type": "stream",
     "text": [
      "Os alunos são:\n",
      "Maria\n",
      "João\n",
      "José\n",
      "Ana\n"
     ]
    }
   ],
   "source": [
    "lista_alunos(estudantes, msg)"
   ]
  },
  {
   "cell_type": "markdown",
   "metadata": {},
   "source": [
    "Formato padrão de função\n",
    "\n",
    "def nome_da_funcao(arg1, ....., argn):\n",
    "    ......\n",
    "\n"
   ]
  },
  {
   "cell_type": "code",
   "execution_count": 10,
   "metadata": {},
   "outputs": [],
   "source": [
    "produtos = ['ABC123', 'def456', 'eGx432', 'vFe654']"
   ]
  },
  {
   "cell_type": "code",
   "execution_count": null,
   "metadata": {},
   "outputs": [],
   "source": [
    "def padronizar_texto(texto):\n",
    "    '''\n",
    "    Função que recebe uma string, padroniza esta string e retorna a própria string modificada.\n",
    "    '''\n",
    "    texto = texto.upper()\n",
    "    texto = texto.strip()\n",
    "    return texto\n",
    "\n"
   ]
  },
  {
   "cell_type": "code",
   "execution_count": null,
   "metadata": {},
   "outputs": [],
   "source": [
    "for i, produto in enumerate(produtos):\n",
    "    produtos[i] = padronizar_texto(produto)\n",
    "\n",
    "#O enumerate retorna o índice e o valor de cada elemento da lista\n",
    "\n"
   ]
  },
  {
   "cell_type": "code",
   "execution_count": 14,
   "metadata": {},
   "outputs": [
    {
     "data": {
      "text/plain": [
       "['ABC123', 'DEF456', 'EGX432', 'VFE654']"
      ]
     },
     "execution_count": 14,
     "metadata": {},
     "output_type": "execute_result"
    }
   ],
   "source": [
    "produtos"
   ]
  },
  {
   "cell_type": "code",
   "execution_count": 15,
   "metadata": {},
   "outputs": [],
   "source": [
    "def padronizar_lista_de_textos(lista):\n",
    "    '''\n",
    "    '''\n",
    "    for k, produto in enumerate(lista):\n",
    "        produto = produto.upper()\n",
    "        produto = produto.strip()\n",
    "        lista[k] = produto\n",
    "    return lista\n"
   ]
  },
  {
   "cell_type": "code",
   "execution_count": 16,
   "metadata": {},
   "outputs": [
    {
     "data": {
      "text/plain": [
       "['ABC123', 'DEF456', 'EGX432', 'VFE654']"
      ]
     },
     "execution_count": 16,
     "metadata": {},
     "output_type": "execute_result"
    }
   ],
   "source": [
    "padronizar_lista_de_textos(produtos)"
   ]
  },
  {
   "cell_type": "markdown",
   "metadata": {},
   "source": [
    "### 1. Crie uma função chamada `jogar_dados` que simula o lançamento de dois dados. A função deve retornar a soma dos valores dos dados"
   ]
  },
  {
   "cell_type": "code",
   "execution_count": 33,
   "metadata": {},
   "outputs": [
    {
     "name": "stdout",
     "output_type": "stream",
     "text": [
      "O primeiro dado deu 4\n",
      "O segundo dado deu 6\n",
      "A soma dos dados deu 10\n"
     ]
    }
   ],
   "source": [
    "from random import randint\n",
    "\n",
    "def jogar_dados():\n",
    "    dado1 = randint(1, 6)\n",
    "    print(f'O primeiro dado deu {dado1}')\n",
    "    dado2 = randint(1, 6)\n",
    "    print(f'O segundo dado deu {dado2}')\n",
    "    return dado1 + dado2\n",
    "\n",
    "print(f'A soma dos dados deu {jogar_dados()}')\n"
   ]
  },
  {
   "cell_type": "markdown",
   "metadata": {},
   "source": [
    "### 2. Escreva uma função chamada `filtrar_pares` que receba uma lista de números e retorna uma nova lista contendo apenas os números pares"
   ]
  },
  {
   "cell_type": "code",
   "execution_count": 22,
   "metadata": {},
   "outputs": [
    {
     "name": "stdout",
     "output_type": "stream",
     "text": [
      "[2, 4, 6, 8, 10]\n"
     ]
    }
   ],
   "source": [
    "def filtrar_pares(listinha):\n",
    "    return [x for x in listinha if x % 2 == 0]\n",
    "\n",
    "\n",
    "listinha = [1, 2, 3, 4, 5, 6, 7, 8, 9, 10]\n",
    "print(filtrar_pares(listinha))"
   ]
  },
  {
   "cell_type": "markdown",
   "metadata": {},
   "source": [
    "### 3. Criar uma função que simule o `len()` do python (retorne o tamanho da variável)"
   ]
  },
  {
   "cell_type": "code",
   "execution_count": 25,
   "metadata": {},
   "outputs": [
    {
     "name": "stdout",
     "output_type": "stream",
     "text": [
      "14\n"
     ]
    }
   ],
   "source": [
    "def simulador_len(string):\n",
    "    contador = 0\n",
    "    for letra in string:\n",
    "        contador += 1\n",
    "    print(contador)\n",
    "\n",
    "simulador_len('Python é legal')\n"
   ]
  },
  {
   "cell_type": "code",
   "execution_count": 42,
   "metadata": {},
   "outputs": [
    {
     "name": "stdout",
     "output_type": "stream",
     "text": [
      "10\n"
     ]
    }
   ],
   "source": [
    "simulador_len([1, 2, 3, 4, 5, 6, 7, 8, 9, 10])"
   ]
  },
  {
   "cell_type": "markdown",
   "metadata": {},
   "source": [
    "### 4. Crie uma função de separar strings que funcione igual à função .split() (lembrete: retorna uma lista)"
   ]
  },
  {
   "cell_type": "code",
   "execution_count": 1,
   "metadata": {},
   "outputs": [
    {
     "name": "stdout",
     "output_type": "stream",
     "text": [
      "['Testando', 'a', 'função', 'separador', 'de', 'strings']\n",
      "['Python', 'é', 'legal', 'vamos', 'aprender']\n"
     ]
    }
   ],
   "source": [
    "def separador_strings(frase):\n",
    "    lista = []\n",
    "    nova_frase = ''\n",
    "    for indice, letra in enumerate(frase):\n",
    "        if letra == ' ':\n",
    "            lista.append(nova_frase)\n",
    "            nova_frase = ''\n",
    "        elif indice == len(frase) - 1: #Solução que arrumei para a última palavra\n",
    "            nova_frase += letra\n",
    "            lista.append(nova_frase)\n",
    "        else:\n",
    "            nova_frase += letra\n",
    "    return lista\n",
    "            \n",
    "print(separador_strings('Testando a função separador de strings'))\n",
    "\n",
    "nova_string = separador_strings('Python é legal vamos aprender')\n",
    "print(nova_string)"
   ]
  },
  {
   "cell_type": "code",
   "execution_count": 2,
   "metadata": {},
   "outputs": [
    {
     "data": {
      "text/plain": [
       "['abacate,', 'alface,', 'tomate,', 'milho']"
      ]
     },
     "execution_count": 2,
     "metadata": {},
     "output_type": "execute_result"
    }
   ],
   "source": [
    "string = 'abacate, alface, tomate, milho'\n",
    "string.split()"
   ]
  },
  {
   "cell_type": "code",
   "execution_count": 8,
   "metadata": {},
   "outputs": [
    {
     "name": "stdout",
     "output_type": "stream",
     "text": [
      "7\n",
      "15\n",
      "23\n"
     ]
    },
    {
     "data": {
      "text/plain": [
       "['abacate', 'alface', 'tomate', 'milho']"
      ]
     },
     "execution_count": 8,
     "metadata": {},
     "output_type": "execute_result"
    }
   ],
   "source": [
    "def custom_split(texto):\n",
    "    lista = []\n",
    "    k = 0\n",
    "    for i, c in enumerate(texto):\n",
    "        if c == ',':\n",
    "            print(i)\n",
    "            lista.append(texto[k:i].strip())\n",
    "            k = i + 1\n",
    "    lista.append(texto[k:].strip())\n",
    "    return lista\n",
    "    \n",
    "custom_split(string)"
   ]
  }
 ],
 "metadata": {
  "kernelspec": {
   "display_name": "Python 3",
   "language": "python",
   "name": "python3"
  },
  "language_info": {
   "codemirror_mode": {
    "name": "ipython",
    "version": 3
   },
   "file_extension": ".py",
   "mimetype": "text/x-python",
   "name": "python",
   "nbconvert_exporter": "python",
   "pygments_lexer": "ipython3",
   "version": "3.11.5"
  }
 },
 "nbformat": 4,
 "nbformat_minor": 2
}

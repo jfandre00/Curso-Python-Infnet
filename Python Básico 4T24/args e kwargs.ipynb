{
 "cells": [
  {
   "cell_type": "markdown",
   "metadata": {},
   "source": [
    "args e kwargs\n",
    "-> quantos percentuais de imposto eu passar, vai somando e faz a conta para mim"
   ]
  },
  {
   "cell_type": "code",
   "execution_count": 1,
   "metadata": {},
   "outputs": [
    {
     "name": "stdout",
     "output_type": "stream",
     "text": [
      "392.5\n"
     ]
    }
   ],
   "source": [
    "#Função para calcular imposto\n",
    "def calcular_imposto(valor, perc_ir):\n",
    "    ir = valor * perc_ir \n",
    "    iss = valor * 0.05\n",
    "    csll = valor * 0.0375\n",
    "    pis = valor * 0.03\n",
    "    return ir + iss + csll + pis\n",
    "\n",
    "print(calcular_imposto(1000, perc_ir=0.275))"
   ]
  },
  {
   "cell_type": "code",
   "execution_count": 4,
   "metadata": {},
   "outputs": [
    {
     "name": "stdout",
     "output_type": "stream",
     "text": [
      "392.5\n"
     ]
    }
   ],
   "source": [
    "# *args vai ser uma tupla que vai receber todos os argumentos de posição que eu passar\n",
    "def calcular_imposto(valor, *args): #posso passar quantos argumentos de posição eu quiser\n",
    "    total_imposto = 0\n",
    "    for item in args:\n",
    "        total_imposto += valor * item\n",
    "    return total_imposto\n",
    "\n",
    "print(calcular_imposto(1000, 0.275, 0.05, 0.0375, 0.03))\n",
    "\n"
   ]
  },
  {
   "cell_type": "code",
   "execution_count": 8,
   "metadata": {},
   "outputs": [
    {
     "name": "stdout",
     "output_type": "stream",
     "text": [
      "325.0\n"
     ]
    }
   ],
   "source": [
    "# **kwargs vai ser um dicionário que vai receber todos os argumentos nomeados que eu passar\n",
    "\n",
    "def calcular_imposto_trimestral(valor, **kwargs): \n",
    "    total_imposto = 0\n",
    "    if 'perc_ir' in kwargs:\n",
    "        total_imposto += valor * kwargs['perc_ir']\n",
    "    if 'perc_iss' in kwargs:\n",
    "        total_imposto += valor * kwargs['perc_iss']\n",
    "    return total_imposto\n",
    "\n",
    "print(calcular_imposto_trimestral(1000, perc_ir=0.275, perc_iss=0.05, perc_csll=0.0375, perc_pis=0.03))"
   ]
  }
 ],
 "metadata": {
  "kernelspec": {
   "display_name": "Python 3",
   "language": "python",
   "name": "python3"
  },
  "language_info": {
   "codemirror_mode": {
    "name": "ipython",
    "version": 3
   },
   "file_extension": ".py",
   "mimetype": "text/x-python",
   "name": "python",
   "nbconvert_exporter": "python",
   "pygments_lexer": "ipython3",
   "version": "3.11.5"
  }
 },
 "nbformat": 4,
 "nbformat_minor": 2
}

{
 "cells": [
  {
   "cell_type": "markdown",
   "metadata": {},
   "source": [
    "Funções built-in\n",
    "\n",
    "1. Para Listas\n",
    "\n",
    "len()\n",
    "append()\n",
    "extend()\n",
    "pop()\n",
    "remove()\n",
    "sort()\n",
    "reverse()\n",
    "sum()\n",
    "\n",
    "2. Para Strings\n",
    "\n",
    "len()\n",
    "upper()\n",
    "lower()\n",
    "replace\n",
    "split\n",
    "join\n",
    "strip\n",
    "find\n",
    "\n",
    "3. Para Dicionários\n",
    "\n",
    "len\n",
    "get - evita erro se a chave não existir\n",
    "keys\n",
    "values\n",
    "items\n",
    "pop"
   ]
  },
  {
   "cell_type": "markdown",
   "metadata": {},
   "source": [
    "Funções mais sofisticadas\n",
    "\n",
    "map() - pega uma lista e aplica uma função na lista"
   ]
  },
  {
   "cell_type": "code",
   "execution_count": 1,
   "metadata": {},
   "outputs": [
    {
     "name": "stdout",
     "output_type": "stream",
     "text": [
      "[2, 4, 6, 8]\n"
     ]
    }
   ],
   "source": [
    "lista =[1, 2, 3, 4]\n",
    "resultado = map(lambda x: x * 2, lista)\n",
    "print(list(resultado))"
   ]
  },
  {
   "cell_type": "markdown",
   "metadata": {},
   "source": [
    "filter() - filtrar elementos com base em uma condição específica, retorna somente quem for verdade"
   ]
  },
  {
   "cell_type": "code",
   "execution_count": 2,
   "metadata": {},
   "outputs": [
    {
     "name": "stdout",
     "output_type": "stream",
     "text": [
      "[2, 4]\n"
     ]
    }
   ],
   "source": [
    "lista = [1, 2, 3, 4, 5]\n",
    "resultado = filter(lambda x: x % 2 == 0, lista)\n",
    "print(list(resultado))"
   ]
  },
  {
   "cell_type": "markdown",
   "metadata": {},
   "source": [
    "zip() - combina vários iteráveis em um único iterável, criando pares de elementos correspondentes em cada iterável. O resultado é um iterador de tuplas"
   ]
  },
  {
   "cell_type": "code",
   "execution_count": 3,
   "metadata": {},
   "outputs": [
    {
     "name": "stdout",
     "output_type": "stream",
     "text": [
      "[(1, 'a'), (2, 'b'), (3, 'c')]\n"
     ]
    }
   ],
   "source": [
    "lista1 = [1, 2, 3]\n",
    "lista2 = ['a', 'b', 'c']   \n",
    "resultado = zip(lista1, lista2)\n",
    "print(list(resultado))"
   ]
  },
  {
   "cell_type": "markdown",
   "metadata": {},
   "source": [
    ".any() - verifica se alguns elementos são verdadeiros retornando true"
   ]
  },
  {
   "cell_type": "code",
   "execution_count": 4,
   "metadata": {},
   "outputs": [
    {
     "name": "stdout",
     "output_type": "stream",
     "text": [
      "True\n"
     ]
    }
   ],
   "source": [
    "lista = [True, False, True]\n",
    "print(any(lista))\n"
   ]
  },
  {
   "cell_type": "code",
   "execution_count": null,
   "metadata": {},
   "outputs": [
    {
     "name": "stdout",
     "output_type": "stream",
     "text": [
      "False\n"
     ]
    }
   ],
   "source": [
    "#all é o oposto de any - verifica se todos os elementos são True\n",
    "\n",
    "lista = [True, False, True]\n",
    "print(all(lista))\n"
   ]
  },
  {
   "cell_type": "code",
   "execution_count": 6,
   "metadata": {},
   "outputs": [
    {
     "name": "stdout",
     "output_type": "stream",
     "text": [
      "[0, 1, 3, 5, 6, 7, 7, 46, 72, 124, 345]\n"
     ]
    }
   ],
   "source": [
    "#.sorted() - ordena a lista\n",
    "\n",
    "lista = [124, 345, 5, 72, 46, 6, 7, 3, 1, 7, 0]\n",
    "print(sorted(lista))"
   ]
  },
  {
   "cell_type": "code",
   "execution_count": 7,
   "metadata": {},
   "outputs": [
    {
     "name": "stdout",
     "output_type": "stream",
     "text": [
      "[0, 7, 1, 3, 7, 6, 46, 72, 5, 345, 124]\n"
     ]
    }
   ],
   "source": [
    "#.reversed() - inverte a lista\n",
    "\n",
    "lista = [124, 345, 5, 72, 46, 6, 7, 3, 1, 7, 0]\n",
    "print(list(reversed(lista)))"
   ]
  },
  {
   "cell_type": "code",
   "execution_count": 8,
   "metadata": {},
   "outputs": [
    {
     "name": "stdout",
     "output_type": "stream",
     "text": [
      "0 a\n",
      "1 b\n",
      "2 c\n",
      "3 d\n"
     ]
    }
   ],
   "source": [
    "#enumerate() - retorna o índice e o valor de cada elemento de uma lista\n",
    "\n",
    "lista = ['a', 'b', 'c', 'd']\n",
    "for i, v in enumerate(lista):\n",
    "    print(i, v)\n",
    "    "
   ]
  },
  {
   "cell_type": "code",
   "execution_count": 11,
   "metadata": {},
   "outputs": [
    {
     "name": "stdout",
     "output_type": "stream",
     "text": [
      "True\n",
      "True\n",
      "False\n"
     ]
    }
   ],
   "source": [
    "#isinstance() - verifica se um objeto é instância de uma classe\n",
    "\n",
    "class Pessoa:\n",
    "    pass\n",
    "\n",
    "p = Pessoa()\n",
    "print(isinstance(p, Pessoa))\n",
    "\n",
    "x = 10\n",
    "print(isinstance(x, int))\n",
    "print(isinstance(x, str))\n",
    "\n",
    "\n"
   ]
  },
  {
   "cell_type": "code",
   "execution_count": null,
   "metadata": {},
   "outputs": [
    {
     "name": "stdout",
     "output_type": "stream",
     "text": [
      "True\n"
     ]
    }
   ],
   "source": [
    "usuarios = [\n",
    "    {\"nome\": 'João', \"ativo\": True, \"admin\": False},\n",
    "    {\"nome\": 'Maria', \"ativo\": False, \"admin\": True},\n",
    "    {\"nome\": 'Carlos', \"ativo\": True, \"admin\": False}\n",
    "]\n",
    "\n",
    "#verificando se algum usuário está ativo ou é admin\n",
    "\n",
    "resultado = any([usuario[\"ativo\"] for usuario in usuarios])\n",
    "print(resultado)"
   ]
  },
  {
   "cell_type": "code",
   "execution_count": 17,
   "metadata": {},
   "outputs": [
    {
     "name": "stdout",
     "output_type": "stream",
     "text": [
      "False\n"
     ]
    }
   ],
   "source": [
    "#all\n",
    "\n",
    "transacoes = [\n",
    "    {\"id\": 1, \"valor\": 100, 'status': \"completa\"},\n",
    "    {\"id\": 2, \"valor\": 50, 'status': \"completa\"},\n",
    "    {\"id\": 3, \"valor\": 25, 'status': \"incompleta\"}\n",
    "]\n",
    "\n",
    "#Verificando se todas as transações têm valor positivo e estão completas\n",
    "\n",
    "resultado = all(transacao[\"valor\"] > 0 and transacao[\"status\"] == \"completa\" for transacao in transacoes)\n",
    "\n",
    "print(resultado)"
   ]
  },
  {
   "cell_type": "code",
   "execution_count": 18,
   "metadata": {},
   "outputs": [
    {
     "name": "stdout",
     "output_type": "stream",
     "text": [
      "{'Ana': 23, 'Carlos': 34, 'Maria': 19}\n"
     ]
    }
   ],
   "source": [
    "nomes = [\"Ana\", \"Carlos\", \"Maria\"]\n",
    "idades = [23, 34, 19]\n",
    "\n",
    "#Combinando nomes com idades em um dicionário\n",
    "\n",
    "resultado = dict(zip(nomes, idades))\n",
    "print(resultado)"
   ]
  },
  {
   "cell_type": "code",
   "execution_count": 2,
   "metadata": {},
   "outputs": [
    {
     "name": "stdout",
     "output_type": "stream",
     "text": [
      "[{'nome': 'p2', 'preço': 20}, {'nome': 'p3', 'preço': 15}, {'nome': 'p1', 'preço': 10}]\n"
     ]
    }
   ],
   "source": [
    "#sorted\n",
    "\n",
    "produtos = [\n",
    "    {\"nome\": \"p1\", \"preço\": 10},\n",
    "    {\"nome\": \"p2\", \"preço\": 20},\n",
    "    {\"nome\": \"p3\", \"preço\": 15}\n",
    "]\n",
    "\n",
    "#Ordenando os produtos pelo preço, de forma decrescente\n",
    "\n",
    "produtos_ordenados = sorted(produtos, key=lambda produto: produto[\"preço\"], reverse=True)\n",
    "print(produtos_ordenados)\n"
   ]
  },
  {
   "cell_type": "code",
   "execution_count": 3,
   "metadata": {},
   "outputs": [
    {
     "name": "stdout",
     "output_type": "stream",
     "text": [
      "[9, 4, 3, 2, 1]\n"
     ]
    }
   ],
   "source": [
    "numeros = [4, 1, 3, 9, 2]\n",
    "\n",
    "#Ordenação de forma decrescente\n",
    "resultado = sorted(numeros, reverse=True)\n",
    "print(resultado)"
   ]
  },
  {
   "cell_type": "code",
   "execution_count": 4,
   "metadata": {},
   "outputs": [
    {
     "name": "stdout",
     "output_type": "stream",
     "text": [
      "[9, 4, 3, 2, 1]\n"
     ]
    }
   ],
   "source": [
    "#reversed\n",
    "#Ordenação crescente e depois inversão\n",
    "\n",
    "resultado = list(reversed(sorted(numeros)))\n",
    "#precisa do list para converter o objeto retornado por reversed em uma lista\n",
    "print(resultado)\n"
   ]
  }
 ],
 "metadata": {
  "kernelspec": {
   "display_name": "Python 3",
   "language": "python",
   "name": "python3"
  },
  "language_info": {
   "codemirror_mode": {
    "name": "ipython",
    "version": 3
   },
   "file_extension": ".py",
   "mimetype": "text/x-python",
   "name": "python",
   "nbconvert_exporter": "python",
   "pygments_lexer": "ipython3",
   "version": "3.11.5"
  }
 },
 "nbformat": 4,
 "nbformat_minor": 2
}

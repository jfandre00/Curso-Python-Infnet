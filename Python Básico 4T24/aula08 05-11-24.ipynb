{
 "cells": [
  {
   "cell_type": "code",
   "execution_count": null,
   "metadata": {},
   "outputs": [
    {
     "name": "stdout",
     "output_type": "stream",
     "text": [
      "Bem vindo!, Maria!\n",
      "Olá, João!\n"
     ]
    }
   ],
   "source": [
    "#Funções com argumentos opcionais\n",
    "\n",
    "def saudacao(nome, mensagem='Bem vindo!'):\n",
    "    return f'{mensagem}, {nome}!'\n",
    "\n",
    "print(saudacao('Maria'))\n",
    "print(saudacao(mensagem='Olá', nome='João'))"
   ]
  },
  {
   "cell_type": "markdown",
   "metadata": {},
   "source": [
    "#### Funções com número variável de argumentos: *args"
   ]
  },
  {
   "cell_type": "code",
   "execution_count": null,
   "metadata": {},
   "outputs": [
    {
     "name": "stdout",
     "output_type": "stream",
     "text": [
      "15\n",
      "15\n",
      "3\n"
     ]
    }
   ],
   "source": [
    "def soma(*nums):\n",
    "    total = sum(nums)\n",
    "    return total\n",
    "\n",
    "print(soma(1, 2, 3, 4, 5))\n",
    "\n",
    "def somar(a, b, *nums): \n",
    "    #O mínimo de argumentos obrigatórios é 2\n",
    "    total = a + b + sum(nums)\n",
    "    return total    \n",
    "\n",
    "print(somar(1, 2, 3, 4, 5))\n",
    "print(somar(1, 2))"
   ]
  },
  {
   "cell_type": "markdown",
   "metadata": {},
   "source": [
    "#### Funções anônimas: lambda"
   ]
  },
  {
   "cell_type": "code",
   "execution_count": 7,
   "metadata": {},
   "outputs": [
    {
     "name": "stdout",
     "output_type": "stream",
     "text": [
      "50.0\n"
     ]
    }
   ],
   "source": [
    "def calcular_imposto(preco):\n",
    "    return preco * 0.25\n",
    "\n",
    "calcular_imposto2 = lambda preco: preco * 0.25\n",
    "print(calcular_imposto2(200))\n"
   ]
  },
  {
   "cell_type": "code",
   "execution_count": 8,
   "metadata": {},
   "outputs": [
    {
     "name": "stdout",
     "output_type": "stream",
     "text": [
      "Pytho\n"
     ]
    }
   ],
   "source": [
    "transforma_string = lambda x: x[:5]\n",
    "print(transforma_string('Python para todos'))\n"
   ]
  },
  {
   "cell_type": "markdown",
   "metadata": {},
   "source": [
    "#### Função `map()` - mapeia uma função aplicando para uma lista\n",
    "\n",
    "Inputs: (função, lista)"
   ]
  },
  {
   "cell_type": "code",
   "execution_count": 9,
   "metadata": {},
   "outputs": [
    {
     "name": "stdout",
     "output_type": "stream",
     "text": [
      "[25.0, 50.0, 75.0, 100.0, 125.0]\n"
     ]
    }
   ],
   "source": [
    "precos = [100, 200, 300, 400, 500]\n",
    "\n",
    "impostos = list(map(calcular_imposto, precos))\n",
    "\n",
    "print(impostos)\n"
   ]
  },
  {
   "cell_type": "code",
   "execution_count": 10,
   "metadata": {},
   "outputs": [
    {
     "name": "stdout",
     "output_type": "stream",
     "text": [
      "25.0\n",
      "50.0\n",
      "75.0\n",
      "100.0\n",
      "125.0\n"
     ]
    }
   ],
   "source": [
    "for i in map(calcular_imposto, precos):\n",
    "    print(i)"
   ]
  },
  {
   "cell_type": "code",
   "execution_count": 12,
   "metadata": {},
   "outputs": [
    {
     "name": "stdout",
     "output_type": "stream",
     "text": [
      "[10.0, 15.0, 20.0, 25.0, 30.0]\n"
     ]
    }
   ],
   "source": [
    "novos_precos = [200, 300, 400, 500, 600]\n",
    "impostos = list(map(lambda x: x * 0.05, novos_precos))\n",
    "print(impostos)"
   ]
  },
  {
   "cell_type": "markdown",
   "metadata": {},
   "source": [
    "Mais um exemplo: `lamba` com `map` para retornar os quadrados dos números de uma lista"
   ]
  },
  {
   "cell_type": "code",
   "execution_count": 14,
   "metadata": {},
   "outputs": [
    {
     "name": "stdout",
     "output_type": "stream",
     "text": [
      "[1, 4, 9, 16, 25]\n"
     ]
    }
   ],
   "source": [
    "numeros = [1, 2, 3, 4, 5]\n",
    "\n",
    "quadrados = list(map(lambda x: x ** 2, numeros))\n",
    "print(quadrados)"
   ]
  },
  {
   "cell_type": "markdown",
   "metadata": {},
   "source": [
    "### Usando `lambda` com a função filter"
   ]
  },
  {
   "cell_type": "code",
   "execution_count": 17,
   "metadata": {},
   "outputs": [
    {
     "name": "stdout",
     "output_type": "stream",
     "text": [
      "[2, 4]\n",
      "[False, True, False, True, False]\n"
     ]
    }
   ],
   "source": [
    "resultado = list(filter(lambda x: x % 2 == 0, numeros))\n",
    "print(resultado)\n",
    "\n",
    "resultado_map = list(map(lambda x: x % 2 == 0, numeros))\n",
    "print(resultado_map)\n"
   ]
  },
  {
   "cell_type": "code",
   "execution_count": 19,
   "metadata": {},
   "outputs": [
    {
     "name": "stdout",
     "output_type": "stream",
     "text": [
      "['python', 'javaScript', 'delphi']\n"
     ]
    }
   ],
   "source": [
    "palavras = ['python', 'java', 'R', 'javaScript', 'c++', 'lisp', 'delphi']\n",
    "\n",
    "palavras_filtradas = list(filter(lambda x: len(x) >= 5, palavras))\n",
    "\n",
    "print(palavras_filtradas)"
   ]
  },
  {
   "cell_type": "markdown",
   "metadata": {},
   "source": [
    "### Exercícios"
   ]
  },
  {
   "cell_type": "markdown",
   "metadata": {},
   "source": [
    "1. Escreva uma função que multiplica usando `lambda`, dois números e teste a função"
   ]
  },
  {
   "cell_type": "code",
   "execution_count": null,
   "metadata": {},
   "outputs": [
    {
     "name": "stdout",
     "output_type": "stream",
     "text": [
      "6\n"
     ]
    }
   ],
   "source": [
    "multiplicar = lambda x, y: x * y\n",
    "print(multiplicar(2, 3))"
   ]
  },
  {
   "cell_type": "code",
   "execution_count": 31,
   "metadata": {},
   "outputs": [
    {
     "name": "stdout",
     "output_type": "stream",
     "text": [
      "15\n"
     ]
    }
   ],
   "source": [
    "somatorio = lambda *nums: sum(nums)\n",
    "print(somatorio(1, 2, 3, 4, 5))\n"
   ]
  },
  {
   "cell_type": "markdown",
   "metadata": {},
   "source": [
    "2. Use a função `map` e `lambda` para criar uma lista com o dobro dos valores de outra lista"
   ]
  },
  {
   "cell_type": "code",
   "execution_count": null,
   "metadata": {},
   "outputs": [
    {
     "name": "stdout",
     "output_type": "stream",
     "text": [
      "[12, 14, 16, 18, 20]\n"
     ]
    }
   ],
   "source": [
    "lista1 = [6, 7, 8, 9, 10]\n",
    "\n",
    "lista2 = list(map(lambda x: x * 2, lista1))\n",
    "\n",
    "print(lista2)"
   ]
  },
  {
   "cell_type": "markdown",
   "metadata": {},
   "source": [
    "3. Crie uma função _filtrar_ que recebe uma lista de strings e retorna apenas as que possuem as que começam pela letra `r`"
   ]
  },
  {
   "cell_type": "code",
   "execution_count": 25,
   "metadata": {},
   "outputs": [
    {
     "name": "stdout",
     "output_type": "stream",
     "text": [
      "['Roma', 'Rio de Janeiro', 'registro']\n"
     ]
    }
   ],
   "source": [
    "lista_strings = ['São Paulo', 'Roma', 'Toronto', 'Rio de Janeiro', 'Salvador', 'Berlim', 'registro']\n",
    "\n",
    "filtrar = list(filter(lambda cidade: cidade[0].upper() == 'R', lista_strings))\n",
    "\n",
    "print(filtrar)"
   ]
  },
  {
   "cell_type": "markdown",
   "metadata": {},
   "source": [
    "4. Crie uma lista de números e use `map()` para elevar ao cubo os números pares e manter os ímpares iguais."
   ]
  },
  {
   "cell_type": "code",
   "execution_count": 30,
   "metadata": {},
   "outputs": [
    {
     "name": "stdout",
     "output_type": "stream",
     "text": [
      "[1, 8, 3, 64, 5, -1, -8, -3, -64, -5]\n"
     ]
    }
   ],
   "source": [
    "lista_numeros = [1, 2, 3, 4, 5, -1, -2, -3, -4, -5]\n",
    "\n",
    "filtrar = list(map(lambda x: x ** 3 if x % 2 == 0 else x, lista_numeros))\n",
    "\n",
    "print(filtrar)"
   ]
  },
  {
   "cell_type": "code",
   "execution_count": null,
   "metadata": {},
   "outputs": [
    {
     "name": "stdout",
     "output_type": "stream",
     "text": [
      "As tuplas possuem os mesmos elementos.\n"
     ]
    }
   ],
   "source": [
    "#Exercício 2 do TP2\n",
    "\n",
    "tupla1 = (1, 2, 3)\n",
    "tupla2 = (3, 2, 1)\n",
    "elementos1 = {}\n",
    "elementos2 = {}\n",
    "\n",
    "for elemento in tupla1:\n",
    "    if elemento in elementos1:\n",
    "        elementos1[elemento] += 1\n",
    "    else:\n",
    "        elementos1[elemento] = 1\n",
    "\n",
    "for elemento in tupla2:\n",
    "    if elemento in elementos2:\n",
    "        elementos2[elemento] += 1\n",
    "    else:\n",
    "        elementos2[elemento] = 1\n",
    "    \n",
    "if elementos1 == elementos2:\n",
    "    print(\"As tuplas possuem os mesmos elementos.\")\n",
    "else:\n",
    "    print(\"As tuplas não possuem os mesmos elementos.\")"
   ]
  },
  {
   "cell_type": "markdown",
   "metadata": {},
   "source": [
    "- Funções anônimas - ok\n",
    "- Funções que chamam outras funções\n",
    "- Funções recursivas \n"
   ]
  },
  {
   "cell_type": "markdown",
   "metadata": {},
   "source": [
    "##Continuação - 06-11-24"
   ]
  },
  {
   "cell_type": "code",
   "execution_count": 2,
   "metadata": {},
   "outputs": [
    {
     "name": "stdout",
     "output_type": "stream",
     "text": [
      "[77, 15, 93, 101]\n"
     ]
    }
   ],
   "source": [
    "lista = [50, 4, 77, 60, 10, 12, 15, 93, 101]\n",
    "\n",
    "#transformar essa lista, deixando apenas os elementos impares\n",
    "\n",
    "lista_impares = list(filter(lambda x: x % 2 != 0, lista))\n",
    "\n",
    "print(lista_impares)"
   ]
  },
  {
   "cell_type": "markdown",
   "metadata": {},
   "source": [
    "### Funções que chamam outras funções\n",
    "Exemplo 1: Criar uma função principal que retorna um dado número dobrado caso ele seja par e retorna False se ele for ímpar."
   ]
  },
  {
   "cell_type": "code",
   "execution_count": 9,
   "metadata": {},
   "outputs": [
    {
     "name": "stdout",
     "output_type": "stream",
     "text": [
      "O número 2 é par.\n"
     ]
    },
    {
     "data": {
      "text/plain": [
       "4"
      ]
     },
     "execution_count": 9,
     "metadata": {},
     "output_type": "execute_result"
    }
   ],
   "source": [
    "def eh_par(numero):\n",
    "    return numero % 2 == 0\n",
    "\n",
    "def processar_numero(numero):\n",
    "    if eh_par(numero):\n",
    "        print(f'O número {numero} é par.')\n",
    "        return numero * 2\n",
    "    else:\n",
    "        print(f'O número {numero} é ímpar.')\n",
    "        return False #poderia ser return 0\n",
    "    \n",
    "processar_numero(2)"
   ]
  },
  {
   "cell_type": "markdown",
   "metadata": {},
   "source": [
    "Exemplo 2: Analisa texto"
   ]
  },
  {
   "cell_type": "code",
   "execution_count": 10,
   "metadata": {},
   "outputs": [
    {
     "name": "stdout",
     "output_type": "stream",
     "text": [
      "O texto tem 49 caracteres e 7 palavras únicas.\n"
     ]
    }
   ],
   "source": [
    "def contar_caracteres(texto):\n",
    "    return len(texto)\n",
    "\n",
    "def contar_palavras_unicas(texto):\n",
    "    palavras = texto.split()\n",
    "    return len(set(palavras))\n",
    "\n",
    "def analisar_texto(texto):\n",
    "    total_caracteres = contar_caracteres(texto)\n",
    "    total_palavras_unicas = contar_palavras_unicas(texto)\n",
    "    return f'O texto tem {total_caracteres} caracteres e {total_palavras_unicas} palavras únicas.'\n",
    "\n",
    "exemplo = 'este é um exemplo de palavras repetidas repetidas'\n",
    "\n",
    "print(analisar_texto(exemplo))"
   ]
  },
  {
   "cell_type": "markdown",
   "metadata": {},
   "source": [
    "### Exemplo 3: Verificação de limites em funções\n",
    "Criar uma função principal main() para analisar uma lista de números e verificar se a média e o maior   valor ultrapassam certos limites definidos. A função principal deverá chamar funções auxiliares para calcular a média e o máximo da lista."
   ]
  },
  {
   "cell_type": "code",
   "execution_count": null,
   "metadata": {},
   "outputs": [
    {
     "name": "stdout",
     "output_type": "stream",
     "text": [
      "A média é 50.5\n",
      "O maior valor é 100\n",
      "A média e o máximo ultrapassam os limites.\n"
     ]
    }
   ],
   "source": [
    "def calcula_media(numeros):\n",
    "    if len(numeros) == 0:\n",
    "        print('A lista está vazia.')\n",
    "        return None\n",
    "    total = sum(numeros)\n",
    "    media = total / len(numeros)\n",
    "    print(f'A média é {media}')\n",
    "    return media\n",
    "\n",
    "def encontra_maximo(numeros):\n",
    "    maior = max(numeros) if numeros else None\n",
    "    print(f'O maior valor é {maior}')\n",
    "    return maior\n",
    "\n",
    "\n",
    "def main(numeros, limite_media=35, limite_maior=50):\n",
    "    #Chama as funções auxiliares\n",
    "    media = calcula_media(numeros)\n",
    "    maximo = encontra_maximo(numeros)\n",
    "\n",
    "    if media > limite_media and maximo > limite_maior:\n",
    "        print('A média e o máximo ultrapassam os limites.')\n",
    "        return\n",
    "\n",
    "    if media <= limite_media:\n",
    "        print('A média está dentro do limite.')\n",
    "    else:\n",
    "        print('A média está acima do limite.')\n",
    "\n",
    "    if maximo <= limite_maior:\n",
    "        print('O valor máximo está dentro do limite.')\n",
    "    else:\n",
    "        print('O valor máximo está acima do limite.')\n",
    "\n",
    "\n",
    "lista = [10, 25, 30, 45, 60]\n",
    "lista2 = [30, 70, 100, 10, 50, 43]\n",
    "main(lista2, 40, 59)\n"
   ]
  },
  {
   "cell_type": "markdown",
   "metadata": {},
   "source": [
    "### Exercício 1: Análise de texto com funções auxiliares\n",
    "Crie uma função que faça uma análise básica de um texto. O programa deve ter uma função principal que chama outras funções para cada atividade a ser realizada.\n",
    "\n",
    "Atividades:\n",
    "- Passar texto para minúsculo\n",
    "- Contar o número de caracteres\n",
    "- Dizer qual a primeira palavra do texto\n",
    "\n",
    "**Input: string**\n",
    "\n",
    "**Output: dicionário**\n",
    "\n",
    "Exemplo:\n",
    "\n",
    "    texto = 'Hello world from python'\n",
    "    resultados = {'texto_minusculo': 'hello world from python', 'total_caracteres': x, 'primeira_palavra': 'Hello'}"
   ]
  },
  {
   "cell_type": "code",
   "execution_count": null,
   "metadata": {},
   "outputs": [
    {
     "data": {
      "text/plain": [
       "{'texto_minusculo': 'python é uma linguagem de programação',\n",
       " 'total_caracteres': 37,\n",
       " 'primeira_palavra': 'Python'}"
      ]
     },
     "execution_count": 26,
     "metadata": {},
     "output_type": "execute_result"
    }
   ],
   "source": [
    "def texto_minusculo(texto):\n",
    "    return texto.lower()\n",
    "\n",
    "def contar_caracteres(texto):\n",
    "    return len(texto)\n",
    "\n",
    "def primeira_palavra(texto):\n",
    "    lista_de_palavras = texto.split()\n",
    "    return lista_de_palavras[0]\n",
    "    #return texto.split()[0]\n",
    "\n",
    "def main(texto):\n",
    "    resultados = {}\n",
    "    texto_min = texto_minusculo(texto)\n",
    "    total_caracteres = contar_caracteres(texto)\n",
    "    primeira_pal = primeira_palavra(texto)\n",
    "    resultados['texto_minusculo'] = texto_min\n",
    "    resultados['total_caracteres'] = total_caracteres\n",
    "    resultados['primeira_palavra'] = primeira_pal\n",
    "\n",
    "    return resultados\n",
    "\n",
    "\n",
    "texto = 'Python É uma linguagem de Programação'\n",
    "main(texto)"
   ]
  },
  {
   "cell_type": "markdown",
   "metadata": {},
   "source": [
    "### Exercício 2: Operações com lista e valores transformados\n",
    "Crie um programa que faça algumas operações básicas em uma lista de números inteiros, transformando esta lista. O programa deve ter uma função principal que chama outras funções para cada atividade a ser realizada.\n",
    "\n",
    "Atividades:\n",
    "- Calcula e retorna a soma de todos os elementos da lista\n",
    "- Encontra e retorna o menor valor da lista\n",
    "- Retorna uma nova lista em que cada valor é dobrado (*2)\n",
    "\n",
    "**Input: lista**\n",
    "\n",
    "**Output: dicionário**\n",
    "\n",
    "Exemplo:\n",
    "\n",
    "    numeros = [3, 2, 7, 9, 5]\n",
    "    resultado = {'soma': 26, 'mínimo': 2, 'valores_dobrados': [6, 4, 14, 18, 10]}\n",
    "\n"
   ]
  },
  {
   "cell_type": "code",
   "execution_count": 33,
   "metadata": {},
   "outputs": [
    {
     "data": {
      "text/plain": [
       "{'soma': 150, 'menor_valor': 10, 'lista_dobrada': [20, 40, 60, 80, 100]}"
      ]
     },
     "execution_count": 33,
     "metadata": {},
     "output_type": "execute_result"
    }
   ],
   "source": [
    "def soma_da_lista(lista):\n",
    "    '''\n",
    "    Função que calcula a soma de uma lista de números\n",
    "    Input: lista de números\n",
    "    Output: inteiro que representa a soma dos números\n",
    "    '''\n",
    "    return sum(lista)\n",
    "\n",
    "def menor_valor_lista(lista):\n",
    "    '''\n",
    "    Função que encontra o menor valor de uma lista de números\n",
    "    Input: lista de números\n",
    "    Output: inteiro que representa o menor valor da lista\n",
    "    '''\n",
    "    return min(lista)\n",
    "\n",
    "def dobrar_lista(lista):\n",
    "    '''\n",
    "    Função que retorna uma lista com os valores dobrados\n",
    "    Input: lista de números\n",
    "    Output: lista de números com os valores dobrados\n",
    "    '''\n",
    "    return [x * 2 for x in lista]\n",
    "\n",
    "def main(lista):\n",
    "    '''\n",
    "    Função principal que chama as funções auxiliares\n",
    "    Input: lista de números\n",
    "    Output: dicionário com os resultados\n",
    "    '''\n",
    "    \n",
    "    '''resultados = {}\n",
    "    resultados['soma'] = soma_da_lista(lista)\n",
    "    resultados['menor_valor'] = menor_valor_lista(lista)\n",
    "    resultados['lista_dobrada'] = dobrar_lista(lista)\n",
    "\n",
    "    return resultados'''\n",
    "\n",
    "    return {\n",
    "        'soma': soma_da_lista(lista),\n",
    "        'menor_valor': menor_valor_lista(lista),\n",
    "        'lista_dobrada': dobrar_lista(lista)\n",
    "    }\n",
    "\n",
    "lista = [10, 20, 30, 40, 50]\n",
    "main(lista)"
   ]
  }
 ],
 "metadata": {
  "kernelspec": {
   "display_name": "Python 3",
   "language": "python",
   "name": "python3"
  },
  "language_info": {
   "codemirror_mode": {
    "name": "ipython",
    "version": 3
   },
   "file_extension": ".py",
   "mimetype": "text/x-python",
   "name": "python",
   "nbconvert_exporter": "python",
   "pygments_lexer": "ipython3",
   "version": "3.11.5"
  }
 },
 "nbformat": 4,
 "nbformat_minor": 2
}

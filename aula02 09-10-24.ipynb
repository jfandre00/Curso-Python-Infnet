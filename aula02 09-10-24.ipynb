{
 "cells": [
  {
   "cell_type": "markdown",
   "metadata": {},
   "source": [
    "Listas"
   ]
  },
  {
   "cell_type": "markdown",
   "metadata": {},
   "source": []
  },
  {
   "cell_type": "code",
   "execution_count": 25,
   "metadata": {},
   "outputs": [
    {
     "data": {
      "text/plain": [
       "list"
      ]
     },
     "execution_count": 25,
     "metadata": {},
     "output_type": "execute_result"
    }
   ],
   "source": [
    "L = [10, 22, 5, 75, 4, 8, 9]\n",
    "type(L)"
   ]
  },
  {
   "cell_type": "code",
   "execution_count": 26,
   "metadata": {},
   "outputs": [
    {
     "data": {
      "text/plain": [
       "[10, 22, 5, 75, 4, 8, 9, 32]"
      ]
     },
     "execution_count": 26,
     "metadata": {},
     "output_type": "execute_result"
    }
   ],
   "source": [
    "L.append(32)\n",
    "L"
   ]
  },
  {
   "cell_type": "code",
   "execution_count": 27,
   "metadata": {},
   "outputs": [
    {
     "data": {
      "text/plain": [
       "[10, 22, 5, 4, 8, 9, 32]"
      ]
     },
     "execution_count": 27,
     "metadata": {},
     "output_type": "execute_result"
    }
   ],
   "source": [
    "del L[3]\n",
    "L"
   ]
  },
  {
   "cell_type": "code",
   "execution_count": 28,
   "metadata": {},
   "outputs": [
    {
     "data": {
      "text/plain": [
       "[10, 22, 5, 4, 8, 9, 32, 1, 2, 3, 4, 5]"
      ]
     },
     "execution_count": 28,
     "metadata": {},
     "output_type": "execute_result"
    }
   ],
   "source": [
    "L2 = [1, 2, 3, 4, 5]\n",
    "L += L2\n",
    "L"
   ]
  },
  {
   "cell_type": "code",
   "execution_count": 29,
   "metadata": {},
   "outputs": [
    {
     "data": {
      "text/plain": [
       "[10, 22, 5, 4, 8, 9, 32, 1, 2, 3, 4]"
      ]
     },
     "execution_count": 29,
     "metadata": {},
     "output_type": "execute_result"
    }
   ],
   "source": [
    "L.pop()\n",
    "L"
   ]
  },
  {
   "cell_type": "markdown",
   "metadata": {},
   "source": [
    "Condicionais (if/else)"
   ]
  },
  {
   "cell_type": "code",
   "execution_count": 24,
   "metadata": {},
   "outputs": [
    {
     "name": "stdout",
     "output_type": "stream",
     "text": [
      "The list has 10 elements\n"
     ]
    }
   ],
   "source": [
    "if len(L) == 10:\n",
    "    print(\"The list has 10 elements\")\n",
    "elif len(L) == 11:\n",
    "    print(\"The list has 11 elements\")\n",
    "else:\n",
    "    print(\"The list hasn't 10 elements\")"
   ]
  },
  {
   "cell_type": "markdown",
   "metadata": {},
   "source": [
    "Loop for e while"
   ]
  },
  {
   "cell_type": "code",
   "execution_count": 40,
   "metadata": {},
   "outputs": [
    {
     "name": "stdout",
     "output_type": "stream",
     "text": [
      "10\n",
      "22\n",
      "32\n"
     ]
    }
   ],
   "source": [
    "for i in L:\n",
    "    if i >= 10:\n",
    "        print(i)"
   ]
  },
  {
   "cell_type": "code",
   "execution_count": 46,
   "metadata": {},
   "outputs": [
    {
     "name": "stdout",
     "output_type": "stream",
     "text": [
      "Valor 10\n",
      "Resto da divisão por 8:  2 \n",
      "\n",
      "Valor 22\n",
      "Resto da divisão por 8:  6 \n",
      "\n",
      "Valor 9\n",
      "Resto da divisão por 8:  1 \n",
      "\n",
      "Valor 32\n",
      "Resto da divisão por 8:  0 \n",
      "\n"
     ]
    }
   ],
   "source": [
    "for i in L:\n",
    "    if i > 8:\n",
    "        print(\"Valor\", i)\n",
    "        resto = i % 8\n",
    "        print(\"Resto da divisão por 8: \", resto, '\\n')"
   ]
  },
  {
   "cell_type": "code",
   "execution_count": 47,
   "metadata": {},
   "outputs": [
    {
     "name": "stdout",
     "output_type": "stream",
     "text": [
      "H\n",
      "e\n",
      "l\n",
      "l\n",
      "o\n",
      " \n",
      "w\n",
      "o\n",
      "r\n",
      "l\n",
      "d\n"
     ]
    }
   ],
   "source": [
    "string = \"Hello world\"\n",
    "for letra in string:\n",
    "    print(letra)"
   ]
  },
  {
   "cell_type": "markdown",
   "metadata": {},
   "source": [
    "Index de um elemento em uma string:"
   ]
  },
  {
   "cell_type": "code",
   "execution_count": 56,
   "metadata": {},
   "outputs": [
    {
     "name": "stdout",
     "output_type": "stream",
     "text": [
      "Letra 'w' encontrada na posição 6\n"
     ]
    }
   ],
   "source": [
    "for i in range(len(string)):\n",
    "    if string[i] == 'w':\n",
    "        print(\"Letra 'w' encontrada na posição\", i)"
   ]
  },
  {
   "cell_type": "markdown",
   "metadata": {},
   "source": [
    "Exercício\n",
    "1 - Achar o máximo da lista sem usar o max\n",
    "2 - Encontrar a soma de todos os elementos da lista"
   ]
  },
  {
   "cell_type": "code",
   "execution_count": 105,
   "metadata": {},
   "outputs": [
    {
     "name": "stdout",
     "output_type": "stream",
     "text": [
      "Maior número: 35\n",
      "Soma dos números: 194\n"
     ]
    }
   ],
   "source": [
    "lista_nova = [-4, -8, 0, 2, 5, 7, 9, -10, 12, 25, 18, 20, 35, 25, 28, 30]\n",
    "soma = 0\n",
    "maior = lista_nova[0]\n",
    "for numero in lista_nova:\n",
    "    soma += numero\n",
    "    if numero > maior:\n",
    "        maior = numero\n",
    "print(f'Maior número: {maior}')\n",
    "print(f'Soma dos números: {soma}')  "
   ]
  },
  {
   "cell_type": "markdown",
   "metadata": {},
   "source": [
    "Usando o while"
   ]
  },
  {
   "cell_type": "code",
   "execution_count": 109,
   "metadata": {},
   "outputs": [
    {
     "name": "stdout",
     "output_type": "stream",
     "text": [
      "Índice 8 - Valor 12 \n",
      "\n",
      "Índice 9 - Valor 25 \n",
      "\n",
      "Índice 10 - Valor 18 \n",
      "\n",
      "Índice 11 - Valor 20 \n",
      "\n",
      "Índice 12 - Valor 35 \n",
      "\n",
      "Índice 13 - Valor 25 \n",
      "\n",
      "Índice 14 - Valor 28 \n",
      "\n",
      "Índice 15 - Valor 30 \n",
      "\n"
     ]
    }
   ],
   "source": [
    "i = 0\n",
    "while i < len(lista_nova):\n",
    "    if lista_nova[i] >= 10:\n",
    "        print(f'Índice {i} - Valor {lista_nova[i]} \\n')\n",
    "    i += 1"
   ]
  },
  {
   "cell_type": "markdown",
   "metadata": {},
   "source": [
    "Exercício 3\n",
    "Contar quantos números pares há em uma lista\n",
    "\n",
    "Exercício 4\n",
    "Verificar se um número específico está em uma lista"
   ]
  },
  {
   "cell_type": "code",
   "execution_count": 114,
   "metadata": {},
   "outputs": [
    {
     "name": "stdout",
     "output_type": "stream",
     "text": [
      "Quantidade de números pares: 6\n",
      "O número 20 foi encontrado na posição 7\n"
     ]
    }
   ],
   "source": [
    "lista3 = [10, 8, 2, -9, 22, -13, 11, 20, 5, -6]\n",
    "\n",
    "contadorPares = 0\n",
    "i = 0\n",
    "while i < len(lista3):\n",
    "    if lista3[i] % 2 == 0:\n",
    "        contadorPares += 1\n",
    "    i += 1\n",
    "print(f'Quantidade de números pares: {contadorPares}') \n",
    "\n",
    "verificarNumero = 18\n",
    "verificarNumero2 = 20\n",
    "i = 0\n",
    "while i < len(lista3):\n",
    "    if lista3[i] == verificarNumero:\n",
    "        print(f'O número {verificarNumero} foi encontrado na posição {i}')\n",
    "    if lista3[i] == verificarNumero2:\n",
    "        print(f'O número {verificarNumero2} foi encontrado na posição {i}')\n",
    "    i += 1 \n",
    "\n"
   ]
  },
  {
   "cell_type": "code",
   "execution_count": 117,
   "metadata": {},
   "outputs": [
    {
     "name": "stdout",
     "output_type": "stream",
     "text": [
      "[10, 22, 5, 4, 8, 9, 32, 1, 2, 3, 4]\n",
      "True\n"
     ]
    }
   ],
   "source": [
    "print(L)\n",
    "encontrado = False\n",
    "for i in L:\n",
    "    if i == 9:\n",
    "        encontrado = True\n",
    "        break\n",
    "\n",
    "print(encontrado)"
   ]
  }
 ],
 "metadata": {
  "kernelspec": {
   "display_name": "Python 3",
   "language": "python",
   "name": "python3"
  },
  "language_info": {
   "codemirror_mode": {
    "name": "ipython",
    "version": 3
   },
   "file_extension": ".py",
   "mimetype": "text/x-python",
   "name": "python",
   "nbconvert_exporter": "python",
   "pygments_lexer": "ipython3",
   "version": "3.11.5"
  }
 },
 "nbformat": 4,
 "nbformat_minor": 2
}
